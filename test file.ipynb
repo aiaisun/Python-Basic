{
 "cells": [
  {
   "cell_type": "code",
   "execution_count": 7,
   "metadata": {},
   "outputs": [
    {
     "name": "stdout",
     "output_type": "stream",
     "text": [
      "\n",
      "〔即時新聞／綜合報導〕香港反對修訂「逃犯條例」的「反送中」運動持續延燒，21日發生白衣人攻擊市民的暴力事件後，港人計畫27日在事發地舉行「光復元朗」行動，香港警方今（25）日發出反對通知書，表明禁止和反對星期六的光復元朗遊行。\n",
      "    綜合港媒報導，警方反對通知書表示，根據香港法例第245章《公安條例》第9（1）條、第9（2）條、第14（1）條及第14（2）條，警務處長禁止及反對擬在本週六（27日）下午3時半至晚上11時59分在元朗區的公眾地方舉行集會及公眾遊行。\n",
      "    港警表示，根據近日發生的事情，包括議員辦事處及其先人墓碑遭破壞、圍村居民反應，以及在網路上出現涉及暴力激烈言論，有理由相信遊行人士會與村民發生暴力肢體衝突，對遊行人士、村民及其他公眾人士均構成危險。\n",
      "\n",
      "13\n",
      "4\n"
     ]
    }
   ],
   "source": [
    "result =\"\"\"\n",
    "〔即時新聞／綜合報導〕香港反對修訂「逃犯條例」的「反送中」運動持續延燒，21日發生白衣人攻擊市民的暴力事件後，港人計畫27日在事發地舉行「光復元朗」行動，香港警方今（25）日發出反對通知書，表明禁止和反對星期六的光復元朗遊行。\n",
    "    綜合港媒報導，警方反對通知書表示，根據香港法例第245章《公安條例》第9（1）條、第9（2）條、第14（1）條及第14（2）條，警務處長禁止及反對擬在本週六（27日）下午3時半至晚上11時59分在元朗區的公眾地方舉行集會及公眾遊行。\n",
    "    港警表示，根據近日發生的事情，包括議員辦事處及其先人墓碑遭破壞、圍村居民反應，以及在網路上出現涉及暴力激烈言論，有理由相信遊行人士會與村民發生暴力肢體衝突，對遊行人士、村民及其他公眾人士均構成危險。\n",
    "\"\"\"\n",
    "\n",
    "result1 = result.split(\"，\")\n",
    "result2 = result.split(\"。\")\n",
    "print(result)\n",
    "a = 0\n",
    "b = 0\n",
    "for ele in result1:\n",
    "    a+=1\n",
    "print(a)\n",
    "\n",
    "for ele in result2:\n",
    "    b+=1\n",
    "print(b)\n",
    "\n",
    "times = {\n",
    "    \"，\"\n",
    "}"
   ]
  },
  {
   "cell_type": "code",
   "execution_count": null,
   "metadata": {},
   "outputs": [],
   "source": []
  }
 ],
 "metadata": {
  "kernelspec": {
   "display_name": "Python 3",
   "language": "python",
   "name": "python3"
  },
  "language_info": {
   "codemirror_mode": {
    "name": "ipython",
    "version": 3
   },
   "file_extension": ".py",
   "mimetype": "text/x-python",
   "name": "python",
   "nbconvert_exporter": "python",
   "pygments_lexer": "ipython3",
   "version": "3.7.3"
  }
 },
 "nbformat": 4,
 "nbformat_minor": 2
}
