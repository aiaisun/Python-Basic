{
 "cells": [
  {
   "cell_type": "code",
   "execution_count": 4,
   "metadata": {},
   "outputs": [
    {
     "name": "stdout",
     "output_type": "stream",
     "text": [
      "日圓匯率 0.2988\n"
     ]
    }
   ],
   "source": [
    "from urllib.request import urlopen\n",
    "from bs4 import BeautifulSoup\n",
    "import twilio\n",
    "import schedule\n",
    "\n",
    "\n",
    "url = \"https://rate.bot.com.tw/xrt?Lang=zh-TW\"\n",
    "res = urlopen(url)\n",
    "html = BeautifulSoup(res)\n",
    "rows = html.find(\"table\").find(\"tbody\").find_all(\"tr\")\n",
    "for r in rows:\n",
    "    datas = r.find_all(\"td\")\n",
    "    if \"日圓\"in datas[0].text:\n",
    "        print(\"日圓匯率\", datas[2].text)"
   ]
  },
  {
   "cell_type": "code",
   "execution_count": 3,
   "metadata": {},
   "outputs": [],
   "source": [
    "\n",
    "schedule.every().day.at(\"09:00\").do(japan_rate)\n",
    "\n",
    "while True:\n",
    "    schedule.run_pending()\n",
    "    \n",
    "\n",
    "auth_token\n",
    "client\n",
    "\n",
    "message = client.messages\\\n",
    "    .creat(\n",
    "    body=\"日幣匯率\" + datas[2].text,\n",
    "    from_=\"\",\n",
    "    to=\"\"\n",
    ")\n",
    "\n"
   ]
  },
  {
   "cell_type": "code",
   "execution_count": null,
   "metadata": {},
   "outputs": [],
   "source": [
    "from urllib.request import urlopen\n",
    "from bs4 import BeautifulSoup\n",
    "from twilio.rest import Client\n",
    "def japan_rate():\n",
    "    url = \"https://rate.bot.com.tw/xrt?Lang=zh-TW\"\n",
    "    response = urlopen(url)\n",
    "    html = BeautifulSoup(response)\n",
    "    rows = html.find(\"table\").find(\"tbody\").find_all(\"tr\")\n",
    "    for r in rows:\n",
    "        datas = r.find_all(\"td\")\n",
    "        if \"日圓\" in datas[0].text:\n",
    "            print(\"日圓匯率:\", datas[2].text)\n",
    "            account_sid = ''\n",
    "            auth_token = ''\n",
    "            client = Client(account_sid, auth_token)\n",
    "\n",
    "            message = client.messages \\\n",
    "                .create(\n",
    "                body=\"日圓匯率:\" + datas[2].text,\n",
    "                from_='',\n",
    "                to=''\n",
    "            )"
   ]
  }
 ],
 "metadata": {
  "kernelspec": {
   "display_name": "Python 3",
   "language": "python",
   "name": "python3"
  },
  "language_info": {
   "codemirror_mode": {
    "name": "ipython",
    "version": 3
   },
   "file_extension": ".py",
   "mimetype": "text/x-python",
   "name": "python",
   "nbconvert_exporter": "python",
   "pygments_lexer": "ipython3",
   "version": "3.7.3"
  }
 },
 "nbformat": 4,
 "nbformat_minor": 2
}
