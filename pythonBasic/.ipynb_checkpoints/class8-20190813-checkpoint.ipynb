{
 "cells": [
  {
   "cell_type": "code",
   "execution_count": null,
   "metadata": {},
   "outputs": [],
   "source": [
    "from urllib.request import urlopen\n",
    "from bs4 import BeautifulSoup\n",
    "\n",
    "base_url = \"https://tabelog.com/tw/tokyo/rstLst/?SrtT=rt\"\n",
    "res = urlopen(base_url)\n",
    "html = BeautifulSoup(res)\n",
    "html"
   ]
  },
  {
   "cell_type": "code",
   "execution_count": 43,
   "metadata": {},
   "outputs": [],
   "source": [
    "url = \"https://tabelog.com/tw/tokyo/rstLst/{}/?SrtT=rt\""
   ]
  },
  {
   "cell_type": "code",
   "execution_count": null,
   "metadata": {},
   "outputs": [],
   "source": [
    "\n",
    "for page in range(1,11):\n",
    "    pageUrl = url.format(page)\n",
    "    res = urlopen(pageUrl)\n",
    "    html = BeautifulSoup(res)\n",
    "    rs = html.find_all(\"li\", class_ = \"list-rst\")\n",
    "    \n",
    "#     if page<10:\n",
    "        for r in rs:\n",
    "            JN = r.find(\"small\", class_= \"list-rst__name-ja\")\n",
    "            en = r.find(\"a\", class_= \"list-rst__name-main\")\n",
    "            rating = r.find(\"b\", class_=\"c-rating__val\")\n",
    "            price = r.find_all(\"span\", class_=\"c-rating__val\")\n",
    "            print(pageUrl, \"OK\")\n",
    "            print(en.text)\n",
    "            print(JN.text)\n",
    "            print(\"Website:\", en[\"href\"])\n",
    "            print(\"Rate:\", rating.text)\n",
    "            print(\"Launch:\", price[0].text.replace(\"-\",\"Close\"))\n",
    "            print(\"Dinner:\", price[1].text.replace(\"-\",\"Close\"))\n",
    "            print(\"-\"*100)\n",
    "\n",
    "#     page+= 1\n",
    "#     else:\n",
    "#         print(\"應該結束了吧\")\n",
    "        \n",
    "    \n"
   ]
  },
  {
   "cell_type": "code",
   "execution_count": 3,
   "metadata": {
    "collapsed": true
   },
   "outputs": [
    {
     "ename": "KeyError",
     "evalue": "'li.list-rst'",
     "output_type": "error",
     "traceback": [
      "\u001b[0;31m---------------------------------------------------------------------------\u001b[0m",
      "\u001b[0;31mKeyError\u001b[0m                                  Traceback (most recent call last)",
      "\u001b[0;32m<ipython-input-3-2aa2b64db717>\u001b[0m in \u001b[0;36m<module>\u001b[0;34m\u001b[0m\n\u001b[0;32m----> 1\u001b[0;31m \u001b[0mhtml\u001b[0m\u001b[0;34m[\u001b[0m\u001b[0;34m\"li.list-rst\"\u001b[0m\u001b[0;34m]\u001b[0m\u001b[0;34m\u001b[0m\u001b[0;34m\u001b[0m\u001b[0m\n\u001b[0m",
      "\u001b[0;32m~/miniconda3/lib/python3.7/site-packages/bs4/element.py\u001b[0m in \u001b[0;36m__getitem__\u001b[0;34m(self, key)\u001b[0m\n\u001b[1;32m    969\u001b[0m         \"\"\"tag[key] returns the value of the 'key' attribute for the tag,\n\u001b[1;32m    970\u001b[0m         and throws an exception if it's not there.\"\"\"\n\u001b[0;32m--> 971\u001b[0;31m         \u001b[0;32mreturn\u001b[0m \u001b[0mself\u001b[0m\u001b[0;34m.\u001b[0m\u001b[0mattrs\u001b[0m\u001b[0;34m[\u001b[0m\u001b[0mkey\u001b[0m\u001b[0;34m]\u001b[0m\u001b[0;34m\u001b[0m\u001b[0;34m\u001b[0m\u001b[0m\n\u001b[0m\u001b[1;32m    972\u001b[0m \u001b[0;34m\u001b[0m\u001b[0m\n\u001b[1;32m    973\u001b[0m     \u001b[0;32mdef\u001b[0m \u001b[0m__iter__\u001b[0m\u001b[0;34m(\u001b[0m\u001b[0mself\u001b[0m\u001b[0;34m)\u001b[0m\u001b[0;34m:\u001b[0m\u001b[0;34m\u001b[0m\u001b[0;34m\u001b[0m\u001b[0m\n",
      "\u001b[0;31mKeyError\u001b[0m: 'li.list-rst'"
     ]
    }
   ],
   "source": [
    "restaurant_list = html[\"li.list-rst\"]"
   ]
  }
 ],
 "metadata": {
  "kernelspec": {
   "display_name": "Python 3",
   "language": "python",
   "name": "python3"
  },
  "language_info": {
   "codemirror_mode": {
    "name": "ipython",
    "version": 3
   },
   "file_extension": ".py",
   "mimetype": "text/x-python",
   "name": "python",
   "nbconvert_exporter": "python",
   "pygments_lexer": "ipython3",
   "version": "3.7.3"
  }
 },
 "nbformat": 4,
 "nbformat_minor": 2
}
