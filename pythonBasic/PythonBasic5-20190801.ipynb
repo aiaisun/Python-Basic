{
 "cells": [
  {
   "cell_type": "code",
   "execution_count": 72,
   "metadata": {},
   "outputs": [
    {
     "name": "stdout",
     "output_type": "stream",
     "text": [
      "win: 6642\n",
      "lost: 3358\n",
      "win: 0.6642 %\n",
      "lose: 0.3358 %\n"
     ]
    }
   ],
   "source": [
    "import random\n",
    "\n",
    "# print(\"Original doors: \", doors)\n",
    "win = 0\n",
    "lose = 0\n",
    "for times in range(10000):\n",
    "    doors = [\"sheep\"] * 2\n",
    "    cars = random.randint(0, 2)\n",
    "    doors.insert(cars, \"car\")\n",
    "#     print(doors)\n",
    "    player = random.randint(0, 2)\n",
    "    # print(\"your choice:\", doors[player])\n",
    "    del doors[player]\n",
    "#     print(\"remain:\", doors)\n",
    "    doors.remove(\"sheep\")\n",
    "\n",
    "    if doors[0] == \"car\":\n",
    "        win = win + 1\n",
    "    else:\n",
    "        lose = lose +1\n",
    "\n",
    "total = win + lose\n",
    "print(\"win:\", win)\n",
    "print(\"lost:\", lose)\n",
    "print(\"win:\", win/total, \"%\")\n",
    "print(\"lose:\", lose/total, \"%\")"
   ]
  },
  {
   "cell_type": "code",
   "execution_count": 66,
   "metadata": {},
   "outputs": [
    {
     "name": "stdout",
     "output_type": "stream",
     "text": [
      "No\n"
     ]
    }
   ],
   "source": [
    "a= \"sheep\"\n",
    "b = \"sheep\"\n",
    "c = \"aaa\"\n",
    "if a == c:\n",
    "    print(\"yes\")\n",
    "else:\n",
    "    print(\"No\")"
   ]
  }
 ],
 "metadata": {
  "kernelspec": {
   "display_name": "Python 3",
   "language": "python",
   "name": "python3"
  },
  "language_info": {
   "codemirror_mode": {
    "name": "ipython",
    "version": 3
   },
   "file_extension": ".py",
   "mimetype": "text/x-python",
   "name": "python",
   "nbconvert_exporter": "python",
   "pygments_lexer": "ipython3",
   "version": "3.7.3"
  }
 },
 "nbformat": 4,
 "nbformat_minor": 2
}
