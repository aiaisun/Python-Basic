{
 "cells": [
  {
   "cell_type": "code",
   "execution_count": null,
   "metadata": {},
   "outputs": [],
   "source": []
  },
  {
   "cell_type": "code",
   "execution_count": null,
   "metadata": {},
   "outputs": [],
   "source": [
    "c =put(\"please select: 0: Square, 1: Rectangle, 2: Circle, 3: Else.\"))\n",
    "\n",
    "if c == 0 :\n",
    "    alength = float(input( \"please input square's length is \" ))\n",
    "    aArea = alength * alength\n",
    "    print( \"Squrae's area is \" , aArea )\n",
    "\n",
    "elif c == 1 :\n",
    "    blength = float(input( \"Please input rectangle's length is \" ))\n",
    "    bwidth = float(input(\"Please input rectangle's width is \" ))\n",
    "    bArea = blength * bwidth / 2\n",
    "    print( \"Rectangle's area is \" , bArea )\n",
    "    \n",
    "elif c == 2 :\n",
    "    c = float(input( \"Please input circle's radius is \"))\n",
    "    cArea = c * c * 3.14\n",
    "    print( \"Circle's area is \" , cArea )\n",
    "\n",
    "else:\n",
    "    print(\"Not Supported.\")"
   ]
  },
  {
   "cell_type": "code",
   "execution_count": null,
   "metadata": {},
   "outputs": [],
   "source": []
  }
 ],
 "metadata": {
  "kernelspec": {
   "display_name": "Python 3",
   "language": "python",
   "name": "python3"
  }
 },
 "nbformat": 4,
 "nbformat_minor": 2
}
