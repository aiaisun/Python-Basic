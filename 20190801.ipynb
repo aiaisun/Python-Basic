{
 "cells": [
  {
   "cell_type": "code",
   "execution_count": 2,
   "metadata": {},
   "outputs": [
    {
     "name": "stdout",
     "output_type": "stream",
     "text": [
      "1\n",
      "2\n",
      "3\n",
      "5\n",
      "8\n",
      "13\n",
      "21\n",
      "34\n",
      "55\n",
      "89\n"
     ]
    }
   ],
   "source": [
    "B = 0\n",
    "A = 1\n",
    "result = 0\n",
    "times = 0\n",
    "\n",
    "while times<10:\n",
    "    \n",
    "    result = A + B\n",
    "    B = A\n",
    "    A = result\n",
    "    \n",
    "    times = times + 1\n",
    "    print(result)\n",
    "    "
   ]
  },
  {
   "cell_type": "code",
   "execution_count": null,
   "metadata": {},
   "outputs": [],
   "source": [
    "a=1\n",
    "    b=0\n",
    "    c=0\n",
    "    for i in range(1,n+1):\n",
    "        \n",
    "        c=b+a\n",
    "        a=b\n",
    "        b=c\n",
    "        \n",
    "        print(c)"
   ]
  }
 ],
 "metadata": {
  "kernelspec": {
   "display_name": "Python 3",
   "language": "python",
   "name": "python3"
  },
  "language_info": {
   "codemirror_mode": {
    "name": "ipython",
    "version": 3
   },
   "file_extension": ".py",
   "mimetype": "text/x-python",
   "name": "python",
   "nbconvert_exporter": "python",
   "pygments_lexer": "ipython3",
   "version": "3.7.3"
  }
 },
 "nbformat": 4,
 "nbformat_minor": 2
}
