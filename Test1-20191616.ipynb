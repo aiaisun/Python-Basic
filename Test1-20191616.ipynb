{
 "cells": [
  {
   "cell_type": "markdown",
   "metadata": {},
   "source": []
  },
  {
   "cell_type": "code",
   "execution_count": 3,
   "metadata": {},
   "outputs": [
    {
     "name": "stdout",
     "output_type": "stream",
     "text": [
      "Jeff\n",
      "Hello Jeff.\n"
     ]
    }
   ],
   "source": [
    "name=input()\n",
    "print(\"Hello {}.\".format(name))"
   ]
  },
  {
   "cell_type": "code",
   "execution_count": 8,
   "metadata": {},
   "outputs": [
    {
     "name": "stdout",
     "output_type": "stream",
     "text": [
      "2\n"
     ]
    },
    {
     "ename": "NameError",
     "evalue": "name 'even' is not defined",
     "output_type": "error",
     "traceback": [
      "\u001b[1;31m---------------------------------------------------------------------------\u001b[0m",
      "\u001b[1;31mNameError\u001b[0m                                 Traceback (most recent call last)",
      "\u001b[1;32m<ipython-input-8-fc17c8185a74>\u001b[0m in \u001b[0;36m<module>\u001b[1;34m\u001b[0m\n\u001b[0;32m      1\u001b[0m \u001b[0mx\u001b[0m\u001b[1;33m=\u001b[0m\u001b[0minput\u001b[0m\u001b[1;33m(\u001b[0m\u001b[1;33m)\u001b[0m\u001b[1;33m\u001b[0m\u001b[1;33m\u001b[0m\u001b[0m\n\u001b[0;32m      2\u001b[0m \u001b[1;33m\u001b[0m\u001b[0m\n\u001b[1;32m----> 3\u001b[1;33m \u001b[1;32mif\u001b[0m \u001b[0mx\u001b[0m \u001b[1;32mis\u001b[0m \u001b[0meven\u001b[0m\u001b[1;33m:\u001b[0m\u001b[1;33m\u001b[0m\u001b[1;33m\u001b[0m\u001b[0m\n\u001b[0m\u001b[0;32m      4\u001b[0m     \u001b[0mprint\u001b[0m\u001b[1;33m(\u001b[0m\u001b[1;34m\"Hello\"\u001b[0m\u001b[1;33m)\u001b[0m\u001b[1;33m\u001b[0m\u001b[1;33m\u001b[0m\u001b[0m\n\u001b[0;32m      5\u001b[0m \u001b[1;32melse\u001b[0m\u001b[1;33m:\u001b[0m\u001b[1;33m\u001b[0m\u001b[1;33m\u001b[0m\u001b[0m\n",
      "\u001b[1;31mNameError\u001b[0m: name 'even' is not defined"
     ]
    }
   ],
   "source": [
    "x=input()\n",
    "\n",
    "if x is even:\n",
    "    print(\"Hello\")\n",
    "else:\n",
    "    print(\"Fuck!\")\n"
   ]
  },
  {
   "cell_type": "code",
   "execution_count": 5,
   "metadata": {},
   "outputs": [
    {
     "name": "stdout",
     "output_type": "stream",
     "text": [
      "12\n",
      "<class 'str'>\n",
      "<class 'float'>\n",
      "<class 'float'>\n",
      "<class 'int'>\n",
      "Hello\n"
     ]
    }
   ],
   "source": [
    "x=input()\n",
    "print(type(x))\n",
    "\n",
    "x = float(x)\n",
    "\n",
    "print(type(x))\n",
    "print(type(x/2))\n",
    "\n",
    "t= int(x/2)\n",
    "\n",
    "print(type(t))\n",
    "\n",
    "if t is int:\n",
    "if type(t) is int:\n",
    "\n",
    "    print(\"Hello\")\n",
    "else:\n",
    "    print(\"Fuck\")"
   ]
  },
  {
   "cell_type": "code",
   "execution_count": 13,
   "metadata": {},
   "outputs": [
    {
     "name": "stdout",
     "output_type": "stream",
     "text": [
      "12\n",
      "<class 'str'>\n",
      "<class 'int'>\n",
      "Yes\n"
     ]
    }
   ],
   "source": [
    "x=input()\n",
    "print(type(x))\n",
    "\n",
    "x= int(x)\n",
    "# 左新右舊\n",
    "從此之後舊的消失，所以不會打架\n",
    "print(type(x))\n",
    "\n",
    "if x%2 is 0:\n",
    "    print(\"Yes\")\n",
    "else:\n",
    "    print(\"No\")"
   ]
  },
  {
   "cell_type": "code",
   "execution_count": 34,
   "metadata": {},
   "outputs": [
    {
     "name": "stdout",
     "output_type": "stream",
     "text": [
      "Average is 85.0\n",
      "Sum is 255\n"
     ]
    }
   ],
   "source": [
    "x=95\n",
    "y=100\n",
    "z=60\n",
    "Sum=x+y+z\n",
    "# average=(Sum)/3\n",
    "# average=str(average)\n",
    "average=str((Sum/3))\n",
    "print(\"Average is \" + average)\n",
    "# better is to use print(\"Average is \", average)\n",
    "Sum=str(Sum)\n",
    "print(\"Sum is \"+Sum)\n",
    "# 反覆使用"
   ]
  },
  {
   "cell_type": "code",
   "execution_count": 38,
   "metadata": {},
   "outputs": [
    {
     "name": "stdout",
     "output_type": "stream",
     "text": [
      "Jonny is good, Leo is young and Jonny is single.\n"
     ]
    }
   ],
   "source": [
    "a=\"Jonny\"\n",
    "b=\"Leo\"\n",
    "c=\"Jonny\"\n",
    "print(\"{} is good, {} is young and {} is single.\".format(a,b,c))"
   ]
  },
  {
   "cell_type": "code",
   "execution_count": 40,
   "metadata": {},
   "outputs": [
    {
     "name": "stdout",
     "output_type": "stream",
     "text": [
      "average is 82.0\n",
      "Sum is 410\n"
     ]
    }
   ],
   "source": [
    "a=90\n",
    "b=97\n",
    "c=40\n",
    "d=85\n",
    "e=98\n",
    "\n",
    "average=(a+b+c+d+e)/5\n",
    "Sum=a+b+c+d+e\n",
    "\n",
    "print(\"average is\",average)\n",
    "print(\"Sum is\",Sum )\n"
   ]
  }
 ],
 "metadata": {
  "kernelspec": {
   "display_name": "Python 3",
   "language": "python",
   "name": "python3"
  },
  "language_info": {
   "codemirror_mode": {
    "name": "ipython",
    "version": 3
   },
   "file_extension": ".py",
   "mimetype": "text/x-python",
   "name": "python",
   "nbconvert_exporter": "python",
   "pygments_lexer": "ipython3",
   "version": "3.7.3"
  }
 },
 "nbformat": 4,
 "nbformat_minor": 2
}
