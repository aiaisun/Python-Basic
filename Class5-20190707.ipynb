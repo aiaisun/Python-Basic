{
 "cells": [
  {
   "cell_type": "code",
   "execution_count": 8,
   "metadata": {},
   "outputs": [
    {
     "name": "stdout",
     "output_type": "stream",
     "text": [
      "359\n",
      "4\n",
      "89.75\n",
      "359\n",
      "4\n",
      "89.75\n"
     ]
    }
   ],
   "source": [
    "mathScores=[80,100,79,100]\n",
    "print(sum(mathScores))\n",
    "print(len(mathScores))\n",
    "print(sum(mathScores)/len(mathScores))\n",
    "\n",
    "# 駝峰式命名\n",
    "\n",
    "engScores=[80,100,79,100]\n",
    "print(sum(engscores))\n",
    "print(len(engScores))\n",
    "print(sum(engScores)/len(engScores))"
   ]
  },
  {
   "cell_type": "code",
   "execution_count": 9,
   "metadata": {},
   "outputs": [
    {
     "name": "stdout",
     "output_type": "stream",
     "text": [
      "[True]\n"
     ]
    }
   ],
   "source": [
    "c=[12>7]\n",
    "print(c)"
   ]
  },
  {
   "cell_type": "code",
   "execution_count": 20,
   "metadata": {},
   "outputs": [
    {
     "name": "stdout",
     "output_type": "stream",
     "text": [
      "180 190\n",
      "2\n"
     ]
    }
   ],
   "source": [
    "Scores=[\n",
    "    {\"Name\":\"Jeff\",\"Math\":80,\"ENG\":90},\n",
    "    {\"Name\":\"Ali\",\"Math\":100,\"ENG\":100}\n",
    "]\n",
    "\n",
    "mathsum=0\n",
    "engsum=0\n",
    "for ele in Scores:\n",
    "#     print(ele)\n",
    "#     print(\"my name is {}\".format(ele[\"Name\"]))\n",
    "#     print(ele[\"Math\"])\n",
    "    \n",
    "    mathsum=mathsum+ele[\"Math\"]\n",
    "    engsum+=ele[\"ENG\"]\n",
    "\n",
    "print(mathsum,engsum)\n",
    "\n",
    "print(len(Scores))"
   ]
  },
  {
   "cell_type": "code",
   "execution_count": 38,
   "metadata": {},
   "outputs": [
    {
     "name": "stdout",
     "output_type": "stream",
     "text": [
      "具體爭取到的勞動權益只有新增BR184桃園—東京成田航班可過夜。其餘都是在「罷工」首次談判後\n",
      "「罷工」後若影響營收\n",
      "則在「罷工」後2個月內\n",
      "外家聯航最晚「罷工」落幕一個月後恢復\n",
      "長榮自家機票則要在「罷工」兩個月內\n",
      "勞資雙方在勞動部參與下討論後漸進式恢復。\n",
      "\n",
      "對於工會在「罷工」棚中對會員聲稱\n",
      "反霸凌條款本來就在法規內、「罷工」預告期未來可能入法。\n",
      "\n",
      "無論是0508「三不條款」、長榮最後的「7項和平訴求」\n",
      "讓工會宛如陷入泥沼卻渾然不覺。\n",
      "\n",
      "許多人戲稱這場「罷工」最終方案\n",
      "空服員可以在不「罷工」的情況下就能到手\n",
      "讓這17天宛如一場訴求為「罷工」的「罷工」。「罷工」伊始\n",
      "而在這場「罷工」中影響空服員收入最大的\n"
     ]
    }
   ],
   "source": [
    "result=\"\"\"\n",
    "長榮勞資協商今天下午歷經4小時討論，最後終於簽訂團協。但一場記者會看下來，勞動部長許銘春、長榮董事長林寶水、長榮空服員代表李瀅及桃空職工副秘書長周聖凱發言後，最多人想問的應該就是：除了不秋後算帳、3年和平條款，空服員最後到底贏了什麼？\n",
    "\n",
    "攤開6月29日第一次勞資協商成果，空服員當時實際獲得的是BR198、BR108東京航線及BR716北京航線部分月份開放過夜，提高飛安服勤獎金，換算每月可多3千至5千元，另有每月勞資協商會議等、人評會議具表決權、工會理監事會務假等，資方對原先8大訴求沒有一項照單全收，但工會也不算空手而回。\n",
    "\n",
    "從6月29日破局後到今天，具體爭取到的勞動權益只有新增BR184桃園—東京成田航班可過夜。其餘都是在罷工首次談判後，雙方「不斷新增」的不秋後算帳與和平協議條文。\n",
    "\n",
    "時間回到6月29日，當天破局關鍵在長榮提出的六方案中，第一項「不秋後算帳、簽訂和平協議」，工會要求長榮撤回5月8日發布的「三不條款」，罷工後若影響營收，將不調薪、不發年終、3年無福利機票，並不能懲處在6月20日提前「罷飛」的18名空服員。\n",
    "\n",
    "勞資雙方在7月2日協商中，針對「不秋後算帳」達成兩個共識，包含18名空服員在內的27名空服員，班表從「曠職」改為「空白班」，「三不條款」中的福利機票，則在罷工後2個月內，勞資雙方在勞動部參與討論後，漸進式恢復。\n",
    "\n",
    "但今天討論中，針對「沒年終、不加薪」，最終的共識仍要看公司今年是否獲利，以長榮歷經17天虧損情況來看並不樂觀。福利機票方面則有較具體方案，外家聯航最晚罷工落幕一個月後恢復，長榮自家機票則要在罷工兩個月內，勞資雙方在勞動部參與下討論後漸進式恢復。\n",
    "\n",
    "對於工會在罷工棚中對會員聲稱，雙方簽訂團體協約，關鍵在資方針對7項和平協議「讓步」其中3項，其實並不見得。畢竟和平協議，是在最後才增加的內容，並非在原本八大訴求、甚至後來的六大方案退讓。尤其所謂的「讓步」，反霸凌條款本來就在法規內、罷工預告期未來可能入法。\n",
    "\n",
    "無論是0508「三不條款」、長榮最後的「7項和平訴求」，與其說最後退讓，不如說是長榮更早之前，就設下的以退為進策略，讓工會宛如陷入泥沼卻渾然不覺。\n",
    "\n",
    "許多人戲稱這場罷工最終方案，空服員可以在不罷工的情況下就能到手，讓這17天宛如一場訴求為罷工的罷工。罷工伊始，空服員相約「慢跑到最後」，而在這場罷工中影響空服員收入最大的，恐怕是「今年沒有年終、也不會調薪」。至於一開始八大訴求日支費、9大疲勞航線、勞工董事、國定日兩倍薪資、外籍組員不得兩人，早已在慢跑途中遺失。\n",
    "\"\"\".split(\"，\")\n",
    "\n",
    "for ele in result:\n",
    "#     print(ele)\n",
    "    if \"罷工\" in ele:\n",
    "#         print(ele)\n",
    "        print(ele.replace(\"罷工\",\"「罷工」\"))\n",
    "        "
   ]
  },
  {
   "cell_type": "code",
   "execution_count": 33,
   "metadata": {},
   "outputs": [
    {
     "name": "stdout",
     "output_type": "stream",
     "text": [
      "許多人戲稱這場OO最終OO\n"
     ]
    },
    {
     "data": {
      "text/plain": [
       "'許多人戲稱這場OO最終OO'"
      ]
     },
     "execution_count": 33,
     "metadata": {},
     "output_type": "execute_result"
    }
   ],
   "source": [
    "print(\"許多人戲稱這場罷工最終方案\".replace(\"罷工\",\"OO\").replace(\"方案\",\"OO\"))\n",
    "\n",
    "\"許多人戲稱這場罷工最終方案\"\\\n",
    "    .replace(\"罷工\",\"OO\")\\\n",
    "    .replace(\"方案\",\"OO\")"
   ]
  },
  {
   "cell_type": "code",
   "execution_count": null,
   "metadata": {},
   "outputs": [],
   "source": [
    "print(\"___\".join())"
   ]
  },
  {
   "cell_type": "code",
   "execution_count": 44,
   "metadata": {},
   "outputs": [
    {
     "name": "stdout",
     "output_type": "stream",
     "text": [
      "['至於一開始八大訴求日支費', '9大疲勞航線', '勞工董事', '國定日兩倍薪資', '外籍組員不得兩人。']\n",
      "至於一開始八大訴求日支費_9大疲勞航線_勞工董事_國定日兩倍薪資_外籍組員不得兩人。\n"
     ]
    }
   ],
   "source": [
    "# split\n",
    "print(\"至於一開始八大訴求日支費、9大疲勞航線、勞工董事、國定日兩倍薪資、外籍組員不得兩人。\".split(\"、\"))\n",
    "# replace\n",
    "# join\n",
    "data=['至於一開始八大訴求日支費', '9大疲勞航線', '勞工董事', '國定日兩倍薪資', '外籍組員不得兩人。']\n",
    "print(\"_\".join(data))"
   ]
  },
  {
   "cell_type": "code",
   "execution_count": null,
   "metadata": {},
   "outputs": [],
   "source": [
    "# define funtion，函式/函數"
   ]
  },
  {
   "cell_type": "code",
   "execution_count": 60,
   "metadata": {},
   "outputs": [
    {
     "name": "stdout",
     "output_type": "stream",
     "text": [
      "90.0\n"
     ]
    }
   ],
   "source": [
    "def getScoreSum(data,subject):\n",
    "    result=0\n",
    "    for ele in data:\n",
    "        result+=ele[subject]\n",
    "    return result\n",
    "\n",
    "def getScoreAvg(data,subject):\n",
    "    result=getScoreSum(data,subject)/len(data)\n",
    "    return result\n",
    "\n",
    "\n",
    "mathSum=getScoreSum(Scores,\"Math\")\n",
    "mathAvg=getScoreAvg(Scores,\"Math\")\n",
    "\n",
    "print(mathAvg)\n",
    "\n",
    "# print(mathSum)\n",
    "# print(getScoreSum(Scores,\"ENG\"))\n",
    "    \n",
    "\n",
    "\n",
    "Scores=[\n",
    "    {\"Name\":\"Jeff\",\"Math\":80,\"ENG\":90},\n",
    "    {\"Name\":\"Ali\",\"Math\":100,\"ENG\":100}\n",
    "]\n",
    "\n",
    "# outout=func(input)"
   ]
  },
  {
   "cell_type": "code",
   "execution_count": 4,
   "metadata": {},
   "outputs": [
    {
     "name": "stdout",
     "output_type": "stream",
     "text": [
      "28.26\n"
     ]
    }
   ],
   "source": [
    "def getCircleArea(r):\n",
    "    result= r*r*3.14\n",
    "    return result\n",
    "\n",
    "r3CircleArea=getCircleArea(3)\n",
    "print(r3CircleArea)"
   ]
  },
  {
   "cell_type": "code",
   "execution_count": 24,
   "metadata": {},
   "outputs": [
    {
     "name": "stdout",
     "output_type": "stream",
     "text": [
      "285\n"
     ]
    }
   ],
   "source": [
    "def getNNSum(n):\n",
    "    result=0\n",
    "    for i in range(1,n+1):   \n",
    "        result+=i*i\n",
    "    return result\n",
    "\n",
    "\n",
    "get99Sum=getNNSum(9)\n",
    "print(get99Sum)\n"
   ]
  },
  {
   "cell_type": "code",
   "execution_count": 18,
   "metadata": {},
   "outputs": [
    {
     "name": "stdout",
     "output_type": "stream",
     "text": [
      "1\n",
      "5\n",
      "14\n",
      "30\n",
      "55\n",
      "91\n",
      "140\n",
      "204\n",
      "285\n"
     ]
    }
   ],
   "source": [
    "n=9\n",
    "result=0\n",
    "for i in range(1,n+1):\n",
    "    \n",
    "    SUM=i*i\n",
    "    result=result+SUM\n",
    "    print(result)"
   ]
  },
  {
   "cell_type": "code",
   "execution_count": 42,
   "metadata": {},
   "outputs": [
    {
     "name": "stdout",
     "output_type": "stream",
     "text": [
      "1\n",
      "1\n",
      "2\n",
      "3\n",
      "5\n",
      "8\n",
      "13\n",
      "21\n",
      "34\n",
      "55\n",
      "89\n",
      "144\n",
      "233\n",
      "233\n"
     ]
    }
   ],
   "source": [
    "\n",
    "\n",
    "def getNvalue(n):\n",
    "    a=1\n",
    "    b=0\n",
    "    c=0\n",
    "    for i in range(1,n+1):\n",
    "        \n",
    "        \n",
    "        c=b+a\n",
    "        a=b\n",
    "        b=c\n",
    "        \n",
    "        print(c)\n",
    "\n",
    "    return c\n",
    "\n",
    "print(getNvalue(13))"
   ]
  },
  {
   "cell_type": "code",
   "execution_count": 29,
   "metadata": {},
   "outputs": [
    {
     "name": "stdout",
     "output_type": "stream",
     "text": [
      "1\n",
      "1\n",
      "3\n",
      "4\n",
      "6\n",
      "10\n",
      "10\n",
      "20\n",
      "15\n",
      "35\n"
     ]
    }
   ],
   "source": [
    "c=0\n",
    "b=0\n",
    "for a in range(1,6):\n",
    "    b=b+a\n",
    "    c=c+b\n",
    "    \n",
    "    \n",
    "    print(c)"
   ]
  },
  {
   "cell_type": "code",
   "execution_count": null,
   "metadata": {},
   "outputs": [],
   "source": [
    "1 1 2 3 5 8 13 21 34 55"
   ]
  }
 ],
 "metadata": {
  "kernelspec": {
   "display_name": "Python 3",
   "language": "python",
   "name": "python3"
  },
  "language_info": {
   "codemirror_mode": {
    "name": "ipython",
    "version": 3
   },
   "file_extension": ".py",
   "mimetype": "text/x-python",
   "name": "python",
   "nbconvert_exporter": "python",
   "pygments_lexer": "ipython3",
   "version": "3.7.3"
  }
 },
 "nbformat": 4,
 "nbformat_minor": 2
}
