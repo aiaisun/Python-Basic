{
 "cells": [
  {
   "cell_type": "code",
   "execution_count": null,
   "metadata": {},
   "outputs": [],
   "source": [
    "c = int(input(\"please select: 0: Square, 1: Rectangle, 2: Circle, 3: Else.\"))\n",
    "\n",
    "if c == 0 :\n",
    "    alength = float(input( \"please input square's length is \" ))\n",
    "    aArea = alength * alength\n",
    "    print( \"Squrae's area is \" , aArea )\n",
    "\n",
    "elif c == 1 :\n",
    "    blength = float(input( \"Please input rectangle's length is \" ))\n",
    "    bwidth = float(input(\"Please input rectangle's width is \" ))\n",
    "    bArea = blength * bwidth / 2\n",
    "    print( \"Rectangle's area is \" , bArea )\n",
    "    \n",
    "elif c == 2 :\n",
    "    c = float(input( \"Please input circle's radius is \"))\n",
    "    cArea = c * c * 3.14\n",
    "    print( \"Circle's area is \" , cArea )\n",
    "\n",
    "else:\n",
    "    print(\"Not Supported.\")"
   ]
  },
  {
   "cell_type": "code",
   "execution_count": 18,
   "metadata": {
    "scrolled": true
   },
   "outputs": [
    {
     "name": "stdout",
     "output_type": "stream",
     "text": [
      "H\n",
      "o\n",
      "o\n",
      "Hell\n",
      "Hello\n",
      "Hlo\n",
      "olleH\n",
      "5\n",
      "HelloALI\n",
      "True\n",
      "Hello\n",
      "Ali\n",
      "Hello\tAli\n",
      "Hello\bAli\n",
      "9\n"
     ]
    }
   ],
   "source": [
    "s=\"Hello\"\n",
    "print(s[0])\n",
    "print(s[4])\n",
    "print(s[-1])\n",
    "print(s[0:4])\n",
    "print(s[:])\n",
    "print(s[::2])\n",
    "print(s[::-1])\n",
    "print(len(s))\n",
    "\n",
    "s=s+\"ALI\"\n",
    "print(s)\n",
    "\n",
    "print(not \"Hello\" == \"elo\")\n",
    "# 換行\n",
    "s=\"Hello\\nAli\"\n",
    "print(s)\n",
    "# 空格\n",
    "s=\"Hello\\tAli\"\n",
    "print(s)\n",
    "# 倒退\n",
    "s=\"Hello\\bAli\"\n",
    "print(s)\n",
    "# 倒退長度還是看長度，不是看輸出\n",
    "print(len(s))"
   ]
  },
  {
   "cell_type": "code",
   "execution_count": 2,
   "metadata": {
    "scrolled": true
   },
   "outputs": [
    {
     "name": "stdout",
     "output_type": "stream",
     "text": [
      "koob a si sihT\n"
     ]
    }
   ],
   "source": [
    "s=\"This is a book\"\n",
    "print(s[::-1])"
   ]
  },
  {
   "cell_type": "code",
   "execution_count": null,
   "metadata": {},
   "outputs": [],
   "source": [
    "# input字串\n",
    "# 條件式設字串\n",
    "# OK\n",
    "player1 = input(\"[0] [1] [2]\")\n",
    "\n",
    "if player1 == \"0\":\n",
    "    print(\"yes\")\n",
    "\n",
    "# input字串\n",
    "# 條件式設數字\n",
    "# 不報錯 但沒結果\n",
    "player2 = input(\"[0] [1] [2]\")\n",
    "\n",
    "if player2 == 0:\n",
    "    print(\"yes\")\n",
    "    \n",
    "# input 轉整數\n",
    "# 條件式設數字\n",
    "# OK\n",
    "player3 = int(input(\"[0] [1] [2]\"))\n",
    "\n",
    "if player3 == 0:\n",
    "    print(\"yes\")\n",
    "\n",
    "# input字串\n",
    "# 條件式設字串\n",
    "# OK    \n",
    "player4 = input(\"[a] [b] [c]\")\n",
    "\n",
    "if player4 == \"a\":\n",
    "    print(\"yes\")\n",
    "\n",
    "# input字串\n",
    "# 條件式不設字串\n",
    "# 報錯\n",
    "player5 = input(\"[a] [b] [c]\")\n",
    "\n",
    "if player5 == a:\n",
    "    print(\"yes\")"
   ]
  }
 ],
 "metadata": {
  "kernelspec": {
   "display_name": "Python 3",
   "language": "python",
   "name": "python3"
  },
  "language_info": {
   "codemirror_mode": {
    "name": "ipython",
    "version": 3
   },
   "file_extension": ".py",
   "mimetype": "text/x-python",
   "name": "python",
   "nbconvert_exporter": "python",
   "pygments_lexer": "ipython3",
   "version": "3.7.3"
  }
 },
 "nbformat": 4,
 "nbformat_minor": 2
}
