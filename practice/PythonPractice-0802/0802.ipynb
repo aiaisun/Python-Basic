{
 "cells": [
  {
   "cell_type": "code",
   "execution_count": null,
   "metadata": {},
   "outputs": [],
   "source": [
    "三門練習ㄖ"
   ]
  },
  {
   "cell_type": "code",
   "execution_count": 125,
   "metadata": {},
   "outputs": [
    {
     "name": "stdout",
     "output_type": "stream",
     "text": [
      "final choice:  car\n",
      "win: 0.6685 %\n",
      "lose: 0.3315 %\n"
     ]
    }
   ],
   "source": [
    "import random\n",
    "win = 0\n",
    "lose = 0\n",
    "\n",
    "for a in range(10000):\n",
    "    doors = [\"sheep\"] * 2\n",
    "\n",
    "    car = random.randint(0,2)\n",
    "    doors.insert(car,\"car\")\n",
    "    player = random.randint(0,2)\n",
    "    del doors[player]\n",
    "    doors.remove(\"sheep\")\n",
    "    if doors[0] == \"car\":\n",
    "        win+= 1\n",
    "    else:\n",
    "        lose+= 1\n",
    "ttl = win + lose    \n",
    "print(\"final choice: \", doors[0])\n",
    "print(\"win:\", win/ttl, \"%\")\n",
    "print(\"lose:\", lose/ttl, \"%\")\n"
   ]
  },
  {
   "cell_type": "code",
   "execution_count": 136,
   "metadata": {},
   "outputs": [
    {
     "name": "stdout",
     "output_type": "stream",
     "text": [
      "ABCDEFGHIJKLMNOPQRSTUVWXYZ"
     ]
    }
   ],
   "source": [
    "i = 65\n",
    "while i <=90:\n",
    "    print(chr(i), end= '')\n",
    "#     print(chr(i))\n",
    "    i+=1\n",
    "    \n",
    "    "
   ]
  },
  {
   "cell_type": "code",
   "execution_count": 137,
   "metadata": {},
   "outputs": [
    {
     "name": "stdout",
     "output_type": "stream",
     "text": [
      "ABCDEFGHIJKLMNOPQRSTUVWXYZ"
     ]
    }
   ],
   "source": [
    "for i in range(65,91):\n",
    "    print(chr(i), end=\"\")"
   ]
  },
  {
   "cell_type": "code",
   "execution_count": 139,
   "metadata": {},
   "outputs": [
    {
     "name": "stdout",
     "output_type": "stream",
     "text": [
      "12345678921357"
     ]
    }
   ],
   "source": [
    "for i in range(1,10):\n",
    "    print(i, end=\"\")   \n",
    "for i in range(1,9,2):\n",
    "    print(i, end=\"\")"
   ]
  },
  {
   "cell_type": "code",
   "execution_count": 140,
   "metadata": {},
   "outputs": [
    {
     "name": "stdout",
     "output_type": "stream",
     "text": [
      "97531"
     ]
    }
   ],
   "source": [
    "i = 9\n",
    "while i>=1:\n",
    "    print(i, end=\"\")\n",
    "    i-=2"
   ]
  },
  {
   "cell_type": "code",
   "execution_count": 152,
   "metadata": {
    "scrolled": true
   },
   "outputs": [
    {
     "name": "stdout",
     "output_type": "stream",
     "text": [
      "5050\n",
      "Total = 5050\n"
     ]
    }
   ],
   "source": [
    "ttl = 0\n",
    "for i in range(1,101):\n",
    "    ttl=ttl+i\n",
    "print(ttl)\n",
    "print(\"Total = %d\"%(ttl))"
   ]
  },
  {
   "cell_type": "code",
   "execution_count": 153,
   "metadata": {},
   "outputs": [
    {
     "name": "stdout",
     "output_type": "stream",
     "text": [
      "13\n",
      "46\n",
      "1\n",
      "1\n",
      "48\n",
      "34\n"
     ]
    }
   ],
   "source": [
    "# 大樂透選號\n",
    "for i in range(6):\n",
    "    number = random.randint(1,49)\n",
    "    print(number)"
   ]
  },
  {
   "cell_type": "code",
   "execution_count": 157,
   "metadata": {},
   "outputs": [
    {
     "name": "stdout",
     "output_type": "stream",
     "text": [
      "  1  2  3  4  5  6  7  8  9\n",
      "  2  4  6  8 10 12 14 16 18\n",
      "  3  6  9 12 15 18 21 24 27\n",
      "  4  8 12 16 20 24 28 32 36\n",
      "  5 10 15 20 25 30 35 40 45\n",
      "  6 12 18 24 30 36 42 48 54\n",
      "  7 14 21 28 35 42 49 56 63\n",
      "  8 16 24 32 40 48 56 64 72\n",
      "  9 18 27 36 45 54 63 72 81\n"
     ]
    }
   ],
   "source": [
    "for i in range(1,10):\n",
    "    for j in range(1,10):\n",
    "        print(\"%3d\"%(i*j), end=\"\")\n",
    "    print()"
   ]
  },
  {
   "cell_type": "code",
   "execution_count": 158,
   "metadata": {},
   "outputs": [
    {
     "name": "stdout",
     "output_type": "stream",
     "text": [
      "sum = 2550\n"
     ]
    }
   ],
   "source": [
    "Sum = 0\n",
    "for i in range(0,101,2):\n",
    "    Sum+=i\n",
    "    \n",
    "print(\"sum = %d\"%(Sum))"
   ]
  },
  {
   "cell_type": "code",
   "execution_count": 164,
   "metadata": {},
   "outputs": [
    {
     "name": "stdout",
     "output_type": "stream",
     "text": [
      "part1\n",
      "  38  16  10  10  19  31\n",
      "part2\n",
      "   5\n"
     ]
    }
   ],
   "source": [
    "import random\n",
    "print(\"part1\")\n",
    "for i in range(1,7):\n",
    "    lotto = random.randint(1,38)\n",
    "    \n",
    "    print(\"%4d\"%(lotto), end=\"\")\n",
    "print()         \n",
    "print(\"part2\")\n",
    "          \n",
    "lotto2 = random.randint(1,8)\n",
    "print(\"%4d\"%(lotto2))"
   ]
  },
  {
   "cell_type": "code",
   "execution_count": 167,
   "metadata": {
    "scrolled": true
   },
   "outputs": [
    {
     "name": "stdout",
     "output_type": "stream",
     "text": [
      " 1*1= 1 1*2= 2 1*3= 3 1*4= 4 1*5= 5 1*6= 6 1*7= 7 1*8= 8 1*9= 9\n",
      " 2*1= 2 2*2= 4 2*3= 6 2*4= 8 2*5=10 2*6=12 2*7=14 2*8=16 2*9=18\n",
      " 3*1= 3 3*2= 6 3*3= 9 3*4=12 3*5=15 3*6=18 3*7=21 3*8=24 3*9=27\n",
      " 4*1= 4 4*2= 8 4*3=12 4*4=16 4*5=20 4*6=24 4*7=28 4*8=32 4*9=36\n",
      " 5*1= 5 5*2=10 5*3=15 5*4=20 5*5=25 5*6=30 5*7=35 5*8=40 5*9=45\n",
      " 6*1= 6 6*2=12 6*3=18 6*4=24 6*5=30 6*6=36 6*7=42 6*8=48 6*9=54\n",
      " 7*1= 7 7*2=14 7*3=21 7*4=28 7*5=35 7*6=42 7*7=49 7*8=56 7*9=63\n",
      " 8*1= 8 8*2=16 8*3=24 8*4=32 8*5=40 8*6=48 8*7=56 8*8=64 8*9=72\n",
      " 9*1= 9 9*2=18 9*3=27 9*4=36 9*5=45 9*6=54 9*7=63 9*8=72 9*9=81\n"
     ]
    }
   ],
   "source": [
    "for i in range(1,10):\n",
    "    for j in range(1,10):\n",
    "        print(\"%2d*%d=%2d\"%(i,j,i*j), end=\"\")\n",
    "    print()"
   ]
  },
  {
   "cell_type": "code",
   "execution_count": 169,
   "metadata": {},
   "outputs": [
    {
     "name": "stdout",
     "output_type": "stream",
     "text": [
      "30414093201713378043612608166064768844377641568960512000000000000\n"
     ]
    }
   ],
   "source": [
    "\n",
    "result=1\n",
    "for i in range(1,51):\n",
    "    result=result*i\n",
    "    \n",
    "print(result)"
   ]
  },
  {
   "cell_type": "code",
   "execution_count": 194,
   "metadata": {},
   "outputs": [
    {
     "name": "stdout",
     "output_type": "stream",
     "text": [
      "    1\n",
      "   22\n",
      "   333\n",
      "  4444\n",
      "  55555\n",
      " 666666\n",
      " 7777777\n",
      "88888888\n",
      "999999999\n"
     ]
    }
   ],
   "source": [
    "for i in range(1,10):\n",
    "    print(\" \"*int((9-i)/2),end=\"\")\n",
    "    for j in range(1,i+1):\n",
    "        print( i, end=\"\")\n",
    "    print()    \n",
    "        "
   ]
  },
  {
   "cell_type": "code",
   "execution_count": 197,
   "metadata": {},
   "outputs": [
    {
     "name": "stdout",
     "output_type": "stream",
     "text": [
      "sum = 2550\n"
     ]
    }
   ],
   "source": [
    "i=0\n",
    "sum=0\n",
    "while i<101:\n",
    "    sum+=i\n",
    "    i = i +2\n",
    "    \n",
    "print(\"sum = %d\"%(sum))    "
   ]
  },
  {
   "cell_type": "code",
   "execution_count": 201,
   "metadata": {},
   "outputs": [
    {
     "name": "stdout",
     "output_type": "stream",
     "text": [
      "sum = 1050\n"
     ]
    }
   ],
   "source": [
    "SUM = 0\n",
    "for i in range(0,101,5):\n",
    "    SUM+=i\n",
    "print(\"sum = %d\"%(SUM))"
   ]
  },
  {
   "cell_type": "code",
   "execution_count": 214,
   "metadata": {},
   "outputs": [
    {
     "name": "stdout",
     "output_type": "stream",
     "text": [
      "******\n",
      "*****\n",
      "****\n",
      "***\n",
      "**\n",
      "*\n"
     ]
    }
   ],
   "source": [
    "num=[1,1,1,1,1,1]\n",
    "sum=7\n",
    "for i in num:\n",
    "    sum-=i\n",
    "    print(\"*\"*sum)"
   ]
  },
  {
   "cell_type": "code",
   "execution_count": 215,
   "metadata": {},
   "outputs": [
    {
     "name": "stdout",
     "output_type": "stream",
     "text": [
      " 28 31 49 31 17 34  4  5 13 27 13 12 44 34 38 24 18 14 46  7 36 37 16 42 13  1 12 27 34 27 30 42 37 49 27  5  2 36  1 38  7 25 47 16 15 29 48 40 21 25"
     ]
    }
   ],
   "source": [
    "for i in range(1,51):\n",
    "    number = random.randint(1,49)\n",
    "    print(\"%3d\"%(number), end=\"\")"
   ]
  },
  {
   "cell_type": "code",
   "execution_count": null,
   "metadata": {},
   "outputs": [],
   "source": []
  }
 ],
 "metadata": {
  "kernelspec": {
   "display_name": "Python 3",
   "language": "python",
   "name": "python3"
  },
  "language_info": {
   "codemirror_mode": {
    "name": "ipython",
    "version": 3
   },
   "file_extension": ".py",
   "mimetype": "text/x-python",
   "name": "python",
   "nbconvert_exporter": "python",
   "pygments_lexer": "ipython3",
   "version": "3.7.3"
  }
 },
 "nbformat": 4,
 "nbformat_minor": 2
}
