{
 "cells": [
  {
   "cell_type": "code",
   "execution_count": 204,
   "metadata": {},
   "outputs": [
    {
     "name": "stdout",
     "output_type": "stream",
     "text": [
      "<!DOCTYPE html PUBLIC \"-//W3C//DTD XHTML 1.0 Transitional//EN\" \"http://www.w3.org/TR/xhtml1/DTD/xhtml1-transitional.dtd\">\n",
      "<html xmlns=\"http://www.w3.org/1999/xhtml\"><head><meta content=\"text/html; charset=utf-8\" http-equiv=\"Content-Type\"/><title>暗黑破壞神3：奪魂之鐮 -  伊莉討論區</title><meta content=\"暗黑破壞神3：奪魂之鐮\" name=\"keywords\"/><meta content=\"&amp;amp;amp;amp;amp;amp;lt;strong&amp;amp;amp;amp;amp;amp;gt;文章分類類型說明：&amp;amp;amp;amp;amp;amp;lt;/strong&amp;amp;amp;amp;amp;amp;gt;&amp;amp;amp;amp;amp;amp;lt;br /&amp;amp;amp;amp;amp;amp;gt;\r\n",
      "&amp;amp;amp;amp;amp;amp;lt;strong&amp;amp;amp;amp;amp;amp;gt;&amp;amp;amp;amp;amp;amp;lt;font color=&amp;amp;amp;amp;amp;amp;quot;Red&amp;amp;amp;amp;amp;amp;quot;&amp;amp;amp;amp;amp;amp;gt;公告：僅版務人員使用或是會員使用刪文&amp;amp;amp;amp;amp;amp;lt;br /&amp;amp;amp;amp;amp;amp;gt;\r\n",
      "問題：疑問尋求答案徵求他人意見&amp;amp;amp;amp;amp;amp;lt;br /&amp;amp;amp;amp;amp;amp;gt;\r\n",
      "轉載：轉貼遊戲情報或是他人文章&amp;amp;amp;amp;amp;amp;lt;br /&amp;amp;amp;amp;amp;amp;gt;\r\n",
      "貼圖：分享遊戲的貼圖專用(圖片不得超過9張)&amp;amp;amp;amp;amp;amp;lt;br /&amp;amp;amp;amp;amp;amp;gt;\r\n",
      "討論：相互研究和探討遊戲交流的聊天文章&amp;amp;amp;amp;amp;amp;lt;br /&amp;amp;amp;amp;amp;amp;gt;\r\n",
      "攻略：發布遊戲的心得攻略和技能點法&amp;amp;amp;amp;amp;amp;lt;br /&amp;amp;amp;amp;amp;amp;gt;\r\n",
      "魔電：魔電版本專屬的文章主題&amp;amp;amp;amp;amp;amp;lt;/font&amp;amp;amp;amp;amp;amp;gt;&amp;amp;amp;amp;amp;amp;lt;/strong&amp;amp;amp;amp;amp;amp;gt;&amp;amp;amp;amp;amp;amp;lt;br /&amp;amp;amp;amp;amp;amp;gt; ,伊莉討論區\" name=\"description\"/><meta content=\"EYNY \" name=\"generator\"/><meta content=\"EYNY Team and EYNY UI Team\" name=\"author\"/><meta content=\"2001-2011 EYNY Inc.\" name=\"copyright\"/><meta content=\"True\" name=\"MSSmartTagsPreventParsing\"/><meta content=\"Yes\" http-equiv=\"MSThemeCompatible\"/><base href=\"https://www.eyny.com/\"/><link href=\"data/cache/style_1_common.css?wCw\" rel=\"stylesheet\" type=\"text/css\"/><link href=\"data/cache/style_1_forum_forumdisplay.css?wCw\" rel=\"stylesheet\" type=\"text/css\"/><link href=\"data/cache/css_common.css?wCw\" id=\"diy_common\" rel=\"stylesheet\" type=\"text/css\"/><script type=\"text/javascript\">var cp_max='120'; var Show_FT='2'; var Default_isFT='1'; var StranIt_Delay='50'; var sc_relate=''; </script><script src=\"data/cache/js_common.js?wCw\" type=\"text/javascript\"></script><script src=\"data/cache/js_show_ads.js?wCw\" type=\"text/javascript\"></script><script type=\"text/javascript\">var STYLEID = '1', STATICURL = 'static/', IMGDIR = 'static/image/common', VERHASH = 'wCw', charset = 'utf-8', discuz_uid = '0', cookiepre = '604e55XbD_e8d7_', cookiedomain = '.eyny.com', cookiepath = '/', showusercard = '1', attackevasive = '0', disallowfloat = 'newthread', creditnotice = '1|積分|點,2|潛水值|米', defaultstyle = '', REPORTURL = 'd3d3LmV5bnkuY29tL2ZvcnVtLTE3MTAtMS5odG1s', SITEURL = 'https://www.eyny.com/', JSPATH = 'data/cache/';</script><script src=\"data/cache/common.js?wCw\" type=\"text/javascript\"></script><link href=\"favicon.ico?wCw\" rel=\"shortcut icon\" type=\"image/x-icon\"/>\n",
      "<meta content=\"伊莉討論區\" name=\"application-name\"/><meta content=\"伊莉討論區\" name=\"msapplication-tooltip\"/><meta content=\"name=論壇;action-uri=https://www.eyny.com/forum.php;icon-uri=https://www.eyny.com/static/image/common/bbs.ico\" name=\"msapplication-task\"/><meta content=\"name=群組;action-uri=https://www.eyny.com/group.php;icon-uri=https://www.eyny.com/static/image/common/group.ico\" name=\"msapplication-task\"/><meta content=\"name=空間;action-uri=https://www.eyny.com/home.php;icon-uri=https://www.eyny.com/static/image/common/home.ico\" name=\"msapplication-task\"/><link href=\"https://www.eyny.com/archiver/\" rel=\"archives\" title=\"伊莉討論區\"/><script src=\"data/cache/forum.js?wCw\" type=\"text/javascript\"></script></head><body class=\"pg_forumdisplay\" id=\"nv_forum\" onkeydown=\"if(event.keyCode==27) return false;\" style=\"background:#EEEEEE!important;\"><div id=\"append_parent\"></div><div id=\"ajaxwaitid\"></div><div class=\"wp\" id=\"wp\" style=\"background:#FDFDFD;border-left:3px solid #DDD;border-right:3px solid #DDD;padding:0 5px 0 5px\"><div class=\"cl\" id=\"toptb\"><div class=\"wp\"><div class=\"z\"><a id=\"StranLink\">繁體</a><a href=\"http://tbar.alexa.com/10.0/Alexa.10.0.exe\" target=\"_blank\">瀏覽工具</a><a href=\"javascript:;\" onclick=\"setHomepage('http://video.eyny.com/');\">設為首頁</a><a href=\"http://video.eyny.com/\" onclick=\"addFavorite(this.href, '伊莉討論區');return false;\">收藏本站</a></div><div class=\"y\"><div style=\"display:none\"><script src=\"data/cache/logging.js?wCw\" type=\"text/javascript\"></script><form action=\"member.php?mod=logging&amp;action=login&amp;loginsubmit=yes&amp;infloat=yes&amp;lssubmit=yes\" autocomplete=\"off\" id=\"lsform\" method=\"post\" onsubmit=\"return lsSubmit()\"><div class=\"fastlg cl\"><span id=\"return_ls\" style=\"display:none\"></span><div class=\"y pns\"><table cellpadding=\"0\" cellspacing=\"0\"><tr><td><span class=\"ftid\"><select id=\"ls_fastloginfield\" name=\"fastloginfield\" tabindex=\"900\" width=\"40\"><option value=\"username\">用戶名</option><option value=\"uid\">UID</option><option value=\"email\">Email</option></select></span><script type=\"text/javascript\">simulateSelect('ls_fastloginfield')</script></td><td><input autocomplete=\"off\" class=\"px vm\" id=\"ls_username\" name=\"username\" tabindex=\"901\" type=\"text\" value=\"\"/></td><td class=\"fastlg_l\"><label for=\"ls_cookietime\"><input class=\"pc\" id=\"ls_cookietime\" name=\"cookietime\" tabindex=\"903\" type=\"checkbox\" value=\"2592000\"/>自動登錄</label></td><td> <a href=\"javascript:;\" onclick=\"showWindow('login', 'member.php?mod=logging&amp;action=login&amp;viewlostpw=1')\">找回密碼</a></td></tr><tr><td><label class=\"z psw_w\" for=\"ls_password\">密碼</label></td><td><input autocomplete=\"off\" class=\"px vm\" id=\"ls_password\" name=\"password\" tabindex=\"902\" type=\"password\"/></td><td class=\"fastlg_l\"><button class=\"pn vm\" style=\"width: 75px;\" tabindex=\"904\" type=\"submit\"><em>登錄</em></button></td><td> <a class=\"xi2 xw1\" href=\"member.php?mod=register\">註冊</a></td></tr></table><input name=\"quickforward\" type=\"hidden\" value=\"yes\"/><input name=\"handlekey\" type=\"hidden\" value=\"ls\"/></div></div></form></div><span class=\"pipe\">|</span><a href=\"member.php?mod=register\">註冊</a><span class=\"pipe\">|</span><a href=\"member.php?mod=logging&amp;action=login\">登錄</a></div></div></div><div class=\"p_pop blk\" id=\"qmenu_menu\" style=\"display: none;\"><div class=\"ptm pbw hm\">\r\n",
      "請 <a class=\"xi2\" href=\"javascript:;\" onclick=\"lsSubmit()\"><strong>登錄</strong></a> 後使用快捷導航<br/>沒有帳號？<a class=\"xi2 xw1\" href=\"member.php?mod=register\">註冊</a></div></div><div id=\"hd\"><div class=\"wp\" style=\"padding:0px;\"><div class=\"hdc cl\"><h2 style=\"padding:0px;\"><a href=\"./index.php\" title=\"伊莉討論區\"><img alt=\"伊莉討論區\" border=\"0\" src=\"static/image/common/logo.gif\"/></a></h2><div style=\"float:right;\"><div style=\"height: 120px; vertical-align:bottom; display:table-cell; \"><span id=\"ads_ads_8024\"><script type=\"text/javascript\">ad_format='728x90'; ad_border=0; ad_type='image'; ad_channel=1; show_ads('ads_ads_8024');</script></span></div></div></div><div id=\"nv\"><a href=\"javascript:;\" id=\"qmenu\" onmouseover=\"showMenu({'ctrlid':'qmenu','pos':'34!','ctrlclass':'a','duration':2});\">快捷導航</a><ul><li class=\"a\" id=\"mn_forum\"><a hidefocus=\"true\" href=\"forum.php\" title=\"BBS\">論壇<span>BBS</span></a><font style=\"position:relative;bottom:2px;color:#333;\">|</font></li><li id=\"mn_group\"><a hidefocus=\"true\" href=\"group.php\" title=\"Group\">群組<span>Group</span></a><font style=\"position:relative;bottom:2px;color:#333;\">|</font></li><li id=\"mn_home\"><a hidefocus=\"true\" href=\"home.php\" title=\"Space\">空間<span>Space</span></a><font style=\"position:relative;bottom:2px;color:#333;\">|</font></li><li id=\"mn_N3258\"><a hidefocus=\"true\" href=\"http://video.eyny.com/\" target=\"_blank\">影片</a><font style=\"position:relative;bottom:2px;color:#333;\">|</font></li><li id=\"mn_N10da\"><a hidefocus=\"true\" href=\"https://www.eyny.com/ads\" style=\"font-weight: bold;\">廣告</a><font style=\"position:relative;bottom:2px;color:#333;\">|</font></li><li id=\"mn_N12a7\"><a hidefocus=\"true\" href=\"misc.php?mod=ranklist\" title=\"Ranklist\">排行<span>Ranklist</span></a><font style=\"position:relative;bottom:2px;color:#333;\">|</font></li><li id=\"mn_Nccf6\"><a hidefocus=\"true\" href=\"search.php?mod=forum&amp;adv=yes\">搜尋</a><font style=\"position:relative;bottom:2px;color:#333;\">|</font></li><li id=\"mn_forum\" style=\"font-weight:700\"><a hidefocus=\"true\" href=\"/video.php?mod=store&amp;site=www.eyny.com\" title=\"自助升級\">自助升級<span>自助升級</span></a></li><li id=\"mn_forum\" style=\"background:#2A406F\"><a hidefocus=\"true\" href=\"/video.php?mod=store&amp;site=www.eyny.com\" title=\"尊貴會員\">尊貴會員<span>尊貴會員</span></a></li></ul></div><div class=\"cl\" id=\"mu\"></div><div class=\"cl\" id=\"scbar\" style=\"z-index:1!important\"><form action=\"search.php?searchsubmit=yes\" autocomplete=\"off\" id=\"scbar_form\" method=\"post\" onsubmit=\"searchFocus($('scbar_txt'))\"><input id=\"scbar_mod\" name=\"mod\" type=\"hidden\" value=\"search\"/><input name=\"formhash\" type=\"hidden\" value=\"e7cea58f\"/><input name=\"srchtype\" type=\"hidden\" value=\"title\"/><input name=\"srchfrom\" type=\"hidden\" value=\"0\"/><input name=\"cid\" type=\"hidden\" value=\"\"/><input name=\"srhfid\" type=\"hidden\" value=\"1710\"/><input name=\"srhlocality\" type=\"hidden\" value=\"forum::forumdisplay\"/><table cellpadding=\"0\" cellspacing=\"0\"><tr><td class=\"scbar_icon_td\"></td><td class=\"scbar_txt_td\"><div style=\"position:absolute;width:400px;top:222px\"><div class=\"search_bar1\" id=\"sc_related\" style=\"display:none;\"></div></div><input autocomplete=\"off\" id=\"scbar_txt\" name=\"srchtxt\" onkeyup=\"keyword(this, 'sc_related','lib/api/search.php', event.keyCode);\" type=\"text\" value=\"\"/></td><td class=\"scbar_type_td\"><a class=\"showmenu xg1 xs2\" hidefocus=\"true\" href=\"javascript:;\" id=\"scbar_type\" onclick=\"showMenu(this.id)\">搜索</a></td><td class=\"scbar_btn_td\"><button class=\"pn pnc\" id=\"scbar_btn\" name=\"searchsubmit\" type=\"submit\" value=\"true\"><strong class=\"xi2 xs2\">搜索</strong></button></td><td class=\"scbar_hot_td\"><div id=\"scbar_hot\"></div></td></tr></table></form></div><ul class=\"p_pop\" id=\"scbar_type_menu\" style=\"display: none;\"><li><a class=\"curtype\" href=\"javascript:;\" rel=\"curforum\">本版</a></li><li><a href=\"javascript:;\" rel=\"forum\">帖子</a></li><li><a href=\"javascript:;\" rel=\"blog\">日誌</a></li><li><a href=\"javascript:;\" rel=\"album\">相冊</a></li><li><a href=\"javascript:;\" rel=\"group\">群組</a></li><li><a href=\"javascript:;\" rel=\"user\">用戶</a></li></ul><script type=\"text/javascript\">\r\n",
      "initSearchmenu('scbar');\r\n",
      "</script></div></div><table style=\"margin-top:5px\" width=\"100%\"><tr><td class=\"adv_header_text\">發表文章前請先閱讀相關版規</td><td class=\"adv_header_text\"><a href=\"http://blog.eyny.com/\" target=\"_blank\">認識好友、聊天，分享生活趣事</a></td><td class=\"adv_header_text\"><a href=\"http://video.eyny.com/\" target=\"_blank\">搞笑、娛樂、精彩的影片讓你看</a></td></tr></table><style id=\"diy_style\" type=\"text/css\"></style><!--[diy=diynavtop]--><div class=\"area\" id=\"diynavtop\"></div><!--[/diy]--><div class=\"bm cl\" id=\"pt\"><div class=\"z\"><a class=\"nvhm\" href=\"./\" title=\"首頁\">伊莉討論區</a> <em>›</em> <a href=\"forum.php\">論壇</a> <em>›</em> <a href=\"forum.php?gid=246\">熱門線上遊戲</a><em>›</em> <a href=\"forum-1710-1.html\">暗黑破壞神3：奪魂之鐮</a></div></div><script src=\"data/cache/forum_viewthread.js?wCw\" type=\"text/javascript\"></script><table cellpadding=\"0\" cellspacing=\"0\" height=\"240\" style=\"margin-bottom:10px\" width=\"100%\"><tr><td width=\"550\"><table cellpadding=\"0\" cellspacing=\"0\" width=\"550\"><tr><td align=\"left\" colspan=\"8\" width=\"550\"><img src=\"lib/static/image/grouplist/grouplist_top.gif\"/></td></tr><tr><td><table cellpadding=\"0\" cellspacing=\"0\" height=\"200\" style=\"background-image:url(lib/static/image/grouplist/grouplist_body.gif?wCw);background-repeat:no-repeat;\" width=\"100%\"><tr><td colspan=\"8\"><table cellpadding=\"0\" cellspacing=\"0\" width=\"100%\"><tr><td class=\"grouplist\"><a href=\"search.php?mod=forum&amp;srchtxt=ge&amp;srchfrom=0&amp;searchsubmit=yes\" title=\"ge\">ge</a></td><td class=\"grouplist\"><a href=\"search.php?mod=forum&amp;srchtxt=%E4%B8%80%E6%8B%B3%E8%B6%85%E4%BA%BA&amp;srchfrom=0&amp;searchsubmit=yes\" title=\"一拳超人\">一拳超人</a></td><td class=\"grouplist\"><a href=\"search.php?mod=forum&amp;srchtxt=%E6%98%8E%E6%97%A5%E8%8A%B1&amp;srchfrom=0&amp;searchsubmit=yes\" title=\"明日花\">明日花</a></td><td class=\"grouplist\"><a href=\"search.php?mod=forum&amp;srchtxt=%E5%82%AC%E7%9C%A0&amp;srchfrom=0&amp;searchsubmit=yes\" title=\"催眠\">催眠</a></td><td class=\"grouplist\"><a href=\"search.php?mod=forum&amp;srchtxt=%E9%80%B2%E6%93%8A%E7%9A%84%E5%B7%A8%E4%BA%BA&amp;srchfrom=0&amp;searchsubmit=yes\" title=\"進擊的巨人\">進擊的巨</a></td><td class=\"grouplist\"><a href=\"search.php?mod=forum&amp;srchtxt=%E6%A8%93%E4%B8%8B%E7%9A%84%E6%88%BF%E5%AE%A2&amp;srchfrom=0&amp;searchsubmit=yes\" title=\"樓下的房客\">樓下的房</a></td><td class=\"grouplist\"><a href=\"search.php?mod=forum&amp;srchtxt=overlord&amp;srchfrom=0&amp;searchsubmit=yes\" title=\"overlord\">overlord</a></td></tr></table></td></tr><tr><td colspan=\"8\"><table cellpadding=\"0\" cellspacing=\"0\" width=\"100%\"><tr><td class=\"grouplist\"><a href=\"search.php?mod=forum&amp;srchtxt=q8160&amp;srchfrom=0&amp;searchsubmit=yes\" title=\"q8160\">q8160</a></td><td class=\"grouplist\"><a href=\"search.php?mod=forum&amp;srchtxt=ntr&amp;srchfrom=0&amp;searchsubmit=yes\" title=\"ntr\">ntr</a></td><td class=\"grouplist\"><a href=\"search.php?mod=forum&amp;srchtxt=%E5%B7%A5+%E5%8F%A3+%E6%BC%AB%E7%95%AB&amp;srchfrom=0&amp;searchsubmit=yes\" title=\"工 口 漫畫\">工 口 漫</a></td><td class=\"grouplist\"><a href=\"search.php?mod=forum&amp;srchtxt=abp+859&amp;srchfrom=0&amp;searchsubmit=yes\" title=\"abp 859\">abp 859</a></td><td class=\"grouplist\"><a href=\"search.php?mod=forum&amp;srchtxt=%E8%BD%89%E7%94%9F+%E5%8F%B2%E8%90%8A%E5%A7%86&amp;srchfrom=0&amp;searchsubmit=yes\" title=\"轉生 史萊姆\">轉生 史</a></td><td class=\"grouplist\"><a href=\"search.php?mod=forum&amp;srchtxt=%E3%83%93%E3%83%83%E3%83%81%E3%83%AA%E3%83%83%E3%83%81%E3%83%91%E3%83%BC%E3%83%86%E3%82%A3&amp;srchfrom=0&amp;searchsubmit=yes\" title=\"ビッチリッチパーティ\">ビッチリ</a></td><td class=\"grouplist\"><a href=\"search.php?mod=forum&amp;srchtxt=%E6%9C%AB%E4%B8%96&amp;srchfrom=0&amp;searchsubmit=yes\" title=\"末世\">末世</a></td></tr></table></td></tr><tr></tr><tr><td colspan=\"8\" height=\"10\" valign=\"top\"><hr class=\"grouplist_hr\"/></td></tr><tr><td class=\"grouplist\"><a href=\"forum.php?gid=9\" title=\"休閒聊天\">休閒聊天</a></td><td class=\"grouplist\"><a href=\"forum.php?gid=10\" title=\"興趣交流\">興趣交流</a></td><td class=\"grouplist\"><a href=\"forum.php?gid=292\" title=\"學術文化\">學術文化</a></td><td class=\"grouplist\"><a href=\"forum.php?gid=486\" title=\"旅遊交流\">旅遊交流</a></td><td class=\"grouplist\"><a href=\"forum.php?gid=487\" title=\"飲食交流\">飲食交流</a></td><td class=\"grouplist\"><a href=\"forum.php?gid=485\" title=\"家庭事務\">家庭事務</a></td><td class=\"grouplist\"><a href=\"forum.php?gid=329\" title=\"PC GAME\">PC GAME</a></td><td class=\"grouplist\"><a href=\"forum.php?gid=1789\" title=\"TV GAME\">TV GAME</a></td></tr><tr><td class=\"grouplist\"><a href=\"forum.php?gid=246\" title=\"熱門線上遊戲\">熱門線上</a></td><td class=\"grouplist\"><a href=\"forum.php?gid=1790\" title=\"其他線上遊戲\">其他線上</a></td><td class=\"grouplist\"><a href=\"forum.php?gid=278\" title=\"感情感性\">感情感性</a></td><td class=\"grouplist\"><a href=\"forum.php?gid=1739\" title=\"寵物交流\">寵物交流</a></td><td class=\"grouplist\"><a href=\"forum.php?gid=197\" title=\"家族門派\">家族門派</a></td><td class=\"grouplist\"><a href=\"forum.php?gid=206\" title=\"動漫交流\">動漫交流</a></td><td class=\"grouplist\"><a href=\"forum.php?gid=301\" title=\"貼圖分享\">貼圖分享</a></td><td class=\"grouplist\"><a href=\"forum.php?gid=1722\" title=\"BL/GL\">BL/GL</a></td></tr><tr><td class=\"grouplist\"><a href=\"forum.php?gid=331\" title=\"音樂世界\">音樂世界</a></td><td class=\"grouplist\"><a href=\"forum.php?gid=332\" title=\"影視娛樂\">影視娛樂</a></td><td class=\"grouplist\"><a href=\"forum.php?gid=157\" title=\"女性頻道\">女性頻道</a></td><td class=\"grouplist\"><a href=\"forum.php?gid=488\" title=\"潮流資訊\">潮流資訊</a></td><td class=\"grouplist\"><a href=\"forum.php?gid=248\" title=\"BT下載區\">BT下載區</a></td><td class=\"grouplist\"><a href=\"forum.php?gid=5\" title=\"GB下載區\">GB下載區</a></td><td class=\"grouplist\"><a href=\"forum.php?gid=302\" title=\"下載分享\">下載分享</a></td><td class=\"grouplist\"><a href=\"forum.php?gid=1746\" title=\"短片\">短片</a></td></tr><tr><td class=\"grouplist\"><a href=\"forum.php?gid=93\" title=\"電腦資訊\">電腦資訊</a></td><td class=\"grouplist\"><a href=\"forum.php?gid=489\" title=\"數碼產品\">數碼產品</a></td><td class=\"grouplist\"><a href=\"forum.php?gid=395\" title=\"手機交流\">手機交流</a></td><td class=\"grouplist\"><a href=\"forum.php?gid=330\" title=\"交易廣場\">交易廣場</a></td><td class=\"grouplist\"><a href=\"forum.php?gid=12\" title=\"網站事務\">網站事務</a></td><td class=\"grouplist\"><a href=\"forum.php?gid=1747\" title=\"長篇小說\">長篇小說</a></td><td class=\"grouplist\"><a href=\"forum.php?gid=283\" title=\"體育運動\">體育運動</a></td><td class=\"grouplist\"><a href=\"forum.php?gid=403\" title=\"時事經濟\">時事經濟</a></td></tr><tr><td class=\"grouplist\"><a href=\"forum.php?gid=490\" title=\"上班一族\">上班一族</a></td><td class=\"grouplist\"><a href=\"forum.php?gid=334\" title=\"博彩娛樂\">博彩娛樂</a></td></tr></table></td></tr></table></td><td style=\"height: 100%; vertical-align: middle; text-align:center;\" width=\"410\"><table cellpadding=\"0\" cellspacing=\"0\" width=\"100%\"><tr><td class=\"grouplist\"><a href=\"https://video.eyny.com/video.php?mod=video&amp;vid=4487636\" target=\"_blank\" title=\"【LexBurner】史詩級大雷片！口碑最差造就B站最强！閱爛片無數的up主都看傻了！\"><img class=\"p_video\" height=\"90\" src=\"https://a413.static-file.com:8000/shared/upload/video/201908/20190802135726_4354.jpg.thumb.small.jpg\" width=\"120\"/></a><br/><a href=\"https://video.eyny.com/video.php?mod=video&amp;vid=4487636\" target=\"_blank\" title=\"【LexBurner】史詩級大雷片！口碑最差造就B站最强！閱爛片無數的up主都看傻了！\">【LexBurner】史詩級</a></td><td class=\"grouplist\"><a href=\"https://video.eyny.com/video.php?mod=video&amp;vid=4489123\" target=\"_blank\" title=\"[繁]在地下城尋求邂逅是否搞錯了什麼 第二季04-戰爭游戲\"><img class=\"p_video\" height=\"90\" src=\"https://a301.static-file.com:8000/shared/upload/video/201908/20190803073627_3513.jpg.thumb.small.jpg\" width=\"120\"/></a><br/><a href=\"https://video.eyny.com/video.php?mod=video&amp;vid=4489123\" target=\"_blank\" title=\"[繁]在地下城尋求邂逅是否搞錯了什麼 第二季04-戰爭游戲\">[繁]在地下城尋求邂逅</a></td><td class=\"grouplist\"><a href=\"https://video.eyny.com/video.php?mod=video&amp;vid=4438676\" target=\"_blank\" title=\"[繁]為了女兒，我說不定連魔王都能幹掉。02-小小女孩、開始嶄新的生活\"><img class=\"p_video\" height=\"90\" src=\"https://a226.static-file.com:8000/shared/upload/video/201907/20190712002017_5643.jpg.thumb.small.jpg\" width=\"120\"/></a><br/><a href=\"https://video.eyny.com/video.php?mod=video&amp;vid=4438676\" target=\"_blank\" title=\"[繁]為了女兒，我說不定連魔王都能幹掉。02-小小女孩、開始嶄新的生活\">[繁]為了女兒，我說不</a></td></tr><tr><td class=\"grouplist\"><a href=\"https://video.eyny.com/video.php?mod=video&amp;vid=4444916\" target=\"_blank\" title=\"[繁][720P]海賊王893-阿玉登場 魯夫VS海道軍\"><img class=\"p_video\" height=\"90\" src=\"https://a529.static-file.com:8000/shared/upload/video/201907/20190714131941_1868.jpg.thumb.small.jpg\" width=\"120\"/></a><br/><a href=\"https://video.eyny.com/video.php?mod=video&amp;vid=4444916\" target=\"_blank\" title=\"[繁][720P]海賊王893-阿玉登場 魯夫VS海道軍\">[繁][720P]海賊王893-</a></td><td class=\"grouplist\"><a href=\"https://video.eyny.com/video.php?mod=video&amp;vid=4457604\" target=\"_blank\" title=\"[繁]在地下城尋求邂逅是否搞錯了什麼 第二季02-太陽神\"><img class=\"p_video\" height=\"90\" src=\"https://a219.static-file.com:8000/shared/upload/video/201907/20190720011256_1679.jpg.thumb.small.jpg\" width=\"120\"/></a><br/><a href=\"https://video.eyny.com/video.php?mod=video&amp;vid=4457604\" target=\"_blank\" title=\"[繁]在地下城尋求邂逅是否搞錯了什麼 第二季02-太陽神\">[繁]在地下城尋求邂逅</a></td><td class=\"grouplist\"><a href=\"https://video.eyny.com/video.php?mod=video&amp;vid=4457564\" target=\"_blank\" title=\"[繁]普通攻擊是全體二連擊，這樣的媽媽你喜歡嗎？02-全是女孩子實屬偶然。別誤會了。也別笑嘻嘻的看著這邊。\"><img class=\"p_video\" height=\"90\" src=\"https://a436.static-file.com:8000/shared/upload/video/201907/20190720005025_3776.jpg.thumb.small.jpg\" width=\"120\"/></a><br/><a href=\"https://video.eyny.com/video.php?mod=video&amp;vid=4457564\" target=\"_blank\" title=\"[繁]普通攻擊是全體二連擊，這樣的媽媽你喜歡嗎？02-全是女孩子實屬偶然。別誤會了。也別笑嘻嘻的看著這邊。\">[繁]普通攻擊是全體二</a></td></tr></table></td></tr></table><table cellpadding=\"0\" cellspacing=\"0\" style=\"margin-bottom:10px;\" width=\"100%\"><tr><td class=\"forumlist\"><a href=\"forum.php?mod=forumdisplay&amp;fid=1970\">英雄聯盟League of Legends</a></td><td class=\"forumlist\"><a href=\"forum.php?mod=forumdisplay&amp;fid=3887\">暴雪英霸</a></td><td class=\"forumlist\"><a href=\"forum.php?mod=forumdisplay&amp;fid=1710\">暗黑破壞神3：奪魂之鐮</a></td><td class=\"forumlist\"><a href=\"forum.php?mod=forumdisplay&amp;fid=4259\">黑色沙漠 BLACK DESERT</a></td><td class=\"forumlist\"><a href=\"forum.php?mod=forumdisplay&amp;fid=3969\">救世主之樹 Tree of Savior</a></td><td class=\"forumlist\"><a href=\"forum.php?mod=forumdisplay&amp;fid=4128\">鬥陣特攻 Overwatch</a></td><td class=\"forumlist\"><a href=\"forum.php?mod=forumdisplay&amp;fid=3311\">DMM綜合遊戲</a></td><td class=\"forumlist\"><a href=\"forum.php?mod=forumdisplay&amp;fid=1692\">新楓之谷 Online</a></td></tr><tr><td class=\"forumlist\"><a href=\"forum.php?mod=forumdisplay&amp;fid=3503\">流亡黯道 Path of Exile</a></td><td class=\"forumlist\"><a href=\"forum.php?mod=forumdisplay&amp;fid=1999\">A.V.A 戰地之王 Revo</a></td><td class=\"forumlist\"><a href=\"forum.php?mod=forumdisplay&amp;fid=113\">天堂 Lineage系列</a></td><td class=\"forumlist\"><a href=\"forum.php?mod=forumdisplay&amp;fid=3908\">戰艦世界World of Warships</a></td><td class=\"forumlist\"><a href=\"forum.php?mod=forumdisplay&amp;fid=1786\">CS Online(絕對武力)</a></td><td class=\"forumlist\"><a href=\"forum.php?mod=forumdisplay&amp;fid=1905\">艾爾之光</a></td><td class=\"forumlist\"><a href=\"forum.php?mod=forumdisplay&amp;fid=3702\">爐石戰記：魔獸英雄傳</a></td><td class=\"forumlist\"><a href=\"forum.php?mod=forumdisplay&amp;fid=31\">仙境傳說RO系列</a></td></tr><tr><td class=\"forumlist\"><a href=\"forum.php?mod=forumdisplay&amp;fid=294\">魔獸世界 WOW</a></td><td class=\"forumlist\"><a href=\"forum.php?mod=forumdisplay&amp;fid=3573\">戰車世界 World of Tanks</a></td><td class=\"forumlist\"><a href=\"forum.php?mod=forumdisplay&amp;fid=3304\">劍靈Blade &amp; Soul</a></td><td class=\"forumlist\"><a href=\"forum.php?mod=forumdisplay&amp;fid=3306\">新瑪奇英雄傳</a></td><td class=\"forumlist\"><a href=\"forum.php?mod=forumdisplay&amp;fid=1633\">全民打棒球 2</a></td><td class=\"forumlist\"><a href=\"forum.php?mod=forumdisplay&amp;fid=3505\">Pixiv角色創作專區</a></td><td class=\"forumlist\"><a href=\"forum.php?mod=forumdisplay&amp;fid=3909\">艦隊提督鎮守府創作區</a></td><td class=\"forumlist\"><a href=\"forum.php?mod=forumdisplay&amp;fid=3910\">角色扮演類〈MMORPG〉</a></td></tr></table><table class=\"t_p_top\"><tr><td class=\"p_top\"><a class=\"xst\" href=\"thread-224266-1-GU7Y04C7.html\" onclick=\"atarget(this)\" style=\"font-weight: bold;color: #2B65B7\" title=\"尊貴會員計劃 - 無限觀看圖片、附件和下載(5P)\"><img class=\"p_common\" height=\"80\" src=\"https://a432.file-static.com:8000/data/attachment/./forum/picture/1301/224266.jpg\" width=\"100\"/></a></td><td class=\"p_top\"><a class=\"xst\" href=\"thread-9627141-1-GU7Y04C7.html\" onclick=\"atarget(this)\" style=\"font-weight: bold;color: #EC1282\" title=\"《新區域版規》基本十條盟約~(1P)\"><img class=\"p_common\" height=\"80\" src=\"https://a438.file-static.com:8000/data/attachment/./forum/picture/1405/9627141.jpg\" width=\"100\"/></a></td><td class=\"p_top\"><a class=\"xst\" href=\"thread-9731560-1-GU7Y04C7.html\" onclick=\"atarget(this)\" style=\"font-weight: bold;color: #EE5023\" title=\"【暗黑破壞神3：奪魂之鐮】《沒有人能阻止死亡》心得報告(每日活動)(1P)\"><img class=\"p_common\" height=\"80\" src=\"https://a435.file-static.com:8000/data/attachment/./forum/picture/1407/9731560.jpg\" width=\"100\"/></a></td><td class=\"p_top\"><a class=\"xst\" href=\"thread-10935020-1-GU7Y04C7.html\" onclick=\"atarget(this)\" title=\"這不是母牛關(6P)\"><img class=\"p_common\" height=\"80\" src=\"https://a438.file-static.com:8000/data/attachment/./forum/picture/1606/10935020.jpg\" width=\"100\"/></a></td><td class=\"p_top\"><a class=\"xst\" href=\"thread-12159596-1-GU7Y04C7.html\" onclick=\"atarget(this)\" title=\"這個改動我覺得蠻好的~拍得不清楚請見諒~(1P)\"><img class=\"p_common\" height=\"80\" src=\"https://a437.file-static.com:8000/data/attachment/./forum/picture/1904/12159596.jpg\" width=\"100\"/></a></td><td class=\"p_top\"><a class=\"xst\" href=\"thread-9317174-1-GU7Y04C7.html\" onclick=\"atarget(this)\" title=\"我竟然打到了SOJ!!!!(1P)\"><img class=\"p_common\" height=\"80\" src=\"https://a435.file-static.com:8000/data/attachment/./forum/picture/1401/9317174.jpg\" width=\"100\"/></a></td><td class=\"p_top\"><a class=\"xst\" href=\"thread-11129650-1-GU7Y04C7.html\" onclick=\"atarget(this)\" title=\"死靈法師技能試玩效果動畫分享(5P)\"><img class=\"p_common\" height=\"80\" src=\"https://a440.file-static.com:8000/data/attachment/./forum/picture/1611/11129650.jpg\" width=\"100\"/></a></td></tr></table><div class=\"wp\"><!--[diy=diy1]--><div class=\"area\" id=\"diy1\"></div><!--[/diy]--></div><div class=\"boardnav\"><div class=\"wp cl\" id=\"ct\"><div class=\"mn\"><div class=\"bm bml pbn\"><div class=\"bm_h cl\"><span class=\"o\"><img alt=\"收起/展開\" id=\"forum_rules_1710_img\" onclick=\"toggle_collapse('forum_rules_1710')\" src=\"static/image/common/collapsed_no.gif\" title=\"收起/展開\"/></span><span class=\"y\"><a class=\"fa_fav\" href=\"home.php?mod=spacecp&amp;ac=favorite&amp;type=forum&amp;id=1710&amp;handlekey=favoriteforum\" id=\"a_favorite\" onclick=\"showWindow(this.id, this.href, 'get', 0);\">收藏本版</a></span><h1 class=\"xs2\"><a href=\"forum-1710-1.html\">暗黑破壞神3：奪魂之鐮</a><span class=\"xs1 xw0 i\">主題: <strong class=\"xi1\">7906</strong></span></h1></div><div class=\"bm_c cl pbn\"><div>版主: <span class=\"xi2\"><a c=\"1\" class=\"notabs\" href=\"space-username-%E3%80%90JohnLibra%E3%80%91..html\">【JohnLibra】.</a>, <a c=\"1\" class=\"notabs\" href=\"space-username-k1678999.html\">k1678999</a></span></div><div id=\"forum_rules_1710\" style=\";\"><div class=\"ptn xg2\"><img alt=\"\" src=\"http://pic.pimg.tw/magerai/1338723645-1687483565.jpg\"/><br/>\n",
      "<font color=\"Magenta\">免責聲明：</font><br/>\n",
      "<font color=\"Red\">會員經發帖、回覆後，皆視同已閱讀版規、區規，違規將無條件接受懲處，不得異議。</font><br/>\n",
      "<font color=\"Red\">本版禁止任何形式之交易文章發表，如經查獲定已版規懲處，最低水桶天數14天，累犯者永久水桶。</font><br/>\n",
      "<font color=\"Red\">任何遊戲內之交易、非法行為本版概不負責也不承擔任何法律責任。</font><br/>\n",
      "<a href=\"http://www03.eyny.com/thread-7985778-1-1.html\" target=\"_blank\"><font color=\"Blue\">完整版規請點此觀看</font></a></div></div></div></div><div class=\"drag\"><!--[diy=diy4]--><div class=\"area\" id=\"diy4\"></div><!--[/diy]--></div><div class=\"bm bw0 pgs cl\" id=\"pgt\"><div class=\"pg\"><a href=\"javascript:;\"> 7911 </a><strong>1</strong><a href=\"forum-1710-2LFNW6OU.html\">2</a><a href=\"forum-1710-33QE37EO.html\">3</a><a href=\"forum-1710-7MNKPTUH.html\">4</a><a href=\"forum-1710-F0P3D27A.html\">5</a><a href=\"forum-1710-7Y7E6TJN.html\">6</a><a href=\"forum-1710-2WYHDUV6.html\">7</a><a href=\"forum-1710-ASBP6UR3.html\">8</a><a href=\"forum-1710-D677Q02D.html\">9</a><a href=\"forum-1710-DBY4GHEG.html\">10</a><a href=\"forum-1710-244YE95Q.html\">100</a><a class=\"last\" href=\"forum-1710-2450TUKQ.html\">... 317</a><a class=\"nxt\" href=\"forum-1710-2LFNW6OU.html\">下一頁</a></div><span class=\"pgb y\"><a href=\"forum.php\">返 回</a></span><a href=\"javascript:;\" id=\"newspecial\" onclick=\"location.href='forum.php?mod=post&amp;action=newthread&amp;fid=1710';return false;\" onmouseover=\"$('newspecial').id = 'newspecialtmp';this.id = 'newspecial';showMenu({'ctrlid':this.id})\" title=\"發新帖\"><img alt=\"發新帖\" src=\"static/image/common/pn_post.png\"/></a></div><ul class=\"ttp bm cl\" id=\"thread_types\"><li class=\"xw1 a\" id=\"ttp_all\"><a href=\"forum-1710-1.html\">全部</a></li><li><a href=\"forum.php?mod=forumdisplay&amp;fid=1710&amp;filter=typeid&amp;typeid=2311\">公告</a></li><li><a href=\"forum.php?mod=forumdisplay&amp;fid=1710&amp;filter=typeid&amp;typeid=2313\">綜合討論</a></li><li><a href=\"forum.php?mod=forumdisplay&amp;fid=1710&amp;filter=typeid&amp;typeid=5421\">職業心得</a></li><li><a href=\"forum.php?mod=forumdisplay&amp;fid=1710&amp;filter=typeid&amp;typeid=5422\">玩家互動</a></li><li><a href=\"forum.php?mod=forumdisplay&amp;fid=1710&amp;filter=typeid&amp;typeid=5424\">實況看台</a></li><li><a href=\"forum.php?mod=forumdisplay&amp;fid=1710&amp;filter=typeid&amp;typeid=5425\">抱怨專區</a></li></ul><script type=\"text/javascript\">showTypes('thread_types');</script><div class=\"tl\" id=\"threadlist\"><div class=\"th\"><table cellpadding=\"0\" cellspacing=\"0\"><tr><th colspan=\"2\"><div class=\"tf\"><span class=\"y\" id=\"atarget\" onclick=\"setatarget(1)\" title=\"在新窗口中打開帖子\">新窗</span>\n",
      "篩選:\n",
      "<a class=\"showmenu xi2\" href=\"javascript:;\" id=\"filter_special\" onclick=\"showMenu(this.id)\">全部主題</a><a class=\"showmenu xi2\" href=\"javascript:;\" id=\"filter_dateline\" onclick=\"showMenu(this.id)\">全部時間</a>\n",
      "排序:\n",
      "<a class=\"showmenu xi2\" href=\"javascript:;\" id=\"filter_orderby\" onclick=\"showMenu(this.id)\">最後發表</a><span class=\"pipe\">|</span><a class=\"xi2\" href=\"forum.php?mod=forumdisplay&amp;fid=1710&amp;filter=digest&amp;digest=1\">精華</a><span class=\"pipe\">|</span><a class=\"xi2\" href=\"forum.php?mod=forumdisplay&amp;fid=1710&amp;filter=recommend&amp;orderby=recommends&amp;recommend=1\">推薦</a></div></th><td class=\"by\"><a class=\"xi2\" href=\"forum.php?mod=forumdisplay&amp;fid=1710&amp;filter=author&amp;orderby=dateline\">發帖時間</a>|<a class=\"xi2\" href=\"forum-1710-1.html\">默認排序</a></td><td class=\"num\"></td><td class=\"by\"><a class=\"unchk\" href=\"forum.php?mod=forumdisplay&amp;fid=1710&amp;page=1&amp;forumdefstyle=yes\" title=\"圖片模式瀏覽帖子\">圖片模式</a></td></tr></table></div><div class=\"bm_c\"><div id=\"forumnew\" style=\"display:none\"></div><form action=\"forum.php?mod=topicadmin&amp;action=moderate&amp;fid=1710&amp;infloat=yes&amp;nopost=yes\" autocomplete=\"off\" id=\"moderate\" method=\"post\" name=\"moderate\"><input name=\"formhash\" type=\"hidden\" value=\"e7cea58f\"/><input name=\"listextra\" type=\"hidden\" value=\"page%3DGU7Y04C7\"/><table cellpadding=\"0\" cellspacing=\"0\" summary=\"forum_1710\"><tbody id=\"stickthread_12001964\"><tr><td class=\"icn\"><a href=\"thread-12001964-1-GU7Y04C7.html\" target=\"_blank\" title=\"全局置頂主題 - 關閉的主題 - 新窗口打開\"><img src=\"static/image/common/folder_lock.gif\"/></a></td><td class=\"p_pre_td\"> </td><th class=\"lock\"> <a class=\"xst\" href=\"thread-12001964-1-GU7Y04C7.html\" onclick=\"atarget(this)\" style=\"font-weight: bold;color: #EE1B2E\">無法登入的用戶請看一下，密碼太簡單也來看一下</a></th><td class=\"by\"><cite><a c=\"1\" href=\"space-uid-5.html\">天晴</a></cite><em><span>2018-11-26</span></em></td><td class=\"num\"><a class=\"xi2\" href=\"thread-12001964-1-GU7Y04C7.html\">0</a><em>570168</em></td><td class=\"by\"><cite><a c=\"1\" href=\"space-username-%E5%A4%A9%E6%99%B4.html\">天晴</a></cite><em><a href=\"forum.php?mod=redirect&amp;tid=12001964&amp;goto=lastpost#lastpost\">2018-11-26 04:37 PM</a></em></td></tr></tbody><tbody id=\"stickthread_224266\"><tr onmouseout=\"document.getElementById('pic_224266').style.display='none'\" onmouseover=\"document.getElementById('pic_224266').style.display='block'\"><td class=\"icn\"><a href=\"thread-224266-1-GU7Y04C7.html\" target=\"_blank\" title=\"全局置頂主題 - 關閉的主題 - 新窗口打開\"><img src=\"static/image/common/folder_lock.gif\"/></a></td><td class=\"p_pre_td\"><div style=\"position:relative\"><img alt=\"尊貴會員計劃 - 無限觀看圖片、附件和下載(5P)\" class=\"p_pre_none\" id=\"pic_224266\" src=\"https://a432.file-static.com:8000/data/attachment/./forum/picture/1301/224266.jpg\"/></div><p><img class=\"p_pre\" src=\"https://a432.file-static.com:8000/data/attachment/./forum/picture/1301/224266.jpg\"/></p></td><th class=\"lock\"> <a class=\"xst\" href=\"forum.php?mod=viewthread&amp;tid=224266&amp;extra=page%3DGU7Y04C7&amp;ad=4\" onclick=\"atarget(this)\" style=\"font-weight: bold;color: #2B65B7\">尊貴會員計劃 - 無限觀看圖片、附件和下載(5P)</a><img align=\"absmiddle\" alt=\"attach_img\" src=\"static/image/filetype/image_s.gif\" title=\"圖片附件\"/></th><td class=\"by\"><cite><a c=\"1\" href=\"space-uid-5.html\">天晴</a></cite><em><span>2013-1-1</span></em></td><td class=\"num\"><a class=\"xi2\" href=\"thread-224266-1-GU7Y04C7.html\">0</a><em>65</em></td><td class=\"by\"><cite><a c=\"1\" href=\"space-username-%E5%A4%A9%E6%99%B4.html\">天晴</a></cite><em><a href=\"forum.php?mod=redirect&amp;tid=224266&amp;goto=lastpost#lastpost\">2017-1-18 06:07 PM</a></em></td></tr></tbody><tbody id=\"stickthread_262777\"><tr><td class=\"icn\"><a href=\"thread-262777-1-GU7Y04C7.html\" target=\"_blank\" title=\"全局置頂主題 - 關閉的主題 - 新窗口打開\"><img src=\"static/image/common/folder_lock.gif\"/></a></td><td class=\"p_pre_td\"> </td><th class=\"lock\"> <a class=\"xst\" href=\"thread-262777-1-GU7Y04C7.html\" onclick=\"atarget(this)\" style=\"font-weight: bold;color: #2B65B7\">伊莉總版規</a><img align=\"absmiddle\" alt=\"attach_img\" src=\"static/image/filetype/image_s.gif\" title=\"圖片附件\"/></th><td class=\"by\"><cite><a c=\"1\" href=\"space-uid-5.html\">天晴</a></cite><em><span>2011-1-1</span></em></td><td class=\"num\"><a class=\"xi2\" href=\"thread-262777-1-GU7Y04C7.html\">0</a><em>2235236</em></td><td class=\"by\"><cite><a c=\"1\" href=\"space-username-%E5%A4%A9%E6%99%B4.html\">天晴</a></cite><em><a href=\"forum.php?mod=redirect&amp;tid=262777&amp;goto=lastpost#lastpost\">2011-1-1 08:00 AM</a></em></td></tr></tbody><tbody id=\"stickthread_9627141\"><tr onmouseout=\"document.getElementById('pic_9627141').style.display='none'\" onmouseover=\"document.getElementById('pic_9627141').style.display='block'\"><td class=\"icn\"><a href=\"thread-9627141-1-GU7Y04C7.html\" target=\"_blank\" title=\"分類置頂主題 - 關閉的主題 - 新窗口打開\"><img src=\"static/image/common/folder_lock.gif\"/></a></td><td class=\"p_pre_td\"><div style=\"position:relative\"><img alt=\"《新區域版規》基本十條盟約~(1P)\" class=\"p_pre_none\" id=\"pic_9627141\" src=\"https://a438.file-static.com:8000/data/attachment/./forum/picture/1405/9627141.jpg\"/></div><p><img class=\"p_pre\" src=\"https://a438.file-static.com:8000/data/attachment/./forum/picture/1405/9627141.jpg\"/></p></td><th class=\"lock\"> <a class=\"xst\" href=\"thread-9627141-1-GU7Y04C7.html\" onclick=\"atarget(this)\" style=\"font-weight: bold;color: #EC1282\">《新區域版規》基本十條盟約~(1P)</a><img align=\"absmiddle\" alt=\"attach_img\" src=\"static/image/filetype/image_s.gif\" title=\"圖片附件\"/><span class=\"tps\"> ...<a href=\"thread-9627141-2-GU7Y04C7.html\">2</a><a href=\"thread-9627141-3-GU7Y04C7.html\">3</a><a href=\"thread-9627141-4-GU7Y04C7.html\">4</a><a href=\"thread-9627141-5-GU7Y04C7.html\">5</a><a href=\"thread-9627141-6-GU7Y04C7.html\">6</a>..<a href=\"thread-9627141-33-GU7Y04C7.html\">33</a></span></th><td class=\"by\"><cite><a c=\"1\" href=\"space-uid-3795294.html\">bsexpb054</a></cite><em><span>2014-5-26</span></em></td><td class=\"num\"><a class=\"xi2\" href=\"thread-9627141-1-GU7Y04C7.html\">481</a><em>1402705</em></td><td class=\"by\"><cite><a c=\"1\" href=\"space-username-lopxzx.html\">lopxzx</a></cite><em><a href=\"forum.php?mod=redirect&amp;tid=9627141&amp;goto=lastpost#lastpost\">2017-8-26 04:24 PM</a></em></td></tr></tbody><tbody id=\"stickthread_7797381\"><tr><td class=\"icn\"><a href=\"thread-7797381-1-GU7Y04C7.html\" target=\"_blank\" title=\"分類置頂主題 - 新窗口打開\"><img alt=\"本區置頂\" src=\"static/image/common/pin_2.gif\"/></a></td><td class=\"p_pre_td\"> </td><th class=\"common\"> <a class=\"xst\" href=\"thread-7797381-1-GU7Y04C7.html\" onclick=\"atarget(this)\" style=\"font-weight: bold;color: #8F2A90\">《網路遊戲》區域信箱  檢舉連接</a><span class=\"tps\"> ...<a href=\"thread-7797381-2-GU7Y04C7.html\">2</a><a href=\"thread-7797381-3-GU7Y04C7.html\">3</a></span></th><td class=\"by\"><cite><a c=\"1\" href=\"space-uid-3795294.html\">bsexpb054</a></cite><em><span>2012-6-3</span></em></td><td class=\"num\"><a class=\"xi2\" href=\"thread-7797381-1-GU7Y04C7.html\">34</a><em>403402</em></td><td class=\"by\"><cite><a c=\"1\" href=\"space-username-%E8%B1%AC%E4%B8%83%E6%88%92.html\">豬七戒</a></cite><em><a href=\"forum.php?mod=redirect&amp;tid=7797381&amp;goto=lastpost#lastpost\">2015-12-21 09:28 PM</a></em></td></tr></tbody><tbody id=\"stickthread_7985953\"><tr><td class=\"icn\"><a href=\"thread-7985953-1-GU7Y04C7.html\" target=\"_blank\" title=\"本版置頂主題 - 新窗口打開\"><img alt=\"本版置頂\" src=\"static/image/common/pin_1.gif\"/></a></td><td class=\"p_pre_td\"> </td><th class=\"common\"><em>[<a href=\"forum.php?mod=forumdisplay&amp;fid=1710&amp;filter=typeid&amp;typeid=2311\">公告</a>]</em> <a class=\"xst\" href=\"thread-7985953-1-GU7Y04C7.html\" onclick=\"atarget(this)\" style=\"font-weight: bold;color: #8F2A90\">【暗黑破壞神3 事務所】受理檢舉、投訴、建議、諮詢、等相關申請</a><img align=\"absmiddle\" alt=\"attachment\" src=\"static/image/filetype/common.gif\" title=\"附件\"/><span class=\"tps\"> ...<a href=\"thread-7985953-2-GU7Y04C7.html\">2</a><a href=\"thread-7985953-3-GU7Y04C7.html\">3</a><a href=\"thread-7985953-4-GU7Y04C7.html\">4</a><a href=\"thread-7985953-5-GU7Y04C7.html\">5</a><a href=\"thread-7985953-6-GU7Y04C7.html\">6</a>..<a href=\"thread-7985953-26-GU7Y04C7.html\">26</a></span></th><td class=\"by\"><cite><a c=\"1\" href=\"space-uid-11086184.html\">【JohnLibra】.</a></cite><em><span>2012-8-3</span></em></td><td class=\"num\"><a class=\"xi2\" href=\"thread-7985953-1-GU7Y04C7.html\">381</a><em>355421</em></td><td class=\"by\"><cite><a c=\"1\" href=\"space-username-phone88616923.html\">phone88616923</a></cite><em><a href=\"forum.php?mod=redirect&amp;tid=7985953&amp;goto=lastpost#lastpost\">2019-1-19 04:34 PM</a></em></td></tr></tbody><tbody id=\"stickthread_9731560\"><tr onmouseout=\"document.getElementById('pic_9731560').style.display='none'\" onmouseover=\"document.getElementById('pic_9731560').style.display='block'\"><td class=\"icn\"><a href=\"thread-9731560-1-GU7Y04C7.html\" target=\"_blank\" title=\"本版置頂主題 - 關閉的主題 - 新窗口打開\"><img src=\"static/image/common/folder_lock.gif\"/></a></td><td class=\"p_pre_td\"><div style=\"position:relative\"><img alt=\"【暗黑破壞神3：奪魂之鐮】《沒有人能阻止死亡》心得報告(每日活動)(1P)\" class=\"p_pre_none\" id=\"pic_9731560\" src=\"https://a435.file-static.com:8000/data/attachment/./forum/picture/1407/9731560.jpg\"/></div><p><img class=\"p_pre\" src=\"https://a435.file-static.com:8000/data/attachment/./forum/picture/1407/9731560.jpg\"/></p></td><th class=\"lock\"><em>[<a href=\"forum.php?mod=forumdisplay&amp;fid=1710&amp;filter=typeid&amp;typeid=2311\">公告</a>]</em> <a class=\"xst\" href=\"thread-9731560-1-GU7Y04C7.html\" onclick=\"atarget(this)\" style=\"font-weight: bold;color: #EE5023\">【暗黑破壞神3：奪魂之鐮】《沒有人能阻止死亡》心得報告(每日活動)(1P)</a><img align=\"absmiddle\" alt=\"attachment\" src=\"static/image/filetype/common.gif\" title=\"附件\"/><span class=\"tps\"> ...<a href=\"thread-9731560-2-GU7Y04C7.html\">2</a><a href=\"thread-9731560-3-GU7Y04C7.html\">3</a><a href=\"thread-9731560-4-GU7Y04C7.html\">4</a><a href=\"thread-9731560-5-GU7Y04C7.html\">5</a><a href=\"thread-9731560-6-GU7Y04C7.html\">6</a>..<a href=\"thread-9731560-11-GU7Y04C7.html\">11</a></span></th><td class=\"by\"><cite><a c=\"1\" href=\"space-uid-11086184.html\">【JohnLibra】.</a></cite><em><span>2014-7-13</span></em></td><td class=\"num\"><a class=\"xi2\" href=\"thread-9731560-1-GU7Y04C7.html\">159</a><em>185459</em></td><td class=\"by\"><cite><a c=\"1\" href=\"space-username-ben249.html\">ben249</a></cite><em><a href=\"forum.php?mod=redirect&amp;tid=9731560&amp;goto=lastpost#lastpost\">2014-12-9 09:10 PM</a></em></td></tr></tbody><tbody id=\"stickthread_7985949\"><tr><td class=\"icn\"><a href=\"thread-7985949-1-GU7Y04C7.html\" target=\"_blank\" title=\"本版置頂主題 - 新窗口打開\"><img alt=\"本版置頂\" src=\"static/image/common/pin_1.gif\"/></a></td><td class=\"p_pre_td\"> </td><th class=\"common\"><em>[<a href=\"forum.php?mod=forumdisplay&amp;fid=1710&amp;filter=typeid&amp;typeid=2311\">公告</a>]</em> <a class=\"xst\" href=\"thread-7985949-1-GU7Y04C7.html\" onclick=\"atarget(this)\" style=\"font-weight: bold;color: #996600\">【暗黑破壞神3 版務帖】 版主、區版、超版討論區</a> - [閱讀權限 <span class=\"xw1\">150</span>]</th><td class=\"by\"><cite><a c=\"1\" href=\"space-uid-11086184.html\">【JohnLibra】.</a></cite><em><span>2012-8-3</span></em></td><td class=\"num\"><a class=\"xi2\" href=\"thread-7985949-1-GU7Y04C7.html\">7</a><em>230</em></td><td class=\"by\"><cite><a c=\"1\" href=\"space-username-%E3%80%90JohnLibra%E3%80%91..html\">【JohnLibra】.</a></cite><em><a href=\"forum.php?mod=redirect&amp;tid=7985949&amp;goto=lastpost#lastpost\">2014-7-13 11:11 PM</a></em></td></tr></tbody><tbody id=\"stickthread_7985778\"><tr><td class=\"icn\"><a href=\"thread-7985778-1-GU7Y04C7.html\" target=\"_blank\" title=\"本版置頂主題 - 關閉的主題 - 新窗口打開\"><img src=\"static/image/common/folder_lock.gif\"/></a></td><td class=\"p_pre_td\"> </td><th class=\"lock\"><em>[<a href=\"forum.php?mod=forumdisplay&amp;fid=1710&amp;filter=typeid&amp;typeid=2311\">公告</a>]</em> <a class=\"xst\" href=\"thread-7985778-1-GU7Y04C7.html\" onclick=\"atarget(this)\" style=\"font-weight: bold;color: #EE1B2E\">【伊莉討論區-暗黑破壞神3】 【版規公告】</a></th><td class=\"by\"><cite><a c=\"1\" href=\"space-uid-11086184.html\">【JohnLibra】.</a></cite><em><span>2012-8-2</span></em></td><td class=\"num\"><a class=\"xi2\" href=\"thread-7985778-1-GU7Y04C7.html\">1</a><em>40450</em></td><td class=\"by\"><cite><a c=\"1\" href=\"space-username-%E3%80%90JohnLibra%E3%80%91..html\">【JohnLibra】.</a></cite><em><a href=\"forum.php?mod=redirect&amp;tid=7985778&amp;goto=lastpost#lastpost\">2010-8-6 10:21 AM</a></em></td></tr></tbody><tbody id=\"separatorline\"><tr class=\"ts\"><td> </td><td class=\"p_pre_td\"> </td><th> </th><td> </td><td> </td><td> </td></tr></tbody><tbody id=\"normalthread_12229111\"><tr><td class=\"icn\"><a href=\"thread-12229111-1-GU7Y04C7.html\" target=\"_blank\" title=\"有新回復 - 新窗口打開\"><img src=\"static/image/common/folder_new.gif\"/></a></td><td class=\"p_pre_td\"> </td><th class=\"new\"><em>[<a href=\"forum.php?mod=forumdisplay&amp;fid=1710&amp;filter=typeid&amp;typeid=5422\">玩家互動</a>]</em> <a class=\"xst\" href=\"thread-12229111-1-GU7Y04C7.html\" onclick=\"atarget(this)\">請問有人可以帶我刷嗎</a></th><td class=\"by\"><cite><a c=\"1\" href=\"space-uid-16264618.html\">qwe_789963</a></cite><em><span>2019-6-11</span></em></td><td class=\"num\"><a class=\"xi2\" href=\"thread-12229111-1-GU7Y04C7.html\">9</a><em>1788</em></td><td class=\"by\"><cite><a c=\"1\" href=\"space-username-pigworker666.html\">pigworker666</a></cite><em><a href=\"forum.php?mod=redirect&amp;tid=12229111&amp;goto=lastpost#lastpost\"><span title=\"2019-8-8 03:49 PM\">23 分鐘前</span></a></em></td></tr></tbody><tbody id=\"normalthread_12290829\"><tr><td class=\"icn\"><a href=\"thread-12290829-1-GU7Y04C7.html\" target=\"_blank\" title=\"有新回復 - 新窗口打開\"><img src=\"static/image/common/folder_new.gif\"/></a></td><td class=\"p_pre_td\"> </td><th class=\"new\"><em>[<a href=\"forum.php?mod=forumdisplay&amp;fid=1710&amp;filter=typeid&amp;typeid=2313\">綜合討論</a>]</em> <a class=\"xst\" href=\"thread-12290829-1-GU7Y04C7.html\" onclick=\"atarget(this)\">賽季18會不少傳奇會增加特效, 大家要回鍋嗎?</a><a class=\"xi1\" href=\"forum.php?mod=redirect&amp;tid=12290829&amp;goto=lastpost#lastpost\">New</a></th><td class=\"by\"><cite><a c=\"1\" href=\"space-uid-7554226.html\">atpx2</a></cite><em><span>2019-8-3</span></em></td><td class=\"num\"><a class=\"xi2\" href=\"thread-12290829-1-GU7Y04C7.html\">13</a><em>574</em></td><td class=\"by\"><cite><a c=\"1\" href=\"space-username-zuenchung.html\">zuenchung</a></cite><em><a href=\"forum.php?mod=redirect&amp;tid=12290829&amp;goto=lastpost#lastpost\"><span title=\"2019-8-7 08:56 PM\">昨天 08:56 PM</span></a></em></td></tr></tbody><tbody id=\"normalthread_10935020\"><tr onmouseout=\"document.getElementById('pic_10935020').style.display='none'\" onmouseover=\"document.getElementById('pic_10935020').style.display='block'\"><td class=\"icn\"><a href=\"thread-10935020-1-GU7Y04C7.html\" target=\"_blank\" title=\"有新回復 - 新窗口打開\"><img src=\"static/image/common/folder_new.gif\"/></a></td><td class=\"p_pre_td\"><div style=\"position:relative\"><img alt=\"這不是母牛關(6P)\" class=\"p_pre_none\" id=\"pic_10935020\" src=\"https://a438.file-static.com:8000/data/attachment/./forum/picture/1606/10935020.jpg\"/></div><p><img class=\"p_pre\" src=\"https://a438.file-static.com:8000/data/attachment/./forum/picture/1606/10935020.jpg\"/></p></td><th class=\"new\"><em>[<a href=\"forum.php?mod=forumdisplay&amp;fid=1710&amp;filter=typeid&amp;typeid=2313\">綜合討論</a>]</em> <a class=\"xst\" href=\"thread-10935020-1-GU7Y04C7.html\" onclick=\"atarget(this)\">這不是母牛關(6P)</a><img align=\"absmiddle\" alt=\"attach_img\" src=\"static/image/filetype/image_s.gif\" title=\"圖片附件\"/><span class=\"tps\"> ...<a href=\"thread-10935020-2-GU7Y04C7.html\">2</a><a href=\"thread-10935020-3-GU7Y04C7.html\">3</a><a href=\"thread-10935020-4-GU7Y04C7.html\">4</a></span></th><td class=\"by\"><cite><a c=\"1\" href=\"space-uid-5540392.html\">NANABOBO2003</a></cite><em><span>2016-6-5</span></em></td><td class=\"num\"><a class=\"xi2\" href=\"thread-10935020-1-GU7Y04C7.html\">50</a><em>11878</em></td><td class=\"by\"><cite><a c=\"1\" href=\"space-username-fantasiab345.html\">fantasiab345</a></cite><em><a href=\"forum.php?mod=redirect&amp;tid=10935020&amp;goto=lastpost#lastpost\"><span title=\"2019-8-6 11:45 PM\">前天 11:45 PM</span></a></em></td></tr></tbody><tbody id=\"normalthread_12107637\"><tr><td class=\"icn\"><a href=\"thread-12107637-1-GU7Y04C7.html\" target=\"_blank\" title=\"有新回復 - 新窗口打開\"><img src=\"static/image/common/folder_new.gif\"/></a></td><td class=\"p_pre_td\"> </td><th class=\"new\"><em>[<a href=\"forum.php?mod=forumdisplay&amp;fid=1710&amp;filter=typeid&amp;typeid=2313\">綜合討論</a>]</em> <a class=\"xst\" href=\"thread-12107637-1-GU7Y04C7.html\" onclick=\"atarget(this)\">網易於電話財報中透露《暗黑破壞神 永生不朽》就開發層面來說已準備就緒</a></th><td class=\"by\"><cite><a c=\"1\" href=\"space-uid-3072188.html\">milhouse1112</a></cite><em><span>2019-3-2</span></em></td><td class=\"num\"><a class=\"xi2\" href=\"thread-12107637-1-GU7Y04C7.html\">7</a><em>1431</em></td><td class=\"by\"><cite><a c=\"1\" href=\"space-username-yunyumei.html\">yunyumei</a></cite><em><a href=\"forum.php?mod=redirect&amp;tid=12107637&amp;goto=lastpost#lastpost\"><span title=\"2019-8-6 10:58 PM\">前天 10:58 PM</span></a></em></td></tr></tbody><tbody id=\"normalthread_12133697\"><tr><td class=\"icn\"><a href=\"thread-12133697-1-GU7Y04C7.html\" target=\"_blank\" title=\"有新回復 - 新窗口打開\"><img src=\"static/image/common/folder_new.gif\"/></a></td><td class=\"p_pre_td\"> </td><th class=\"new\"><em>[<a href=\"forum.php?mod=forumdisplay&amp;fid=1710&amp;filter=typeid&amp;typeid=2313\">綜合討論</a>]</em> <a class=\"xst\" href=\"thread-12133697-1-GU7Y04C7.html\" onclick=\"atarget(this)\">請問D3跟POE差在哪呢</a><img align=\"absmiddle\" alt=\"attach_img\" src=\"static/image/filetype/image_s.gif\" title=\"圖片附件\"/></th><td class=\"by\"><cite><a c=\"1\" href=\"space-uid-16468579.html\">edward0606a</a></cite><em><span>2019-3-24</span></em></td><td class=\"num\"><a class=\"xi2\" href=\"thread-12133697-1-GU7Y04C7.html\">6</a><em>2323</em></td><td class=\"by\"><cite><a c=\"1\" href=\"space-username-yunyumei.html\">yunyumei</a></cite><em><a href=\"forum.php?mod=redirect&amp;tid=12133697&amp;goto=lastpost#lastpost\"><span title=\"2019-8-6 10:56 PM\">前天 10:56 PM</span></a></em></td></tr></tbody><tbody id=\"normalthread_12174843\"><tr><td class=\"icn\"><a href=\"thread-12174843-1-GU7Y04C7.html\" target=\"_blank\" title=\"有新回復 - 新窗口打開\"><img src=\"static/image/common/folder_new.gif\"/></a></td><td class=\"p_pre_td\"> </td><th class=\"new\"><em>[<a href=\"forum.php?mod=forumdisplay&amp;fid=1710&amp;filter=typeid&amp;typeid=2313\">綜合討論</a>]</em> <a class=\"xst\" href=\"thread-12174843-1-GU7Y04C7.html\" onclick=\"atarget(this)\">請問衛哨的距離能打多遠??</a><img align=\"absmiddle\" alt=\"attach_img\" src=\"static/image/filetype/image_s.gif\" title=\"圖片附件\"/></th><td class=\"by\"><cite><a c=\"1\" href=\"space-uid-18023858.html\">xxguavaxx</a></cite><em><span>2019-4-27</span></em></td><td class=\"num\"><a class=\"xi2\" href=\"thread-12174843-1-GU7Y04C7.html\">5</a><em>1535</em></td><td class=\"by\"><cite><a c=\"1\" href=\"space-username-yunyumei.html\">yunyumei</a></cite><em><a href=\"forum.php?mod=redirect&amp;tid=12174843&amp;goto=lastpost#lastpost\"><span title=\"2019-8-6 10:55 PM\">前天 10:55 PM</span></a></em></td></tr></tbody><tbody id=\"normalthread_12159596\"><tr onmouseout=\"document.getElementById('pic_12159596').style.display='none'\" onmouseover=\"document.getElementById('pic_12159596').style.display='block'\"><td class=\"icn\"><a href=\"thread-12159596-1-GU7Y04C7.html\" target=\"_blank\" title=\"有新回復 - 新窗口打開\"><img src=\"static/image/common/folder_new.gif\"/></a></td><td class=\"p_pre_td\"><div style=\"position:relative\"><img alt=\"這個改動我覺得蠻好的~拍得不清楚請見諒~(1P)\" class=\"p_pre_none\" id=\"pic_12159596\" src=\"https://a437.file-static.com:8000/data/attachment/./forum/picture/1904/12159596.jpg\"/></div><p><img class=\"p_pre\" src=\"https://a437.file-static.com:8000/data/attachment/./forum/picture/1904/12159596.jpg\"/></p></td><th class=\"new\"><em>[<a href=\"forum.php?mod=forumdisplay&amp;fid=1710&amp;filter=typeid&amp;typeid=5422\">玩家互動</a>]</em> <a class=\"xst\" href=\"thread-12159596-1-GU7Y04C7.html\" onclick=\"atarget(this)\">這個改動我覺得蠻好的~拍得不清楚請見諒~(1P)</a><img align=\"absmiddle\" alt=\"attach_img\" src=\"static/image/filetype/image_s.gif\" title=\"圖片附件\"/><span class=\"tps\"> ...<a href=\"thread-12159596-2-GU7Y04C7.html\">2</a></span></th><td class=\"by\"><cite><a c=\"1\" href=\"space-uid-14038616.html\">a751106</a></cite><em><span>2019-4-14</span></em></td><td class=\"num\"><a class=\"xi2\" href=\"thread-12159596-1-GU7Y04C7.html\">21</a><em>2584</em></td><td class=\"by\"><cite><a c=\"1\" href=\"space-username-yunyumei.html\">yunyumei</a></cite><em><a href=\"forum.php?mod=redirect&amp;tid=12159596&amp;goto=lastpost#lastpost\"><span title=\"2019-8-6 10:54 PM\">前天 10:54 PM</span></a></em></td></tr></tbody><tbody id=\"normalthread_9317174\"><tr onmouseout=\"document.getElementById('pic_9317174').style.display='none'\" onmouseover=\"document.getElementById('pic_9317174').style.display='block'\"><td class=\"icn\"><a href=\"thread-9317174-1-GU7Y04C7.html\" target=\"_blank\" title=\"有新回復 - 新窗口打開\"><img src=\"static/image/common/folder_new.gif\"/></a></td><td class=\"p_pre_td\"><div style=\"position:relative\"><img alt=\"我竟然打到了SOJ!!!!(1P)\" class=\"p_pre_none\" id=\"pic_9317174\" src=\"https://a435.file-static.com:8000/data/attachment/./forum/picture/1401/9317174.jpg\"/></div><p><img class=\"p_pre\" src=\"https://a435.file-static.com:8000/data/attachment/./forum/picture/1401/9317174.jpg\"/></p></td><th class=\"new\"><em>[<a href=\"forum.php?mod=forumdisplay&amp;fid=1710&amp;filter=typeid&amp;typeid=2313\">綜合討論</a>]</em> <a class=\"xst\" href=\"thread-9317174-1-GU7Y04C7.html\" onclick=\"atarget(this)\">我竟然打到了SOJ!!!!(1P)</a><img align=\"absmiddle\" alt=\"attach_img\" src=\"static/image/filetype/image_s.gif\" title=\"圖片附件\"/><img align=\"absmiddle\" alt=\"heatlevel\" src=\"static/image/common/hot_1.gif\" title=\"1 級熱門\"/><span class=\"tps\"> ...<a href=\"thread-9317174-2-GU7Y04C7.html\">2</a><a href=\"thread-9317174-3-GU7Y04C7.html\">3</a><a href=\"thread-9317174-4-GU7Y04C7.html\">4</a><a href=\"thread-9317174-5-GU7Y04C7.html\">5</a><a href=\"thread-9317174-6-GU7Y04C7.html\">6</a>..<a href=\"thread-9317174-11-GU7Y04C7.html\">11</a></span></th><td class=\"by\"><cite><a c=\"1\" href=\"space-uid-12054887.html\">lishengchang</a></cite><em><span>2014-1-5</span></em></td><td class=\"num\"><a class=\"xi2\" href=\"thread-9317174-1-GU7Y04C7.html\">159</a><em>15871</em></td><td class=\"by\"><cite><a c=\"1\" href=\"space-username-vincent0459.html\">vincent0459</a></cite><em><a href=\"forum.php?mod=redirect&amp;tid=9317174&amp;goto=lastpost#lastpost\"><span title=\"2019-8-6 01:30 PM\">前天 01:30 PM</span></a></em></td></tr></tbody><tbody id=\"normalthread_12211530\"><tr><td class=\"icn\"><a href=\"thread-12211530-1-GU7Y04C7.html\" target=\"_blank\" title=\"有新回復 - 新窗口打開\"><img src=\"static/image/common/folder_new.gif\"/></a></td><td class=\"p_pre_td\"> </td><th class=\"new\"><em>[<a href=\"forum.php?mod=forumdisplay&amp;fid=1710&amp;filter=typeid&amp;typeid=2313\">綜合討論</a>]</em> <a class=\"xst\" href=\"thread-12211530-1-GU7Y04C7.html\" onclick=\"atarget(this)\">s17賽季一問</a></th><td class=\"by\"><cite><a c=\"1\" href=\"space-uid-16491952.html\">kazuk258</a></cite><em><span>2019-5-28</span></em></td><td class=\"num\"><a class=\"xi2\" href=\"thread-12211530-1-GU7Y04C7.html\">4</a><em>1466</em></td><td class=\"by\"><cite><a c=\"1\" href=\"space-username-jamez327.html\">jamez327</a></cite><em><a href=\"forum.php?mod=redirect&amp;tid=12211530&amp;goto=lastpost#lastpost\"><span title=\"2019-8-6 01:08 PM\">前天 01:08 PM</span></a></em></td></tr></tbody><tbody id=\"normalthread_11129650\"><tr onmouseout=\"document.getElementById('pic_11129650').style.display='none'\" onmouseover=\"document.getElementById('pic_11129650').style.display='block'\"><td class=\"icn\"><a href=\"thread-11129650-1-GU7Y04C7.html\" target=\"_blank\" title=\"有新回復 - 新窗口打開\"><img src=\"static/image/common/folder_new.gif\"/></a></td><td class=\"p_pre_td\"><div style=\"position:relative\"><img alt=\"死靈法師技能試玩效果動畫分享(5P)\" class=\"p_pre_none\" id=\"pic_11129650\" src=\"https://a440.file-static.com:8000/data/attachment/./forum/picture/1611/11129650.jpg\"/></div><p><img class=\"p_pre\" src=\"https://a440.file-static.com:8000/data/attachment/./forum/picture/1611/11129650.jpg\"/></p></td><th class=\"new\"><em>[<a href=\"forum.php?mod=forumdisplay&amp;fid=1710&amp;filter=typeid&amp;typeid=2313\">綜合討論</a>]</em> <a class=\"xst\" href=\"thread-11129650-1-GU7Y04C7.html\" onclick=\"atarget(this)\">死靈法師技能試玩效果動畫分享(5P)</a><img align=\"absmiddle\" alt=\"heatlevel\" src=\"static/image/common/hot_1.gif\" title=\"1 級熱門\"/><span class=\"tps\"> ...<a href=\"thread-11129650-2-GU7Y04C7.html\">2</a><a href=\"thread-11129650-3-GU7Y04C7.html\">3</a><a href=\"thread-11129650-4-GU7Y04C7.html\">4</a><a href=\"thread-11129650-5-GU7Y04C7.html\">5</a><a href=\"thread-11129650-6-GU7Y04C7.html\">6</a>..<a href=\"thread-11129650-23-GU7Y04C7.html\">23</a></span></th><td class=\"by\"><cite><a c=\"1\" href=\"space-uid-7786419.html\">skywing13</a></cite><em><span>2016-11-6</span></em></td><td class=\"num\"><a class=\"xi2\" href=\"thread-11129650-1-GU7Y04C7.html\">340</a><em>38995</em></td><td class=\"by\"><cite><a c=\"1\" href=\"space-username-vincent0459.html\">vincent0459</a></cite><em><a href=\"forum.php?mod=redirect&amp;tid=11129650&amp;goto=lastpost#lastpost\"><span title=\"2019-8-6 01:13 AM\">前天 01:13 AM</span></a></em></td></tr></tbody><tbody id=\"normalthread_12209101\"><tr><td class=\"icn\"><a href=\"thread-12209101-1-GU7Y04C7.html\" target=\"_blank\" title=\"有新回復 - 新窗口打開\"><img src=\"static/image/common/folder_new.gif\"/></a></td><td class=\"p_pre_td\"> </td><th class=\"new\"><em>[<a href=\"forum.php?mod=forumdisplay&amp;fid=1710&amp;filter=typeid&amp;typeid=2313\">綜合討論</a>]</em> <a class=\"xst\" href=\"thread-12209101-1-GU7Y04C7.html\" onclick=\"atarget(this)\">暗黑3-賽季輪迴刷裝</a><span class=\"tps\"> ...<a href=\"thread-12209101-2-GU7Y04C7.html\">2</a></span></th><td class=\"by\"><cite><a c=\"1\" href=\"space-uid-6909618.html\">bmy08577661</a></cite><em><span>2019-5-26</span></em></td><td class=\"num\"><a class=\"xi2\" href=\"thread-12209101-1-GU7Y04C7.html\">15</a><em>2058</em></td><td class=\"by\"><cite><a c=\"1\" href=\"space-username-yunyumei.html\">yunyumei</a></cite><em><a href=\"forum.php?mod=redirect&amp;tid=12209101&amp;goto=lastpost#lastpost\"><span title=\"2019-8-5 11:33 PM\">3 天前</span></a></em></td></tr></tbody><tbody id=\"normalthread_12213801\"><tr><td class=\"icn\"><a href=\"thread-12213801-1-GU7Y04C7.html\" target=\"_blank\" title=\"有新回復 - 新窗口打開\"><img src=\"static/image/common/folder_new.gif\"/></a></td><td class=\"p_pre_td\"> </td><th class=\"new\"><em>[<a href=\"forum.php?mod=forumdisplay&amp;fid=1710&amp;filter=typeid&amp;typeid=2313\">綜合討論</a>]</em> <a class=\"xst\" href=\"thread-12213801-1-GU7Y04C7.html\" onclick=\"atarget(this)\">在專家模式拓荒 用哪一個職業最難起家啊?</a></th><td class=\"by\"><cite><a c=\"1\" href=\"space-uid-3026863.html\">andy0048</a></cite><em><span>2019-5-29</span></em></td><td class=\"num\"><a class=\"xi2\" href=\"thread-12213801-1-GU7Y04C7.html\">5</a><em>1950</em></td><td class=\"by\"><cite><a c=\"1\" href=\"space-username-yunyumei.html\">yunyumei</a></cite><em><a href=\"forum.php?mod=redirect&amp;tid=12213801&amp;goto=lastpost#lastpost\"><span title=\"2019-8-5 10:42 PM\">3 天前</span></a></em></td></tr></tbody><tbody id=\"normalthread_12213830\"><tr><td class=\"icn\"><a href=\"thread-12213830-1-GU7Y04C7.html\" target=\"_blank\" title=\"有新回復 - 新窗口打開\"><img src=\"static/image/common/folder_new.gif\"/></a></td><td class=\"p_pre_td\"> </td><th class=\"new\"><em>[<a href=\"forum.php?mod=forumdisplay&amp;fid=1710&amp;filter=typeid&amp;typeid=2313\">綜合討論</a>]</em> <a class=\"xst\" href=\"thread-12213830-1-GU7Y04C7.html\" onclick=\"atarget(this)\">為什麼當年推出洪荒裝備的時候 玩家會反對洪荒屬性比遠古多30%?</a></th><td class=\"by\"><cite><a c=\"1\" href=\"space-uid-3026863.html\">andy0048</a></cite><em><span>2019-5-29</span></em></td><td class=\"num\"><a class=\"xi2\" href=\"thread-12213830-1-GU7Y04C7.html\">14</a><em>2331</em></td><td class=\"by\"><cite><a c=\"1\" href=\"space-username-yunyumei.html\">yunyumei</a></cite><em><a href=\"forum.php?mod=redirect&amp;tid=12213830&amp;goto=lastpost#lastpost\"><span title=\"2019-8-5 10:41 PM\">3 天前</span></a></em></td></tr></tbody><tbody id=\"normalthread_12229666\"><tr><td class=\"icn\"><a href=\"thread-12229666-1-GU7Y04C7.html\" target=\"_blank\" title=\"有新回復 - 新窗口打開\"><img src=\"static/image/common/folder_new.gif\"/></a></td><td class=\"p_pre_td\"> </td><th class=\"new\"><em>[<a href=\"forum.php?mod=forumdisplay&amp;fid=1710&amp;filter=typeid&amp;typeid=2313\">綜合討論</a>]</em> <a class=\"xst\" href=\"thread-12229666-1-GU7Y04C7.html\" onclick=\"atarget(this)\">讓遊戲更好玩的方式</a><span class=\"tps\"> ...<a href=\"thread-12229666-2-GU7Y04C7.html\">2</a></span></th><td class=\"by\"><cite><a c=\"1\" href=\"space-uid-18154389.html\">herbert111</a></cite><em><span>2019-6-11</span></em></td><td class=\"num\"><a class=\"xi2\" href=\"thread-12229666-1-GU7Y04C7.html\">19</a><em>3211</em></td><td class=\"by\"><cite><a c=\"1\" href=\"space-username-yunyumei.html\">yunyumei</a></cite><em><a href=\"forum.php?mod=redirect&amp;tid=12229666&amp;goto=lastpost#lastpost\"><span title=\"2019-8-5 09:25 PM\">3 天前</span></a></em></td></tr></tbody><tbody id=\"normalthread_12255492\"><tr><td class=\"icn\"><a href=\"thread-12255492-1-GU7Y04C7.html\" target=\"_blank\" title=\"有新回復 - 新窗口打開\"><img src=\"static/image/common/folder_new.gif\"/></a></td><td class=\"p_pre_td\"> </td><th class=\"new\"><em>[<a href=\"forum.php?mod=forumdisplay&amp;fid=1710&amp;filter=typeid&amp;typeid=2313\">綜合討論</a>]</em> <a class=\"xst\" href=\"thread-12255492-1-GU7Y04C7.html\" onclick=\"atarget(this)\">手機板的暗黑</a></th><td class=\"by\"><cite><a c=\"1\" href=\"space-uid-7277461.html\">a4726007</a></cite><em><span>2019-7-4</span></em></td><td class=\"num\"><a class=\"xi2\" href=\"thread-12255492-1-GU7Y04C7.html\">10</a><em>1691</em></td><td class=\"by\"><cite><a c=\"1\" href=\"space-username-yunyumei.html\">yunyumei</a></cite><em><a href=\"forum.php?mod=redirect&amp;tid=12255492&amp;goto=lastpost#lastpost\"><span title=\"2019-8-5 09:24 PM\">3 天前</span></a></em></td></tr></tbody><tbody id=\"normalthread_12267180\"><tr><td class=\"icn\"><a href=\"thread-12267180-1-GU7Y04C7.html\" target=\"_blank\" title=\"有新回復 - 新窗口打開\"><img src=\"static/image/common/folder_new.gif\"/></a></td><td class=\"p_pre_td\"> </td><th class=\"new\"><em>[<a href=\"forum.php?mod=forumdisplay&amp;fid=1710&amp;filter=typeid&amp;typeid=2313\">綜合討論</a>]</em> <a class=\"xst\" href=\"thread-12267180-1-GU7Y04C7.html\" onclick=\"atarget(this)\">好久沒玩啦～還有人嗎？</a><span class=\"tps\"> ...<a href=\"thread-12267180-2-GU7Y04C7.html\">2</a></span></th><td class=\"by\"><cite><a c=\"1\" href=\"space-uid-6314212.html\">sangelva</a></cite><em><span>2019-7-14</span></em></td><td class=\"num\"><a class=\"xi2\" href=\"thread-12267180-1-GU7Y04C7.html\">28</a><em>2401</em></td><td class=\"by\"><cite><a c=\"1\" href=\"space-username-yunyumei.html\">yunyumei</a></cite><em><a href=\"forum.php?mod=redirect&amp;tid=12267180&amp;goto=lastpost#lastpost\"><span title=\"2019-8-5 09:23 PM\">3 天前</span></a></em></td></tr></tbody></table><!-- end of table \"forum_G[fid]\" branch 1/3 --></form></div></div><div change=\"location.href='forum.php?mod=forumdisplay&amp;fid=1710&amp;filter='+$('filter_special').value\" class=\"p_pop\" id=\"filter_special_menu\" style=\"display:none\"><ul><li><a href=\"forum-1710-1.html\">全部主題</a></li><li><a href=\"forum.php?mod=forumdisplay&amp;fid=1710&amp;filter=specialtype&amp;specialtype=poll\">投票</a></li><li><a href=\"forum.php?mod=forumdisplay&amp;fid=1710&amp;filter=specialtype&amp;specialtype=activity\">活動</a></li></ul></div><div class=\"p_pop\" id=\"filter_dateline_menu\" style=\"display:none\"><ul><li><a href=\"forum.php?mod=forumdisplay&amp;fid=1710&amp;orderby=lastpost&amp;filter=dateline\">全部時間</a></li><li><a href=\"forum.php?mod=forumdisplay&amp;fid=1710&amp;orderby=lastpost&amp;filter=dateline&amp;dateline=86400\">一天</a></li><li><a href=\"forum.php?mod=forumdisplay&amp;fid=1710&amp;orderby=lastpost&amp;filter=dateline&amp;dateline=172800\">兩天</a></li><li><a href=\"forum.php?mod=forumdisplay&amp;fid=1710&amp;orderby=lastpost&amp;filter=dateline&amp;dateline=604800\">一周</a></li><li><a href=\"forum.php?mod=forumdisplay&amp;fid=1710&amp;orderby=lastpost&amp;filter=dateline&amp;dateline=2592000\">一個月</a></li><li><a href=\"forum.php?mod=forumdisplay&amp;fid=1710&amp;orderby=lastpost&amp;filter=dateline&amp;dateline=7948800\">三個月</a></li></ul></div><div class=\"p_pop\" id=\"filter_orderby_menu\" style=\"display:none\"><ul><li><a href=\"forum-1710-1.html\">默認排序</a></li><li><a href=\"forum.php?mod=forumdisplay&amp;fid=1710&amp;filter=author&amp;orderby=dateline\">發帖時間</a></li><li><a href=\"forum.php?mod=forumdisplay&amp;fid=1710&amp;filter=reply&amp;orderby=replies\">回復/查看</a></li><li><a href=\"forum.php?mod=forumdisplay&amp;fid=1710&amp;filter=reply&amp;orderby=views\">查看</a></li><li><a href=\"forum.php?mod=forumdisplay&amp;fid=1710&amp;filter=lastpost&amp;orderby=lastpost\">最後發表</a></li><li><a href=\"forum.php?mod=forumdisplay&amp;fid=1710&amp;filter=heat&amp;orderby=heats\">熱門</a></li><ul></ul></ul></div><div class=\"bm bw0 pgs cl\"><div class=\"pg\"><a href=\"javascript:;\"> 7911 </a><strong>1</strong><a href=\"forum-1710-2LFNW6OU.html\">2</a><a href=\"forum-1710-33QE37EO.html\">3</a><a href=\"forum-1710-7MNKPTUH.html\">4</a><a href=\"forum-1710-F0P3D27A.html\">5</a><a href=\"forum-1710-7Y7E6TJN.html\">6</a><a href=\"forum-1710-2WYHDUV6.html\">7</a><a href=\"forum-1710-ASBP6UR3.html\">8</a><a href=\"forum-1710-D677Q02D.html\">9</a><a href=\"forum-1710-DBY4GHEG.html\">10</a><a href=\"forum-1710-244YE95Q.html\">100</a><a class=\"last\" href=\"forum-1710-2450TUKQ.html\">... 317</a><a class=\"nxt\" href=\"forum-1710-2LFNW6OU.html\">下一頁</a></div><span class=\"pgb y\"><a href=\"forum.php\">返 回</a></span><a href=\"javascript:;\" id=\"newspecialtmp\" onclick=\"location.href='forum.php?mod=post&amp;action=newthread&amp;fid=1710';return false;\" onmouseover=\"$('newspecial').id = 'newspecialtmp';this.id = 'newspecial';showMenu({'ctrlid':this.id})\" title=\"發新帖\"><img alt=\"發新帖\" src=\"static/image/common/pn_post.png\"/></a></div><!--[diy=diyfastposttop]--><div class=\"area\" id=\"diyfastposttop\"></div><!--[/diy]--><!--[diy=diyforumdisplaybottom]--><div class=\"area\" id=\"diyforumdisplaybottom\"></div><!--[/diy]--></div></div></div><script type=\"text/javascript\">document.onkeyup = function(e){keyPageScroll(e, 0, '2LFNW6OU', 'forum.php?mod=forumdisplay&fid=1710&filter=&orderby=lastpost&', 1);}</script><div class=\"wp mtn\"><!--[diy=diy3]--><div class=\"area\" id=\"diy3\"></div><!--[/diy]--></div><script type=\"text/javascript\">new lazyload();</script><div class=\"wp cl\" id=\"ft\"><div class=\"y\" id=\"flk\"><p><a href=\"archiver/\">Archiver</a><span class=\"pipe\">|</span><a href=\"http://m.eyny.com\">手機版</a><span class=\"pipe\">|</span><a href=\"https://www.eyny.com/ads\">廣告</a><span class=\"pipe\">|</span><a href=\"mailto:admin@eyny.com\">聯絡我們</a><span class=\"pipe\">|</span><a href=\"mailto:admin@eyny.com\">廣告查詢</a><span class=\"pipe\">|</span><a href=\"mailto:admin@eyny.com\">廠商合作</a><span class=\"pipe\">|</span><strong><a href=\"http://www.eyny.com/\" target=\"_blank\">伊莉</a></strong></p><p class=\"xs0\">\r\n",
      "GMT+8, 2019-8-8 04:13 PM<span id=\"debuginfo\"></span></p></div><div id=\"frt\"><p>Powered by <strong>Discuz!</strong> <em></em></p><p class=\"xs0\">© Comsenz Inc.</p></div></div>重要聲明：本討論區是以即時上載留言的方式運作，對所有留言的真實性、完整性及立場等，不負任何法律責任。而一切留言之言論只代表留言者個人意見，並非本網站之立場，用戶不應信賴內容，並應自行判斷內容之真實性。於有關情形下，用戶應尋求專業意見(如涉及醫療、法律或投資等問題)。 由於本討論區受到「即時上載留言」運作方式所規限，故不能完全監察所有留言，若讀者發現有留言出現問題，請聯絡我們。有權刪除任何留言及拒絕任何人士上載留言，同時亦有不刪除留言的權利。切勿撰寫粗言穢語、誹謗、渲染色情暴力或人身攻擊的言論，敬請自律。本網站保留一切法律權利。<div class=\"tip tip_3\" id=\"g_upmine_menu\" style=\"display:none;\"><div class=\"tip_c\">\r\n",
      "積分 0, 距離下一級還需  積分\r\n",
      "</div><div class=\"tip_horn\"></div></div></div><script src=\"home.php?mod=misc&amp;ac=sendmail&amp;rand=1565252000\" type=\"text/javascript\"></script><span id=\"scrolltop\" onclick=\"window.scrollTo('0','0')\">回頂部</span><script type=\"text/javascript\">_attachEvent(window, 'scroll', function(){showTopLink();});</script><script src=\"data/cache/js_langconv.js?wCw\" type=\"text/javascript\"></script></body></html>\n"
     ]
    }
   ],
   "source": [
    "import requests\n",
    "from bs4 import BeautifulSoup as bs\n",
    "import pandas as pd\n",
    "\n",
    "base_url = \"https://www.eyny.com/\"\n",
    "headers={\n",
    "    \"user-agent\":\"Mozilla/5.0 (Macintosh; Intel Mac OS X 10_13_2) AppleWebKit/537.36 (KHTML, like Gecko) Chrome/75.0.3770.142 Safari/537.36\"\n",
    "}\n",
    "\n",
    "D3 = base_url +\"forum-1710-1.html\"\n",
    "res = requests.get(D3)\n",
    "soup = bs(res.text,\"lxml\")\n",
    "print(soup)"
   ]
  },
  {
   "cell_type": "code",
   "execution_count": 50,
   "metadata": {
    "scrolled": false
   },
   "outputs": [
    {
     "name": "stdout",
     "output_type": "stream",
     "text": [
      "['https://www.eyny.com/thread-12290829-1-GU7Y04C7.html', 'https://www.eyny.com/thread-10935020-1-GU7Y04C7.html', 'https://www.eyny.com/thread-12107637-1-GU7Y04C7.html', 'https://www.eyny.com/thread-12133697-1-GU7Y04C7.html', 'https://www.eyny.com/thread-12174843-1-GU7Y04C7.html', 'https://www.eyny.com/thread-12159596-1-GU7Y04C7.html', 'https://www.eyny.com/thread-9317174-1-GU7Y04C7.html', 'https://www.eyny.com/thread-12211530-1-GU7Y04C7.html', 'https://www.eyny.com/thread-11129650-1-GU7Y04C7.html', 'https://www.eyny.com/thread-12209101-1-GU7Y04C7.html', 'https://www.eyny.com/thread-12213801-1-GU7Y04C7.html', 'https://www.eyny.com/thread-12213830-1-GU7Y04C7.html', 'https://www.eyny.com/thread-12229111-1-GU7Y04C7.html', 'https://www.eyny.com/thread-12229666-1-GU7Y04C7.html', 'https://www.eyny.com/thread-12255492-1-GU7Y04C7.html', 'https://www.eyny.com/thread-12267180-1-GU7Y04C7.html']\n"
     ]
    }
   ],
   "source": [
    "link = [ base_url+ele[\"href\"] for ele in soup.select(\"div#threadlist th.new a.xst\") ]\n",
    "\n",
    "print(link)"
   ]
  },
  {
   "cell_type": "code",
   "execution_count": null,
   "metadata": {},
   "outputs": [],
   "source": [
    "# 1.未登入爬取"
   ]
  },
  {
   "cell_type": "code",
   "execution_count": 180,
   "metadata": {},
   "outputs": [],
   "source": [
    "\n",
    "l = link[8]\n",
    "res2 = s.get(l, headers = headers)\n",
    "soup2 = bs(res2.text,\"lxml\")"
   ]
  },
  {
   "cell_type": "code",
   "execution_count": 181,
   "metadata": {
    "scrolled": false
   },
   "outputs": [
    {
     "name": "stdout",
     "output_type": "stream",
     "text": [
      "[綜合討論]死靈法師技能試玩效果動畫分享\n",
      "2016-11-6 02:42 AM\n",
      "38976\n",
      "340\n",
      "skywing13\n",
      "\n",
      "\n",
      "分享一下暴雪嘉年華上暗黑三即將到來的新職業死靈法師的試玩，老實說我不會貼圖……所以發出來怪怪的……\r\n",
      "試玩中發布了一些預設的死靈法師技能，所有技能都是基礎形態，沒有符文，且是物理屬性。然而依舊讓我好期待！\n",
      "\n",
      "http://img1.cache.netease.com/game/diablo3/d3/news/201610/76.gif\r\n",
      "左鍵：鮮血虹吸，這是持續施法技能，吸血且回藍……\r\n",
      "◾每次造成傷害時生成15點精華。 造成300％的武器傷害。引導時每秒治療你總血量的2%。\n",
      "\n",
      "http://img1.cache.netease.com/game/diablo3/d3/news/201610/80.gif\r\n",
      "右鍵：骨矛，不解釋，暗黑二經典技能！\r\n",
      "◾消耗：20點精華\r\n",
      "◾穿刺所有彈道上的敵人造成450%物理武器傷害。\n",
      "\n",
      "http://img2.cache.netease.com/ga ... 1105034624d0082.gif\r\n",
      "1：屍爆，依然不解釋，暗黑二經典爆爆爆！\r\n",
      "◾引爆目標區域內所有屍体並在20碼內造成150%武器傷害。假如有多個屍体在范圍內引爆視覺效果滿分！\n",
      "\r\n",
      "2：衰老，應該還是源自暗黑二詛咒系的技能，沒啥感覺……\r\n",
      "◾降低敵人75%的移動速度和20%的傷害。 冷卻時間不詳，反正不能連續施放。\n",
      "\n",
      "http://img1.cache.netease.com/game/diablo3/d3/news/201610/77.gif\r\n",
      "3：血衝，法師閃爍的死靈版，看起來好像對穿過的單位有點傷害，估計也就一點點傷害@-@\r\n",
      "◾冷卻：4秒\r\n",
      "◾似乎是無敵衝出50碼。冷卻時間還好。\n",
      "\n",
      "http://img1.cache.netease.com/game/diablo3/d3/news/201610/78.gif\r\n",
      "4：支配骷髏，骷髏海回來了！！！\r\n",
      "◾消耗：50點精華，精華上限100？具体還真不清楚@-@\r\n",
      "◾主動效果：指揮你的骷髏仆役去攻擊目標，並提升其傷害100%5秒。\r\n",
      "◾被動效果：每秒鐘從地上復生一只骷髏。骷髏仆役每次攻擊可造成50%武器傷害。這個被動說是一秒一個，但是一開始秘境時會以相當快的速度招滿10個骷髏。 最酷炫的就是支配骷髏，自動召喚骷髏不說，點下4鍵的瞬間肉搏骷髏會瞬移到目標處開始攻擊，遠程也會轉移目標，簡稱指哪打哪！ \n",
      "\n",
      "99\n",
      "153 點\n",
      "5059 米\n"
     ]
    }
   ],
   "source": [
    "\n",
    "# 標題\n",
    "title = soup2.select(\"div#postlist h1.ts a\")[0].text + soup2.select(\"div#postlist h1.ts a\")[1].text\n",
    "# 時間\n",
    "time = soup2.select(\"div#postlist > div\")[0].select(\"td.plc div.authi em\")[0].text.replace(\"發表於 \",\"\")\n",
    "\n",
    "# 內文\n",
    "content = soup2.select(\"div#postlist > div > table\")[0].select(\"tr\")[1]\n",
    "if content.i: content.i.extract()\n",
    "content.text\n",
    "\n",
    "# 瀏覽次數\n",
    "pageview = soup2.select(\"div#postlist td.pls span.xi1\")[0].text\n",
    "\n",
    "# 回應次數\n",
    "resp_cnt = soup2.select(\"div#postlist td.pls span.xi1\")[1].text\n",
    "\n",
    "# 作者\n",
    "author = soup2.select(\"div#postlist > div\")[0].select(\"div.authi\")[0].text.replace(\"\\n\",\"\")\n",
    "\n",
    "\n",
    "# 作者資訊\n",
    "author_post_cnt = soup2.select(\"div#postlist > div\")[0].select(\"dl.pil dd a\")[0].text\n",
    "author_score = soup2.select(\"div#postlist > div\")[0].select(\"dl.pil dd\")[1].text\n",
    "author_diving_value = soup2.select(\"div#postlist > div\")[0].select(\"dl.pil dd\")[2].text\n",
    "#     \"resp\"              \n",
    "\n",
    "print(title)\n",
    "print(time)\n",
    "print(pageview)\n",
    "print(resp_cnt)\n",
    "print(author)\n",
    "print(content.text)\n",
    "print(author_post_cnt)\n",
    "print(author_score)\n",
    "print(author_diving_value)"
   ]
  },
  {
   "cell_type": "code",
   "execution_count": 182,
   "metadata": {},
   "outputs": [
    {
     "name": "stdout",
     "output_type": "stream",
     "text": [
      "[{'回覆時間': '2016-11-6 02:42 AM', '回覆作者': 'skywing13', '回覆內容': '\\n\\n分享一下暴雪嘉年華上暗黑三即將到來的新職業死靈法師的試玩，老實說我不會貼圖……所以發出來怪怪的……\\r\\n試玩中發布了一些預設的死靈法師技能，所有技能都是基礎形態，沒有符文，且是物理屬性。然而依舊讓我好期待！\\n\\nhttp://img1.cache.netease.com/game/diablo3/d3/news/201610/76.gif\\r\\n左鍵：鮮血虹吸，這是持續施法技能，吸血且回藍……\\r\\n◾每次造成傷害時生成15點精華。 造成300％的武器傷害。引導時每秒治療你總血量的2%。\\n\\nhttp://img1.cache.netease.com/game/diablo3/d3/news/201610/80.gif\\r\\n右鍵：骨矛，不解釋，暗黑二經典技能！\\r\\n◾消耗：20點精華\\r\\n◾穿刺所有彈道上的敵人造成450%物理武器傷害。\\n\\nhttp://img2.cache.netease.com/ga ... 1105034624d0082.gif\\r\\n1：屍爆，依然不解釋，暗黑二經典爆爆爆！\\r\\n◾引爆目標區域內所有屍体並在20碼內造成150%武器傷害。假如有多個屍体在范圍內引爆視覺效果滿分！\\n\\r\\n2：衰老，應該還是源自暗黑二詛咒系的技能，沒啥感覺……\\r\\n◾降低敵人75%的移動速度和20%的傷害。 冷卻時間不詳，反正不能連續施放。\\n\\nhttp://img1.cache.netease.com/game/diablo3/d3/news/201610/77.gif\\r\\n3：血衝，法師閃爍的死靈版，看起來好像對穿過的單位有點傷害，估計也就一點點傷害@-@\\r\\n◾冷卻：4秒\\r\\n◾似乎是無敵衝出50碼。冷卻時間還好。\\n\\nhttp://img1.cache.netease.com/game/diablo3/d3/news/201610/78.gif\\r\\n4：支配骷髏，骷髏海回來了！！！\\r\\n◾消耗：50點精華，精華上限100？具体還真不清楚@-@\\r\\n◾主動效果：指揮你的骷髏仆役去攻擊目標，並提升其傷害100%5秒。\\r\\n◾被動效果：每秒鐘從地上復生一只骷髏。骷髏仆役每次攻擊可造成50%武器傷害。這個被動說是一秒一個，但是一開始秘境時會以相當快的速度招滿10個骷髏。 最酷炫的就是支配骷髏，自動召喚骷髏不說，點下4鍵的瞬間肉搏骷髏會瞬移到目標處開始攻擊，遠程也會轉移目標，簡稱指哪打哪！ \\n'}, {'回覆時間': '2016-11-6 11:11 PM', '回覆作者': 'ayk0623', '回覆內容': '哦哦!!!!看來人潮可能又能拉回來了~\\r\\n不過還是希望能再做更完善點~不要一出來又一堆問題就搞笑了'}, {'回覆時間': '2016-11-7 07:02 AM', '回覆作者': 'chenc417', '回覆內容': '就目前巫醫的樣子，感覺不太可能做出太大量的骷髏海了...有點可惜...'}, {'回覆時間': '2016-11-7 10:32 AM', '回覆作者': 'liuey', '回覆內容': '巫醫的鬼娃【大軍】弄一弄也才20多隻，這個骷髏海能有幾隻實在沒啥期待....'}, {'回覆時間': '2016-11-7 11:25 PM', '回覆作者': '7890123', '回覆內容': 'w太好了~~終於可以再繼續玩了!!!~~~~~~讚'}, {'回覆時間': '2016-11-8 01:01 AM', '回覆作者': 'sueming1979', '回覆內容': '新職業,新玩法期待中'}, {'回覆時間': '2016-11-8 03:34 PM', '回覆作者': 'ZXCS0214', '回覆內容': '新職業新體驗^^\\r\\n比賽季倉庫好多了'}, {'回覆時間': '2016-11-8 07:09 PM', '回覆作者': 'isaacbtbt', '回覆內容': '有死靈的上陣了~我愛的德魯伊也不遠了\\r\\n氏族會出現一整票的死靈法師上線了'}, {'回覆時間': '2016-11-8 07:44 PM', '回覆作者': 'SEED555', '回覆內容': '等了10年 終於來啦!\\n\\r\\n不過也要等到賽季10了(還要多花一筆'}, {'回覆時間': '2016-11-8 09:29 PM', '回覆作者': 'finalnothing', '回覆內容': '總算等到死靈法師出了 D2最喜歡的職業~\\r\\n希望能夠跟D2一樣有趣'}, {'回覆時間': '2016-11-8 10:24 PM', '回覆作者': 's3000', '回覆內容': '我比較喜歡 DRUID, 死靈和巫醫的角色有太多重覆'}, {'回覆時間': '2016-11-9 12:26 PM', '回覆作者': 'tuea1233', '回覆內容': '看起來不錯 考慮回去玩玩看XD\\n\\r\\n不過跟D2技能好像差不多呢 希望是能不同一點'}, {'回覆時間': '2016-11-9 06:23 PM', '回覆作者': 'daniel47', '回覆內容': '讚啦~~\\n\\r\\n不過我\"個人\"感覺他跟巫醫有點同性質\\n\\r\\n我還覺得同D2的話\\xa0\\xa0德魯伊或許跟目前的腳色有比較大的區別'}, {'回覆時間': '2016-11-9 09:32 PM', '回覆作者': 'mr0kimo', '回覆內容': '感覺玩法不會跟巫醫差太多\\r\\n最多只是多了詛咒+骨矛的巫醫'}, {'回覆時間': '2016-11-10 06:53 AM', '回覆作者': '超級淺水王', '回覆內容': '希望除了開放新職業也可以多一些東西進去\\r\\n不然只單單多一隻死靈法師其實撐不了多久'}]\n"
     ]
    }
   ],
   "source": [
    "# 時間\n",
    "divTags = soup2.select(\"div#postlist > div\")\n",
    "resDataList = []\n",
    "for i in divTags[:-1]:\n",
    "#     print(i)\n",
    "#     print(\"-\"*80)\n",
    "    \n",
    "    resTime = i.select(\"td.plc div.authi em\")[0].text.replace(\"發表於 \",\"\")\n",
    "    resName = i.select(\"div.authi\")[0].text.replace(\"\\n\",\"\")\n",
    "    resContent = i.select(\"tr\")[1]\n",
    "    if resContent.i: resContent.i.extract()\n",
    "    resData={\n",
    "        \"回覆時間\" : resTime,\n",
    "        \"回覆作者\" : resName,\n",
    "        \"回覆內容\" : resContent.text\n",
    "    }\n",
    "    resDataList.append(resData)\n",
    "        \n",
    "print(resDataList)"
   ]
  },
  {
   "cell_type": "code",
   "execution_count": null,
   "metadata": {},
   "outputs": [],
   "source": []
  },
  {
   "cell_type": "code",
   "execution_count": null,
   "metadata": {},
   "outputs": [],
   "source": [
    "[i].select(\"td.plc div.authi em\")[0].text.replace(\"發表於 \",\"\")\n",
    "time\n",
    "for i in :\n",
    "    print()"
   ]
  },
  {
   "cell_type": "code",
   "execution_count": 124,
   "metadata": {},
   "outputs": [
    {
     "data": {
      "text/plain": [
       "'\\n\\n分享一下暴雪嘉年華上暗黑三即將到來的新職業死靈法師的試玩，老實說我不會貼圖……所以發出來怪怪的……\\r\\n試玩中發布了一些預設的死靈法師技能，所有技能都是基礎形態，沒有符文，且是物理屬性。然而依舊讓我好期待！\\n\\n下載: 訪客無法瀏覽下載點，請先 註冊 或 登入會員...瀏覽完整內容，請先 註冊 或 登入會員'"
      ]
     },
     "execution_count": 124,
     "metadata": {},
     "output_type": "execute_result"
    }
   ],
   "source": [
    "content = soup2.select(\"div#postlist > div > table\")[0].select(\"table\")[0]\n",
    "if content.i:\n",
    "    content.i.extract()\n",
    "content.text"
   ]
  },
  {
   "cell_type": "code",
   "execution_count": null,
   "metadata": {},
   "outputs": [],
   "source": []
  },
  {
   "cell_type": "code",
   "execution_count": 186,
   "metadata": {},
   "outputs": [],
   "source": [
    "data={\n",
    "    \"title\"               : title,\n",
    "    \"time\"                : time,\n",
    "    \"content\"             : content.text,\n",
    "    \"pageview\"            : pageview,\n",
    "    \"resp_cnt\"            : resp_cnt,\n",
    "    \"author_name\"         : author,\n",
    "    \"author_post_cnt\"     : author_post_cnt,\n",
    "    \"author_score\"        : author_score,\n",
    "    \"author_diving_value\" : author_diving_value,\n",
    "    \"resp\"                : resDataList    \n",
    "}\n",
    "\n",
    "# resp_data ={\n",
    "#     \"time\"                : time,\n",
    "#     \"content\"             : content,\n",
    "#     \"author_name\"         : name,\n",
    "#     \"author_post_cnt\"     : post_cnt,\n",
    "#     \"author_score\"        : score,\n",
    "#     \"author_diving_value\" : diving_value\n",
    "# }"
   ]
  },
  {
   "cell_type": "code",
   "execution_count": null,
   "metadata": {},
   "outputs": [],
   "source": [
    "# 第二步 登入ＡＰＩ爬取"
   ]
  },
  {
   "cell_type": "code",
   "execution_count": 178,
   "metadata": {
    "scrolled": true
   },
   "outputs": [
    {
     "name": "stdout",
     "output_type": "stream",
     "text": [
      "<?xml version=\"1.0\" encoding=\"utf-8\"?>\r\n",
      "<root><![CDATA[<script type=\"text/javascript\" reload=\"1\">if($('succeedmessage')) {$('succeedmessage').innerHTML = '';}if(typeof succeedhandle_=='function') {succeedhandle_('https://www.eyny.com/home.php?mod=spacecp&ac=profile&op=password', '', {});}</script><script type=\"text/javascript\">setTimeout(\"window.location.href ='https://www.eyny.com/home.php?mod=spacecp&ac=profile&op=password';\", 3000);$('succeedmessage_href').href = 'https://www.eyny.com/home.php?mod=spacecp&ac=profile&op=password';$('main_message').style.display = 'none';$('main_succeed').style.display = '';$('succeedlocation').innerHTML = '歡迎您回來，<font color=\"pink\">初級幼兒生(0/30)</font> yungaisun，現在將轉入登錄前頁面';</script>]]></root>\n"
     ]
    }
   ],
   "source": [
    "loginUrl = \"https://www.eyny.com/member.php?mod=logging&action=login&loginsubmit=yes&loginhash=LN1LF&inajax=1\"\n",
    "loginHeaders = {\n",
    "    \"Host\"      : \"www.eyny.com\",\n",
    "    \"Origin\"    : \"https://www.eyny.com\",\n",
    "    \"Referer\"   : \"https://www.eyny.com/member.php?mod=logging&action=login\",\n",
    "    \"User-Agent\": \"Mozilla/5.0 (Macintosh; Intel Mac OS X 10_13_2) AppleWebKit/537.36 (KHTML, like Gecko) Chrome/75.0.3770.142 Safari/537.36\"\n",
    "}\n",
    "payload={\n",
    "    \"formhash\"            : \"409a656b\",\n",
    "    \"referer\"             : \"https://www.eyny.com/home.php?mod=spacecp&ac=profile&op=password\",\n",
    "    \"loginfield\"          : \"username\",\n",
    "    \"username\"            : \"yungaisun\",\n",
    "    \"password\"            : \"0933931934\",\n",
    "    \"questionid\"          : \"0\",\n",
    "    \"answer\"              : \"\",\n",
    "    \"cookietime\"          : \"2592000\",\n",
    "    \"g-recaptcha-response\": '\"03AOLTBLQel2WCizGPrnW7ssUJXNqFcb2BfXgYfb5_dz5wZA6KJgqwYSLdbETIXg-kiUjvXNTnVdebdaTx_NlZC7GOiPIlap1dV0KqFbQ4Nhae2Nc7vtga8LcZ89B6XxUQ0jRotAk2Lb_qP1RVMbBvEfWPraQCcXpTqWeEDgAU5wZrvDhYJfA8eYuKlevXfUkOOB1AJ1eWqFJgZDTQoMvez0bqLhm0E5zp-fNWe2oU_CSM_HqSQEUl39Zsd3qmIGsdZ0p5xQvEkNN5VgFdNTl367uRqN9aL2D1UY1K3lsznvLJanf5qSdLSDA\"'\n",
    "}\n",
    "\n",
    "s = requests.session()\n",
    "res2 = s.post(loginUrl, headers = loginHeaders, data = payload)\n",
    "print(res2.text)"
   ]
  },
  {
   "cell_type": "code",
   "execution_count": 179,
   "metadata": {},
   "outputs": [
    {
     "name": "stdout",
     "output_type": "stream",
     "text": [
      "{'604e55XbD_e8d7_auth': '10c3CmF0FvUDI25djnkbJUmHHwiiRRnyD22w6wVOibVL%2F%2FniWZgxZtDbxtUICZbS', '604e55XbD_e8d7_inlang': 'zh', '604e55XbD_e8d7_lastact': '1565249731%09member.php%09logging', '604e55XbD_e8d7_lastvisit': '1565246131', '604e55XbD_e8d7_txlang': '0'}\n"
     ]
    }
   ],
   "source": [
    "print(res2.cookies.get_dict())"
   ]
  },
  {
   "cell_type": "code",
   "execution_count": 187,
   "metadata": {
    "collapsed": true
   },
   "outputs": [
    {
     "name": "stdout",
     "output_type": "stream",
     "text": [
      "\n",
      "\n",
      "分享一下暴雪嘉年華上暗黑三即將到來的新職業死靈法師的試玩，老實說我不會貼圖……所以發出來怪怪的……\r\n",
      "試玩中發布了一些預設的死靈法師技能，所有技能都是基礎形態，沒有符文，且是物理屬性。然而依舊讓我好期待！\n",
      "\n",
      "http://img1.cache.netease.com/game/diablo3/d3/news/201610/76.gif\r\n",
      "左鍵：鮮血虹吸，這是持續施法技能，吸血且回藍……\r\n",
      "◾每次造成傷害時生成15點精華。 造成300％的武器傷害。引導時每秒治療你總血量的2%。\n",
      "\n",
      "http://img1.cache.netease.com/game/diablo3/d3/news/201610/80.gif\r\n",
      "右鍵：骨矛，不解釋，暗黑二經典技能！\r\n",
      "◾消耗：20點精華\r\n",
      "◾穿刺所有彈道上的敵人造成450%物理武器傷害。\n",
      "\n",
      "http://img2.cache.netease.com/ga ... 1105034624d0082.gif\r\n",
      "1：屍爆，依然不解釋，暗黑二經典爆爆爆！\r\n",
      "◾引爆目標區域內所有屍体並在20碼內造成150%武器傷害。假如有多個屍体在范圍內引爆視覺效果滿分！\n",
      "\r\n",
      "2：衰老，應該還是源自暗黑二詛咒系的技能，沒啥感覺……\r\n",
      "◾降低敵人75%的移動速度和20%的傷害。 冷卻時間不詳，反正不能連續施放。\n",
      "\n",
      "http://img1.cache.netease.com/game/diablo3/d3/news/201610/77.gif\r\n",
      "3：血衝，法師閃爍的死靈版，看起來好像對穿過的單位有點傷害，估計也就一點點傷害@-@\r\n",
      "◾冷卻：4秒\r\n",
      "◾似乎是無敵衝出50碼。冷卻時間還好。\n",
      "\n",
      "http://img1.cache.netease.com/game/diablo3/d3/news/201610/78.gif\r\n",
      "4：支配骷髏，骷髏海回來了！！！\r\n",
      "◾消耗：50點精華，精華上限100？具体還真不清楚@-@\r\n",
      "◾主動效果：指揮你的骷髏仆役去攻擊目標，並提升其傷害100%5秒。\r\n",
      "◾被動效果：每秒鐘從地上復生一只骷髏。骷髏仆役每次攻擊可造成50%武器傷害。這個被動說是一秒一個，但是一開始秘境時會以相當快的速度招滿10個骷髏。 最酷炫的就是支配骷髏，自動召喚骷髏不說，點下4鍵的瞬間肉搏骷髏會瞬移到目標處開始攻擊，遠程也會轉移目標，簡稱指哪打哪！ \n",
      "\n"
     ]
    }
   ],
   "source": [
    "print(data[\"content\"])"
   ]
  },
  {
   "cell_type": "code",
   "execution_count": 207,
   "metadata": {
    "scrolled": true
   },
   "outputs": [
    {
     "name": "stdout",
     "output_type": "stream",
     "text": [
      "取得隱藏變數\n",
      "登入完成\n",
      "['https://www.eyny.com/thread-12290829-1-GU7Y04C7.html', 'https://www.eyny.com/thread-12029273-1-GU7Y04C7.html', 'https://www.eyny.com/thread-11129650-1-GU7Y04C7.html', 'https://www.eyny.com/thread-12087942-1-GU7Y04C7.html', 'https://www.eyny.com/thread-12124564-1-GU7Y04C7.html', 'https://www.eyny.com/thread-12101152-1-GU7Y04C7.html', 'https://www.eyny.com/thread-12084125-1-GU7Y04C7.html', 'https://www.eyny.com/thread-12027907-1-GU7Y04C7.html', 'https://www.eyny.com/thread-12229111-1-GU7Y04C7.html', 'https://www.eyny.com/thread-10935020-1-GU7Y04C7.html', 'https://www.eyny.com/thread-12107637-1-GU7Y04C7.html', 'https://www.eyny.com/thread-12133697-1-GU7Y04C7.html', 'https://www.eyny.com/thread-12174843-1-GU7Y04C7.html', 'https://www.eyny.com/thread-12159596-1-GU7Y04C7.html', 'https://www.eyny.com/thread-9317174-1-GU7Y04C7.html', 'https://www.eyny.com/thread-12211530-1-GU7Y04C7.html']\n",
      "取得文章列表完成\n"
     ]
    }
   ],
   "source": [
    "# step0\n",
    "# 取得隱藏變數\n",
    "loginPageUrl = \"https://www.eyny.com/member.php?mod=logging&action=login\"\n",
    "res0 = requests.get(loginPageUrl)\n",
    "soup0 = bs(res0.text,\"lxml\")\n",
    "\n",
    "cookieTime = soup0.select(\"input[name='cookietime']\")[0][\"value\"]\n",
    "formHash = soup0.select(\"input[name='formhash']\")[0][\"value\"]\n",
    "print(\"取得隱藏變數\")\n",
    "\n",
    "# step1\n",
    "# 登入\n",
    "loginUrl = \"https://www.eyny.com/member.php?mod=logging&action=login&loginsubmit=yes&loginhash=LN1LF&inajax=1\"\n",
    "loginHeaders = {\n",
    "    \"Host\"      : \"www.eyny.com\",\n",
    "    \"Origin\"    : \"https://www.eyny.com\",\n",
    "    \"Referer\"   : \"https://www.eyny.com/member.php?mod=logging&action=login\",\n",
    "    \"User-Agent\": \"Mozilla/5.0 (Macintosh; Intel Mac OS X 10_13_2) AppleWebKit/537.36 (KHTML, like Gecko) Chrome/75.0.3770.142 Safari/537.36\"\n",
    "}\n",
    "payload={\n",
    "    \"formhash\"            : formHash,\n",
    "    \"referer\"             : \"https://www.eyny.com/home.php?mod=spacecp&ac=profile&op=password\",\n",
    "    \"loginfield\"          : \"username\",\n",
    "    \"username\"            : \"yungaisun\",\n",
    "    \"password\"            : \"0933931934\",\n",
    "    \"questionid\"          : \"0\",\n",
    "    \"answer\"              : \"\",\n",
    "    \"cookietime\"          : cookieTime,\n",
    "    \"g-recaptcha-response\": '\"03AOLTBLQel2WCizGPrnW7ssUJXNqFcb2BfXgYfb5_dz5wZA6KJgqwYSLdbETIXg-kiUjvXNTnVdebdaTx_NlZC7GOiPIlap1dV0KqFbQ4Nhae2Nc7vtga8LcZ89B6XxUQ0jRotAk2Lb_qP1RVMbBvEfWPraQCcXpTqWeEDgAU5wZrvDhYJfA8eYuKlevXfUkOOB1AJ1eWqFJgZDTQoMvez0bqLhm0E5zp-fNWe2oU_CSM_HqSQEUl39Zsd3qmIGsdZ0p5xQvEkNN5VgFdNTl367uRqN9aL2D1UY1K3lsznvLJanf5qSdLSDA\"'\n",
    "}\n",
    "\n",
    "s = requests.session()\n",
    "res1 = s.post(loginUrl, headers = loginHeaders, data = payload)\n",
    "# print(res1.text)\n",
    "print(\"登入完成\")\n",
    "\n",
    "# step2抓取文章列表\n",
    "import requests\n",
    "from bs4 import BeautifulSoup as bs\n",
    "\n",
    "\n",
    "base_url = \"https://www.eyny.com/\"\n",
    "headers={\n",
    "    \"user-agent\":\"Mozilla/5.0 (Macintosh; Intel Mac OS X 10_13_2) AppleWebKit/537.36 (KHTML, like Gecko) Chrome/75.0.3770.142 Safari/537.36\"\n",
    "}\n",
    "\n",
    "D3 = base_url +\"forum-1710-1.html\"\n",
    "res = s.get(D3)\n",
    "soup = bs(res.text,\"lxml\")\n",
    "\n",
    "link = [ base_url+ele[\"href\"] for ele in soup.select(\"div#threadlist th.new a.xst\") ]\n",
    "print(link)\n",
    "print(\"取得文章列表完成\")\n",
    "\n"
   ]
  },
  {
   "cell_type": "code",
   "execution_count": 205,
   "metadata": {},
   "outputs": [
    {
     "name": "stdout",
     "output_type": "stream",
     "text": [
      "[玩家互動]請問有人可以帶我刷嗎 OK\n",
      "[綜合討論]賽季18會不少傳奇會增加特效, 大家要回鍋嗎? OK\n",
      "[綜合討論]這不是母牛關 OK\n",
      "[綜合討論]網易於電話財報中透露《暗黑破壞神 永生不朽》就開發層面來說已準備就緒 OK\n",
      "[綜合討論]請問D3跟POE差在哪呢 OK\n",
      "[綜合討論]請問衛哨的距離能打多遠?? OK\n",
      "[玩家互動]這個改動我覺得蠻好的~拍得不清楚請見諒~ OK\n",
      "[綜合討論]我竟然打到了SOJ!!!! OK\n",
      "[綜合討論]s17賽季一問 OK\n",
      "[綜合討論]死靈法師技能試玩效果動畫分享 OK\n",
      "[綜合討論]暗黑3-賽季輪迴刷裝 OK\n",
      "[綜合討論]在專家模式拓荒 用哪一個職業最難起家啊? OK\n",
      "[綜合討論]為什麼當年推出洪荒裝備的時候 玩家會反對洪荒屬性比遠古多30%? OK\n",
      "[綜合討論]讓遊戲更好玩的方式 OK\n",
      "[綜合討論]手機板的暗黑 OK\n",
      "[綜合討論]好久沒玩啦～還有人嗎？ OK\n",
      "save OK\n",
      "[{'title': '[玩家互動]請問有人可以帶我刷嗎', 'time': '2019-6-11 12:00 PM', 'content': '我武增 悟空流\\r\\n請問有人要帶我刷大、小秘秘境嗎\\n', 'pageview': '1797', 'resp_cnt': '9', 'author_name': 'qwe_789963', 'author_post_cnt': '17', 'author_score': '1 點', 'author_diving_value': '960 米', 'resp': [{'回覆時間': '2019-6-11 12:00 PM', '回覆作者': 'qwe_789963', '回覆內容': '我武增 悟空流\\r\\n請問有人要帶我刷大、小秘秘境嗎\\n'}, {'回覆時間': '2019-6-16 11:58 AM', '回覆作者': '1237689', '回覆內容': '現在沒再玩了 可能沒辦法帶你刷了\\r\\n或許你可以在FB社團 或是DIS的群組上面找看看'}, {'回覆時間': '2019-7-5 02:54 PM', '回覆作者': 'jamez327', '回覆內容': '暗黑玩到後來也都是自己刷而已，你還是早點習慣吧'}, {'回覆時間': '2019-7-6 01:40 AM', '回覆作者': 'angelloveangel0', '回覆內容': '同樓上說的QQ~一個人刷是很正常的~最好是有好友一起玩~會比較長久'}, {'回覆時間': '2019-7-8 08:45 PM', '回覆作者': '屏東霹靂南', '回覆內容': '你好\\xa0\\xa0我是洪荒部落公會 會長\\xa0\\xa0若你願意的話\\xa0\\xa0歡迎來我們這湊熱鬧喔\\r\\n我們也創了line群\\xa0\\xa0打怪練功 也有DC\\r\\n歡迎你來一起好時間 \\r\\n我的line ID :pilinan'}, {'回覆時間': '2019-7-11 10:38 PM', '回覆作者': 'b24220362', '回覆內容': '暗黑玩到後來也都是自己刷而已'}, {'回覆時間': '2019-7-28 08:40 PM', '回覆作者': 'qwe_789963', '回覆內容': '好喔 感謝建議好喔 感謝建議好喔 感謝建議好喔 感謝建議好喔 感謝建議'}, {'回覆時間': '2019-7-29 02:10 AM', '回覆作者': 'a552565100', '回覆內容': '武僧ㄙㄥ 武僧ㄙㄥ 武僧ㄙㄥ 武僧ㄙㄥ 武僧ㄙㄥ '}, {'回覆時間': '3\\xa0天前', '回覆作者': 'yunyumei', '回覆內容': '好歹也說一下伺服跟ID吧....\\n\\r\\n來亂的巴'}, {'回覆時間': '半小時前', '回覆作者': 'pigworker666', '回覆內容': '暗黑玩到後來也都是自己刷而已，你還是早點習慣吧'}]}, {'title': '[綜合討論]賽季18會不少傳奇會增加特效, 大家要回鍋嗎?', 'time': '5\\xa0天前', 'content': '賽季18會不少傳奇會增加特效, 大家要回鍋嗎?\\n目前看藍帖舊的沒傳奇特效部分會加上去\\n共13個新傳奇能力\\n目前看到以下的訊息\\n逝水年華: 秘壇時間加倍\\n\\n劊子手: 斬殺生命值剩下(5-10%) 的敵人\\n\\n岩石護手: 遭受攻擊會逐漸將你變成石頭\\n\\xa0 \\xa0\\xa0 \\xa0\\xa0 \\xa0 (增加50%護甲，但移動速度減少15%，攻速減少20%，可堆疊5次)\\n\\n迴盪狂怒: 斬殺敵人將讓揮舞者發狂\\n\\xa0 \\xa0\\xa0 \\xa0\\xa0 \\xa0 (每殺死一個敵人增加攻速15%，移動速度5%，可堆疊5次)\\n\\n阿扭的項鍊: 若你當下沒有受到傷害，你造成的傷害增加100%，受到的傷害增加50%\\n\\n梅希斯密特之劫掠者: 每殺死1個敵人減少你其中一樣技能的冷卻時間1秒\\n\\n莫提克護腕: 狂戰之怒獲得所有符文效果 \\n\\n惡怨(鐵匠打的咒物): 巨靈惡屍以外的巨屍獲得順劈斬和冰寒效果 (!!)\\n\\n\\n感覺有回鍋的價值?\\n\\n\\n', 'pageview': '574', 'resp_cnt': '13', 'author_name': 'atpx2', 'author_post_cnt': '1865', 'author_score': '1117 點', 'author_diving_value': '28960 米', 'resp': [{'回覆時間': '5\\xa0天前', '回覆作者': 'atpx2', '回覆內容': '賽季18會不少傳奇會增加特效, 大家要回鍋嗎?\\n目前看藍帖舊的沒傳奇特效部分會加上去\\n共13個新傳奇能力\\n目前看到以下的訊息\\n逝水年華: 秘壇時間加倍\\n\\n劊子手: 斬殺生命值剩下(5-10%) 的敵人\\n\\n岩石護手: 遭受攻擊會逐漸將你變成石頭\\n\\xa0 \\xa0\\xa0 \\xa0\\xa0 \\xa0 (增加50%護甲，但移動速度減少15%，攻速減少20%，可堆疊5次)\\n\\n迴盪狂怒: 斬殺敵人將讓揮舞者發狂\\n\\xa0 \\xa0\\xa0 \\xa0\\xa0 \\xa0 (每殺死一個敵人增加攻速15%，移動速度5%，可堆疊5次)\\n\\n阿扭的項鍊: 若你當下沒有受到傷害，你造成的傷害增加100%，受到的傷害增加50%\\n\\n梅希斯密特之劫掠者: 每殺死1個敵人減少你其中一樣技能的冷卻時間1秒\\n\\n莫提克護腕: 狂戰之怒獲得所有符文效果 \\n\\n惡怨(鐵匠打的咒物): 巨靈惡屍以外的巨屍獲得順劈斬和冰寒效果 (!!)\\n\\n\\n感覺有回鍋的價值?\\n\\n\\n'}, {'回覆時間': '5\\xa0天前', '回覆作者': '1237689', '回覆內容': '每次賽季 就是回去拿獎勵 套裝小寵物\\r\\n想玩就回去玩!'}, {'回覆時間': '4\\xa0天前', '回覆作者': 'pigworker666', '回覆內容': '希望每季特效都能不一樣\\r\\n多換點特效就能增加玩法'}, {'回覆時間': '4\\xa0天前', '回覆作者': 'a552565100', '回覆內容': '原PO少了幾件\\n\\r\\n夢想遺禮\\r\\n全新傳奇寶石：\\r\\n如果你身上沒有套裝加成，身上每一件傳奇物品能讓你造成的傷害提高 3.75%，且讓你受到的傷害降低 2%。（等級上限 99）\\r\\n等級 25：遠古物品可讓此效果加倍。\\n\\n\\r\\n智者之旅\\r\\n此套裝已新增腰帶部位。\\r\\n鐵匠海德格在等級 12 會自動學會如何製作這個套裝。\\n\\n\\r\\n克里森船長的飾衣\\r\\n2 件套裝加成\\r\\n每秒恢復 6000 點生命值。\\r\\n所有技能冷卻時間縮短 10% 20%。\\r\\n現在也會將資源消耗降低 20%。\\r\\n3 件套裝加成\\r\\n套裝加成效果已更換。\\r\\n冷卻時間縮短的總比例，就是你造成的傷害提高的比例。\\r\\n資源消耗減少的總比例，就是你承受的傷害降低的比例。\\n\\n\\r\\n奧吉德的威勢\\r\\n2 件套裝加成\\r\\n套裝加成效果已更換。\\r\\n承受的傷害降低 15%。\\r\\n造成的傷害提高 30%。\\r\\n3 件套裝加成\\r\\n精英怪造成的傷害降低 15% 30%。\\r\\n對精英怪的傷害提高 15 30%。\\n\\n\\r\\n凱恩的天命\\r\\n2 件套裝加成\\r\\n攻擊速度提高 8%\\r\\n+50% 經驗值（等級 70 為 5.0%）（原為 3 件套裝加成效果）\\r\\n3 件套裝加成\\r\\n掉落宏偉秘境之石時，有 25% 機率多掉一顆。'}, {'回覆時間': '4\\xa0天前', '回覆作者': 'finalnothing', '回覆內容': '還是要增加核心裝備 改變玩法的方式 只是單純強化裝備 實在提不起勁'}, {'回覆時間': '3\\xa0天前', '回覆作者': 'jamez327', '回覆內容': '初期應該會增加一些想玩玩看的玩家，等玩個一個禮拜發現還是那一、二種配法就準備AFK了\\n'}, {'回覆時間': '3\\xa0天前', '回覆作者': '屏東霹靂南', '回覆內容': '不知道有沒有要一起玩的玩家，\\r\\n好吧!!\\xa0\\xa0其實我是來問問\\r\\n有玩家要加公會的嗎？！\\r\\n歡迎來和我們湊熱鬧!!\\r\\n有line群和DC\\r\\n我的line\\xa0\\xa0ID :pilinan'}, {'回覆時間': '3\\xa0天前', '回覆作者': 'yunyumei', '回覆內容': '很難...\\n\\r\\n散裝不管怎麼配都沒有套裝幾千%得加成....\\n\\r\\n最後還是入倉庫'}, {'回覆時間': '前天\\xa005:31 PM', '回覆作者': 'tn909014', '回覆內容': '真的好久沒上了\\n\\r\\n感謝分享新資訊'}, {'回覆時間': '昨天\\xa007:35 AM', '回覆作者': 'johnhcm', '回覆內容': '我一直在等暴雪醒悟 加入真正的新東西\\r\\n就像新資料片 技能樹之類的\\r\\n傷心'}, {'回覆時間': '昨天\\xa003:22 PM', '回覆作者': 'a552565100', '回覆內容': 'johnhcm 發表於 2019-8-7 07:35 AM \\r\\n我一直在等暴雪醒悟 加入真正的新東西\\r\\n就像新資料片 技能樹之類的\\r\\n傷心\\n你不知道計畫已經取消了嗎\\r\\n本來奪魂之鐮後還有一張資料片，被上層喀掉\\r\\n其中一些地圖就被當免費更新釋出，作好的死靈法師也隨便賣一賣\\n\\r\\n前陣子爐石的卡片圖被全面更換成中國修正版就知道，\\r\\n暴雪已經是中國的形狀，已經不需要期待了'}, {'回覆時間': '昨天\\xa003:24 PM', '回覆作者': 'nio47kimo', '回覆內容': '每次賽季都去玩一 下~解了成就拿了獎勵就AFK了\\r\\n而且沒有朋友一起玩~實在提不起勁...'}, {'回覆時間': '昨天\\xa003:58 PM', '回覆作者': 'pigworker666', '回覆內容': '所以散裝還不常駐嗎\\r\\n不常駐又只有套裝能玩...'}, {'回覆時間': '昨天\\xa008:56 PM', '回覆作者': 'zuenchung', '回覆內容': '每個賽季都玩一下,從0開始畢竟還是有小小的刺激感'}]}, {'title': '[綜合討論]這不是母牛關', 'time': '2016-6-5 10:34 PM', 'content': '此關卡內\\r\\n寶箱特多\\r\\n神秘子箱也很多\\r\\n屍體一定要翻錢都很多\\r\\n還有牛王任務!!\\r\\n以及今天刷的情形\\n\\n\\n2016-6-5 10:33 PM 上傳下載附件 (1.12 MB)\\n\\n\\n\\n2016-6-5 10:33 PM 上傳下載附件 (1.1 MB)\\n\\n\\n\\n2016-6-5 10:33 PM 上傳下載附件 (1.11 MB)\\n\\n\\n\\n剛剛 上傳下載附件 (1.04 MB)\\n\\n\\n\\n2016-6-5 10:33 PM 上傳下載附件 (1.05 MB)\\n\\n\\n\\n剛剛 上傳下載附件 (1.05 MB)\\n\\n\\n\\n', 'pageview': '11878', 'resp_cnt': '50', 'author_name': 'NANABOBO2003', 'author_post_cnt': '2536', 'author_score': '2017 點', 'author_diving_value': '34726 米', 'resp': [{'回覆時間': '2016-6-5 10:34 PM', '回覆作者': 'NANABOBO2003', '回覆內容': '此關卡內\\r\\n寶箱特多\\r\\n神秘子箱也很多\\r\\n屍體一定要翻錢都很多\\r\\n還有牛王任務!!\\r\\n以及今天刷的情形\\n\\n\\n2016-6-5 10:33 PM 上傳下載附件 (1.12 MB)\\n\\n\\n\\n2016-6-5 10:33 PM 上傳下載附件 (1.1 MB)\\n\\n\\n\\n2016-6-5 10:33 PM 上傳下載附件 (1.11 MB)\\n\\n\\n\\n剛剛 上傳下載附件 (1.04 MB)\\n\\n\\n\\n2016-6-5 10:33 PM 上傳下載附件 (1.05 MB)\\n\\n\\n\\n剛剛 上傳下載附件 (1.05 MB)\\n\\n\\n\\n'}, {'回覆時間': '2016-6-6 12:53 AM', '回覆作者': 'lalala332211', '回覆內容': 'wow you got many\\xa0\\xa0legendaries.\\xa0\\xa0What level and where was this?\\xa0\\xa0How long did it take for you to clear it?'}, {'回覆時間': '2016-6-6 02:47 AM', '回覆作者': 's0926876620', '回覆內容': '這不是肯德基這不是肯德基\\r\\n刷了不少光了~真好~'}, {'回覆時間': '2016-6-6 06:42 AM', '回覆作者': 'blackman122', '回覆內容': '這要表達什麼?還有下面幾張都不是牛關刷出來的吧?'}, {'回覆時間': '2016-6-6 07:48 PM', '回覆作者': 'daniel47', '回覆內容': '牛關是著名的經驗多、掉寶機率也高!!\\n\\r\\n應該大家都知道了...\\n\\r\\n只是牛刀好像不好打到阿>\"<'}, {'回覆時間': '2016-6-7 02:36 AM', '回覆作者': '小維牙', '回覆內容': '開到牛關的機率超低的..'}, {'回覆時間': '2016-6-7 11:36 AM', '回覆作者': 'asdfghj8p', '回覆內容': '這季都沒開到過很難過..'}, {'回覆時間': '2016-6-7 12:08 PM', '回覆作者': 'montell', '回覆內容': '只有前2張跟牛關有關係...後面的圖是幹嘛的??'}, {'回覆時間': '2016-6-7 04:01 PM', '回覆作者': 'abcr11', '回覆內容': '牛刀多到都一直拆阿....刷到已經不想刷了'}, {'回覆時間': '2016-6-8 03:40 PM', '回覆作者': 'joshmylove', '回覆內容': '請問要怎麼進入不是乳牛關?\\n\\r\\n重來沒有進去過@@'}, {'回覆時間': '2016-6-8 08:10 PM', '回覆作者': 'bambi78423', '回覆內容': '好久沒玩了 居然還有這種關卡'}, {'回覆時間': '2016-6-8 11:14 PM', '回覆作者': 'talemote9999', '回覆內容': '哈哈我打到一隻遠古的牛刀，有點不想拿來開'}, {'回覆時間': '2016-6-9 11:20 AM', '回覆作者': 'rolf1022', '回覆內容': '好像還不錯喔...不過很久沒玩了...無聊逛逛..一.一.\\r\\n話說...魔獸電影出了..趕快去看啊..XD'}, {'回覆時間': '2016-6-9 03:19 PM', '回覆作者': 'yunyumei', '回覆內容': '牛頭不對馬嘴...隨便放幾張沒關連的圖..\\n'}, {'回覆時間': '2016-6-10 07:43 AM', '回覆作者': '涂雯怡', '回覆內容': '這要表達什麼?...=.=...還是跑錯版啦...@@'}]}, {'title': '[綜合討論]網易於電話財報中透露《暗黑破壞神 永生不朽》就開發層面來說已準備就緒', 'time': '2019-3-2 03:36 AM', 'content': '在 2018 年 BlizzCon 作為壓軸發表，由 Activision Blizzard 與網易攜手開發的《暗黑破壞神 永生不朽》在現場公布後引起不少玩家的議論，而該作品也將是《暗黑破壞神》系列首次登上智慧型手機平台。\\r\\n事實上不少玩家也都相當關心該作品目前的進度，儘管《暗黑破壞神 永生不朽》已在 Google Play 及官方網站展開事前登錄，但仍未公開確切推出的時程。根據 Seeking Alpha 公開的資訊指出，從網易在 2 月 20 日召開的電話財報會議中可看出該作品目前在開發層面來說已準備就緒，但詳細推出日期則得詢問 Activision Blizzard 了。\\n\\r\\n\\u3000\\u3000在會議中被問到《暗黑破壞神 永生不朽》目前的狀況時，網易首席財務長（CFO） 楊昭烜（音譯，Zhaoxuan Yang）指出，儘管《暗黑破壞神 永生不朽》是由網易及 Activision Blizzard 共同開發，但詳細發布時間希望大家可以去向 Activision Blizzard 尋求答案。楊昭烜透露，從遊戲開發人員的角度來看，雖然˙《暗黑破壞神 永生不朽》還有一些優化及加強的空間，但整體上來說已經準備就緒，並沒有任何會構成延遲推出的潛在理由。\\n\\r\\n\\u3000\\u3000《暗黑破壞神 永生不朽》目前尚未確定何時推出。', 'pageview': '1436', 'resp_cnt': '7', 'author_name': 'milhouse1112', 'author_post_cnt': '669', 'author_score': '-2 點', 'author_diving_value': '23820 米', 'resp': [{'回覆時間': '2019-3-2 03:36 AM', '回覆作者': 'milhouse1112', '回覆內容': '在 2018 年 BlizzCon 作為壓軸發表，由 Activision Blizzard 與網易攜手開發的《暗黑破壞神 永生不朽》在現場公布後引起不少玩家的議論，而該作品也將是《暗黑破壞神》系列首次登上智慧型手機平台。\\r\\n事實上不少玩家也都相當關心該作品目前的進度，儘管《暗黑破壞神 永生不朽》已在 Google Play 及官方網站展開事前登錄，但仍未公開確切推出的時程。根據 Seeking Alpha 公開的資訊指出，從網易在 2 月 20 日召開的電話財報會議中可看出該作品目前在開發層面來說已準備就緒，但詳細推出日期則得詢問 Activision Blizzard 了。\\n\\r\\n\\u3000\\u3000在會議中被問到《暗黑破壞神 永生不朽》目前的狀況時，網易首席財務長（CFO） 楊昭烜（音譯，Zhaoxuan Yang）指出，儘管《暗黑破壞神 永生不朽》是由網易及 Activision Blizzard 共同開發，但詳細發布時間希望大家可以去向 Activision Blizzard 尋求答案。楊昭烜透露，從遊戲開發人員的角度來看，雖然˙《暗黑破壞神 永生不朽》還有一些優化及加強的空間，但整體上來說已經準備就緒，並沒有任何會構成延遲推出的潛在理由。\\n\\r\\n\\u3000\\u3000《暗黑破壞神 永生不朽》目前尚未確定何時推出。'}, {'回覆時間': '2019-3-2 02:39 PM', '回覆作者': 'jimbear', '回覆內容': '沒有招牌砸不爛這種事情，發布消息後的各種跡象應該都能讓他們知道要謹慎一點，雖然騎虎難下了，但暴雪拖時間從來就不是多意外的事情......\\n\\r\\n不過個人來說....怎麼改都不會想玩吧，跟大陸手遊合作真的瞎'}, {'回覆時間': '2019-3-2 08:30 PM', '回覆作者': 'trykillme', '回覆內容': '果然貼個皮而已不用花太多時間'}, {'回覆時間': '2019-3-3 07:35 PM', '回覆作者': 'king2000joe', '回覆內容': '希望能有所創新 \\r\\n不然玩家不會買單'}, {'回覆時間': '2019-3-3 09:00 PM', '回覆作者': '我想要聽', '回覆內容': '暴雪這樣做其實某程度來講也並不算太糟，除了可以測試手遊市場的水溫，也可知道目前暗黑這個IP還有多少人注意(價值)，暴雪在《暗黑破壞神 永生不朽》應該不會放太多的心力，這不過只是打入中國市場的一步棋而已'}, {'回覆時間': '2019-3-4 02:55 PM', '回覆作者': 'bbc111', '回覆內容': '暴雪可以開發手遊市場\\r\\n但他錯在跟網易合作..\\r\\n這是一間在大陸他們自己都不想碰的廠商...\\r\\n換skin、換名稱就重新上架重複賣的公司\\r\\n暴雪這次真的下錯棋\\r\\n除非真的真的有很大的突破\\r\\n不然我覺得...很危險'}, {'回覆時間': '2019-3-10 03:08 PM', '回覆作者': 'yunyumei', '回覆內容': '貼皮遊戲...\\n\\r\\n暴血人才流失嚴重阿....已經慘到要靠這類遊戲賺錢而不是研發新的遊戲'}, {'回覆時間': '前天\\xa010:58 PM', '回覆作者': 'yunyumei', '回覆內容': '一年多了....一個貼皮遊戲還沒法上市\\n\\r\\n可能內部測試也是瘋狂被老闆打槍吧\\n\\n{:31:}{:31:}{:31:}'}]}, {'title': '[綜合討論]請問D3跟POE差在哪呢', 'time': '2019-3-24 07:39 PM', 'content': '最近想玩點這類型的遊戲 發現這兩個挺像的 請問有大大能分析嗎', 'pageview': '2327', 'resp_cnt': '6', 'author_name': 'edward0606a', 'author_post_cnt': '78', 'author_score': '0 點', 'author_diving_value': '3100 米', 'resp': [{'回覆時間': '2019-3-24 07:39 PM', '回覆作者': 'edward0606a', '回覆內容': '最近想玩點這類型的遊戲 發現這兩個挺像的 請問有大大能分析嗎'}, {'回覆時間': '2019-3-26 03:58 PM', '回覆作者': 'a552565100', '回覆內容': '我很想認真回你，但我又怕打了一大串結果你一擊脫離。\\n\\n\\n剛剛 上傳下載附件 (66.2 KB)\\n\\n\\r\\n搞得我真心換絕情\\n'}, {'回覆時間': '2019-4-14 01:44 PM', '回覆作者': 'yunyumei', '回覆內容': '一個有持續改版跟交易功能...\\n\\r\\n一個已經沒人愛'}, {'回覆時間': '2019-4-20 10:55 AM', '回覆作者': 'tokailove', '回覆內容': '我覺得poe比較有變化，但一樣的是都是刷寶刷寶的節奏'}, {'回覆時間': '2019-4-22 10:50 PM', '回覆作者': 'aa44747', '回覆內容': 'D3的畫面會比較好\\r\\nPOE 我覺得節奏感比較佳\\r\\n都是拼命刷到爆肝的節奏'}, {'回覆時間': '2019-4-26 02:53 PM', '回覆作者': 't124024045', '回覆內容': '都是刷裝的遊戲\\r\\nD3可能畫質好一點\\r\\n還是朋友一起玩比較持續久一點'}, {'回覆時間': '前天\\xa010:56 PM', '回覆作者': 'yunyumei', '回覆內容': '不過poe硬體很吃...\\n\\r\\n畢盡他組合多...招式很吃顯示卡'}]}, {'title': '[綜合討論]請問衛哨的距離能打多遠??', 'time': '2019-4-27 01:56 PM', 'content': '回鍋新手 請問\\n\\n衛哨的距離能打多遠??\\n總感覺放太遠的 都不會丟技能出來\\n所以都是看到怪群 \\n就順手放1~2個衛哨一起放技能.\\n', 'pageview': '1538', 'resp_cnt': '5', 'author_name': 'xxguavaxx', 'author_post_cnt': '8', 'author_score': '58 點', 'author_diving_value': '860 米', 'resp': [{'回覆時間': '2019-4-27 01:56 PM', '回覆作者': 'xxguavaxx', '回覆內容': '回鍋新手 請問\\n\\n衛哨的距離能打多遠??\\n總感覺放太遠的 都不會丟技能出來\\n所以都是看到怪群 \\n就順手放1~2個衛哨一起放技能.\\n'}, {'回覆時間': '2019-4-29 09:36 PM', '回覆作者': 'sueming1979', '回覆內容': '如果穿掠奪者的化身+戰輪技能距離能打很遠,看不見衛哨的地方戰輪都會一起射出.'}, {'回覆時間': '2019-4-30 04:42 PM', '回覆作者': 'pigworker666', '回覆內容': '哨衛是不是不會射了\\r\\n映像中不是會自射嗎'}, {'回覆時間': '2019-4-30 05:01 PM', '回覆作者': 'a552565100', '回覆內容': '哇好巧喔，有人跟你有一模一樣的疑惑欸\\n\\n\\n剛剛 上傳下載附件 (104.7 KB)\\n\\n'}, {'回覆時間': '2019-5-6 10:58 AM', '回覆作者': 'b24220362', '回覆內容': '衛哨的距離能打多遠?\\r\\n我測試大概1個螢幕到1.5個螢幕的距離吧\\n'}, {'回覆時間': '前天\\xa010:55 PM', '回覆作者': 'yunyumei', '回覆內容': '不過衛哨改版後要你同步施放技能,不然普攻真得是開玩笑的\\n\\r\\n打到明年都死不了'}]}, {'title': '[玩家互動]這個改動我覺得蠻好的~拍得不清楚請見諒~', 'time': '2019-4-14 11:59 PM', 'content': '\\n\\n\\n\\n2019-8-8 04:30 PM 上傳下載附件 (279.05 KB)\\n紅光就是保證拉~\\r\\n\\n', 'pageview': '2589', 'resp_cnt': '21', 'author_name': 'a751106', 'author_post_cnt': '204', 'author_score': '3 點', 'author_diving_value': '9160 米', 'resp': [{'回覆時間': '2019-4-14 11:59 PM', '回覆作者': 'a751106', '回覆內容': '\\n\\n\\n\\n2019-8-8 04:30 PM 上傳下載附件 (279.05 KB)\\n紅光就是保證拉~\\r\\n\\n'}, {'回覆時間': '2019-4-15 11:37 AM', '回覆作者': 'marcianana7', '回覆內容': '看不清楚 XD 是什麼改動阿？可以用文字敘述一下嗎？'}, {'回覆時間': '2019-4-15 04:33 PM', '回覆作者': 'pigworker666', '回覆內容': '撿東西的圖示嗎\\r\\n不然看不太懂\\n'}, {'回覆時間': '2019-4-15 07:53 PM', '回覆作者': 'a552565100', '回覆內容': '是NS版嗎?PC版不是能用print screen鍵截圖嗎?'}, {'回覆時間': '2019-4-15 08:14 PM', '回覆作者': 'loddss', '回覆內容': '一種意義不明的感覺…\\r\\n可以請版大出來說明一下嗎？'}, {'回覆時間': '2019-4-16 12:56 AM', '回覆作者': 'a751106', '回覆內容': 'loddss 發表於 2019-4-15 08:14 PM \\r\\n一種意義不明的感覺…\\r\\n可以請版大出來說明一下嗎？\\n就是出洪荒 他的光會是一條紅色的柱子很帥'}, {'回覆時間': '2019-4-16 12:58 AM', '回覆作者': 'a751106', '回覆內容': 'marcianana7 發表於 2019-4-15 11:37 AM \\r\\n看不清楚 XD 是什麼改動阿？可以用文字敘述一下嗎？\\n洪荒的會變成紅色柱子~太開心沒拍好 抱歉阿~'}, {'回覆時間': '2019-4-16 12:59 AM', '回覆作者': 'a751106', '回覆內容': 'a552565100 發表於 2019-4-15 07:53 PM \\r\\n是NS版嗎?PC版不是能用print screen鍵截圖嗎?\\n是PC喔~~NS我不知道~print screen這個我筆電上找不到QAQ'}, {'回覆時間': '2019-4-16 01:29 AM', '回覆作者': 'pennywu', '回覆內容': '好像是上季還是這季開始就洪荒裝就是紅光了\\r\\n但說真的跟原本的遠古橘光有點難分辨\\r\\n總之就是先撿再說了'}, {'回覆時間': '2019-4-16 02:33 AM', '回覆作者': 'a751106', '回覆內容': 'pennywu 發表於 2019-4-16 01:29 AM \\r\\n好像是上季還是這季開始就洪荒裝就是紅光了\\r\\n但說真的跟原本的遠古橘光有點難分辨\\r\\n總之就是先撿再說了 ...\\n是阿~~ 我記得這季才開始ˇ\\n'}, {'回覆時間': '2019-4-17 11:37 PM', '回覆作者': 'alteclala', '回覆內容': '看不太懂意思\\r\\n可以說明一下嗎？'}, {'回覆時間': '2019-4-18 01:00 AM', '回覆作者': 'injog555', '回覆內容': '遠古洪荒，跟洪荒的寶物\\r\\n掉落時\\r\\n畫面顯示改為紅色光柱\\r\\n與原來的傳奇金色光柱作區別\\n'}, {'回覆時間': '2019-4-18 11:03 AM', '回覆作者': 'talemote9999', '回覆內容': '喔喔原來洪荒是紅色光，重來沒掉過哈哈'}, {'回覆時間': '2019-4-18 05:25 PM', '回覆作者': 'jimei2', '回覆內容': '至少噴出就知道是洪荒了，可以先樂一下'}, {'回覆時間': '2019-4-21 12:17 AM', '回覆作者': 'ykfreestyle', '回覆內容': '噴紅光...不過都是撿了一些垃圾!!效果有限。'}]}, {'title': '[綜合討論]我竟然打到了SOJ!!!!', 'time': '2014-1-5 02:12 PM', 'content': '天呀~~我等了10多年，從D2打到D3，終於打到人生第一顆SOJ啦!!!!\\n\\n\\n2014-1-5 02:09 PM 上傳下載附件 (372.22 KB)\\nSOJ一枚~~\\r\\n\\n\\n\\n', 'pageview': '15874', 'resp_cnt': '159', 'author_name': 'lishengchang', 'author_post_cnt': '27', 'author_score': '153 點', 'author_diving_value': '4160 米', 'resp': [{'回覆時間': '2014-1-5 02:12 PM', '回覆作者': 'lishengchang', '回覆內容': '天呀~~我等了10多年，從D2打到D3，終於打到人生第一顆SOJ啦!!!!\\n\\n\\n2014-1-5 02:09 PM 上傳下載附件 (372.22 KB)\\nSOJ一枚~~\\r\\n\\n\\n\\n'}, {'回覆時間': '2014-1-5 03:03 PM', '回覆作者': '0913695966', '回覆內容': '恭喜你啊~\\r\\n自己打到的別有一種情感~\\n'}, {'回覆時間': '2014-1-5 03:25 PM', '回覆作者': 'omyga1164', '回覆內容': '上一代的神器~~\\xa0\\xa0這一代的落漆~~'}, {'回覆時間': '2014-1-5 04:15 PM', '回覆作者': 'aletheia0619', '回覆內容': '最近又開始玩D3了！以後應該會常來逛逛啦！'}, {'回覆時間': '2014-1-5 05:23 PM', '回覆作者': 'winpbabyx1', '回覆內容': 'd2超好用的神裝\\r\\nd3超常拆的硫磺\\r\\n天與地啊'}, {'回覆時間': '2014-1-5 06:16 PM', '回覆作者': 'rubystudio', '回覆內容': '還不錯~不過在這代實在作用不大~畢竟不適常常在打菁英'}, {'回覆時間': '2014-1-5 06:28 PM', '回覆作者': '飛翔~', '回覆內容': '樓主打了連跨兩代才打到一顆阿...真是恭喜阿\\n\\r\\n第一顆感覺就不錯喔野蠻人好用...\\n\\r\\n話說回來....我跟樓主一樣暗黑的人生就打到這麼一顆'}, {'回覆時間': '2014-1-5 07:16 PM', '回覆作者': '發表於 2014-1-5 07:16 PM|只看該作者', '回覆內容': '堅持下去\\xa0\\xa0\\r\\n總會有的\\xa0\\xa0\\r\\n也總是那麼的不經意...'}, {'回覆時間': '2014-1-5 08:08 PM', '回覆作者': 's906504', '回覆內容': '恭喜喔\\r\\n讚喔\\r\\n祝福再打到別的好裝備'}, {'回覆時間': '2014-1-5 09:48 PM', '回覆作者': 'pk2324681', '回覆內容': '\\n\\n等的10年有誇張~!\\r\\n上一代的喬丹比較好\\r\\n這一代的實在是......有夠無言\\r\\n2代3代都打過 不過還是2代打到的時候最感動了\\n'}, {'回覆時間': '2014-1-5 10:49 PM', '回覆作者': 'green0225', '回覆內容': '\\n\\r\\n居然還有喬丹耶~~~\\n\\r\\n不過我很久沒打了~~~\\n\\r\\n自從卡等之後...'}, {'回覆時間': '2014-1-5 11:26 PM', '回覆作者': 'skb123698741', '回覆內容': 'D2的寶\\r\\nD3的渣...\\r\\n製作團隊真不知道在想啥毀'}, {'回覆時間': '2014-1-6 02:32 AM', '回覆作者': 'dmonkeyking', '回覆內容': '這個我半年前踢罐子就不小心掉了一個!!!\\r\\n感覺沒什麼價\\r\\n除非屬性還不錯'}, {'回覆時間': '2014-1-6 02:46 AM', '回覆作者': 'plmplmpl123', '回覆內容': 'SOJ!! \\r\\n好像感覺還不錯呢\\r\\n現在最常打到的大概就是象牙塔吧\\r\\n看到盾掉在地上都無感了QAQ'}, {'回覆時間': '2014-1-6 04:44 AM', '回覆作者': 'OO大XX', '回覆內容': '對精英提高25趴的傷害 看起來就 很猛 恭喜大大拉~~~!!'}]}, {'title': '[綜合討論]s17賽季一問', 'time': '2019-5-28 03:24 AM', 'content': '新手一開始玩應該先玩那個職業\\n', 'pageview': '1466', 'resp_cnt': '4', 'author_name': 'kazuk258', 'author_post_cnt': '4', 'author_score': '0 點', 'author_diving_value': '810 米', 'resp': [{'回覆時間': '2019-5-28 03:24 AM', '回覆作者': 'kazuk258', '回覆內容': '新手一開始玩應該先玩那個職業\\n'}, {'回覆時間': '2019-6-5 05:05 PM', '回覆作者': 'scottcheng', '回覆內容': '打獵人, 這次是暗影 容易入手'}, {'回覆時間': '2019-7-1 09:47 AM', '回覆作者': 'yunyumei', '回覆內容': '巫醫...\\n\\r\\n小雞快跑...打裝快...後面帶一推小弟不容易死'}, {'回覆時間': '3\\xa0天前', '回覆作者': 'yunyumei', '回覆內容': '不然可以嘗試聖騎...可以有3條命想死都難'}, {'回覆時間': '前天\\xa001:08 PM', '回覆作者': 'jamez327', '回覆內容': '每個賽季都是獵人入手的路過'}]}, {'title': '[綜合討論]死靈法師技能試玩效果動畫分享', 'time': '2016-11-6 02:42 AM', 'content': '\\n\\n分享一下暴雪嘉年華上暗黑三即將到來的新職業死靈法師的試玩，老實說我不會貼圖……所以發出來怪怪的……\\r\\n試玩中發布了一些預設的死靈法師技能，所有技能都是基礎形態，沒有符文，且是物理屬性。然而依舊讓我好期待！\\n\\nhttp://img1.cache.netease.com/game/diablo3/d3/news/201610/76.gif\\r\\n左鍵：鮮血虹吸，這是持續施法技能，吸血且回藍……\\r\\n◾每次造成傷害時生成15點精華。 造成300％的武器傷害。引導時每秒治療你總血量的2%。\\n\\nhttp://img1.cache.netease.com/game/diablo3/d3/news/201610/80.gif\\r\\n右鍵：骨矛，不解釋，暗黑二經典技能！\\r\\n◾消耗：20點精華\\r\\n◾穿刺所有彈道上的敵人造成450%物理武器傷害。\\n\\nhttp://img2.cache.netease.com/ga ... 1105034624d0082.gif\\r\\n1：屍爆，依然不解釋，暗黑二經典爆爆爆！\\r\\n◾引爆目標區域內所有屍体並在20碼內造成150%武器傷害。假如有多個屍体在范圍內引爆視覺效果滿分！\\n\\r\\n2：衰老，應該還是源自暗黑二詛咒系的技能，沒啥感覺……\\r\\n◾降低敵人75%的移動速度和20%的傷害。 冷卻時間不詳，反正不能連續施放。\\n\\nhttp://img1.cache.netease.com/game/diablo3/d3/news/201610/77.gif\\r\\n3：血衝，法師閃爍的死靈版，看起來好像對穿過的單位有點傷害，估計也就一點點傷害@-@\\r\\n◾冷卻：4秒\\r\\n◾似乎是無敵衝出50碼。冷卻時間還好。\\n\\nhttp://img1.cache.netease.com/game/diablo3/d3/news/201610/78.gif\\r\\n4：支配骷髏，骷髏海回來了！！！\\r\\n◾消耗：50點精華，精華上限100？具体還真不清楚@-@\\r\\n◾主動效果：指揮你的骷髏仆役去攻擊目標，並提升其傷害100%5秒。\\r\\n◾被動效果：每秒鐘從地上復生一只骷髏。骷髏仆役每次攻擊可造成50%武器傷害。這個被動說是一秒一個，但是一開始秘境時會以相當快的速度招滿10個骷髏。 最酷炫的就是支配骷髏，自動召喚骷髏不說，點下4鍵的瞬間肉搏骷髏會瞬移到目標處開始攻擊，遠程也會轉移目標，簡稱指哪打哪！ \\n', 'pageview': '38998', 'resp_cnt': '340', 'author_name': 'skywing13', 'author_post_cnt': '99', 'author_score': '153 點', 'author_diving_value': '5059 米', 'resp': [{'回覆時間': '2016-11-6 02:42 AM', '回覆作者': 'skywing13', '回覆內容': '\\n\\n分享一下暴雪嘉年華上暗黑三即將到來的新職業死靈法師的試玩，老實說我不會貼圖……所以發出來怪怪的……\\r\\n試玩中發布了一些預設的死靈法師技能，所有技能都是基礎形態，沒有符文，且是物理屬性。然而依舊讓我好期待！\\n\\nhttp://img1.cache.netease.com/game/diablo3/d3/news/201610/76.gif\\r\\n左鍵：鮮血虹吸，這是持續施法技能，吸血且回藍……\\r\\n◾每次造成傷害時生成15點精華。 造成300％的武器傷害。引導時每秒治療你總血量的2%。\\n\\nhttp://img1.cache.netease.com/game/diablo3/d3/news/201610/80.gif\\r\\n右鍵：骨矛，不解釋，暗黑二經典技能！\\r\\n◾消耗：20點精華\\r\\n◾穿刺所有彈道上的敵人造成450%物理武器傷害。\\n\\nhttp://img2.cache.netease.com/ga ... 1105034624d0082.gif\\r\\n1：屍爆，依然不解釋，暗黑二經典爆爆爆！\\r\\n◾引爆目標區域內所有屍体並在20碼內造成150%武器傷害。假如有多個屍体在范圍內引爆視覺效果滿分！\\n\\r\\n2：衰老，應該還是源自暗黑二詛咒系的技能，沒啥感覺……\\r\\n◾降低敵人75%的移動速度和20%的傷害。 冷卻時間不詳，反正不能連續施放。\\n\\nhttp://img1.cache.netease.com/game/diablo3/d3/news/201610/77.gif\\r\\n3：血衝，法師閃爍的死靈版，看起來好像對穿過的單位有點傷害，估計也就一點點傷害@-@\\r\\n◾冷卻：4秒\\r\\n◾似乎是無敵衝出50碼。冷卻時間還好。\\n\\nhttp://img1.cache.netease.com/game/diablo3/d3/news/201610/78.gif\\r\\n4：支配骷髏，骷髏海回來了！！！\\r\\n◾消耗：50點精華，精華上限100？具体還真不清楚@-@\\r\\n◾主動效果：指揮你的骷髏仆役去攻擊目標，並提升其傷害100%5秒。\\r\\n◾被動效果：每秒鐘從地上復生一只骷髏。骷髏仆役每次攻擊可造成50%武器傷害。這個被動說是一秒一個，但是一開始秘境時會以相當快的速度招滿10個骷髏。 最酷炫的就是支配骷髏，自動召喚骷髏不說，點下4鍵的瞬間肉搏骷髏會瞬移到目標處開始攻擊，遠程也會轉移目標，簡稱指哪打哪！ \\n'}, {'回覆時間': '2016-11-6 11:11 PM', '回覆作者': 'ayk0623', '回覆內容': '哦哦!!!!看來人潮可能又能拉回來了~\\r\\n不過還是希望能再做更完善點~不要一出來又一堆問題就搞笑了'}, {'回覆時間': '2016-11-7 07:02 AM', '回覆作者': 'chenc417', '回覆內容': '就目前巫醫的樣子，感覺不太可能做出太大量的骷髏海了...有點可惜...'}, {'回覆時間': '2016-11-7 10:32 AM', '回覆作者': 'liuey', '回覆內容': '巫醫的鬼娃【大軍】弄一弄也才20多隻，這個骷髏海能有幾隻實在沒啥期待....'}, {'回覆時間': '2016-11-7 11:25 PM', '回覆作者': '7890123', '回覆內容': 'w太好了~~終於可以再繼續玩了!!!~~~~~~讚'}, {'回覆時間': '2016-11-8 01:01 AM', '回覆作者': 'sueming1979', '回覆內容': '新職業,新玩法期待中'}, {'回覆時間': '2016-11-8 03:34 PM', '回覆作者': 'ZXCS0214', '回覆內容': '新職業新體驗^^\\r\\n比賽季倉庫好多了'}, {'回覆時間': '2016-11-8 07:09 PM', '回覆作者': 'isaacbtbt', '回覆內容': '有死靈的上陣了~我愛的德魯伊也不遠了\\r\\n氏族會出現一整票的死靈法師上線了'}, {'回覆時間': '2016-11-8 07:44 PM', '回覆作者': 'SEED555', '回覆內容': '等了10年 終於來啦!\\n\\r\\n不過也要等到賽季10了(還要多花一筆'}, {'回覆時間': '2016-11-8 09:29 PM', '回覆作者': 'finalnothing', '回覆內容': '總算等到死靈法師出了 D2最喜歡的職業~\\r\\n希望能夠跟D2一樣有趣'}, {'回覆時間': '2016-11-8 10:24 PM', '回覆作者': 's3000', '回覆內容': '我比較喜歡 DRUID, 死靈和巫醫的角色有太多重覆'}, {'回覆時間': '2016-11-9 12:26 PM', '回覆作者': 'tuea1233', '回覆內容': '看起來不錯 考慮回去玩玩看XD\\n\\r\\n不過跟D2技能好像差不多呢 希望是能不同一點'}, {'回覆時間': '2016-11-9 06:23 PM', '回覆作者': 'daniel47', '回覆內容': '讚啦~~\\n\\r\\n不過我\"個人\"感覺他跟巫醫有點同性質\\n\\r\\n我還覺得同D2的話\\xa0\\xa0德魯伊或許跟目前的腳色有比較大的區別'}, {'回覆時間': '2016-11-9 09:32 PM', '回覆作者': 'mr0kimo', '回覆內容': '感覺玩法不會跟巫醫差太多\\r\\n最多只是多了詛咒+骨矛的巫醫'}, {'回覆時間': '2016-11-10 06:53 AM', '回覆作者': '超級淺水王', '回覆內容': '希望除了開放新職業也可以多一些東西進去\\r\\n不然只單單多一隻死靈法師其實撐不了多久'}]}, {'title': '[綜合討論]暗黑3-賽季輪迴刷裝', 'time': '2019-5-26 01:04 AM', 'content': '踏入暗黑3-算是骨灰級玩家了\\n\\n\\r\\n從已開始的拍賣所機制\\r\\n到苦痛難度的挑戰\\r\\n再來一些秘境的爬層\\r\\n而後的賽季機制\\n\\r\\n想問問各位骨灰級別的玩家們\\n\\r\\n為何會對這款無限輪迴刷裝&爬層的大GAME\\n\\r\\n如此［死忠］???\\n', 'pageview': '2058', 'resp_cnt': '15', 'author_name': 'bmy08577661', 'author_post_cnt': '153', 'author_score': '250 點', 'author_diving_value': '14766 米', 'resp': [{'回覆時間': '2019-5-26 01:04 AM', '回覆作者': 'bmy08577661', '回覆內容': '踏入暗黑3-算是骨灰級玩家了\\n\\n\\r\\n從已開始的拍賣所機制\\r\\n到苦痛難度的挑戰\\r\\n再來一些秘境的爬層\\r\\n而後的賽季機制\\n\\r\\n想問問各位骨灰級別的玩家們\\n\\r\\n為何會對這款無限輪迴刷裝&爬層的大GAME\\n\\r\\n如此［死忠］???\\n'}, {'回覆時間': '2019-5-26 06:49 AM', '回覆作者': 'pigworker666', '回覆內容': '大部分為了拿獎勵而已\\r\\n少部分像我這種\\r\\n打發時間用\\r\\n每天不會玩超過一小的人'}, {'回覆時間': '2019-5-27 04:15 AM', '回覆作者': 'davy70214', '回覆內容': '雖然無限輪回,但每次賽季一開都會想再玩個一陣子'}, {'回覆時間': '2019-5-27 05:41 PM', '回覆作者': 'bmy08577661', '回覆內容': 'davy70214 發表於 2019-5-27 04:15 AM \\r\\n雖然無限輪回,但每次賽季一開都會想再玩個一陣子\\n一款經典遊戲，繼續下去'}, {'回覆時間': '2019-5-27 07:29 PM', '回覆作者': 'loddss', '回覆內容': '簡單來說…就是想回味的時侯會玩一下\\r\\n賽季開始就玩，拿到想要的套裝就繼續玩…最近已經變成怎麼最快拿到想要的套裝'}, {'回覆時間': '2019-5-27 09:23 PM', '回覆作者': '1237689', '回覆內容': '暗黑完的也是很膩了\\r\\n為了賽季的獎勵才會回去玩一下 回味下'}, {'回覆時間': '2019-5-28 03:21 AM', '回覆作者': 'angelloveangel0', '回覆內容': 'QQ玩膩了...大約只是開起來看看QQ~然後下陷'}, {'回覆時間': '2019-6-2 09:24 PM', '回覆作者': 'andy0048', '回覆內容': '因為遊戲已經買斷了不用再額外付費 \\r\\n還能享受持續更新的遊戲內容\\n\\r\\n我有其他款買斷制遊戲 不更新也就算了\\r\\n官方提供的連線伺服器在購買後的兩、三年關閉\\r\\n本來還能連線分享的 直接變成純單機遊戲 \\n\\r\\n還有另一款與上款同公司的連線對戰遊戲 \\r\\n沒提供單機劇情 因為官方伺服器關閉 \\r\\n現在完全無法進行遊戲 這筆錢就是白花了\\n\\r\\nD3大可以在推出某個版本後就不再更新\\r\\n而是只提供固定時段換季 這樣省很大的麻煩\\r\\n但目前依然有在更新內容 即便只是將數字放大 \\r\\n這也讓玩家能更輕鬆享受遊戲\\n\\r\\n而目前的情況是每一季都會推出不同的主題\\r\\n雖然不滿意但可接受 這已經是相當良好的情況了'}, {'回覆時間': '2019-6-4 03:56 PM', '回覆作者': 'pigworker666', '回覆內容': '爽玩就好\\r\\n不要想太多'}, {'回覆時間': '2019-6-6 07:36 PM', '回覆作者': 'yunyumei', '回覆內容': '死忠不多了...\\n\\r\\n9成都是解成就收工'}, {'回覆時間': '2019-6-8 10:10 AM', '回覆作者': 'hamiya', '回覆內容': '每過一陣子無聊了，就再開起來玩一下，要無限輪迴打賽季？太累了'}, {'回覆時間': '2019-6-8 04:34 PM', '回覆作者': 'jack21402', '回覆內容': '\\r\\n打發時間\\xa0 \\xa0\\xa0 \\xa0\\xa0 \\xa0\\xa0\\xa0\\r\\n順便拿獎勵'}, {'回覆時間': '2019-6-18 12:00 PM', '回覆作者': 'chinapower', '回覆內容': '現在都是無聊的時候開起來解成就 刷秘境 刷到無聊就下線了'}, {'回覆時間': '2019-6-18 04:11 PM', '回覆作者': 'pigworker666', '回覆內容': '暗黑完的也是很膩了\\r\\n為了賽季的獎勵才會回去玩一下 回味下'}, {'回覆時間': '2019-7-1 09:46 AM', '回覆作者': 'yunyumei', '回覆內容': '買斷了.....無聊就可以上去玩一下...\\n\\r\\n反正市面上目前也沒啥好遊戲了'}]}, {'title': '[綜合討論]在專家模式拓荒 用哪一個職業最難起家啊?', 'time': '2019-5-29 10:38 PM', 'content': '用最困難的模式去拓荒\\r\\n不使用賽季角色 沒有賽季專屬特效 沒有海德格贈禮\\r\\n不領取挑戰秘境寶箱 一切從零 並且是在專家模式開始\\n\\r\\n哪一個職業起家最困難阿?\\n\\r\\n最困難指的是 成型需要的關鍵裝備多 打怪慢 收集材料也慢\\n\\r\\n--\\n\\r\\n至於最簡單的應該是巫醫吧?\\r\\n12等出蝕魂 拿高白字的雙手武器就到處打 要升到70等也很快\\r\\n第一隻起家角色用巫醫應該是沒有太多問題\\n\\r\\n你覺得呢?\\n\\n', 'pageview': '1950', 'resp_cnt': '5', 'author_name': 'andy0048', 'author_post_cnt': '241', 'author_score': '7 點', 'author_diving_value': '15026 米', 'resp': [{'回覆時間': '2019-5-29 10:38 PM', '回覆作者': 'andy0048', '回覆內容': '用最困難的模式去拓荒\\r\\n不使用賽季角色 沒有賽季專屬特效 沒有海德格贈禮\\r\\n不領取挑戰秘境寶箱 一切從零 並且是在專家模式開始\\n\\r\\n哪一個職業起家最困難阿?\\n\\r\\n最困難指的是 成型需要的關鍵裝備多 打怪慢 收集材料也慢\\n\\r\\n--\\n\\r\\n至於最簡單的應該是巫醫吧?\\r\\n12等出蝕魂 拿高白字的雙手武器就到處打 要升到70等也很快\\r\\n第一隻起家角色用巫醫應該是沒有太多問題\\n\\r\\n你覺得呢?\\n\\n'}, {'回覆時間': '2019-6-8 08:40 PM', '回覆作者': 'pigworker666', '回覆內容': '不知道\\r\\n只玩過死靈\\r\\n感覺還行'}, {'回覆時間': '2019-7-1 09:49 AM', '回覆作者': 'yunyumei', '回覆內容': '專家還是聖騎\\n\\r\\n血多又不容易死...畢竟LAG大神殺是很強的'}, {'回覆時間': '2019-7-6 01:45 AM', '回覆作者': 'angelloveangel0', '回覆內容': '個人覺得巫醫~比較快起家QQ~'}, {'回覆時間': '2019-7-11 10:35 PM', '回覆作者': 'b24220362', '回覆內容': '個人覺得巫醫~比較快起家'}, {'回覆時間': '3\\xa0天前', '回覆作者': 'yunyumei', '回覆內容': '法師....皮太薄...血又少\\n\\n\\r\\n一個失誤或是網路LAG就結束了'}]}, {'title': '[綜合討論]為什麼當年推出洪荒裝備的時候 玩家會反對洪荒屬性比遠古多30%?', 'time': '2019-5-29 11:00 PM', 'content': '2017年 PTR 2.5.0時\\r\\nD3首次推出洪荒裝備 而裝備屬性比遠古裝備多30%\\r\\n也就是說 遠古主屬性可以加到1000 洪荒則可以加到1300\\n\\r\\n然而 這在當年卻遭到玩家們的大力反對\\r\\n暴雪最終將洪荒數值修正為遠古裝備的屬性最大值\\n\\r\\n2019年的現在 回過頭來看\\r\\n如果洪荒屬性不是鎖定為最大值\\r\\n而是在1050 - 1300之間跳動 這有何不可?\\n\\r\\n這真的是一個明智的決定嗎?\\n\\r\\n為什麼當年推出洪荒裝備的時候\\r\\n玩家會反對洪荒屬性比遠古多30%?\\n\\n', 'pageview': '2333', 'resp_cnt': '14', 'author_name': 'andy0048', 'author_post_cnt': '241', 'author_score': '7 點', 'author_diving_value': '15026 米', 'resp': [{'回覆時間': '2019-5-29 11:00 PM', '回覆作者': 'andy0048', '回覆內容': '2017年 PTR 2.5.0時\\r\\nD3首次推出洪荒裝備 而裝備屬性比遠古裝備多30%\\r\\n也就是說 遠古主屬性可以加到1000 洪荒則可以加到1300\\n\\r\\n然而 這在當年卻遭到玩家們的大力反對\\r\\n暴雪最終將洪荒數值修正為遠古裝備的屬性最大值\\n\\r\\n2019年的現在 回過頭來看\\r\\n如果洪荒屬性不是鎖定為最大值\\r\\n而是在1050 - 1300之間跳動 這有何不可?\\n\\r\\n這真的是一個明智的決定嗎?\\n\\r\\n為什麼當年推出洪荒裝備的時候\\r\\n玩家會反對洪荒屬性比遠古多30%?\\n\\n'}, {'回覆時間': '2019-5-30 03:49 PM', '回覆作者': 'pigworker666', '回覆內容': '洪荒已經非常難出了\\r\\n出來又不是你要的\\r\\n要多那30%我寧願把特效上調\\n'}, {'回覆時間': '2019-5-31 06:00 PM', '回覆作者': 'davy70214', '回覆內容': '大概是玩家不想要只是數值的無限成長,而是希望有質的轉變吧'}, {'回覆時間': '2019-6-1 12:33 AM', '回覆作者': 'atpx2', '回覆內容': '因為D3這幾年來都是調數值而已\\r\\n玩家希望的是本質上的改動\\r\\n否則就是落入既定的遊戲模式'}, {'回覆時間': '2019-6-1 06:13 PM', '回覆作者': '122568814', '回覆內容': '對於玩法上要求有更多的突破吧\\r\\n不然你看到現在已經16賽季了\\r\\n玩法上還是沒有新的變化\\r\\n唉...'}, {'回覆時間': '2019-6-2 09:16 PM', '回覆作者': 'andy0048', '回覆內容': 'pigworker666 發表於 2019-5-30 03:49 PM \\r\\n洪荒已經非常難出了\\r\\n出來又不是你要的\\r\\n要多那30%我寧願把特效上調\\n可是特效沒有上調阿 只是保證最高而已'}, {'回覆時間': '2019-6-6 09:54 AM', '回覆作者': 'tearpisces', '回覆內容': '好久沒玩了，有時間再來看看'}, {'回覆時間': '2019-6-6 07:18 PM', '回覆作者': 'yunyumei', '回覆內容': '因為最後只是變成打裝數值遊戲...\\n\\r\\n完全沒有意外隨機的感覺'}, {'回覆時間': '2019-6-24 12:48 AM', '回覆作者': 'angelloveangel0', '回覆內容': '調整後只是數字上好看些~但玩法與刷裝沒變= =很容易就膩了'}, {'回覆時間': '2019-6-26 12:03 AM', '回覆作者': 't124024045', '回覆內容': '就是一直加傷害...沒有新的玩法或道具\\r\\n久了還是會膩'}, {'回覆時間': '2019-6-30 05:44 PM', '回覆作者': 'kannico', '回覆內容': '\\n\\n相較於一直在數字上增減，不如把那些沒有做好的特效\\r\\n甚至是沒有特效的傳奇裝備，全部修正及補完！\\r\\n因為好多傳奇乏人問津，更有些連辨識都懶得辨識就直接拆掉……\\r\\n真不知道做這些傳奇出來到底是要做什麼的？\\r\\n一天到晚打到，有時候還一次給好幾個！真的是○□※＃×……'}, {'回覆時間': '2019-7-2 08:38 AM', '回覆作者': 'oohay600', '回覆內容': '說真的...D3也好像變不出新東西了...畢竟都買斷了..也過了那麼久了'}, {'回覆時間': '2019-7-5 02:56 PM', '回覆作者': 'jamez327', '回覆內容': '其實到最後也都只是巔峰破壞神而已，暗黑裝備再好，普通裝加上三、四千的巔峰還是屌打你的全身遠古加打卡'}, {'回覆時間': '2019-7-12 10:50 PM', '回覆作者': 'b24220362', '回覆內容': '不想要只是數值的無限成長,而是希望有質的轉變'}, {'回覆時間': '3\\xa0天前', '回覆作者': 'yunyumei', '回覆內容': '數值沒意義...\\n\\r\\n重點是裝備特色要出來'}]}, {'title': '[綜合討論]讓遊戲更好玩的方式', 'time': '2019-6-11 09:59 PM', 'content': '目前遊戲內大部分的傳奇裝都是廢物，好用好打的配置每個職業就是那2~3種，\\n每種配裝都是固定的改不了，\\nBZ花了很多時間設計很多傳奇裝有的還有一大段說明，\\n很不理解為什麼意讓它變成玩家根本不用的廢物，\\n為什麼不好好強化設計出來的裝備，\\n改掉該死的極低特效觸發機率，\\n光是大幅提升觸發機率這點就能多出很多流派，\\n我想不少玩家都不是很喜歡目前職業的固定配裝，\\n有些人喜歡無腦刷，\\n有些人愛極限傷害，\\n有些人只專注沖榜，\\n有些人偏愛某些技能，\\n但是這麼多的喜好大部分都礙於只有少數流派能有戰力而作罷，\\n在下也勉強算D3老玩家，\\n真的很希望BZ能放開\"他們不喜歡\"的這種思維，\\n放手讓玩家開發多采多姿的流派，\\nBZ不用去設想有甚麼流派，\\n只需要專注於設計好用實用的裝備即可，\\n剩下的配裝方式由全球幾百萬玩家一起開發，\\n以上是在下的一點心得\\n\\n\\n', 'pageview': '3211', 'resp_cnt': '19', 'author_name': 'herbert111', 'author_post_cnt': '18', 'author_score': '0 點', 'author_diving_value': '1130 米', 'resp': [{'回覆時間': '2019-6-11 09:59 PM', '回覆作者': 'herbert111', '回覆內容': '目前遊戲內大部分的傳奇裝都是廢物，好用好打的配置每個職業就是那2~3種，\\n每種配裝都是固定的改不了，\\nBZ花了很多時間設計很多傳奇裝有的還有一大段說明，\\n很不理解為什麼意讓它變成玩家根本不用的廢物，\\n為什麼不好好強化設計出來的裝備，\\n改掉該死的極低特效觸發機率，\\n光是大幅提升觸發機率這點就能多出很多流派，\\n我想不少玩家都不是很喜歡目前職業的固定配裝，\\n有些人喜歡無腦刷，\\n有些人愛極限傷害，\\n有些人只專注沖榜，\\n有些人偏愛某些技能，\\n但是這麼多的喜好大部分都礙於只有少數流派能有戰力而作罷，\\n在下也勉強算D3老玩家，\\n真的很希望BZ能放開\"他們不喜歡\"的這種思維，\\n放手讓玩家開發多采多姿的流派，\\nBZ不用去設想有甚麼流派，\\n只需要專注於設計好用實用的裝備即可，\\n剩下的配裝方式由全球幾百萬玩家一起開發，\\n以上是在下的一點心得\\n\\n\\n'}, {'回覆時間': '2019-6-11 11:19 PM', '回覆作者': 'hiphopleg', '回覆內容': '像我就是收集狂, 努力打寶中, \\r\\n結果剛剛突然關機了, 卡好'}, {'回覆時間': '2019-6-16 11:57 AM', '回覆作者': '1237689', '回覆內容': '向POE那樣嗎 可以玩很多喜歡的組合\\r\\n讓職業更多樣化'}, {'回覆時間': '2019-6-18 12:28 AM', '回覆作者': 't124024045', '回覆內容': '可以努力解成就....\\r\\n不然就收集東西\\r\\n這遊戲本來就是刷東西為樂阿'}, {'回覆時間': '2019-6-18 01:31 AM', '回覆作者': 'mbs058', '回覆內容': '目前就是打到好的傳奇洪荒不見得倉庫塞的下,除此之外每次更新用得上的傳奇基本上又得重新打\\r\\n已經成了修生養老的遊戲了'}, {'回覆時間': '2019-6-18 11:47 AM', '回覆作者': 'chinapower', '回覆內容': '嗯...每次改版完就差不多要重新收集裝備了 角色技能跟裝備都改好多\\r\\n之前在穿的一改版馬上變弱雞'}, {'回覆時間': '2019-6-21 07:43 PM', '回覆作者': 'jimei2', '回覆內容': '以目前情況，大概每個新賽季只能期待補齊2~3件裝的特效就不錯了...'}, {'回覆時間': '2019-6-21 08:55 PM', '回覆作者': 'EDDY40069', '回覆內容': '每次新賽季熱度大概就1～3周\\n\\r\\n能玩的套裝玩完就又AFK了，剩下想衝榜的人在慢慢衝而已\\n\\n'}, {'回覆時間': '2019-7-1 09:42 AM', '回覆作者': 'yunyumei', '回覆內容': '主要是裝備根本組不起來.\\r\\n跟套裝一比加成太少.\\r\\n想用一般裝打怪真的太慢了'}, {'回覆時間': '2019-7-2 09:26 PM', '回覆作者': 'jack21402', '回覆內容': '每次新賽季大概就玩個1～3周\\n\\r\\n玩想玩的套裝後就又AFK了，'}, {'回覆時間': '2019-7-2 10:08 PM', '回覆作者': 'aceatch', '回覆內容': '這種遊戲就是一種單純刷寶的樂趣\\r\\n噴光就是爽\\r\\n簡單明瞭就是這種遊戲的本質吧'}, {'回覆時間': '2019-7-3 10:26 PM', '回覆作者': 'rolf1022', '回覆內容': '這遊戲好玩就是刷寶啊....什麼都讓你組合...那也不用花時間刷刷樂了呀'}, {'回覆時間': '2019-7-17 02:26 PM', '回覆作者': 'jamez327', '回覆內容': '暴雪大概也是在撐而已，搞不好出新的玩法，也不可能再投入額外資金作這種不賺錢的遊戲，4代感覺也是前途可危'}, {'回覆時間': '2019-7-24 06:09 PM', '回覆作者': 'flytomit2017', '回覆內容': '一陣子沒玩~回來一看~rank榜前幾名的玩家巔峰都5000以上了...\\n\\r\\n我覺得他們的樂趣應該是為了刷巔峰...'}, {'回覆時間': '2019-7-26 04:52 PM', '回覆作者': 'MOUNT500', '回覆內容': '謝謝大大分享不同的思考模式\\r\\n改換玩法'}]}, {'title': '[綜合討論]手機板的暗黑', 'time': '2019-7-4 08:43 PM', 'content': '我在巴哈有看到這方面的訊息\\r\\n誰知道大概哪時候會出阿\\r\\n有沒有內幕\\n', 'pageview': '1693', 'resp_cnt': '10', 'author_name': 'a4726007', 'author_post_cnt': '12', 'author_score': '15 點', 'author_diving_value': '250 米', 'resp': [{'回覆時間': '2019-7-4 08:43 PM', '回覆作者': 'a4726007', '回覆內容': '我在巴哈有看到這方面的訊息\\r\\n誰知道大概哪時候會出阿\\r\\n有沒有內幕\\n'}, {'回覆時間': '2019-7-5 10:08 PM', '回覆作者': 'angelloveangel0', '回覆內容': 'QQ感覺在手機上玩...會手忙腳亂吧QQ~........\\n'}, {'回覆時間': '2019-7-5 10:54 PM', '回覆作者': 'wolf7504', '回覆內容': '疑?我完全沒收到消息!不過感覺真的出手機版的會不會做壞掉阿!就天堂一樣讓我很失望!'}, {'回覆時間': '2019-7-10 01:59 PM', '回覆作者': 'final180', '回覆內容': '雖然有說是今年要出，但是看合作廠商有可能會先在大陸上線試水溫吧'}, {'回覆時間': '2019-7-10 08:05 PM', '回覆作者': 'hiyyyks', '回覆內容': '已經出了嗎???蠻令人期待.....希望封測能做好一點...'}, {'回覆時間': '2019-7-10 09:18 PM', '回覆作者': '1237689', '回覆內容': '在手機上的內容一定都很簡略\\r\\n不過手機就是方便'}, {'回覆時間': '2019-7-16 07:03 PM', '回覆作者': 'a131822', '回覆內容': '在手機上隨時都可以玩 感決不錯啊'}, {'回覆時間': '2019-7-17 11:43 PM', '回覆作者': 'hoder', '回覆內容': '一堆快速鍵\\xa0\\xa0不知道手機怎麼完整呈現呢'}, {'回覆時間': '2019-7-19 06:02 PM', '回覆作者': 'a552565100', '回覆內容': '在手機上就是閹割版 感決很糞'}, {'回覆時間': '2019-7-24 05:26 PM', '回覆作者': 't124024045', '回覆內容': '手機板....應該就是瘋狂掛機刷裝備吧....\\r\\n感覺沒那麼好玩'}, {'回覆時間': '3\\xa0天前', '回覆作者': 'yunyumei', '回覆內容': '應該持續被BZ打槍吧...畢盡只是套個畫面的韓國遊戲'}]}, {'title': '[綜合討論]好久沒玩啦～還有人嗎？', 'time': '2019-7-14 10:38 PM', 'content': '\\n\\n話說\\xa0\\xa0四代聽說要變第一人稱了？\\n\\r\\n三代現在還有人嗎？還是寧願玩二代也不碰三代了XD', 'pageview': '2401', 'resp_cnt': '28', 'author_name': 'sangelva', 'author_post_cnt': '566', 'author_score': '1 點', 'author_diving_value': '12381 米', 'resp': [{'回覆時間': '2019-7-14 10:38 PM', '回覆作者': 'sangelva', '回覆內容': '\\n\\n話說\\xa0\\xa0四代聽說要變第一人稱了？\\n\\r\\n三代現在還有人嗎？還是寧願玩二代也不碰三代了XD'}, {'回覆時間': '2019-7-15 04:12 PM', '回覆作者': 'pigworker666', '回覆內容': '看人摟\\r\\n那就好好玩2等四吧'}, {'回覆時間': '2019-7-16 12:48 AM', '回覆作者': 'abcanda', '回覆內容': '只打賽季拿箱子阿~\\r\\n好像變不太出新把戲囉'}, {'回覆時間': '2019-7-16 07:04 PM', '回覆作者': 'a131822', '回覆內容': '2真的才是神作'}, {'回覆時間': '2019-7-17 02:12 PM', '回覆作者': 'victorsaxon', '回覆內容': '唉 已經不玩很久囉 還是慢慢等4代出來再看看了 想當初剛上市時 也是各大便利商店跑 就為了買一包實體包說 '}, {'回覆時間': '2019-7-17 02:18 PM', '回覆作者': 'jamez327', '回覆內容': '只有新賽季會玩上半個月吧，也沒新傳奇只加個特效就要撐幾個月，內容太貧乏'}, {'回覆時間': '2019-7-17 11:42 PM', '回覆作者': 'hoder', '回覆內容': '老梗遊戲\\xa0 \\xa0有空就拿出來玩玩\\xa0 \\xa0當單機\\xa0 \\xa0雖然他就是有網路的單機'}, {'回覆時間': '2019-7-18 10:51 AM', '回覆作者': 'pisces3020', '回覆內容': '我還在玩嗄!百玩不膩\\r\\n雖然沒之前那麼勤勞\\r\\n但是偶爾還是有完'}, {'回覆時間': '2019-7-19 09:05 AM', '回覆作者': 'forever8082', '回覆內容': ' 好久沒玩\\n\\r\\n感覺現在暴雪 搞不出新把戲了\\n\\r\\n=\"='}, {'回覆時間': '2019-7-19 05:42 PM', '回覆作者': 'a552565100', '回覆內容': '看最近的BZ新聞都趨向負面，D4也不用太期待了'}, {'回覆時間': '2019-7-20 01:10 PM', '回覆作者': 'yyrrjj', '回覆內容': '百玩不膩的好遊戲\\r\\n不管是幾代我都想玩\\n'}, {'回覆時間': '2019-7-20 03:08 PM', '回覆作者': 'GF121212', '回覆內容': '我也停很久了 感覺流亡好像比較有新東西可以玩'}, {'回覆時間': '2019-7-21 12:44 PM', '回覆作者': '88611713', '回覆內容': '玩來玩去, 無論是畫面還是故事我還是比較喜歡2'}, {'回覆時間': '2019-7-22 12:28 AM', '回覆作者': 't124024045', '回覆內容': '無聊刷刷~\\r\\n找朋友一起可能會比較持久點\\r\\n慢慢等4'}, {'回覆時間': '2019-7-24 06:11 PM', '回覆作者': 'flytomit2017', '回覆內容': '剛回鍋...組了一個宏偉團...開113層...結果狂趴....果然老了....'}]}]\n"
     ]
    }
   ],
   "source": [
    "\n",
    "# 抓取文章內容\n",
    "allDataList=[]\n",
    "for i in link:\n",
    "#     l = link[8]\n",
    "    res2 = s.get(i, headers = headers)\n",
    "    soup2 = bs(res2.text,\"lxml\")\n",
    "\n",
    "    # 標題\n",
    "    title = soup2.select(\"div#postlist h1.ts a\")[0].text + soup2.select(\"div#postlist h1.ts a\")[1].text\n",
    "    # 時間\n",
    "    time = soup2.select(\"div#postlist > div\")[0].select(\"td.plc div.authi em\")[0].text.replace(\"發表於 \",\"\")\n",
    "\n",
    "    # 內文\n",
    "    content = soup2.select(\"div#postlist > div > table\")[0].select(\"tr\")[1]\n",
    "    if content.i: content.i.extract()\n",
    "    content.text\n",
    "\n",
    "    # 瀏覽次數\n",
    "    pageview = soup2.select(\"div#postlist td.pls span.xi1\")[0].text\n",
    "\n",
    "    # 回應次數\n",
    "    resp_cnt = soup2.select(\"div#postlist td.pls span.xi1\")[1].text\n",
    "\n",
    "    # 作者\n",
    "    author = soup2.select(\"div#postlist > div\")[0].select(\"div.authi\")[0].text.replace(\"\\n\",\"\")\n",
    "\n",
    "\n",
    "    # 作者資訊\n",
    "    author_post_cnt = soup2.select(\"div#postlist > div\")[0].select(\"dl.pil dd a\")[0].text\n",
    "    author_score = soup2.select(\"div#postlist > div\")[0].select(\"dl.pil dd\")[1].text\n",
    "    author_diving_value = soup2.select(\"div#postlist > div\")[0].select(\"dl.pil dd\")[2].text\n",
    "\n",
    "    # 時間\n",
    "    divTags = soup2.select(\"div#postlist > div\")\n",
    "    resDataList = []\n",
    "    for i in divTags[:-1]:\n",
    "    #     print(i)\n",
    "    #     print(\"-\"*80)\n",
    "\n",
    "        resTime = i.select(\"td.plc div.authi em\")[0].text.replace(\"發表於 \",\"\")\n",
    "        resName = i.select(\"div.authi\")[0].text.replace(\"\\n\",\"\")\n",
    "        resContent = i.select(\"tr\")[1]\n",
    "        if resContent.i: resContent.i.extract()\n",
    "        resData={\n",
    "            \"回覆時間\" : resTime,\n",
    "            \"回覆作者\" : resName,\n",
    "            \"回覆內容\" : resContent.text\n",
    "        }\n",
    "        resDataList.append(resData)\n",
    "\n",
    "    data={\n",
    "        \"title\"               : title,\n",
    "        \"time\"                : time,\n",
    "        \"content\"             : content.text,\n",
    "        \"pageview\"            : pageview,\n",
    "        \"resp_cnt\"            : resp_cnt,\n",
    "        \"author_name\"         : author,\n",
    "        \"author_post_cnt\"     : author_post_cnt,\n",
    "        \"author_score\"        : author_score,\n",
    "        \"author_diving_value\" : author_diving_value,\n",
    "        \"resp\"                : resDataList    \n",
    "    }\n",
    "    allDataList.append(data) \n",
    "    print(title, \"OK\")\n",
    "df = pd.DataFrame(allDataList)\n",
    "df.to_excel(\"eyny_D3.xlsx\", index = False)\n",
    "print(\"save OK\")\n",
    "# 檢查是否文章有效\n",
    "print(allDataList)\n"
   ]
  },
  {
   "cell_type": "code",
   "execution_count": 190,
   "metadata": {
    "collapsed": true
   },
   "outputs": [
    {
     "data": {
      "text/plain": [
       "<!DOCTYPE html PUBLIC \"-//W3C//DTD XHTML 1.0 Transitional//EN\" \"http://www.w3.org/TR/xhtml1/DTD/xhtml1-transitional.dtd\">\n",
       "<html xmlns=\"http://www.w3.org/1999/xhtml\"><head><meta content=\"text/html; charset=utf-8\" http-equiv=\"Content-Type\"/><title>登錄 -  伊莉討論區</title><meta content=\"\" name=\"keywords\"/><meta content=\",伊莉討論區\" name=\"description\"/><meta content=\"EYNY \" name=\"generator\"/><meta content=\"EYNY Team and EYNY UI Team\" name=\"author\"/><meta content=\"2001-2011 EYNY Inc.\" name=\"copyright\"/><meta content=\"True\" name=\"MSSmartTagsPreventParsing\"/><meta content=\"Yes\" http-equiv=\"MSThemeCompatible\"/><base href=\"https://www.eyny.com/\"/><link href=\"data/cache/style_1_common.css?wCw\" rel=\"stylesheet\" type=\"text/css\"/><link href=\"data/cache/css_common.css?wCw\" id=\"diy_common\" rel=\"stylesheet\" type=\"text/css\"/><script type=\"text/javascript\">var cp_max='120'; var Show_FT='2'; var Default_isFT='1'; var StranIt_Delay='50'; var sc_relate=''; </script><script src=\"data/cache/js_common.js?wCw\" type=\"text/javascript\"></script><script src=\"data/cache/js_show_ads.js?wCw\" type=\"text/javascript\"></script><script type=\"text/javascript\">var STYLEID = '1', STATICURL = 'static/', IMGDIR = 'static/image/common', VERHASH = 'wCw', charset = 'utf-8', discuz_uid = '0', cookiepre = '604e55XbD_e8d7_', cookiedomain = '.eyny.com', cookiepath = '/', showusercard = '1', attackevasive = '0', disallowfloat = 'newthread', creditnotice = '1|積分|點,2|潛水值|米', defaultstyle = '', REPORTURL = 'd3d3LmV5bnkuY29tL21lbWJlci5waHA/bW9kPWxvZ2dpbmcmYWN0aW9uPWxvZ2lu', SITEURL = 'https://www.eyny.com/', JSPATH = 'data/cache/';</script><script src=\"data/cache/common.js?wCw\" type=\"text/javascript\"></script><link href=\"favicon.ico?wCw\" rel=\"shortcut icon\" type=\"image/x-icon\"/>\n",
       "<meta content=\"伊莉討論區\" name=\"application-name\"/><meta content=\"伊莉討論區\" name=\"msapplication-tooltip\"/><meta content=\"name=論壇;action-uri=https://www.eyny.com/forum.php;icon-uri=https://www.eyny.com/static/image/common/bbs.ico\" name=\"msapplication-task\"/><meta content=\"name=群組;action-uri=https://www.eyny.com/group.php;icon-uri=https://www.eyny.com/static/image/common/group.ico\" name=\"msapplication-task\"/><meta content=\"name=空間;action-uri=https://www.eyny.com/home.php;icon-uri=https://www.eyny.com/static/image/common/home.ico\" name=\"msapplication-task\"/></head><body class=\"pg_logging\" id=\"nv_member\" onkeydown=\"if(event.keyCode==27) return false;\" style=\"background:#EEEEEE!important;\"><div id=\"append_parent\"></div><div id=\"ajaxwaitid\"></div><div class=\"wp\" id=\"wp\" style=\"background:#FDFDFD;border-left:3px solid #DDD;border-right:3px solid #DDD;padding:0 5px 0 5px\"><div class=\"cl\" id=\"toptb\"><div class=\"wp\"><div class=\"z\"><a id=\"StranLink\">繁體</a><a href=\"http://tbar.alexa.com/10.0/Alexa.10.0.exe\" target=\"_blank\">瀏覽工具</a><a href=\"javascript:;\" onclick=\"setHomepage('http://video.eyny.com/');\">設為首頁</a><a href=\"http://video.eyny.com/\" onclick=\"addFavorite(this.href, '伊莉討論區');return false;\">收藏本站</a></div><div class=\"y\"><div style=\"display:none\"></div><span class=\"pipe\">|</span><a href=\"member.php?mod=register\">註冊</a><span class=\"pipe\">|</span><a href=\"member.php?mod=logging&amp;action=login\">登錄</a></div></div></div><div class=\"p_pop blk\" id=\"qmenu_menu\" style=\"display: none;\"><div class=\"ptm pbw hm\">\n",
       "請 <a class=\"xi2\" href=\"javascript:;\" onclick=\"lsSubmit()\"><strong>登錄</strong></a> 後使用快捷導航<br/>沒有帳號？<a class=\"xi2 xw1\" href=\"member.php?mod=register\">註冊</a></div></div><div id=\"hd\"><div class=\"wp\" style=\"padding:0px;\"><div class=\"hdc cl\"><h2 style=\"padding:0px;\"><a href=\"./index.php\" title=\"伊莉討論區\"><img alt=\"伊莉討論區\" border=\"0\" src=\"static/image/common/logo.gif\"/></a></h2><div style=\"float:right;\"><div style=\"height: 120px; vertical-align:bottom; display:table-cell; \"><span id=\"ads_ads_4165\"><script type=\"text/javascript\">ad_format='728x90'; ad_border=0; ad_type='image'; ad_channel=1; show_ads('ads_ads_4165');</script></span></div></div></div><div id=\"nv\"><a href=\"javascript:;\" id=\"qmenu\" onmouseover=\"showMenu({'ctrlid':'qmenu','pos':'34!','ctrlclass':'a','duration':2});\">快捷導航</a><ul><li id=\"mn_forum\"><a hidefocus=\"true\" href=\"forum.php\" title=\"BBS\">論壇<span>BBS</span></a><font style=\"position:relative;bottom:2px;color:#333;\">|</font></li><li id=\"mn_group\"><a hidefocus=\"true\" href=\"group.php\" title=\"Group\">群組<span>Group</span></a><font style=\"position:relative;bottom:2px;color:#333;\">|</font></li><li id=\"mn_home\"><a hidefocus=\"true\" href=\"home.php\" title=\"Space\">空間<span>Space</span></a><font style=\"position:relative;bottom:2px;color:#333;\">|</font></li><li id=\"mn_N3258\"><a hidefocus=\"true\" href=\"http://video.eyny.com/\" target=\"_blank\">影片</a><font style=\"position:relative;bottom:2px;color:#333;\">|</font></li><li id=\"mn_N10da\"><a hidefocus=\"true\" href=\"https://www.eyny.com/ads\" style=\"font-weight: bold;\">廣告</a><font style=\"position:relative;bottom:2px;color:#333;\">|</font></li><li id=\"mn_N12a7\"><a hidefocus=\"true\" href=\"misc.php?mod=ranklist\" title=\"Ranklist\">排行<span>Ranklist</span></a><font style=\"position:relative;bottom:2px;color:#333;\">|</font></li><li id=\"mn_Nccf6\"><a hidefocus=\"true\" href=\"search.php?mod=forum&amp;adv=yes\">搜尋</a><font style=\"position:relative;bottom:2px;color:#333;\">|</font></li><li id=\"mn_forum\" style=\"font-weight:700\"><a hidefocus=\"true\" href=\"/video.php?mod=store&amp;site=www.eyny.com\" title=\"自助升級\">自助升級<span>自助升級</span></a></li><li id=\"mn_forum\" style=\"background:#2A406F\"><a hidefocus=\"true\" href=\"/video.php?mod=store&amp;site=www.eyny.com\" title=\"尊貴會員\">尊貴會員<span>尊貴會員</span></a></li></ul></div><div class=\"cl\" id=\"mu\"></div><div class=\"cl\" id=\"scbar\" style=\"z-index:1!important\"><form action=\"search.php?searchsubmit=yes\" autocomplete=\"off\" id=\"scbar_form\" method=\"post\" onsubmit=\"searchFocus($('scbar_txt'))\"><input id=\"scbar_mod\" name=\"mod\" type=\"hidden\" value=\"search\"/><input name=\"formhash\" type=\"hidden\" value=\"e7cea58f\"/><input name=\"srchtype\" type=\"hidden\" value=\"title\"/><input name=\"srchfrom\" type=\"hidden\" value=\"0\"/><input name=\"cid\" type=\"hidden\" value=\"\"/><input name=\"srhfid\" type=\"hidden\" value=\"0\"/><input name=\"srhlocality\" type=\"hidden\" value=\"member::logging\"/><table cellpadding=\"0\" cellspacing=\"0\"><tr><td class=\"scbar_icon_td\"></td><td class=\"scbar_txt_td\"><div style=\"position:absolute;width:400px;top:222px\"><div class=\"search_bar1\" id=\"sc_related\" style=\"display:none;\"></div></div><input autocomplete=\"off\" id=\"scbar_txt\" name=\"srchtxt\" onkeyup=\"keyword(this, 'sc_related','lib/api/search.php', event.keyCode);\" type=\"text\" value=\"\"/></td><td class=\"scbar_type_td\"><a class=\"showmenu xg1 xs2\" hidefocus=\"true\" href=\"javascript:;\" id=\"scbar_type\" onclick=\"showMenu(this.id)\">搜索</a></td><td class=\"scbar_btn_td\"><button class=\"pn pnc\" id=\"scbar_btn\" name=\"searchsubmit\" type=\"submit\" value=\"true\"><strong class=\"xi2 xs2\">搜索</strong></button></td><td class=\"scbar_hot_td\"><div id=\"scbar_hot\"></div></td></tr></table></form></div><ul class=\"p_pop\" id=\"scbar_type_menu\" style=\"display: none;\"><li><a href=\"javascript:;\" rel=\"forum\">帖子</a></li><li><a href=\"javascript:;\" rel=\"blog\">日誌</a></li><li><a href=\"javascript:;\" rel=\"album\">相冊</a></li><li><a href=\"javascript:;\" rel=\"group\">群組</a></li><li><a href=\"javascript:;\" rel=\"user\">用戶</a></li></ul><script type=\"text/javascript\">\n",
       "initSearchmenu('scbar');\n",
       "</script></div></div><table style=\"margin-top:5px\" width=\"100%\"><tr><td class=\"adv_header_text\">發表文章前請先閱讀相關版規</td><td class=\"adv_header_text\"><a href=\"/video.php?mod=store&amp;site=www.eyny.com\">尊貴會員無限觀看附件圖片</a></td><td class=\"adv_header_text\"><a href=\"http://video.eyny.com/\" target=\"_blank\">搞笑、娛樂、精彩的影片讓你看</a></td></tr></table><div class=\"ptm wp w cl\" id=\"ct\"><div class=\"nfl\" id=\"main_succeed\" style=\"display: none\"><div class=\"f_c altw\"><div class=\"alert_right\"><p id=\"succeedmessage\"></p><p class=\"alert_btnleft\" id=\"succeedlocation\"></p><p class=\"alert_btnleft\"><a id=\"succeedmessage_href\">如果你的瀏覽器沒有自動跳轉，請點擊此鏈接</a></p></div></div></div><div class=\"mn\" id=\"main_message\"><div class=\"bm\"><div class=\"bm_h bbs\"><span class=\"y\"><a class=\"xi2\" href=\"member.php?mod=register\">沒有帳號？註冊</a></span><h3 class=\"xs2\">登錄</h3></div><div><div id=\"main_messaqge_LzDi2\"><div id=\"layer_login_LzDi2\"><h3 class=\"flb\"><em id=\"returnmessage_LzDi2\"></em><span></span></h3><form action=\"member.php?mod=logging&amp;action=login&amp;loginsubmit=yes&amp;loginhash=LzDi2\" autocomplete=\"off\" class=\"cl\" id=\"loginform_LzDi2\" method=\"post\" name=\"login\" onsubmit=\"pwdclear = 1;ajaxpost('loginform_LzDi2', 'returnmessage_LzDi2', 'returnmessage_LzDi2', 'onerror');return false;\"><div class=\"c cl\"><input name=\"formhash\" type=\"hidden\" value=\"e7cea58f\"/><input name=\"referer\" type=\"hidden\" value=\"https://www.eyny.com/./\"/><div class=\"rfm\"><table><tr><th><span class=\"login_slct\"><select id=\"loginfield_LzDi2\" name=\"loginfield\" style=\"float: left;\" width=\"45\"><option value=\"username\">用戶名</option><option value=\"uid\">UID</option><option value=\"email\">Email</option></select></span></th><td><input autocomplete=\"off\" class=\"px p_fre\" id=\"username_LzDi2\" name=\"username\" size=\"30\" tabindex=\"1\" type=\"text\" value=\"\"/></td><td class=\"tipcol\"><a href=\"member.php?mod=register\">註冊</a></td></tr></table></div><div class=\"rfm\"><table><tr><th><label for=\"password3_LzDi2\">密碼:</label></th><td><input class=\"px p_fre\" id=\"password3_LzDi2\" name=\"password\" onfocus=\"clearpwd()\" size=\"30\" tabindex=\"1\" type=\"password\"/></td><td class=\"tipcol\"><a href=\"javascript:;\" onclick=\"display('layer_login_LzDi2');display('layer_lostpw_LzDi2');\" title=\"找回密碼\">找回密碼</a></td></tr></table></div><div class=\"rfm\"><table><tr><th>安全提問:</th><td><select id=\"loginquestionid_LzDi2\" name=\"questionid\" onchange=\"if($('loginquestionid_LzDi2').value &gt; 0) {$('loginanswer_row_LzDi2').style.display='';} else {$('loginanswer_row_LzDi2').style.display='none';}\" onkeyup=\"this.onKeyUp=this.onchange();\" tabindex=\"1\" width=\"213\"><option value=\"0\">安全提問(未設置請忽略)</option><option value=\"1\">母親的名字</option><option value=\"2\">爺爺的名字</option><option value=\"3\">父親出生的城市</option><option value=\"4\">你其中一位老師的名字</option><option value=\"5\">你個人計算機的型號</option><option value=\"6\">你最喜歡的餐館名稱</option><option value=\"7\">駕駛執照最後四位數字</option></select></td></tr></table></div><div class=\"rfm\" id=\"loginanswer_row_LzDi2\" style=\"display:none\"><table><tr><th>答案:</th><td><input autocomplete=\"off\" class=\"px p_fre\" id=\"loginanswer_LzDi2\" name=\"answer\" size=\"30\" tabindex=\"1\" type=\"text\"/></td></tr></table></div><div class=\"rfm\"><table><tr><th></th><td><label for=\"cookietime_LzDi2\"><input checked=\"checked\" class=\"pc\" id=\"cookietime_LzDi2\" name=\"cookietime\" tabindex=\"1\" type=\"checkbox\" value=\"2592000\"/>自動登錄</label></td></tr></table></div><div class=\"rfm mbw bw0\"><table width=\"100%\"><tr><th> </th><td><!--script src='https://www.google.com/recaptcha/api.js'></script><div class=\"g-recaptcha\" data-sitekey=\"6LdY6HwUAAAAANjDwXx-t2vWhFd8RF9U-YAzM8zT\"></div--><script src=\"https://www.google.com/recaptcha/api.js?render=6Ldi73wUAAAAAFjdEGzGjASm5E8Ffzwhtf2BCmMW\"></script><script>\n",
       "grecaptcha.ready(function() {\n",
       "grecaptcha.execute('6Ldi73wUAAAAAFjdEGzGjASm5E8Ffzwhtf2BCmMW', {action: 'login'})\n",
       ".then(function(token) {\n",
       "document.getElementById('g-recaptcha-response').value = token;\n",
       "// Verify the token on the server.\n",
       "});\n",
       "});\n",
       "</script><input id=\"g-recaptcha-response\" name=\"g-recaptcha-response\" type=\"hidden\"/><!-- eyny wahas --><button class=\"pn pnc\" name=\"loginsubmit\" tabindex=\"1\" type=\"submit\" value=\"true\"><strong>登錄</strong></button></td><td><a class=\"y\" href=\"javascript:;\" onclick=\"ajaxget('member.php?mod=clearcookies&amp;formhash=e7cea58f', 'returnmessage_LzDi2', 'returnmessage_LzDi2');return false;\" title=\"清除痕跡\">清除痕跡</a></td></tr></table></div></div></form></div><div id=\"layer_lostpw_LzDi2\" style=\"display: none;\"><h3 class=\"flb\"><em id=\"returnmessage3_LzDi2\">找回密碼</em><span></span></h3><form action=\"member.php?mod=lostpasswd&amp;lostpwsubmit=yes&amp;infloat=yes\" autocomplete=\"off\" class=\"cl\" id=\"lostpwform_LzDi2\" method=\"post\" onsubmit=\"ajaxpost('lostpwform_LzDi2', 'returnmessage3_LzDi2', 'returnmessage3_LzDi2', 'onerror');return false;\"><div class=\"c cl\"><input name=\"formhash\" type=\"hidden\" value=\"e7cea58f\"/><input name=\"handlekey\" type=\"hidden\" value=\"lostpwform\"/><div class=\"rfm\"><table><tr><th><label for=\"lostpw_username\">用戶名:</label></th><td><input class=\"px p_fre\" id=\"lostpw_username\" name=\"username\" size=\"30\" tabindex=\"1\" type=\"text\" value=\"\"/></td></tr></table></div><div class=\"rfm\"><table><tr><th><label for=\"lostpw_email\">Email:</label></th><td><input class=\"px p_fre\" id=\"lostpw_email\" name=\"email\" size=\"30\" tabindex=\"1\" type=\"text\" value=\"\"/></td></tr></table></div><div class=\"rfm mbw bw0\"><table><tr><th></th><td><button class=\"pn pnc\" name=\"lostpwsubmit\" tabindex=\"100\" type=\"submit\" value=\"true\"><span>提交</span></button></td></tr></table></div></div></form></div></div><div class=\"f_c blr nfl\" id=\"layer_message_LzDi2\" style=\"display: none;\"><h3 class=\"flb\" id=\"layer_header_LzDi2\"></h3><div class=\"c\"><div class=\"alert_right\"><div id=\"messageleft_LzDi2\"></div><p class=\"alert_btnleft\" id=\"messageright_LzDi2\"></p></div></div><script reload=\"1\" src=\"data/cache/md5.js?wCw\" type=\"text/javascript\"></script><script reload=\"1\" type=\"text/javascript\">var pwdclear = 0;\n",
       "function initinput_login() {\n",
       "document.body.focus();\n",
       "if($('loginform_LzDi2')) {\n",
       "$('loginform_LzDi2').username.focus();\n",
       "}\n",
       "simulateSelect('loginfield_LzDi2');\n",
       "}\n",
       "initinput_login();\n",
       "\n",
       "function clearpwd() {\n",
       "if(pwdclear) {\n",
       "$('password3_LzDi2').value = '';\n",
       "}\n",
       "pwdclear = 0;\n",
       "}\n",
       "</script></div></div></div></div></div><div class=\"wp cl\" id=\"ft\"><div class=\"y\" id=\"flk\"><p><a href=\"archiver/\">Archiver</a><span class=\"pipe\">|</span><a href=\"http://m.eyny.com\">手機版</a><span class=\"pipe\">|</span><a href=\"https://www.eyny.com/ads\">廣告</a><span class=\"pipe\">|</span><a href=\"mailto:admin@eyny.com\">聯絡我們</a><span class=\"pipe\">|</span><a href=\"mailto:admin@eyny.com\">廣告查詢</a><span class=\"pipe\">|</span><a href=\"mailto:admin@eyny.com\">廠商合作</a><span class=\"pipe\">|</span><strong><a href=\"http://www.eyny.com/\" target=\"_blank\">伊莉</a></strong></p><p class=\"xs0\">\n",
       "GMT+8, 2019-8-8 03:58 PM<span id=\"debuginfo\"></span></p></div></div><div class=\"tip tip_3\" id=\"g_upmine_menu\" style=\"display:none;\"><div class=\"tip_c\">\n",
       "積分 0, 距離下一級還需  積分\n",
       "</div><div class=\"tip_horn\"></div></div></div><script src=\"home.php?mod=misc&amp;ac=sendmail&amp;rand=1565251117\" type=\"text/javascript\"></script><span id=\"scrolltop\" onclick=\"window.scrollTo('0','0')\">回頂部</span><script type=\"text/javascript\">_attachEvent(window, 'scroll', function(){showTopLink();});</script><script src=\"data/cache/js_langconv.js?wCw\" type=\"text/javascript\"></script></body></html>"
      ]
     },
     "execution_count": 190,
     "metadata": {},
     "output_type": "execute_result"
    }
   ],
   "source": [
    "loginPageUrl = \"https://www.eyny.com/member.php?mod=logging&action=login\"\n",
    "\n",
    "res0 = requests.get(loginPageUrl)\n",
    "soup0 = bs(res0.text,\"lxml\")\n",
    "soup0"
   ]
  },
  {
   "cell_type": "code",
   "execution_count": 193,
   "metadata": {},
   "outputs": [
    {
     "data": {
      "text/plain": [
       "'e7cea58f'"
      ]
     },
     "execution_count": 193,
     "metadata": {},
     "output_type": "execute_result"
    }
   ],
   "source": [
    "cookieTime = soup0.select(\"input[name='cookietime']\")[0][\"value\"]\n",
    "cookieTime\n",
    "\n",
    "formHash = soup0.select(\"input[name='formhash']\")[0][\"value\"]\n",
    "formHash"
   ]
  }
 ],
 "metadata": {
  "kernelspec": {
   "display_name": "Python 3",
   "language": "python",
   "name": "python3"
  },
  "language_info": {
   "codemirror_mode": {
    "name": "ipython",
    "version": 3
   },
   "file_extension": ".py",
   "mimetype": "text/x-python",
   "name": "python",
   "nbconvert_exporter": "python",
   "pygments_lexer": "ipython3",
   "version": "3.7.3"
  }
 },
 "nbformat": 4,
 "nbformat_minor": 2
}
