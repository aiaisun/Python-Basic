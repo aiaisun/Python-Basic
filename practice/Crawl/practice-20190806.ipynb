{
 "cells": [
  {
   "cell_type": "code",
   "execution_count": 9,
   "metadata": {},
   "outputs": [],
   "source": [
    "import requests\n",
    "from bs4 import BeautifulSoup as bs\n",
    "base_url = \"https://www.nownews.com/\"\n",
    "res = requests.get(base_url)\n",
    "soup = bs(res.text,\"lxml\")\n",
    "news = soup.select(\"div.td-module-container\")\n",
    "\n",
    "\n"
   ]
  },
  {
   "cell_type": "code",
   "execution_count": 15,
   "metadata": {},
   "outputs": [
    {
     "name": "stdout",
     "output_type": "stream",
     "text": [
      "Link- https://www.nownews.com/news/20190806/3544248/\n",
      "Title- NBA／格林合約中有附加條款　勇士王朝中第一人\n",
      "Link- https://www.nownews.com/news/20190806/3543272/\n",
      "Title- 房市／台中人瘋好市多？　這裡買房竟要排隊\n",
      "Link- https://www.nownews.com/news/20190806/3543860/\n",
      "Title- 殺人殺到「菜刀」滑出去　他血腥凌遲毛骨悚然\n",
      "Link- https://www.nownews.com/news/20190806/3544218/\n",
      "Title- 貿易戰升溫道瓊崩跌767點　人民幣重貶中美恐有匯率戰\n",
      "Link- https://www.nownews.com/news/20190806/3544199/\n",
      "Title- 國中撞臉蔡英文！長大變身「超正OL」　眾人瘋搶當隨扈\n",
      "Link- https://www.nownews.com/news/20190806/3544202/\n",
      "Title- NBA／卡特確定重返老鷹　生涯22個賽季破聯盟紀錄\n",
      "Link- https://www.nownews.com/news/20190806/3544179/\n",
      "Title- 少棒最強！為何台灣棒球越長大越爛？　眾人揭「關鍵」\n",
      "Link- https://www.nownews.com/news/20190806/3544183/\n",
      "Title- 香港示威美籲勿幫助鎮壓　中國反嗆：港警文明執法\n",
      "Link- https://www.nownews.com/news/20190806/3544180/\n",
      "Title- 吉野家在台屹立不搖？　饕客曝「致勝關鍵」：圈粉無數\n",
      "Link- https://www.nownews.com/news/20190806/3543626/\n",
      "Title- 「夯客」以預約管理系統　做餐飲業的黃金左右手\n",
      "Link- https://www.nownews.com/news/20190806/3544166/\n",
      "Title- 「北車」醜嗎？四時期樣貌曝光　眾人狂讚：第二代最美\n",
      "Link- https://www.nownews.com/news/20190806/3544165/\n",
      "Title- 234旅尋獲短少步槍子彈　陸軍：交憲兵隊查扣偵辦\n"
     ]
    }
   ],
   "source": [
    "for ele in news:\n",
    "    aTag = ele.select(\"a\")[1]\n",
    "    timeTag = ele.select(\"time\")\n",
    "    print(\"Link-\", aTag[\"href\"])\n",
    "    print(\"Title-\", aTag[\"title\"])\n",
    "    \n",
    "    "
   ]
  },
  {
   "cell_type": "code",
   "execution_count": 36,
   "metadata": {},
   "outputs": [
    {
     "name": "stdout",
     "output_type": "stream",
     "text": [
      "NBA／格林合約中有附加條款　勇士王朝中第一人\n",
      "記者黃建霖／綜合報導\n"
     ]
    }
   ],
   "source": [
    "url2 = \"https://www.nownews.com/news/20190806/3544248/\"\n",
    "res2 = requests.get(url2)\n",
    "soup2 = bs(res2.text,\"lxml\")\n",
    "\n",
    "# 標題 作者 時間\n",
    "newsInfo = soup2.select(\"header.td-post-title\")[0]\n",
    "title = newsInfo.select(\"h1\")[0].text\n",
    "author = newsInfo.select(\"div\")[1].text.replace(\" \",\"\").replace(\"-\",\"\").replace(\"\\n\",\"\")\n",
    "\n",
    "print(title)\n",
    "print(author)"
   ]
  },
  {
   "cell_type": "code",
   "execution_count": null,
   "metadata": {},
   "outputs": [],
   "source": [
    "# 文章內容\n",
    "pTag = "
   ]
  }
 ],
 "metadata": {
  "kernelspec": {
   "display_name": "Python 3",
   "language": "python",
   "name": "python3"
  },
  "language_info": {
   "codemirror_mode": {
    "name": "ipython",
    "version": 3
   },
   "file_extension": ".py",
   "mimetype": "text/x-python",
   "name": "python",
   "nbconvert_exporter": "python",
   "pygments_lexer": "ipython3",
   "version": "3.7.3"
  }
 },
 "nbformat": 4,
 "nbformat_minor": 2
}
