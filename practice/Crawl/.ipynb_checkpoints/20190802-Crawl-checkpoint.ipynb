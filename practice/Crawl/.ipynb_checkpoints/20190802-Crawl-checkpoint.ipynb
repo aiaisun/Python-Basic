{
 "cells": [
  {
   "cell_type": "code",
   "execution_count": 1,
   "metadata": {},
   "outputs": [],
   "source": [
    "import requests\n",
    "\n",
    "url = \"https://www.nownews.com/\"\n",
    "\n",
    "res = requests.get(url)\n"
   ]
  },
  {
   "cell_type": "code",
   "execution_count": 2,
   "metadata": {},
   "outputs": [],
   "source": [
    "from bs4 import BeautifulSoup as bs\n",
    "\n",
    "origin = bs(res.text,\"lxml\")\n"
   ]
  },
  {
   "cell_type": "code",
   "execution_count": 19,
   "metadata": {},
   "outputs": [
    {
     "name": "stdout",
     "output_type": "stream",
     "text": [
      "Title:  NBA／飆風玫瑰增添新刺青　下個賽季有機會以先發上陣\n",
      "Link:  https://www.nownews.com/news/20190802/3537100/\n",
      "Content:  NBA／飆風玫瑰增添新刺青　下個賽季有機會以先發上陣\n",
      "----------------------------------------------------------------------------------------------------\n",
      "Title:  房市／漲勢終結？　Q2高雄房價回跌\n",
      "Link:  https://www.nownews.com/news/20190802/3536197/\n",
      "Content:  房市／漲勢終結？　Q2高雄房價回跌\n",
      "----------------------------------------------------------------------------------------------------\n",
      "Title:  名家論壇》黃創夏／八月砲火：下架國瑜黨！\n",
      "Link:  https://www.nownews.com/news/20190802/3537026/\n",
      "Content:  名家論壇》黃創夏／八月砲火：下架國瑜黨！\n",
      "----------------------------------------------------------------------------------------------------\n",
      "Title:  帥歐巴海上開唱！韓國主題展搬上郵輪　免費體驗韓服試穿\n",
      "Link:  https://www.nownews.com/news/20190802/3537093/\n",
      "Content:  帥歐巴海上開唱！韓國主題展搬上郵輪　免費體驗韓服試穿\n",
      "----------------------------------------------------------------------------------------------------\n",
      "Title:  大逆轉？冷氣「24hr不關機」最省電　技師打臉：恐賠更大\n",
      "Link:  https://www.nownews.com/news/20190802/3537101/\n",
      "Content:  大逆轉？冷氣「24hr不關機」最省電　技師打臉：恐賠更大\n",
      "----------------------------------------------------------------------------------------------------\n",
      "Title:  NBA／勇士王朝結束了？　湯神：說這話的人很無知\n",
      "Link:  https://www.nownews.com/news/20190802/3537095/\n",
      "Content:  NBA／勇士王朝結束了？　湯神：說這話的人很無知\n",
      "----------------------------------------------------------------------------------------------------\n",
      "Title:  川普再出招！稱9月起對3000億美元陸貨加徵「10%」關稅\n",
      "Link:  https://www.nownews.com/news/20190802/3537085/\n",
      "Content:  川普再出招！稱9月起對3000億美元陸貨加徵「10%」關稅\n",
      "----------------------------------------------------------------------------------------------------\n",
      "Title:  北北桃高溫飄至36度　第八號颱風「范斯高」最快今生成\n",
      "Link:  https://www.nownews.com/news/20190802/3537081/\n",
      "Content:  北北桃高溫飄至36度　第八號颱風「范斯高」最快今生成\n",
      "----------------------------------------------------------------------------------------------------\n",
      "Title:  和媽共吃烤玉米！一翻紙袋「老闆超暖舉動」　萬人秒淚崩\n",
      "Link:  https://www.nownews.com/news/20190802/3537072/\n",
      "Content:  和媽共吃烤玉米！一翻紙袋「老闆超暖舉動」　萬人秒淚崩\n",
      "----------------------------------------------------------------------------------------------------\n",
      "Title:  女星與超帥男模熱擁遭逮　加碼貼身激吻\n",
      "Link:  https://www.nownews.com/news/20190802/3536764/\n",
      "Content:  女星與超帥男模熱擁遭逮　加碼貼身激吻\n",
      "----------------------------------------------------------------------------------------------------\n",
      "Title:  NOW早報／大陸「禁古令」開鍘！改播愛國劇挨轟：忘祖嗎\n",
      "Link:  https://www.nownews.com/news/20190802/3536996/\n",
      "Content:  NOW早報／大陸「禁古令」開鍘！改播愛國劇挨轟：忘祖嗎\n",
      "----------------------------------------------------------------------------------------------------\n"
     ]
    }
   ],
   "source": [
    "point1 = origin.select(\"div.td-block-span6 h3\")\n",
    "# print(point1)\n",
    "\n",
    "for ele in point1:\n",
    "    aTag = ele.select(\"a\")[0]\n",
    "#     print(aTag)\n",
    "    print(\"Title: \", aTag[\"title\"])\n",
    "    print(\"Link: \", aTag[\"href\"])\n",
    "    print(\"Content: \", aTag.text)\n",
    "    print(\"-\"*100)\n",
    "    "
   ]
  },
  {
   "cell_type": "code",
   "execution_count": 23,
   "metadata": {},
   "outputs": [
    {
     "name": "stdout",
     "output_type": "stream",
     "text": [
      "{'Title:': 'NBA／飆風玫瑰增添新刺青\\u3000下個賽季有機會以先發上陣', 'Link: ': 'https://www.nownews.com/news/20190802/3537100/', 'Content:': 'NBA／飆風玫瑰增添新刺青\\u3000下個賽季有機會以先發上陣'}\n",
      "{'Title:': '房市／漲勢終結？\\u3000Q2高雄房價回跌', 'Link: ': 'https://www.nownews.com/news/20190802/3536197/', 'Content:': '房市／漲勢終結？\\u3000Q2高雄房價回跌'}\n",
      "{'Title:': '名家論壇》黃創夏／八月砲火：下架國瑜黨！', 'Link: ': 'https://www.nownews.com/news/20190802/3537026/', 'Content:': '名家論壇》黃創夏／八月砲火：下架國瑜黨！'}\n",
      "{'Title:': '帥歐巴海上開唱！韓國主題展搬上郵輪\\u3000免費體驗韓服試穿', 'Link: ': 'https://www.nownews.com/news/20190802/3537093/', 'Content:': '帥歐巴海上開唱！韓國主題展搬上郵輪\\u3000免費體驗韓服試穿'}\n",
      "{'Title:': '大逆轉？冷氣「24hr不關機」最省電\\u3000技師打臉：恐賠更大', 'Link: ': 'https://www.nownews.com/news/20190802/3537101/', 'Content:': '大逆轉？冷氣「24hr不關機」最省電\\u3000技師打臉：恐賠更大'}\n",
      "{'Title:': 'NBA／勇士王朝結束了？\\u3000湯神：說這話的人很無知', 'Link: ': 'https://www.nownews.com/news/20190802/3537095/', 'Content:': 'NBA／勇士王朝結束了？\\u3000湯神：說這話的人很無知'}\n",
      "{'Title:': '川普再出招！稱9月起對3000億美元陸貨加徵「10%」關稅', 'Link: ': 'https://www.nownews.com/news/20190802/3537085/', 'Content:': '川普再出招！稱9月起對3000億美元陸貨加徵「10%」關稅'}\n",
      "{'Title:': '北北桃高溫飄至36度\\u3000第八號颱風「范斯高」最快今生成', 'Link: ': 'https://www.nownews.com/news/20190802/3537081/', 'Content:': '北北桃高溫飄至36度\\u3000第八號颱風「范斯高」最快今生成'}\n",
      "{'Title:': '和媽共吃烤玉米！一翻紙袋「老闆超暖舉動」\\u3000萬人秒淚崩', 'Link: ': 'https://www.nownews.com/news/20190802/3537072/', 'Content:': '和媽共吃烤玉米！一翻紙袋「老闆超暖舉動」\\u3000萬人秒淚崩'}\n",
      "{'Title:': '女星與超帥男模熱擁遭逮\\u3000加碼貼身激吻', 'Link: ': 'https://www.nownews.com/news/20190802/3536764/', 'Content:': '女星與超帥男模熱擁遭逮\\u3000加碼貼身激吻'}\n",
      "{'Title:': 'NOW早報／大陸「禁古令」開鍘！改播愛國劇挨轟：忘祖嗎', 'Link: ': 'https://www.nownews.com/news/20190802/3536996/', 'Content:': 'NOW早報／大陸「禁古令」開鍘！改播愛國劇挨轟：忘祖嗎'}\n"
     ]
    }
   ],
   "source": [
    "DB = []\n",
    "for ele in point1:\n",
    "    bTag = ele.select(\"a\")[0]\n",
    "    data={\n",
    "        \"Title:\": bTag[\"title\"],\n",
    "        \"Link: \": bTag[\"href\"],\n",
    "        \"Content:\": bTag.text\n",
    "    }\n",
    "    DB.append(data)\n",
    "\n",
    "for ele in DB:\n",
    "    print(ele)\n",
    "    "
   ]
  }
 ],
 "metadata": {
  "kernelspec": {
   "display_name": "Python 3",
   "language": "python",
   "name": "python3"
  },
  "language_info": {
   "codemirror_mode": {
    "name": "ipython",
    "version": 3
   },
   "file_extension": ".py",
   "mimetype": "text/x-python",
   "name": "python",
   "nbconvert_exporter": "python",
   "pygments_lexer": "ipython3",
   "version": "3.7.3"
  }
 },
 "nbformat": 4,
 "nbformat_minor": 2
}
