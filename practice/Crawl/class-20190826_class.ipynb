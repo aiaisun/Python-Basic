{
 "cells": [
  {
   "cell_type": "code",
   "execution_count": null,
   "metadata": {},
   "outputs": [],
   "source": [
    "# A. 建立學生資料\n",
    "# B. 學生打招呼方式\n",
    "# C. 取得學生平均成績\n",
    "# D. 取得該學生資料\n",
    "\n",
    "### Jeff,18,M,100,95, \"hihi\"\n",
    "### Leo,20,M,95,80, \"yoyo\"\n",
    "### Ali,22,F,88,100, \"kerker\"\n",
    "### Jack,30,M,70,75, \"5487\"\n",
    "### Apple,32,F,84,8, \"orz rrrrrr\""
   ]
  },
  {
   "cell_type": "code",
   "execution_count": 8,
   "metadata": {},
   "outputs": [
    {
     "name": "stdout",
     "output_type": "stream",
     "text": [
      "[2019-08-26 12:48:31][Jeff]hihi\n",
      "[2019-08-26 12:48:31][Leo]yoyo\n",
      "[2019-08-26 12:48:31][Ali]kerker\n",
      "[2019-08-26 12:48:31][Jack]5487\n",
      "[2019-08-26 12:48:31][Apple]orz rrrrrr\n",
      "----------------------------------------------------------------------------------------------------\n",
      "Jeff scores' average is  97.5\n",
      "Leo scores' average is  87.5\n",
      "Ali scores' average is  94.0\n",
      "Jack scores' average is  72.5\n",
      "Apple scores' average is  46.0\n",
      "----------------------------------------------------------------------------------------------------\n",
      "Name : Jeff\n",
      "Age : 18\n",
      "Gender : M\n",
      "----------------------------------------------------------------------------------------------------\n",
      "Name : Leo\n",
      "Age : 20\n",
      "Gender : M\n",
      "----------------------------------------------------------------------------------------------------\n",
      "Name : Ali\n",
      "Age : 22\n",
      "Gender : F\n",
      "----------------------------------------------------------------------------------------------------\n",
      "Name : Jack\n",
      "Age : 30\n",
      "Gender : M\n",
      "----------------------------------------------------------------------------------------------------\n",
      "Name : Apple\n",
      "Age : 32\n",
      "Gender : F\n",
      "----------------------------------------------------------------------------------------------------\n"
     ]
    }
   ],
   "source": [
    "import arrow\n",
    "\n",
    "def getPerson(name, age, gender, math_score, eng_score, message):\n",
    "    return {\n",
    "        \"name\"      : name,\n",
    "        \"age\"       : age,\n",
    "        \"gender\"    : gender,\n",
    "        \"math_score\": math_score,\n",
    "        \"eng_score\" : eng_score,\n",
    "        \"message\"   : message\n",
    "    }\n",
    "\n",
    "\n",
    "def sayHello(person):\n",
    "    now = arrow.now().format(\"YYYY-MM-DD HH:mm:ss\")\n",
    "    print(\"[{}][{}]{}\".format(now, person[\"name\"], person[\"message\"]))\n",
    "    \n",
    "    \n",
    "def getScoreAverage(person):\n",
    "    avg = (person[\"math_score\"] + person[\"eng_score\"]) / 2\n",
    "    print( person[\"name\"], \"scores' average is \", avg)\n",
    "    \n",
    "    \n",
    "    \n",
    "def introduce(person):\n",
    "    print(\"Name : {}\".format(person[\"name\"]))\n",
    "    print(\"Age : {}\".format(person[\"age\"]))\n",
    "    print(\"Gender : {}\".format(person[\"gender\"]))\n",
    "    print(\"-\"*100)\n",
    "\n",
    "Jeff = getPerson(\"Jeff\", 18, \"M\", 100, 95, \"hihi\")\n",
    "Leo = getPerson(\"Leo\", 20, \"M\", 95, 80, \"yoyo\")\n",
    "Ali = getPerson(\"Ali\", 22, \"F\", 88, 100, \"kerker\")\n",
    "Jack = getPerson(\"Jack\", 30, \"M\", 70, 75, \"5487\")\n",
    "Apple = getPerson(\"Apple\", 32, \"F\", 84, 8, \"orz rrrrrr\")\n",
    "\n",
    "sayHello(Jeff)\n",
    "sayHello(Leo)\n",
    "sayHello(Ali)\n",
    "sayHello(Jack)\n",
    "sayHello(Apple)\n",
    "\n",
    "\n",
    "print(\"-\"*100)\n",
    "getScoreAverage(Jeff)\n",
    "getScoreAverage(Leo)\n",
    "getScoreAverage(Ali)\n",
    "getScoreAverage(Jack)\n",
    "getScoreAverage(Apple)\n",
    "\n",
    "\n",
    "print(\"-\"*100)\n",
    "introduce(Jeff)\n",
    "introduce(Leo)\n",
    "introduce(Ali)\n",
    "introduce(Jack)\n",
    "introduce(Apple)\n"
   ]
  },
  {
   "cell_type": "code",
   "execution_count": 39,
   "metadata": {},
   "outputs": [],
   "source": [
    "class Person:\n",
    "    #1.建構子, constructor-->定義 屬性 建構物件的屬性\n",
    "    def __init__(self, name, age, gender, math_score, eng_score, message):\n",
    "        self.name = name\n",
    "        self.age = age\n",
    "        self.gender = gender\n",
    "        self.math_score = math_score\n",
    "        self.eng_score = eng_score\n",
    "        self.message = message\n",
    "    \n",
    "    \n",
    "    #2.建立方法\n",
    "    \n",
    "    def sayHello(self):\n",
    "        now = arrow.now().format(\"YYYY-MM-DD HH:mm:ss\")\n",
    "        print(\"[{}][{}]{}\".format(now,self.name, self.message))\n",
    "        \n",
    "    #建立方法\n",
    "    def getScoreAverage(self):\n",
    "        avg = (self.math_score + self.eng_score) / 2\n",
    "        print( self.name, \"scores' average is \", avg)\n",
    "        \n",
    "        \n",
    "    #建立方法\n",
    "    def introduce(self):\n",
    "        print(\"Name : {}\".format(self.name))\n",
    "        print(\"Age : {}\".format(self.age))\n",
    "        print(\"Gender : {}\".format(self.gender))\n",
    "        print(\"-\"*100)\n",
    "        "
   ]
  },
  {
   "cell_type": "code",
   "execution_count": 40,
   "metadata": {},
   "outputs": [
    {
     "data": {
      "text/plain": [
       "<__main__.Person at 0x10e8a29b0>"
      ]
     },
     "execution_count": 40,
     "metadata": {},
     "output_type": "execute_result"
    }
   ],
   "source": [
    "Jeff = Person(\"Jeff\", 18, \"M\", 85, 100, \"hihi\")\n",
    "Leo = Person(\"Leo\", 20, \"M\", 95, 80, \"yoyo\")\n",
    "Ali = Person(\"Ali\", 22, \"F\", 88, 100, \"kerker\")\n",
    "Jack = Person(\"Jack\", 30, \"M\", 70, 75, \"5487\")\n",
    "Apple = Person(\"Apple\", 32, \"F\", 84, 8, \"orz rrrrrr\")\n",
    "Jeff"
   ]
  },
  {
   "cell_type": "code",
   "execution_count": 21,
   "metadata": {
    "scrolled": true
   },
   "outputs": [
    {
     "name": "stdout",
     "output_type": "stream",
     "text": [
      "<class '__main__.Person'>\n",
      "{'name': 'Jeff', 'age': 18, 'gender': 'M', 'math_score': 85, 'eng_score': 100, 'message': 'hihi'}\n",
      "{'name': 'Leo', 'age': 20, 'gender': 'M', 'math_score': 95, 'eng_score': 80, 'message': 'yoyo'}\n",
      "{'name': 'Ali', 'age': 22, 'gender': 'F', 'math_score': 88, 'eng_score': 100, 'message': 'kerker'}\n",
      "{'name': 'Jack', 'age': 30, 'gender': 'M', 'math_score': 70, 'eng_score': 75, 'message': '5487'}\n",
      "{'name': 'Apple', 'age': 32, 'gender': 'F', 'math_score': 84, 'eng_score': 8, 'message': 'orz rrrrrr'}\n"
     ]
    }
   ],
   "source": [
    "print(type(Jeff))\n",
    "print(Jeff.__dict__)\n",
    "print(Leo.__dict__)\n",
    "print(Ali.__dict__)\n",
    "print(Jack.__dict__)\n",
    "print(Apple.__dict__)\n"
   ]
  },
  {
   "cell_type": "code",
   "execution_count": 25,
   "metadata": {},
   "outputs": [
    {
     "name": "stdout",
     "output_type": "stream",
     "text": [
      "[2019-08-26 15:30:14][Jeff]hihi\n",
      "[2019-08-26 15:30:14][Leo]yoyo\n",
      "[2019-08-26 15:30:14][Ali]kerker\n",
      "[2019-08-26 15:30:14][Jack]5487\n",
      "[2019-08-26 15:30:14][Apple]orz rrrrrr\n"
     ]
    }
   ],
   "source": [
    "Jeff.sayHello()\n",
    "Leo.sayHello()\n",
    "Ali.sayHello()\n",
    "Jack.sayHello()\n",
    "Apple.sayHello()"
   ]
  },
  {
   "cell_type": "code",
   "execution_count": 37,
   "metadata": {},
   "outputs": [
    {
     "name": "stdout",
     "output_type": "stream",
     "text": [
      "Jeff scores' average is  92.5\n",
      "Leo scores' average is  87.5\n",
      "Ali scores' average is  94.0\n",
      "Jack scores' average is  72.5\n",
      "Apple scores' average is  46.0\n"
     ]
    }
   ],
   "source": [
    "Jeff.getScoreAverage()\n",
    "Leo.getScoreAverage()\n",
    "Ali.getScoreAverage()\n",
    "Jack.getScoreAverage()\n",
    "Apple.getScoreAverage()"
   ]
  },
  {
   "cell_type": "code",
   "execution_count": 41,
   "metadata": {
    "scrolled": true
   },
   "outputs": [
    {
     "name": "stdout",
     "output_type": "stream",
     "text": [
      "Name : Jeff\n",
      "Age : 18\n",
      "Gender : M\n",
      "----------------------------------------------------------------------------------------------------\n",
      "Name : Leo\n",
      "Age : 20\n",
      "Gender : M\n",
      "----------------------------------------------------------------------------------------------------\n",
      "Name : Ali\n",
      "Age : 22\n",
      "Gender : F\n",
      "----------------------------------------------------------------------------------------------------\n",
      "Name : Jack\n",
      "Age : 30\n",
      "Gender : M\n",
      "----------------------------------------------------------------------------------------------------\n",
      "Name : Apple\n",
      "Age : 32\n",
      "Gender : F\n",
      "----------------------------------------------------------------------------------------------------\n"
     ]
    }
   ],
   "source": [
    "Jeff.introduce()\n",
    "Leo.introduce()\n",
    "Ali.introduce()\n",
    "Jack.introduce()\n",
    "Apple.introduce()"
   ]
  },
  {
   "cell_type": "code",
   "execution_count": null,
   "metadata": {},
   "outputs": [],
   "source": [
    "def account(name, number, balance):\n",
    "    return {'name': name, 'number': number, 'balance': balance}\n",
    "\n",
    "def deposit(acct, amount):\n",
    "    if amount <= 0:\n",
    "         raise ValueError('amount must be positive')\n",
    "    acct['balance'] += amount \n",
    "\n",
    "def withdraw(acct, amount):\n",
    "    if amount > acct['balance']:\n",
    "        raise RuntimeError('balance not enough')\n",
    "    acct['balance'] -= amount\n",
    "\n",
    "def to_str(acct):\n",
    "    return 'Account:' + str(acct)"
   ]
  },
  {
   "cell_type": "code",
   "execution_count": 112,
   "metadata": {},
   "outputs": [],
   "source": [
    "class Account:\n",
    "    def __init__(self, name, number, balance):\n",
    "        self.name = name\n",
    "        self.number = number\n",
    "        self.balance = balance\n",
    "        \n",
    "    def deposit(self, amount):\n",
    "        self.balance += amount \n",
    "    \n",
    "    def withdraw(self, amount):\n",
    "        self.balance -= amount\n",
    "        \n",
    "    def to_str(self):\n",
    "        print(str(self.__dict__))"
   ]
  },
  {
   "cell_type": "code",
   "execution_count": 107,
   "metadata": {},
   "outputs": [],
   "source": [
    "Jeff = Account(\"Jeff\", \"001\", 10000)\n",
    "Leo = Account(\"Leo\", \"002\", 20000)\n",
    "Ali = Account(\"Ali\", \"003\", 30000)\n"
   ]
  },
  {
   "cell_type": "code",
   "execution_count": 114,
   "metadata": {},
   "outputs": [
    {
     "name": "stdout",
     "output_type": "stream",
     "text": [
      "{'name': 'Ali', 'number': '003', 'balance': 21000}\n",
      "{'name': 'Ali', 'number': '003', 'balance': 21000}\n",
      "None\n",
      "{'name': 'Ali', 'number': '003', 'balance': 21000}\n",
      "<class 'str'>\n"
     ]
    }
   ],
   "source": [
    "# Ali.deposit(2000)\n",
    "# print(Ali.__dict__)\n",
    "# Ali.withdraw(5000)\n",
    "# print(Ali.__dict__)\n",
    "Ali.to_str()\n",
    "print(Ali.to_str())\n",
    "print(type(str(Ali.to_str())))\n"
   ]
  }
 ],
 "metadata": {
  "kernelspec": {
   "display_name": "Python 3",
   "language": "python",
   "name": "python3"
  },
  "language_info": {
   "codemirror_mode": {
    "name": "ipython",
    "version": 3
   },
   "file_extension": ".py",
   "mimetype": "text/x-python",
   "name": "python",
   "nbconvert_exporter": "python",
   "pygments_lexer": "ipython3",
   "version": "3.7.3"
  }
 },
 "nbformat": 4,
 "nbformat_minor": 2
}
