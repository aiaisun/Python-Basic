{
 "cells": [
  {
   "cell_type": "code",
   "execution_count": 22,
   "metadata": {},
   "outputs": [],
   "source": [
    "import requests\n",
    "from pymongo import MongoClient\n",
    "\n",
    "client = MongoClient(\"localhost\", 27017)\n",
    "col = client[\"tutorial\"][\"591sample\"]"
   ]
  },
  {
   "cell_type": "code",
   "execution_count": 27,
   "metadata": {},
   "outputs": [],
   "source": [
    "def getParsedData(rawData):\n",
    "    \n",
    "     return [{\n",
    "        \"id\"                   : h[\"id\"],\n",
    "        \"addr_number_name\"     : h[\"addr_number_name\"],\n",
    "        \"address_img_title\"    : h[\"address_img_title\"],\n",
    "        \"browsenum_all\"        : h[\"browsenum_all\"],\n",
    "        \"floor\"                : h[\"floor\"],\n",
    "        \"fulladdress\"          : h[\"fulladdress\"],\n",
    "        \"kind_name\"            : h[\"kind_name\"],\n",
    "        \"price\"                : int(h[\"price\"].replace(\",\",\"\")),\n",
    "        \"ares\"                 : h[\"area\"],\n",
    "        \"filename\"             : h[\"filename\"],\n",
    "        \"region_name\"          : h[\"region_name\"],\n",
    "        \"section_name\"         : h[\"section_name\"],\n",
    "        \"street_name\"          : h[\"street_name\"],\n",
    "        \"link\"                 : \"https://rent.591.com.tw/rent-detail-{}.html\".format(h[\"id\"])\n",
    "    } for h in data[\"data\"][\"data\"]]\n",
    "    "
   ]
  },
  {
   "cell_type": "code",
   "execution_count": 35,
   "metadata": {
    "scrolled": true
   },
   "outputs": [
    {
     "name": "stdout",
     "output_type": "stream",
     "text": [
      "[2019-08-23 15:32:04] inserting is done.\n",
      "https://rent.591.com.tw/home/search/rsList?is_new_list=1&type=1&kind=0&searchtype=1&region=1&section=4,5,2,7,10&rentprice=3&firstRow=0&totalRows=926 done\n",
      "[2019-08-23 15:32:06] inserting is done.\n",
      "https://rent.591.com.tw/home/search/rsList?is_new_list=1&type=1&kind=0&searchtype=1&region=1&section=4,5,2,7,10&rentprice=3&firstRow=30&totalRows=926 done\n",
      "[2019-08-23 15:32:08] inserting is done.\n",
      "https://rent.591.com.tw/home/search/rsList?is_new_list=1&type=1&kind=0&searchtype=1&region=1&section=4,5,2,7,10&rentprice=3&firstRow=60&totalRows=926 done\n",
      "[2019-08-23 15:32:10] inserting is done.\n",
      "https://rent.591.com.tw/home/search/rsList?is_new_list=1&type=1&kind=0&searchtype=1&region=1&section=4,5,2,7,10&rentprice=3&firstRow=90&totalRows=926 done\n",
      "[2019-08-23 15:32:12] inserting is done.\n",
      "https://rent.591.com.tw/home/search/rsList?is_new_list=1&type=1&kind=0&searchtype=1&region=1&section=4,5,2,7,10&rentprice=3&firstRow=120&totalRows=926 done\n",
      "[2019-08-23 15:32:13] inserting is done.\n",
      "https://rent.591.com.tw/home/search/rsList?is_new_list=1&type=1&kind=0&searchtype=1&region=1&section=4,5,2,7,10&rentprice=3&firstRow=150&totalRows=926 done\n",
      "[2019-08-23 15:32:14] inserting is done.\n",
      "https://rent.591.com.tw/home/search/rsList?is_new_list=1&type=1&kind=0&searchtype=1&region=1&section=4,5,2,7,10&rentprice=3&firstRow=180&totalRows=926 done\n",
      "[2019-08-23 15:32:14] inserting is done.\n",
      "https://rent.591.com.tw/home/search/rsList?is_new_list=1&type=1&kind=0&searchtype=1&region=1&section=4,5,2,7,10&rentprice=3&firstRow=210&totalRows=926 done\n",
      "[2019-08-23 15:32:16] inserting is done.\n",
      "https://rent.591.com.tw/home/search/rsList?is_new_list=1&type=1&kind=0&searchtype=1&region=1&section=4,5,2,7,10&rentprice=3&firstRow=240&totalRows=926 done\n",
      "[2019-08-23 15:32:17] inserting is done.\n",
      "https://rent.591.com.tw/home/search/rsList?is_new_list=1&type=1&kind=0&searchtype=1&region=1&section=4,5,2,7,10&rentprice=3&firstRow=270&totalRows=926 done\n",
      "[2019-08-23 15:32:17] all is done\n"
     ]
    }
   ],
   "source": [
    "import arrow, time, random\n",
    "\n",
    "def printWithTime(msg):\n",
    "    now = arrow.now().format(\"YYYY-MM-DD HH:mm:ss\")\n",
    "    print(\"[{}] {}\".format(now, msg))\n",
    "    \n",
    "    \n",
    "mainAPI = \"https://rent.591.com.tw/home/search/rsList?is_new_list=1&type=1&kind=0&searchtype=1&region=1&section=4,5,2,7,10&rentprice=3&firstRow={}&totalRows=926\"\n",
    "pageList = []\n",
    "allHouseData = []\n",
    "houseLink = []\n",
    "for page in range(10):\n",
    "    firstrow = 30*page\n",
    "    API = mainAPI.format(firstrow)\n",
    "    pageList.append(API)\n",
    "    \n",
    "    \n",
    "limit = 25\n",
    "    \n",
    "# print(pageList)\n",
    "for api in pageList:\n",
    "    headers = {\n",
    "            \"Cookie\": \"urlJumpIp=1; urlJumpIpByTxt=%E5%8F%B0%E5%8C%97%E5%B8%82; is_new_index=1; is_new_index_redirect=1; T591_TOKEN=ugjl0mhvgagjqns6mofrceul64; _ga=GA1.3.1695965811.1564627285; _ga=GA1.4.1695965811.1564627285; _fbp=fb.2.1565668536543.19725422; webp=1; PHPSESSID=3m7c48uum8e93omi5d9c94aro0; user_index_role=1; __auc=c89c609d16cb2e7494dbb461c6b; localTime=2; imgClick=8107221; user_browse_recent=a%3A5%3A%7Bi%3A0%3Ba%3A2%3A%7Bs%3A4%3A%22type%22%3Bi%3A1%3Bs%3A7%3A%22post_id%22%3Bs%3A7%3A%228029716%22%3B%7Di%3A1%3Ba%3A2%3A%7Bs%3A4%3A%22type%22%3Bi%3A1%3Bs%3A7%3A%22post_id%22%3Bs%3A7%3A%228107636%22%3B%7Di%3A2%3Ba%3A2%3A%7Bs%3A4%3A%22type%22%3Bi%3A1%3Bs%3A7%3A%22post_id%22%3Bs%3A7%3A%228089603%22%3B%7Di%3A3%3Ba%3A2%3A%7Bs%3A4%3A%22type%22%3Bi%3A1%3Bs%3A7%3A%22post_id%22%3Bs%3A7%3A%228109122%22%3B%7Di%3A4%3Ba%3A2%3A%7Bs%3A4%3A%22type%22%3Bi%3A1%3Bs%3A7%3A%22post_id%22%3Bs%3A7%3A%228039604%22%3B%7D%7D; ba_cid=a%3A5%3A%7Bs%3A6%3A%22ba_cid%22%3Bs%3A32%3A%22a06d3b41a6b9600ac62e3c7a9d208d5d%22%3Bs%3A7%3A%22page_ex%22%3Bs%3A48%3A%22https%3A%2F%2Frent.591.com.tw%2Frent-detail-8107636.html%22%3Bs%3A4%3A%22page%22%3Bs%3A48%3A%22https%3A%2F%2Frent.591.com.tw%2Frent-detail-8029716.html%22%3Bs%3A7%3A%22time_ex%22%3Bi%3A1566380183%3Bs%3A4%3A%22time%22%3Bi%3A1566380225%3B%7D; _gid=GA1.3.375028218.1566531142; new_rent_list_kind_test=0; c10f3143a018a0513ebe1e8d27b5391c=1; _gid=GA1.4.375028218.1566531142; last_search_type=2; _gat=1; _gat_UA-97423186-1=1; XSRF-TOKEN=eyJpdiI6Im92Vmg3eVpBS0ZrK2lacmx3WHZJNXc9PSIsInZhbHVlIjoiWTh6MG5sRktcL3NrcDNEWEdOa2xFM2c0dWI0QTMwdDd1aVQ5TURZVkJOVXhRUjhcL0duS0NcL1BxSU4wQjIwa2pyYmxCUFh0NlZuSWRmeFRvV3dtTktcL0xnPT0iLCJtYWMiOiJiNDNhZmRmODBkODBhMTgxMmExMTQ0YjY3YTg3YmJiOTkxMzlhMTNkNzUyMjVkM2JmMWZiMGQ2MWI5MzY0YTNmIn0%3D; 591_new_session=eyJpdiI6InQrZEZVVCt5MGxXVndGb0NiNkVia1E9PSIsInZhbHVlIjoiZ3ArbGVDTnZQeDNPM29NNFN3UGJtb3RmaExmXC9FanBWT1Y1SG1GWGN1cE9oT3JhRkxobW5aUDZFVUtIWVJkSm9cL3FOanp0MDFWNXBCRlc2YzcyWDJSZz09IiwibWFjIjoiODhhMWFhMTM5YzNmNzFmNTlmNzYzOTMwZjkxMDNiY2Q0MzIyOTI2NWQ1ZWFmMzFiNjA2NDU0NWU0MWRlMzliZSJ9\",\n",
    "    \"Host\": \"rent.591.com.tw\",\n",
    "    \"Referer\": \"https://rent.591.com.tw/?kind=0&region=1&section=4,5,2,7,10&rentprice=3\",\n",
    "    \"User-Agent\": \"Mozilla/5.0 (Macintosh; Intel Mac OS X 10_13_2) AppleWebKit/537.36 (KHTML, like Gecko) Chrome/75.0.3770.142 Safari/537.36\",\n",
    "    \"X-CSRF-TOKEN\": \"8jw3BZ03DKEC4l59q7rrlAguureUPqlmGSpEzUrM\",\n",
    "    \"X-Requested-With\": \"XMLHttpRequest\"\n",
    "}\n",
    "    time.sleep(random.random()*1.5)\n",
    "    \n",
    "    res1 = requests.get(api, headers = headers)\n",
    "    data = res1.json()\n",
    "\n",
    "    houseData = getParsedData(data)\n",
    "    \n",
    "    allHouseData += houseData\n",
    "    \n",
    "    if len(allHouseData)>= limit:\n",
    "        col.insert_many(allHouseData)\n",
    "        allHouseData = []\n",
    "        printWithTime(\"inserting is done.\")\n",
    "#         for h in data[\"data\"][\"data\"]:\n",
    "#             link = \"https://rent.591.com.tw/rent-detail-{}.html\".format(h[\"id\"])\n",
    "\n",
    "    print(api, \"done\")\n",
    "    \n",
    "if len(allHouseData)>0:\n",
    "        col.insert_many(allHouseData)\n",
    "        allHouseData = []\n",
    "        printWithTime(\"inserting is done.\")\n",
    "\n",
    "printWithTime(\"all is done\")"
   ]
  },
  {
   "cell_type": "code",
   "execution_count": 34,
   "metadata": {},
   "outputs": [
    {
     "data": {
      "text/plain": [
       "'{\\n    \"message\": \"\"\\n}'"
      ]
     },
     "execution_count": 34,
     "metadata": {},
     "output_type": "execute_result"
    }
   ],
   "source": [
    "res1.text"
   ]
  },
  {
   "cell_type": "code",
   "execution_count": 14,
   "metadata": {},
   "outputs": [
    {
     "data": {
      "text/plain": [
       "<pymongo.results.InsertOneResult at 0x108fc1b48>"
      ]
     },
     "execution_count": 14,
     "metadata": {},
     "output_type": "execute_result"
    }
   ],
   "source": [
    "from pymongo import MongoClient\n",
    "\n",
    "client = MongoClient(\"localhost\", 27017)\n",
    "\n",
    "col = client[\"tutorial\"][\"591sample\"]\n",
    "\n",
    "col.insert_one({\"name\":\"Jeff\", \"age\":18})"
   ]
  },
  {
   "cell_type": "code",
   "execution_count": 55,
   "metadata": {},
   "outputs": [
    {
     "name": "stdout",
     "output_type": "stream",
     "text": [
      "{'_id': ObjectId('5d5f6c5ea1c1e5adc5a228ca'), 'id': 7963312, 'addr_number_name': '', 'address_img_title': '捷運後山埤站三分鐘陽光時尚套房', 'browsenum_all': 7682, 'floor': 100, 'fulladdress': '忠孝東路五段743巷捷運後山埤站三分鐘陽光時尚套房', 'kind_name': '獨立套房', 'price': 12500, 'ares': 9, 'filename': 'https://hp2.591.com.tw/house/active/2019/08/08/156519951808584008_210x158.crop.jpg', 'region_name': '台北市', 'section_name': '信義區', 'street_name': '忠孝東路五段', 'link': 'https://rent.591.com.tw/rent-detail-7963312.html'}\n"
     ]
    }
   ],
   "source": [
    "from bson.objectid import ObjectId\n",
    "# 微分析\n",
    "### 1)取得最低，最高價位的物件 ，從大排到小\n",
    "# list(    col.find({}).sort([(\"price\",-1)]).limit(2)   )\n",
    "\n",
    "###2) brouse number >2000\n",
    "# cursor\n",
    "cursor = col.find({\"browsenum_all\":{\"$gt\": 2000}}, {\"link\":1,\"address_img_title\":1,\"browsenum_all\":1,\"price\":1,\"fulladdress\":1})    \n",
    "# data\n",
    "data = list(cursor)\n",
    "# sorted\n",
    "data\n",
    "sorted(data, key = lambda ele: ele[\"price\"],reverse = True)\n",
    "sorted(data, key = lambda ele: ele[\"browsenum_all\"],reverse = True)\n",
    "\n",
    "### 3) 忠孝東路or 南京東路 上的物件\n",
    "list(col.find({\"fulladdress\":{\"$regex\":\".*忠孝東路.*\"}}))\n",
    "\n",
    "\n",
    "### 4) 透過object ID找資料 必須要import from bson.objectid import ObjectId\n",
    "d = col.find_one({\"_id\": ObjectId(\"5d5f6c5ea1c1e5adc5a228ca\")})\n",
    "print(d)"
   ]
  },
  {
   "cell_type": "code",
   "execution_count": 45,
   "metadata": {},
   "outputs": [
    {
     "name": "stdout",
     "output_type": "stream",
     "text": [
      "['a', 'b', 'c', 'g', 'k', 'z']\n",
      "['z', 'k', 'g', 'c', 'b', 'a']\n",
      "['Apple', 'Book', 'Flower', 'Jack', 'Opera', 'apple', 'book', 'zoo']\n",
      "['zoo', 'book', 'apple', 'Opera', 'Jack', 'Flower', 'Book', 'Apple']\n",
      "a 97\n"
     ]
    }
   ],
   "source": [
    "#data sorting\n",
    "# testData1 = [2, -4, 19 ,9,0,-32]\n",
    "# testData2 = [\"a\",\"g\", \"k\", \"b\", \"c\", \"z\"]\n",
    "# testData3 = [\"Apple\", \"Book\", \"Jack\", \"Flower\", \"Opera\", \"apple\", \"book\", \"zoo\"]\n",
    "\n",
    "# sorted(testData1, key = lambda ele: -ele)\n",
    "# sorted(testData1, key = lambda ele: ele)\n",
    "\n",
    "# print(sorted(testData2))\n",
    "# print(sorted(testData2, reverse = True)) \n",
    "# print(sorted(testData3))\n",
    "# print(sorted(testData3, reverse = True))\n",
    "\n",
    "# # ascii as-key-code英文編碼\n",
    "# print(\"a\", ord(\"a\"))\n",
    "##########################\n",
    "\n"
   ]
  },
  {
   "cell_type": "code",
   "execution_count": 37,
   "metadata": {},
   "outputs": [
    {
     "name": "stdout",
     "output_type": "stream",
     "text": [
      "11\n",
      "[4, -8, 38, 18, 0, -64]\n",
      "[4, -8, 38, 18, 0, -64]\n"
     ]
    }
   ],
   "source": [
    "# javascript/ node.js\n",
    "###python\n",
    "\n",
    "add = lambda a, b: a+b\n",
    "print(add(3,8))\n",
    "\n",
    "# testData1\n",
    "print([n*2 for n in testData1])\n",
    "\n",
    "# 映射, lambda匿名函數\n",
    "print(list(map(lambda n: n*2, testData1)))"
   ]
  },
  {
   "cell_type": "code",
   "execution_count": 39,
   "metadata": {},
   "outputs": [
    {
     "name": "stdout",
     "output_type": "stream",
     "text": [
      "['a_qq', 'g_qq', 'k_qq', 'b_qq', 'c_qq', 'z_qq']\n",
      "['a_qq', 'g_qq', 'k_qq', 'b_qq', 'c_qq', 'z_qq']\n"
     ]
    }
   ],
   "source": [
    "print([n+ \"_qq\" for n in testData2])\n",
    "print(list(map(lambda n : n + \"_qq\", testData2)))"
   ]
  },
  {
   "cell_type": "code",
   "execution_count": 20,
   "metadata": {},
   "outputs": [
    {
     "name": "stdout",
     "output_type": "stream",
     "text": [
      "2019-08-23T15:21:32.305563+08:00\n",
      "2019-08-23 15:21:32\n",
      "5\n",
      "Fri\n",
      "Friday\n",
      "2019-10-23 15:21:32\n",
      "2019-06-23 15:21:32\n",
      "2019-02-23 15:21:32\n",
      "2018-04-28 13:09:44\n"
     ]
    }
   ],
   "source": [
    "# 處理時間相關\n",
    "# UTC ZONE\n",
    "import arrow\n",
    "now = arrow.now()\n",
    "print(now)\n",
    "\n",
    "# format\n",
    "print(now.format(\"YYYY-MM-DD HH:mm:ss\"))\n",
    "print(now.format(\"d\"))\n",
    "print(now.format(\"ddd\"))\n",
    "print(now.format(\"dddd\"))\n",
    "\n",
    "##\n",
    "timeformat = \"YYYY-MM-DD HH:mm:ss\"\n",
    "print(now.shift(months=2).format(timeformat))\n",
    "print(now.shift(months=-2).format(timeformat))\n",
    "print(now.replace(month=2).format(timeformat))\n",
    "\n",
    "print(now.shift(years=-1, months = -4, days = 5, hours = -2, minutes = -12, seconds = 12).format(timeformat))"
   ]
  },
  {
   "cell_type": "code",
   "execution_count": 15,
   "metadata": {},
   "outputs": [
    {
     "data": {
      "text/plain": [
       "'0.14.5'"
      ]
     },
     "execution_count": 15,
     "metadata": {},
     "output_type": "execute_result"
    }
   ],
   "source": [
    "arrow.__version__"
   ]
  },
  {
   "cell_type": "code",
   "execution_count": 47,
   "metadata": {},
   "outputs": [
    {
     "name": "stdout",
     "output_type": "stream",
     "text": [
      "周杰倫\n",
      "<class 'str'>\n",
      "----------------------------------------------------------------------------------------------------\n",
      "b'\\xa9P\\xaaN\\xad\\xdb'\n",
      "b'\\xe5\\x91\\xa8\\xe6\\x9d\\xb0\\xe5\\x80\\xab'\n",
      "b'\\\\u5468\\\\u6770\\\\u502b'\n",
      "<class 'bytes'>\n",
      "--------------------------------------------------------------------------------\n",
      "b'\\xe5\\x91\\xa8\\xe6\\x9d\\xb0\\xe5\\x80\\xab'\n",
      "周杰倫\n",
      "Jack\n",
      "b'Jack'\n",
      "b'Jack'\n",
      "b'Jack'\n",
      "<class 'str'>\n",
      "<class 'bytes'>\n"
     ]
    }
   ],
   "source": [
    "name1 = \"周杰倫\"\n",
    "name2 = \"Jack\"\n",
    "# 編碼問題\n",
    "print(name1)\n",
    "print(type(name1))\n",
    "print(\"-\"*100)\n",
    "\n",
    "print(name1.encode(\"big5\"))       ##中文碼\n",
    "print(name1.encode(\"utf8\"))       ##萬國碼1\n",
    "print(name1.encode(\"unicode-escape\"))       ##萬國碼2\n",
    "print(type(name1.encode(\"utf8\")))\n",
    "\n",
    "print(\"-\"*80)\n",
    "\n",
    "name1Encoded = b\"\\xe5\\x91\\xa8\\xe6\\x9d\\xb0\\xe5\\x80\\xab\"\n",
    "print(name1Encoded)\n",
    "print(name1Encoded.decode(\"utf8\"))\n",
    "\n",
    "\n",
    "print(name2)\n",
    "print(name2.encode(\"big5\"))       ##中文碼\n",
    "print(name2.encode(\"utf8\"))       ##萬國碼1\n",
    "print(name2.encode(\"unicode-escape\"))       ##萬國碼2\n",
    "\n",
    "print(type(name2))\n",
    "print(type(name2.encode(\"utf8\")))"
   ]
  },
  {
   "cell_type": "code",
   "execution_count": null,
   "metadata": {},
   "outputs": [],
   "source": []
  }
 ],
 "metadata": {
  "kernelspec": {
   "display_name": "Python 3",
   "language": "python",
   "name": "python3"
  },
  "language_info": {
   "codemirror_mode": {
    "name": "ipython",
    "version": 3
   },
   "file_extension": ".py",
   "mimetype": "text/x-python",
   "name": "python",
   "nbconvert_exporter": "python",
   "pygments_lexer": "ipython3",
   "version": "3.7.3"
  }
 },
 "nbformat": 4,
 "nbformat_minor": 2
}
