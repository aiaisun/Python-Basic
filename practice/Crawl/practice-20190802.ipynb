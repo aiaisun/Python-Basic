{
 "cells": [
  {
   "cell_type": "code",
   "execution_count": 1,
   "metadata": {},
   "outputs": [],
   "source": [
    "import requests\n",
    "\n",
    "url = \"https://www.nownews.com/\"\n",
    "\n",
    "res = requests.get(url)\n"
   ]
  },
  {
   "cell_type": "code",
   "execution_count": 2,
   "metadata": {},
   "outputs": [],
   "source": [
    "from bs4 import BeautifulSoup as bs\n",
    "\n",
    "origin = bs(res.text,\"lxml\")\n"
   ]
  },
  {
   "cell_type": "code",
   "execution_count": 31,
   "metadata": {},
   "outputs": [
    {
     "name": "stdout",
     "output_type": "stream",
     "text": [
      "最新文章：\n",
      "\n",
      "[<time class=\"entry-date updated td-module-date\" datetime=\"2019-08-02T10:26:53+00:00\">2019-08-02</time>, <time class=\"entry-date updated td-module-date\" datetime=\"2019-08-02T10:26:24+00:00\">2019-08-02</time>, <time class=\"entry-date updated td-module-date\" datetime=\"2019-08-02T10:17:02+00:00\">2019-08-02</time>, <time class=\"entry-date updated td-module-date\" datetime=\"2019-08-02T10:16:48+00:00\">2019-08-02</time>, <time class=\"entry-date updated td-module-date\" datetime=\"2019-08-02T10:13:21+00:00\">2019-08-02</time>, <time class=\"entry-date updated td-module-date\" datetime=\"2019-08-02T10:08:40+00:00\">2019-08-02</time>, <time class=\"entry-date updated td-module-date\" datetime=\"2019-08-02T10:06:24+00:00\">2019-08-02</time>, <time class=\"entry-date updated td-module-date\" datetime=\"2019-08-02T10:00:44+00:00\">2019-08-02</time>, <time class=\"entry-date updated td-module-date\" datetime=\"2019-08-02T10:00:11+00:00\">2019-08-02</time>, <time class=\"entry-date updated td-module-date\" datetime=\"2019-08-02T09:46:29+00:00\">2019-08-02</time>, <time class=\"entry-date updated td-module-date\" datetime=\"2019-08-02T09:45:02+00:00\">2019-08-02</time>]\n",
      "[<time class=\"entry-date updated td-module-date\" datetime=\"2019-08-02T10:26:53+00:00\">2019-08-02</time>, <time class=\"entry-date updated td-module-date\" datetime=\"2019-08-02T10:26:24+00:00\">2019-08-02</time>, <time class=\"entry-date updated td-module-date\" datetime=\"2019-08-02T10:17:02+00:00\">2019-08-02</time>, <time class=\"entry-date updated td-module-date\" datetime=\"2019-08-02T10:16:48+00:00\">2019-08-02</time>, <time class=\"entry-date updated td-module-date\" datetime=\"2019-08-02T10:13:21+00:00\">2019-08-02</time>, <time class=\"entry-date updated td-module-date\" datetime=\"2019-08-02T10:08:40+00:00\">2019-08-02</time>, <time class=\"entry-date updated td-module-date\" datetime=\"2019-08-02T10:06:24+00:00\">2019-08-02</time>, <time class=\"entry-date updated td-module-date\" datetime=\"2019-08-02T10:00:44+00:00\">2019-08-02</time>, <time class=\"entry-date updated td-module-date\" datetime=\"2019-08-02T10:00:11+00:00\">2019-08-02</time>, <time class=\"entry-date updated td-module-date\" datetime=\"2019-08-02T09:46:29+00:00\">2019-08-02</time>, <time class=\"entry-date updated td-module-date\" datetime=\"2019-08-02T09:45:02+00:00\">2019-08-02</time>]\n",
      "Title:  時代力量為何不敢喊「支持蔡英文」？議員曝超暗黑真相\n"
     ]
    },
    {
     "ename": "AttributeError",
     "evalue": "'list' object has no attribute 'text'",
     "output_type": "error",
     "traceback": [
      "\u001b[0;31m---------------------------------------------------------------------------\u001b[0m",
      "\u001b[0;31mAttributeError\u001b[0m                            Traceback (most recent call last)",
      "\u001b[0;32m<ipython-input-31-317cc2828217>\u001b[0m in \u001b[0;36m<module>\u001b[0;34m\u001b[0m\n\u001b[1;32m     14\u001b[0m     \u001b[0mprint\u001b[0m\u001b[0;34m(\u001b[0m\u001b[0;34m\"Title: \"\u001b[0m\u001b[0;34m,\u001b[0m \u001b[0maTag\u001b[0m\u001b[0;34m[\u001b[0m\u001b[0;34m\"title\"\u001b[0m\u001b[0;34m]\u001b[0m\u001b[0;34m)\u001b[0m\u001b[0;34m\u001b[0m\u001b[0;34m\u001b[0m\u001b[0m\n\u001b[1;32m     15\u001b[0m \u001b[0;31m#     print(\"Link: \", aTag[\"href\"])\u001b[0m\u001b[0;34m\u001b[0m\u001b[0;34m\u001b[0m\u001b[0;34m\u001b[0m\u001b[0m\n\u001b[0;32m---> 16\u001b[0;31m     \u001b[0mprint\u001b[0m\u001b[0;34m(\u001b[0m\u001b[0;34m\"Date: \"\u001b[0m\u001b[0;34m,\u001b[0m \u001b[0mtimeTag\u001b[0m\u001b[0;34m.\u001b[0m\u001b[0mtext\u001b[0m\u001b[0;34m)\u001b[0m\u001b[0;34m\u001b[0m\u001b[0;34m\u001b[0m\u001b[0m\n\u001b[0m\u001b[1;32m     17\u001b[0m     \u001b[0mprint\u001b[0m\u001b[0;34m(\u001b[0m\u001b[0;34m\"-\"\u001b[0m\u001b[0;34m*\u001b[0m\u001b[0;36m100\u001b[0m\u001b[0;34m)\u001b[0m\u001b[0;34m\u001b[0m\u001b[0;34m\u001b[0m\u001b[0m\n\u001b[1;32m     18\u001b[0m \u001b[0;34m\u001b[0m\u001b[0m\n",
      "\u001b[0;31mAttributeError\u001b[0m: 'list' object has no attribute 'text'"
     ]
    }
   ],
   "source": [
    "point1 = origin.select(\"div.td-block-span6 h3\")\n",
    "# print(point1)\n",
    "print(\"最新文章：\")\n",
    "print(\"\")\n",
    "\n",
    "timeTag = origin.select(\"div.td-block-span6 time\")\n",
    "\n",
    "print(timeTag)\n",
    "for ele in point1:\n",
    "    aTag = ele.select(\"a\")[0]\n",
    "    timeTag = origin.select(\"div.td-block-span6 time\")\n",
    "#     print(aTag)\n",
    "    print(timeTag)\n",
    "    print(\"Title: \", aTag[\"title\"])\n",
    "#     print(\"Link: \", aTag[\"href\"])\n",
    "    print(\"Date: \", timeTag.text)\n",
    "    print(\"-\"*100)\n",
    "    "
   ]
  },
  {
   "cell_type": "code",
   "execution_count": 23,
   "metadata": {
    "scrolled": true
   },
   "outputs": [
    {
     "name": "stdout",
     "output_type": "stream",
     "text": [
      "{'Title:': 'NBA／飆風玫瑰增添新刺青\\u3000下個賽季有機會以先發上陣', 'Link: ': 'https://www.nownews.com/news/20190802/3537100/', 'Content:': 'NBA／飆風玫瑰增添新刺青\\u3000下個賽季有機會以先發上陣'}\n",
      "{'Title:': '房市／漲勢終結？\\u3000Q2高雄房價回跌', 'Link: ': 'https://www.nownews.com/news/20190802/3536197/', 'Content:': '房市／漲勢終結？\\u3000Q2高雄房價回跌'}\n",
      "{'Title:': '名家論壇》黃創夏／八月砲火：下架國瑜黨！', 'Link: ': 'https://www.nownews.com/news/20190802/3537026/', 'Content:': '名家論壇》黃創夏／八月砲火：下架國瑜黨！'}\n",
      "{'Title:': '帥歐巴海上開唱！韓國主題展搬上郵輪\\u3000免費體驗韓服試穿', 'Link: ': 'https://www.nownews.com/news/20190802/3537093/', 'Content:': '帥歐巴海上開唱！韓國主題展搬上郵輪\\u3000免費體驗韓服試穿'}\n",
      "{'Title:': '大逆轉？冷氣「24hr不關機」最省電\\u3000技師打臉：恐賠更大', 'Link: ': 'https://www.nownews.com/news/20190802/3537101/', 'Content:': '大逆轉？冷氣「24hr不關機」最省電\\u3000技師打臉：恐賠更大'}\n",
      "{'Title:': 'NBA／勇士王朝結束了？\\u3000湯神：說這話的人很無知', 'Link: ': 'https://www.nownews.com/news/20190802/3537095/', 'Content:': 'NBA／勇士王朝結束了？\\u3000湯神：說這話的人很無知'}\n",
      "{'Title:': '川普再出招！稱9月起對3000億美元陸貨加徵「10%」關稅', 'Link: ': 'https://www.nownews.com/news/20190802/3537085/', 'Content:': '川普再出招！稱9月起對3000億美元陸貨加徵「10%」關稅'}\n",
      "{'Title:': '北北桃高溫飄至36度\\u3000第八號颱風「范斯高」最快今生成', 'Link: ': 'https://www.nownews.com/news/20190802/3537081/', 'Content:': '北北桃高溫飄至36度\\u3000第八號颱風「范斯高」最快今生成'}\n",
      "{'Title:': '和媽共吃烤玉米！一翻紙袋「老闆超暖舉動」\\u3000萬人秒淚崩', 'Link: ': 'https://www.nownews.com/news/20190802/3537072/', 'Content:': '和媽共吃烤玉米！一翻紙袋「老闆超暖舉動」\\u3000萬人秒淚崩'}\n",
      "{'Title:': '女星與超帥男模熱擁遭逮\\u3000加碼貼身激吻', 'Link: ': 'https://www.nownews.com/news/20190802/3536764/', 'Content:': '女星與超帥男模熱擁遭逮\\u3000加碼貼身激吻'}\n",
      "{'Title:': 'NOW早報／大陸「禁古令」開鍘！改播愛國劇挨轟：忘祖嗎', 'Link: ': 'https://www.nownews.com/news/20190802/3536996/', 'Content:': 'NOW早報／大陸「禁古令」開鍘！改播愛國劇挨轟：忘祖嗎'}\n"
     ]
    }
   ],
   "source": [
    "DB = []\n",
    "for ele in point1:\n",
    "    bTag = ele.select(\"a\")[0]\n",
    "    \n",
    "    data={\n",
    "        \"Title:\": bTag[\"title\"],\n",
    "        \"Link: \": bTag[\"href\"],\n",
    "        \"Content:\": bTag.text\n",
    "    }\n",
    "    DB.append(data)\n",
    "\n",
    "for ele in DB:\n",
    "    print(ele)\n",
    "    "
   ]
  },
  {
   "cell_type": "code",
   "execution_count": 36,
   "metadata": {},
   "outputs": [
    {
     "name": "stdout",
     "output_type": "stream",
     "text": [
      "最新文章：\n",
      "\n",
      "Title:  時代力量為何不敢喊「支持蔡英文」？議員曝超暗黑真相\n",
      "Date:  2019-08-02\n",
      "----------------------------------------------------------------------------------------------------\n",
      "Title:  名家論壇》唐湘龍／陸客自由行全斷！蔡英文「爽假痛」\n",
      "Date:  2019-08-02\n",
      "----------------------------------------------------------------------------------------------------\n",
      "Title:  《乾杯！戀上日本酒的女子》　你所不知道的日本酒世界\n",
      "Date:  2019-08-02\n",
      "----------------------------------------------------------------------------------------------------\n",
      "Title:  直播／宣布組黨後一天　柯文哲在等郭台銘？\n",
      "Date:  2019-08-02\n",
      "----------------------------------------------------------------------------------------------------\n",
      "Title:  快訊／第八號颱風「范斯高」生成　預估往日本南方前進\n",
      "Date:  2019-08-02\n",
      "----------------------------------------------------------------------------------------------------\n",
      "Title:  王瑞德狂告網友沒輸過！「去死」韓粉火大：我才是受害者\n",
      "Date:  2019-08-02\n",
      "----------------------------------------------------------------------------------------------------\n",
      "Title:  踢到鋼板！反骨一支影片惹毛館長：要我教什麼叫尊重？\n",
      "Date:  2019-08-02\n",
      "----------------------------------------------------------------------------------------------------\n",
      "Title:  陪你「蜂」一夏　《瑪雅蜜蜂大冒險：蜜糖危機》可愛無敵\n",
      "Date:  2019-08-02\n",
      "----------------------------------------------------------------------------------------------------\n",
      "Title:  龍蟠虎踞大中路特區　中悦三巨作傲視桃園\n",
      "Date:  2019-08-02\n",
      "----------------------------------------------------------------------------------------------------\n",
      "Title:  美加徵陸關稅美股嚇趴　台股早盤跌逾160點、電子股臉綠\n",
      "Date:  2019-08-02\n",
      "----------------------------------------------------------------------------------------------------\n",
      "Title:  影／一國兩制末日！？陸流亡富商郭文貴曝：香港即將戒嚴\n",
      "Date:  2019-08-02\n",
      "----------------------------------------------------------------------------------------------------\n"
     ]
    }
   ],
   "source": [
    "point1 = origin.select(\"div.td-block-span6\")\n",
    "# print(point1)\n",
    "print(\"最新文章：\")\n",
    "print(\"\")\n",
    "\n",
    "\n",
    "for ele in point1:\n",
    "    aTag = ele.select(\"a\")[0]\n",
    "    timeTag = ele.select(\"time\")[0]\n",
    "#     print(aTag)\n",
    "#     print(timeTag)\n",
    "    print(\"Title: \", aTag[\"title\"])\n",
    "#     print(\"Link: \", aTag[\"href\"])\n",
    "    print(\"Date: \", timeTag.text)\n",
    "    print(\"-\"*100)\n",
    "    "
   ]
  }
 ],
 "metadata": {
  "kernelspec": {
   "display_name": "Python 3",
   "language": "python",
   "name": "python3"
  },
  "language_info": {
   "codemirror_mode": {
    "name": "ipython",
    "version": 3
   },
   "file_extension": ".py",
   "mimetype": "text/x-python",
   "name": "python",
   "nbconvert_exporter": "python",
   "pygments_lexer": "ipython3",
   "version": "3.7.3"
  }
 },
 "nbformat": 4,
 "nbformat_minor": 2
}
