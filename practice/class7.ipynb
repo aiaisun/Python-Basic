{
 "cells": [
  {
   "cell_type": "code",
   "execution_count": null,
   "metadata": {},
   "outputs": [],
   "source": [
    "import ssl\n",
    "ssl._create_default_https_context = ssl._create_unverified_context\n",
    "\n",
    "from urllib.request import url\n",
    "url =\"https://www.google.com/doodles/json/2019/8?hl=zh_TW\"\n",
    "\n",
    "response = urlopen(url)"
   ]
  },
  {
   "cell_type": "code",
   "execution_count": 3,
   "metadata": {},
   "outputs": [
    {
     "name": "stdout",
     "output_type": "stream",
     "text": [
      "{'translated_blog_posts': {}, 'share_text': '潘特雷蒙庫莉什 200 歲冥誕 #GoogleDoodle', 'name': 'panteleimon-kulishs-200th-birthday', 'title': '潘特雷蒙庫莉什 200 歲冥誕', 'high_res_width': 786, 'run_date_array': [2019, 8, 7], 'translations': {'ru': {'query': 'Пантелеймон Кулиш', 'hover_text': '200 лет со дня рождения Пантелеймона Кулиша', 'share_text': '200 лет со дня рождения Пантелеймона Кулиша #GoogleDoodle'}, 'en': {'query': 'Panteleimon Kulish', 'hover_text': 'Panteleimon Kulish’s 200th Birthday', 'share_text': 'Panteleimon Kulish’s 200th Birthday! #GoogleDoodle'}, 'uk': {'query': 'Пантелеймон Куліш', 'hover_text': '200 років з дня народження Пантелеймона Куліша ', 'share_text': '200 років з дня народження Пантелеймона Куліша #GoogleDoodle'}}, 'high_res_height': 440, 'high_res_url': '//www.google.com/logos/doodles/2019/panteleimon-kulishs-200th-birthday-6591912776564736-2x.png', 'url': '//www.google.com/logos/doodles/2019/panteleimon-kulishs-200th-birthday-6591912776564736.2-l.png', 'alternate_url': 'https://lh3.googleusercontent.com/OzYoUArZnbI6-MLMCUiafbjWjFzaTL-hcAkmynxiARTx4qTgMd171U2FyfrcD80YOHYDF5OaVdxNfnXLsR8APWjgCofW5bT9ZEcivZY', 'query': '潘特雷蒙庫莉什 200 歲冥誕'}\n",
      "潘特雷蒙庫莉什 200 歲冥誕\n",
      "{'translated_blog_posts': {}, 'share_text': '七夕情人節快樂！#GoogleDoodle', 'name': 'qixi-festival-2019', 'title': 'Qixi Festival 2019', 'high_res_width': 1157, 'run_date_array': [2019, 8, 7], 'translations': {'zh-HK': {'query': '七夕', 'hover_text': '七夕情人節快樂！', 'share_text': '七夕情人節快樂！#GoogleDoodle'}, 'en': {'query': 'Qixi Festival', 'hover_text': 'Qixi Festival 2019', 'share_text': 'Qixi Festival 2019 #GoogleDoodle'}, 'zh-CN': {'query': '七夕', 'hover_text': '2019七夕', 'share_text': '七夕快乐！ #GoogleDoodle'}, 'zh-TW': {'query': '七夕', 'hover_text': '七夕情人節快樂！', 'share_text': '七夕情人節快樂！#GoogleDoodle'}}, 'high_res_height': 426, 'high_res_url': '//www.google.com/logos/doodles/2019/qixi-festival-2019-6200766749474816-2xa.gif', 'url': '//www.google.com/logos/doodles/2019/qixi-festival-2019-6200766749474816.3-law.gif', 'alternate_url': 'https://lh3.googleusercontent.com/kL0HFZuyb6YaYTXMOb5l9V1yMSTZ2lWMcv5xvl7uBYDr10eAP0VHJVd2GPs7QODjniwU2YCeiJUQXo8l6jvRFWsUPwz60Stz87A8AUz_', 'query': '七夕'}\n",
      "Qixi Festival 2019\n",
      "{'translated_blog_posts': {}, 'share_text': '2019 年玻利維亞獨立紀念日 #GoogleDoodle', 'name': 'bolivia-independence-day-2019', 'title': '2019 年玻利維亞獨立紀念日', 'high_res_width': 1000, 'run_date_array': [2019, 8, 6], 'translations': {'en': {'query': 'Bolivia Independence Day', 'hover_text': 'Bolivia Independence Day 2019', 'share_text': 'Happy Independence Day, Bolivia! #GoogleDoodle'}, 'es-419': {'query': 'Día de la Independencia de Bolivia', 'hover_text': '¡Feliz día de la Independencia!', 'share_text': 'Día de la Independencia de Bolivia #GoogleDoodle'}, 'es': {'query': 'Día de la Independencia de Bolivia', 'hover_text': 'Día de la Independencia de Bolivia\\xa02019', 'share_text': '¡Feliz Día de la Independencia de Bolivia! #GoogleDoodle'}}, 'high_res_height': 400, 'high_res_url': '//www.google.com/logos/doodles/2019/bolivia-independence-day-2019-5143632523821056-2xa.gif', 'url': '//www.google.com/logos/doodles/2019/bolivia-independence-day-2019-5143632523821056-law.gif', 'alternate_url': 'https://lh3.googleusercontent.com/RCbN0mypGeFdu3HW6yLfbotJKu8ZCDrI8p35HaDKV6-Zb82AWpgVZJWVDpGqIoEqpp_zXZoiGVWaJhSHoDGen_VAFltzTH0U3yWG8unsrA', 'query': '2019 年玻利維亞獨立紀念日'}\n",
      "2019 年玻利維亞獨立紀念日\n",
      "{'translated_blog_posts': {}, 'share_text': 'Madiha Kamel’s 73rd Birthday #GoogleDoodle', 'name': 'madiha-kamels-73rd-birthday', 'title': 'Madiha Kamel’s 73rd Birthday', 'high_res_width': 1035, 'run_date_array': [2019, 8, 3], 'translations': {'fr': {'query': 'Madiha Kamel', 'hover_text': \"L'anniversaire de Madiha Kamel à 73 ans\", 'share_text': \"L'anniversaire de Madiha Kamel à 73 ans #GoogleDoodle\"}, 'hy': {'query': 'Մադիհա Կամել', 'hover_text': 'Մադիհա Կամելի ծննդյան 73-ամյակը', 'share_text': 'Մադիհա Կամելի ծննդյան 73-ամյակը #GoogleDoodle'}, 'it': {'query': 'Madiha Kamel', 'hover_text': '73° anniversario della nascita di Madiha Kamel', 'share_text': '73° anniversario della nascita di Madiha Kamel! #GoogleDoodle'}, 'ur': {'query': 'Madiha Kamel', 'hover_text': 'Madiha Kamel کا 73 واں یوم پیدائش', 'share_text': 'Madiha Kamel کا 73 واں یوم پیدائش! GoogleDoodle#'}, 'fa': {'query': 'مدیحه کامل', 'hover_text': 'هفتادوسومین زادروز مدیحه کامل', 'share_text': 'هفتادوسومین زادروز مدیحه کامل! \\u200e#GoogleDoodle'}, 'hi': {'query': 'मदीहा कामेल', 'hover_text': 'मादिहा कामेल की 73वीं जयंती', 'share_text': 'मादिहा कामेल की 73वीं जयंती! #GoogleDoodle'}, 'en': {'query': 'Madiha Kamel', 'hover_text': 'Madiha Kamel’s 73rd Birthday', 'share_text': 'Madiha Kamel’s 73rd Birthday! #GoogleDoodle'}, 'ar': {'query': 'مديحة كامل', 'hover_text': 'الذكرى الـ73 لميلاد مديحة كامل\\u200e\\u200e \\u200e\\u200e\\u200e\\u200e', 'share_text': '#GoogleDoodle !الذكرى الـ73 لميلاد مديحة كامل\\u200e\\u200e \\u200e\\u200e\\u200e\\u200e'}}, 'high_res_height': 460, 'high_res_url': '//www.google.com/logos/doodles/2019/madiha-kamels-73rd-birthday-6356120179310592-2x.png', 'url': '//www.google.com/logos/doodles/2019/madiha-kamels-73rd-birthday-6356120179310592.2-l.png', 'alternate_url': 'https://lh3.googleusercontent.com/EMJkec2piysaFnuNJ1FZnRaAVCs8ZScoXNkDwnCZo74W3zi318ndIE53stRdrHcPWKYXVbceap2MOnDGsdCweK_lMufamYkjM40Qxzwa', 'query': 'Madiha Kamel’s 73rd Birthday'}\n",
      "Madiha Kamel’s 73rd Birthday\n",
      "{'translated_blog_posts': {}, 'share_text': '2019 年瑞士國慶日 #GoogleDoodle', 'name': 'switzerland-national-day-2019', 'title': '2019 年瑞士國慶日', 'high_res_width': 1000, 'run_date_array': [2019, 8, 1], 'translations': {'fr': {'query': 'Fête nationale suisse', 'hover_text': 'Fête nationale suisse 2019', 'share_text': 'Joyeuse fête nationale! #GoogleDoodle'}, 'en': {'query': 'Switzerland National Day', 'hover_text': 'Switzerland National Day 2019', 'share_text': 'Happy National Day, Switzerland! #GoogleDoodle'}, 'de': {'query': 'Schweizer Bundesfeiertag', 'hover_text': 'Schweizer Bundesfeiertag 2019', 'share_text': 'Schweizer Bundesfeiertag 2019 #GoogleDoodle'}, 'it': {'query': 'Festa nazionale Svizzera', 'hover_text': 'Festa nazionale della Svizzera 2019', 'share_text': 'Buona Festa nazionale della Svizzera #GoogleDoodle'}}, 'high_res_height': 400, 'high_res_url': '//www.google.com/logos/doodles/2019/switzerland-national-day-2019-4796280768299008-2xa.gif', 'url': '//www.google.com/logos/doodles/2019/switzerland-national-day-2019-4796280768299008-law.gif', 'alternate_url': 'https://lh3.googleusercontent.com/rrtr2qmDZCQv7Vplz1sl6SOGw_6KcbnovGuvboiuj18uySiUy-otMKGcOknovtupKKqVfXQZIDbXyRNfXvtM7IK3hFW4oPoxyoSY2-pkQQ', 'query': '2019 年瑞士國慶日'}\n",
      "2019 年瑞士國慶日\n",
      "{'translated_blog_posts': {}, 'share_text': '2019 年瑞士國慶日 #GoogleDoodle', 'name': 'switzerland-national-day-2019', 'title': '2019 年瑞士國慶日', 'high_res_width': 1000, 'run_date_array': [2019, 8, 1], 'translations': {'fr': {'query': 'Fête nationale suisse', 'hover_text': 'Fête nationale suisse 2019', 'share_text': 'Joyeuse fête nationale! #GoogleDoodle'}, 'en': {'query': 'Switzerland National Day', 'hover_text': 'Switzerland National Day 2019', 'share_text': 'Happy National Day, Switzerland! #GoogleDoodle'}, 'de': {'query': 'Schweizer Bundesfeiertag', 'hover_text': 'Schweizer Bundesfeiertag 2019', 'share_text': 'Schweizer Bundesfeiertag 2019 #GoogleDoodle'}, 'it': {'query': 'Festa nazionale Svizzera', 'hover_text': 'Festa nazionale della Svizzera 2019', 'share_text': 'Buona Festa nazionale della Svizzera #GoogleDoodle'}}, 'high_res_height': 400, 'high_res_url': '//www.google.com/logos/doodles/2019/switzerland-national-day-2019-4796280768299008-2xa.gif', 'url': '//www.google.com/logos/doodles/2019/switzerland-national-day-2019-4796280768299008-law.gif', 'alternate_url': 'https://lh3.googleusercontent.com/rrtr2qmDZCQv7Vplz1sl6SOGw_6KcbnovGuvboiuj18uySiUy-otMKGcOknovtupKKqVfXQZIDbXyRNfXvtM7IK3hFW4oPoxyoSY2-pkQQ', 'query': '2019 年瑞士國慶日'}\n",
      "2019 年瑞士國慶日\n"
     ]
    }
   ],
   "source": [
    "import ssl\n",
    "ssl._create_default_https_context = ssl._create_unverified_context\n",
    "\n",
    "from urllib.request import urlopen\n",
    "import json\n",
    "\n",
    "url = \"https://www.google.com/doodles/json/2019/8?hl=zh_TW\"\n",
    "\n",
    "response = urlopen(url)\n",
    "pics = json.load(response)\n",
    "for p in pics:\n",
    "    print(p)\n",
    "    print(p[\"title\"])"
   ]
  }
 ],
 "metadata": {
  "kernelspec": {
   "display_name": "Python 3",
   "language": "python",
   "name": "python3"
  },
  "language_info": {
   "codemirror_mode": {
    "name": "ipython",
    "version": 3
   },
   "file_extension": ".py",
   "mimetype": "text/x-python",
   "name": "python",
   "nbconvert_exporter": "python",
   "pygments_lexer": "ipython3",
   "version": "3.7.3"
  }
 },
 "nbformat": 4,
 "nbformat_minor": 2
}
