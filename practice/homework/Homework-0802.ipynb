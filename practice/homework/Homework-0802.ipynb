{
 "cells": [
  {
   "cell_type": "code",
   "execution_count": 6,
   "metadata": {},
   "outputs": [
    {
     "name": "stdout",
     "output_type": "stream",
     "text": [
      "{'，': 12, '。': 3}\n"
     ]
    }
   ],
   "source": [
    "result =\"\"\"\n",
    "〔即時新聞／綜合報導〕香港反對修訂「逃犯條例」的「反送中」運動持續延燒，21日發生白衣人攻擊市民的暴力事件後，港人計畫27日在事發地舉行「光復元朗」行動，香港警方今（25）日發出反對通知書，表明禁止和反對星期六的光復元朗遊行。\n",
    "    綜合港媒報導，警方反對通知書表示，根據香港法例第245章《公安條例》第9（1）條、第9（2）條、第14（1）條及第14（2）條，警務處長禁止及反對擬在本週六（27日）下午3時半至晚上11時59分在元朗區的公眾地方舉行集會及公眾遊行。\n",
    "    港警表示，根據近日發生的事情，包括議員辦事處及其先人墓碑遭破壞、圍村居民反應，以及在網路上出現涉及暴力激烈言論，有理由相信遊行人士會與村民發生暴力肢體衝突，對遊行人士、村民及其他公眾人士均構成危險。\n",
    "\"\"\"\n",
    "\n",
    "result1 = result.split(\"，\")\n",
    "result2 = result.split(\"。\")\n",
    "# print(result1)\n",
    "# print(len(result1))\n",
    "a = 0\n",
    "b = 0\n",
    "for ele in result1:\n",
    "    a+=1\n",
    "# print(a)\n",
    "\n",
    "for ele in result2:\n",
    "    b+=1\n",
    "# print(b)\n",
    "\n",
    "times = {\n",
    "    \"，\" : a - 1,\n",
    "    \"。\" : b - 1\n",
    "}\n",
    "print(times)"
   ]
  },
  {
   "cell_type": "code",
   "execution_count": null,
   "metadata": {},
   "outputs": [],
   "source": [
    "2. 試寫一 function , 可讓使用者輸入三種值 , 按順序分別代表 餅乾 , 巧克力 , 千層蛋糕 的數量 \n",
    "   每5個餅乾 , 多送 1 塊巧克力 ; 每3塊巧克力 , 多送 1 個千層蛋糕\n",
    "   並以 print 顯示 , 餅乾 , 巧克力 , 千層蛋糕 的最終數量\n",
    "   ex:\n",
    "      執行 calculateDessert() , 按順序輸入 17 -> 9 -> 3 輸出:\n",
    "      Chocolate : 17\n",
    "      Cookie : 12 \n",
    "      Melaleuca Cake : 7 "
   ]
  },
  {
   "cell_type": "code",
   "execution_count": 7,
   "metadata": {
    "scrolled": true
   },
   "outputs": [
    {
     "name": "stdout",
     "output_type": "stream",
     "text": [
      "How many cookies you want:17\n",
      "How many chocolate you want:9\n",
      "How many cake you want:3\n",
      "{'Cookies:': 17, 'Chocolate:': 12, 'Cake:': 7}\n"
     ]
    }
   ],
   "source": [
    "a = int(input(\"How many cookies you want:\"))\n",
    "b = int(input(\"How many chocolate you want:\"))\n",
    "c = int(input(\"How many cake you want:\"))\n",
    "\n",
    "def getYourSweets(cookies,choco,cake):\n",
    "    addChoco = int(cookies/5)\n",
    "    addCake = int((addChoco+choco)/3)\n",
    "    finalCake = cake + addCake\n",
    "    yourSweet={\n",
    "        \"Cookies:\"  :  cookies,\n",
    "        \"Chocolate:\":  addChoco + choco,\n",
    "        \"Cake:\"     :  finalCake\n",
    "    }\n",
    "    return   yourSweet\n",
    "\n",
    "print(getYourSweets(a,b,c))"
   ]
  },
  {
   "cell_type": "code",
   "execution_count": null,
   "metadata": {},
   "outputs": [],
   "source": [
    "3. testQQ = [2,-1,0,13,7] , 是寫一程式 , 將該 list 內的數字, 由小排到大\n",
    "   ex:\n",
    "       [2,-1,0,13,7] -> [-1,0,2,7,13]\n",
    "\n",
    "   註:\n",
    "      通常進階一點 , 會一併考慮兩個概念\n",
    "      1) 該 list 的長度可以隨意 , ex: testJJ = [2,4,0,44,12,-3,-6,-2,-55, ... ] , 即 不限定 list 長度\n",
    "      2) 能否改成由大排到小 "
   ]
  },
  {
   "cell_type": "code",
   "execution_count": 43,
   "metadata": {},
   "outputs": [
    {
     "name": "stdout",
     "output_type": "stream",
     "text": [
      "[-1, 0, 2, 7, 13]\n"
     ]
    }
   ],
   "source": [
    "testQQ = [2,-1,0,13,7]\n",
    "newTestQQ = []\n",
    "\n",
    "for i in range(len(testQQ)):\n",
    "    newTestQQ.append(min(testQQ))\n",
    "    testQQ.remove(min(testQQ))\n",
    "print(newTestQQ)"
   ]
  },
  {
   "cell_type": "code",
   "execution_count": 42,
   "metadata": {},
   "outputs": [
    {
     "name": "stdout",
     "output_type": "stream",
     "text": [
      "[13, 7, 2, 0, -1]\n"
     ]
    }
   ],
   "source": [
    "testQQ = [2,-1,0,13,7]\n",
    "newTestQQ = []\n",
    "\n",
    "for i in range(len(testQQ)):\n",
    "    newTestQQ.append(max(testQQ))\n",
    "    testQQ.remove(max(testQQ))\n",
    "print(newTestQQ)"
   ]
  },
  {
   "cell_type": "code",
   "execution_count": null,
   "metadata": {},
   "outputs": [],
   "source": [
    "氣泡排序法\n",
    "兩個兩個比"
   ]
  }
 ],
 "metadata": {
  "kernelspec": {
   "display_name": "Python 3",
   "language": "python",
   "name": "python3"
  },
  "language_info": {
   "codemirror_mode": {
    "name": "ipython",
    "version": 3
   },
   "file_extension": ".py",
   "mimetype": "text/x-python",
   "name": "python",
   "nbconvert_exporter": "python",
   "pygments_lexer": "ipython3",
   "version": "3.7.3"
  }
 },
 "nbformat": 4,
 "nbformat_minor": 2
}
