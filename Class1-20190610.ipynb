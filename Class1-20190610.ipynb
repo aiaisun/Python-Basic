{
 "cells": [
  {
   "cell_type": "code",
   "execution_count": 17,
   "metadata": {},
   "outputs": [
    {
     "name": "stdout",
     "output_type": "stream",
     "text": [
      "579\n",
      "-333\n",
      "56088\n",
      "0.26973684210526316\n",
      "28.26\n",
      "Hello World yo\n"
     ]
    }
   ],
   "source": [
    "x=123\n",
    "y=456\n",
    "print(x+y)\n",
    "print(x-y)\n",
    "print(x*y)\n",
    "# ㄏ\n",
    "print(x/y)\n",
    "\n",
    "\n",
    "a=0.123\n",
    "b=3.14\n",
    "print(3*3*b)\n",
    "\n",
    "\n",
    "a=\"Hello World \"\n",
    "b=\"yo\"\n",
    "print(a+b)\n"
   ]
  },
  {
   "cell_type": "code",
   "execution_count": 3,
   "metadata": {},
   "outputs": [
    {
     "name": "stdout",
     "output_type": "stream",
     "text": [
      "jeff\n",
      "jeff\n",
      "hello jeff\n"
     ]
    }
   ],
   "source": [
    "name=input()\n",
    "print(name)\n",
    "print(\"hello \"+name)\n"
   ]
  },
  {
   "cell_type": "code",
   "execution_count": 8,
   "metadata": {},
   "outputs": [
    {
     "name": "stdout",
     "output_type": "stream",
     "text": [
      "Jeff\n",
      "Hello Jeff!\n",
      "Hello Jeff!\n"
     ]
    }
   ],
   "source": [
    "name=input()\n",
    "print(\"Hello \"+name+\"!\")\n",
    "print(\"Hello {}!\".format(name))"
   ]
  },
  {
   "cell_type": "code",
   "execution_count": 12,
   "metadata": {},
   "outputs": [
    {
     "name": "stdout",
     "output_type": "stream",
     "text": [
      "jeff\n",
      "18\n",
      "____________________\n",
      "Hello jeff! I'm 18 years old. And says yo!\n",
      "Hello jeff! I'm 18 years old. And says yo!\n"
     ]
    }
   ],
   "source": [
    "name=input()\n",
    "age=input()\n",
    "print(\"_\"*20)\n",
    "print(\"Hello {}! I'm {} years old. And says {}\".format(name,age,\"yo!\"))\n",
    "\n",
    "print(\"Hello {a}! I'm {b} years old. And says {c}\".format(a=name,b=age,c=\"yo!\"))"
   ]
  },
  {
   "cell_type": "code",
   "execution_count": 17,
   "metadata": {},
   "outputs": [
    {
     "name": "stdout",
     "output_type": "stream",
     "text": [
      "<class 'int'> <class 'float'> <class 'str'> <class 'bool'> <class 'bool'> <class 'NoneType'>\n"
     ]
    }
   ],
   "source": [
    "a=1\n",
    "b=1.2\n",
    "c=\"123\"\n",
    "d=True\n",
    "e=False\n",
    "f=None\n",
    "print(type(a),type(b),type(c),type(d),type(e),type(f))\n"
   ]
  },
  {
   "cell_type": "code",
   "execution_count": 18,
   "metadata": {},
   "outputs": [
    {
     "name": "stdout",
     "output_type": "stream",
     "text": [
      "X is +.\n"
     ]
    }
   ],
   "source": [
    "x=999\n",
    "if x>0:\n",
    "    print(\"X is +.\")\n",
    "else:\n",
    "    print(\"X is -.\")\n",
    "    "
   ]
  },
  {
   "cell_type": "code",
   "execution_count": 20,
   "metadata": {},
   "outputs": [
    {
     "name": "stdout",
     "output_type": "stream",
     "text": [
      "zone3\n"
     ]
    }
   ],
   "source": [
    "x=999\n",
    "if x>=0 and x<50:\n",
    "    print(\"zone1\")\n",
    "elif 100>x>50:\n",
    "    print(\"zone2\")\n",
    "else:\n",
    "    print(\"zone3\")\n"
   ]
  },
  {
   "cell_type": "code",
   "execution_count": 2,
   "metadata": {},
   "outputs": [
    {
     "name": "stdout",
     "output_type": "stream",
     "text": [
      "579\n",
      "0.6900000000000001\n",
      "I am Aquali\n",
      "____________________\n",
      "Taiwan\n",
      "Taiwan\n",
      "I love Taiwan\n",
      "I love Taiwan!\n",
      "Taiwan\n",
      "I love Taiwan\n",
      "\n"
     ]
    }
   ],
   "source": [
    "# My recap at home on 6/11\n",
    "x=123\n",
    "y=456\n",
    "print(x+y)\n",
    "# 大小寫也有分\n",
    "\n",
    "a=0.1\n",
    "b=2.3\n",
    "print(3*a*b)\n",
    "\n",
    "a=\"I am \"\n",
    "b=\"Aquali\"\n",
    "print(a +b)\n",
    "# 字串一定要單個字，不能分開，like I am,也不能i'm>是因為我沒有用\"\"才報錯\n",
    "# 字串一定要用\"\"包\n",
    "print(\"_\"*20)\n",
    "country=input()\n",
    "print(country)\n",
    "print(\"I love \"+country)\n",
    "print(\"I love {}!\".format(country))\n",
    "# print(\"I love \"+ input())\n",
    "\n",
    "print()\n"
   ]
  },
  {
   "cell_type": "code",
   "execution_count": 18,
   "metadata": {},
   "outputs": [
    {
     "name": "stdout",
     "output_type": "stream",
     "text": [
      "Ali\n",
      "28\n",
      "Hello Ali!\n",
      "Hello Ali! I'm 28 years old. And bye.\n"
     ]
    }
   ],
   "source": [
    "# Hello jeff! I'm 18 years old. And says yo!\n",
    "# Hello jeff! I'm 18 years old. And says yo!\n",
    "name=input()\n",
    "age=input()\n",
    "print(\"Hello {}!\".format(name))\n",
    "print(\"Hello {}! I'm {} years old. And {}.\".format(name,age,\"bye\"))\n",
    "\n",
    "     "
   ]
  },
  {
   "cell_type": "code",
   "execution_count": 24,
   "metadata": {},
   "outputs": [
    {
     "name": "stdout",
     "output_type": "stream",
     "text": [
      "X is +.\n"
     ]
    }
   ],
   "source": [
    "x>999\n",
    "if x>=1:\n",
    "    print(\"X is +.\")\n",
    "else:\n",
    "    print(\"X is _.\")\n",
    "# X=> 1 不行，X>=1    "
   ]
  },
  {
   "cell_type": "code",
   "execution_count": 26,
   "metadata": {},
   "outputs": [
    {
     "name": "stdout",
     "output_type": "stream",
     "text": [
      "zone1\n"
     ]
    }
   ],
   "source": [
    "x>999\n",
    "if 0<x<=500:\n",
    "    print(\"zone1\")\n",
    "elif 500<x:\n",
    "    print(\"zone2\")\n",
    "else:\n",
    "    print(\"NONE\")"
   ]
  }
 ],
 "metadata": {
  "kernelspec": {
   "display_name": "Python 3",
   "language": "python",
   "name": "python3"
  },
  "language_info": {
   "codemirror_mode": {
    "name": "ipython",
    "version": 3
   },
   "file_extension": ".py",
   "mimetype": "text/x-python",
   "name": "python",
   "nbconvert_exporter": "python",
   "pygments_lexer": "ipython3",
   "version": "3.7.3"
  }
 },
 "nbformat": 4,
 "nbformat_minor": 2
}
