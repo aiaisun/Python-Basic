{
 "cells": [
  {
   "cell_type": "code",
   "execution_count": 11,
   "metadata": {},
   "outputs": [
    {
     "name": "stdout",
     "output_type": "stream",
     "text": [
      "[92, 85, 47, 100, 70]\n",
      "394\n",
      "sum is 394\n",
      "Average is 78.8\n",
      "Average is 78.8\n"
     ]
    }
   ],
   "source": [
    "# 變數減少\n",
    "# 陣列 List\n",
    "# funsiton=函式=函數\n",
    "x=[92,85,47,100,70]\n",
    "print(x)\n",
    "\n",
    "# 0開始\n",
    "# index值索引值from 0,1,2,3\n",
    "Sum=x[0]+x[1]+x[2]+x[3]+x[4]\n",
    "print(Sum)\n",
    "print(\"sum is\",sum(x))\n",
    "print(\"Average is\",sum(x)/5)\n",
    "print(\"Average is\",sum(x)/len(x))\n",
    "# 程式修改最小化"
   ]
  },
  {
   "cell_type": "code",
   "execution_count": 29,
   "metadata": {},
   "outputs": [
    {
     "name": "stdout",
     "output_type": "stream",
     "text": [
      "['aa', 'bb', 'cc', 'dd', 'ee']\n",
      "['aa', 'bb', 'cc', 'dd', 'ee']\n",
      "bb\n",
      "['aa', 'bb', 'cc', 'dd', 'ee']\n",
      "['aa', 'bb', 'cc', 'dd', 'ee']\n",
      "['aa', 'bb', 'cc', 'dd', 'ee']\n",
      "['bb', 'cc', 'dd', 'ee']\n",
      "['bb', 'cc', 'dd']\n",
      "['bb', 'cc', 'dd', 'ee']\n"
     ]
    }
   ],
   "source": [
    "x=[\"aa\",\"bb\",\"cc\",\"dd\",\"ee\"]\n",
    "# 加入\n",
    "# x.append(\"ff\")\n",
    "print(x)\n",
    "# 移除\n",
    "# x.p[1(2\n",
    "print(x)\n",
    "# 子陣列\n",
    "print(x[1])\n",
    "print(x[:])\n",
    "print(x[0:])\n",
    "print(x[:5])\n",
    "print(x[1:5])\n",
    "print(x[1:-1])\n",
    "\n",
    "x1=x[1:5]\n",
    "print(x1)\n",
    "\n",
    "\n",
    "# 兩個::反過來\n",
    "# sum只支援陣列，不支援單個數字，so sum([x]), sum(x) can't\n",
    "# x=95\n"
   ]
  },
  {
   "cell_type": "code",
   "execution_count": 37,
   "metadata": {},
   "outputs": [
    {
     "name": "stdout",
     "output_type": "stream",
     "text": [
      "student1 math: 100\n",
      "student1 math: 100\n"
     ]
    }
   ],
   "source": [
    "# 字典 Dict\n",
    "student1={\n",
    "    \"math\":100,\n",
    "    \"chinese\":80,\n",
    "    \"english\":60\n",
    "}\n",
    "person1=[100,80,60]\n",
    "student2={\n",
    "    \"math\":100,\n",
    "    \"chinese\":80,\n",
    "    \"english\":60\n",
    "}\n",
    "\n",
    "print(\"student1 math:\",student1[\"math\"])\n",
    "print(\"student1 math:\",person1[0])\n"
   ]
  },
  {
   "cell_type": "code",
   "execution_count": 40,
   "metadata": {},
   "outputs": [
    {
     "name": "stdout",
     "output_type": "stream",
     "text": [
      "{'math': 100, 'chinese': 80, 'english': 60}\n",
      "<class 'dict'>\n",
      "[100, 80, 60]\n",
      "<class 'list'>\n"
     ]
    }
   ],
   "source": [
    "print(student1)\n",
    "print(type(student1))\n",
    "\n",
    "print(person1)\n",
    "print(type(person1))\n",
    "\n",
    "# 游標點擊複製"
   ]
  },
  {
   "cell_type": "code",
   "execution_count": 5,
   "metadata": {},
   "outputs": [
    {
     "name": "stdout",
     "output_type": "stream",
     "text": [
      "100\n",
      "{'math': 100, 'chinese': 80, 'english': 60, 'abc': 98, 'def': [1, 2, 3]}\n"
     ]
    }
   ],
   "source": [
    "student1={\n",
    "    \"math\":100,\n",
    "    \"chinese\":80,\n",
    "    \"english\":60\n",
    "}\n",
    "print(student1[\"math\"])\n",
    "student1[\"abc\"]=98\n",
    "student1[\"def\"]=[1,2,3]\n",
    "print(student1)\n",
    "\n"
   ]
  },
  {
   "cell_type": "code",
   "execution_count": 56,
   "metadata": {},
   "outputs": [
    {
     "name": "stdout",
     "output_type": "stream",
     "text": [
      "100\n",
      "{'math': 100, 'chinese': 80, 'english': 60, 'science': 98, 'testqq': 0.123}\n",
      "{'math': 100, 'chinese': 80, 'english': 60, 'science': 98, 'testqq': 0.123}\n",
      "{'math': 100, 'chinese': 80, 'english': 60, 'science': 98, 'testqq': 0.123, 'abc': 'whatever', 'def': [1, 2, 3]}\n",
      "________________________________________________________________________________\n",
      "{'math': 100, 'chinese': 80, 'english': 60, 'science': 98, 'testqq': 0.123}\n",
      "________________________________________________________________________________\n",
      "dict_keys(['math', 'chinese', 'english', 'science', 'testqq'])\n",
      "dict_values([100, 80, 60, 98, 0.123])\n",
      "________________________________________________________________________________\n",
      "<class 'dict_keys'>\n",
      "['math', 'chinese', 'english', 'science', 'testqq']\n",
      "<class 'list'>\n"
     ]
    }
   ],
   "source": [
    "#新增\n",
    "# key-value\n",
    "print(student1[\"math\"])\n",
    "student1[\"science\"]=98\n",
    "print(student1)\n",
    "student1[\"testqq\"]=0.123\n",
    "print(student1)\n",
    "# add key must to be string but value could be string, integer, list\n",
    "\n",
    "student1[\"abc\"]=\"whatever\"\n",
    "student1[\"def\"]=[1,2,3]\n",
    "print(student1)\n",
    "\n",
    "print(\"_\"*80)\n",
    "# remove\n",
    "student1.pop(\"abc\")\n",
    "student1.pop(\"def\")\n",
    "print(student1)\n",
    "\n",
    "print(\"_\"*80)\n",
    "print(student1.keys())\n",
    "print(student1.values())\n",
    "\n",
    "print(\"_\"*80)\n",
    "datakeys=student1.keys()\n",
    "print(type(datakeys))\n",
    "# list(datakeys)，不拿x接，後面就掉了\n",
    "\n",
    "x= list(datakeys)\n",
    "print(x)\n",
    "print(type(x))\n"
   ]
  }
 ],
 "metadata": {
  "kernelspec": {
   "display_name": "Python 3",
   "language": "python",
   "name": "python3"
  },
  "language_info": {
   "codemirror_mode": {
    "name": "ipython",
    "version": 3
   },
   "file_extension": ".py",
   "mimetype": "text/x-python",
   "name": "python",
   "nbconvert_exporter": "python",
   "pygments_lexer": "ipython3",
   "version": "3.7.3"
  }
 },
 "nbformat": 4,
 "nbformat_minor": 2
}
