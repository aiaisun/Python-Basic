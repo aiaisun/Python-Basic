{
 "cells": [
  {
   "cell_type": "code",
   "execution_count": 15,
   "metadata": {},
   "outputs": [
    {
     "name": "stdout",
     "output_type": "stream",
     "text": [
      "key in [0] 剪刀 [1]石頭 [2] 布1\n",
      "key in [0] 剪刀 [1]石頭 [2] 布1\n",
      "key in [0] 剪刀 [1]石頭 [2] 布1\n",
      "key in [0] 剪刀 [1]石頭 [2] 布1\n",
      "key in [0] 剪刀 [1]石頭 [2] 布1\n",
      "win:   4\n",
      "lose:  1\n",
      "even:  0\n"
     ]
    }
   ],
   "source": [
    "import random\n",
    "\n",
    "win=0\n",
    "lose=0\n",
    "even=0\n",
    "times = 0\n",
    "\n",
    "while times <5:\n",
    "    player = int(input(\"key in [0] 剪刀 [1]石頭 [2] 布\"))\n",
    "    com = random.randint(0,2)\n",
    "    \n",
    "    if player == ( com +1 ) % 3:\n",
    "        win = win +1\n",
    "        \n",
    "    elif player == ( com -1 ) % 3:\n",
    "        lose = lose +1\n",
    "        \n",
    "    else:\n",
    "        even = even +1\n",
    "\n",
    "    times = times +1     \n",
    "\n",
    "print(\"win:  \", win)\n",
    "print(\"lose: \", lose)\n",
    "print(\"even: \", even)"
   ]
  },
  {
   "cell_type": "code",
   "execution_count": 33,
   "metadata": {},
   "outputs": [
    {
     "name": "stdout",
     "output_type": "stream",
     "text": [
      "player:  2 / com:   1\n",
      "player:  0 / com:   1\n",
      "player:  0 / com:   2\n",
      "player:  2 / com:   0\n",
      "player:  1 / com:   0\n",
      "player:  2 / com:   2\n",
      "player:  2 / com:   0\n",
      "player:  2 / com:   0\n",
      "Times: 8\n",
      "win:   3\n",
      "lose:  3\n",
      "even:  1\n"
     ]
    }
   ],
   "source": [
    "import random\n",
    "\n",
    "win=0\n",
    "lose=0\n",
    "even=0\n",
    "times = 0\n",
    "start = True\n",
    "\n",
    "while start:\n",
    "    \n",
    "    if win<3 or lose<3:    \n",
    "        player = random.randint(0,2)\n",
    "#         player = int(input(\"key in [0] 剪刀 [1]石頭 [2] 布\"))\n",
    "        com = random.randint(0,2)\n",
    "    \n",
    "        if player == ( com +1 ) % 3:\n",
    "            win = win +1\n",
    "        \n",
    "        elif player == ( com -1 ) % 3:\n",
    "            lose = lose +1\n",
    "        \n",
    "        else:\n",
    "            even = even +1\n",
    "            \n",
    "    else:\n",
    "        start = False\n",
    "    \n",
    "    times = times +1\n",
    "    \n",
    "    print(\"player: \",player,\"/\",\"com:  \", com)   \n",
    "    \n",
    "    \n",
    "print(\"Times:\", times)        \n",
    "print(\"win:  \", win)\n",
    "print(\"lose: \", lose)\n",
    "print(\"even: \", even)"
   ]
  },
  {
   "cell_type": "code",
   "execution_count": 52,
   "metadata": {},
   "outputs": [
    {
     "ename": "SyntaxError",
     "evalue": "invalid syntax (<ipython-input-52-57de2239e1e6>, line 20)",
     "output_type": "error",
     "traceback": [
      "\u001b[1;36m  File \u001b[1;32m\"<ipython-input-52-57de2239e1e6>\"\u001b[1;36m, line \u001b[1;32m20\u001b[0m\n\u001b[1;33m    else:\u001b[0m\n\u001b[1;37m       ^\u001b[0m\n\u001b[1;31mSyntaxError\u001b[0m\u001b[1;31m:\u001b[0m invalid syntax\n"
     ]
    }
   ],
   "source": [
    "import random\n",
    "low = 1\n",
    "high = 100\n",
    "ans=random.randint(low,high)\n",
    "msg=\"please key in number:\"+str(low)+ \"~\"+ str(high)\n",
    "\n",
    "start= True\n",
    "\n",
    "while start:\n",
    "\n",
    "    a= int(input(msg))\n",
    "    if a < ans:\n",
    "        msg1=\"please key in number:\"+ str(a) + \"~\"+ str(high)\n",
    "        print(msg1)\n",
    "   \n",
    "    elif a >ans:\n",
    "        msg2=\"please key in number:\"+str(low)+ \"~\"+ str(a)\n",
    "\n",
    "        print(input(msg2)\n",
    "    else:\n",
    "        print(\"End: answer is \", ans)\n",
    "        break          "
   ]
  },
  {
   "cell_type": "code",
   "execution_count": 1,
   "metadata": {},
   "outputs": [
    {
     "name": "stdout",
     "output_type": "stream",
     "text": [
      "please key in number:1~1005\n",
      "please key in number:5~10060\n",
      "please key in number:60~10080\n",
      "please key in number:60~8075\n",
      "please key in number:75~8076\n",
      "please key in number:76~8075\n",
      "please key in number:75~8076\n",
      "please key in number:76~8077\n",
      "please key in number:77~8078\n",
      "Correct!\n"
     ]
    }
   ],
   "source": [
    "import random\n",
    "low = 1\n",
    "high = 100\n",
    "ans=random.randint(low,high)\n",
    "msg=\"please key in number:\"+str(low)+ \"~\"+ str(high)\n",
    "start=True\n",
    "while True:\n",
    "    \n",
    "    guess = int(input(\"please key in number:\"+str(low)+ \"~\"+ str(high)))\n",
    "    \n",
    "    if guess < ans:\n",
    "        low = guess\n",
    "    elif guess > ans:\n",
    "        high = guess\n",
    "    \n",
    "    else:\n",
    "        print(\"Correct!\")\n",
    "        break\n",
    "        \n",
    "    \n",
    "\n"
   ]
  },
  {
   "cell_type": "code",
   "execution_count": 17,
   "metadata": {},
   "outputs": [
    {
     "name": "stdout",
     "output_type": "stream",
     "text": [
      "hihihi\n",
      "byebyebye\n",
      "byehihi\n"
     ]
    }
   ],
   "source": [
    "string1=\"hi\" *3\n",
    "print(string1)\n",
    "\n",
    "string2=string1.replace(\"hi\",\"bye\")\n",
    "print(string2)\n",
    "\n",
    "string3=string1.replace(\"hi\",\"bye\",1)\n",
    "print(string3)"
   ]
  },
  {
   "cell_type": "code",
   "execution_count": 23,
   "metadata": {},
   "outputs": [
    {
     "name": "stdout",
     "output_type": "stream",
     "text": [
      "please key account：　yungaisun\n",
      "please key PW:　Aiaiai\n",
      "YUNGAISUN\n",
      "YUNGAISUN\n",
      "acount correct.\n",
      "PW correct.\n"
     ]
    }
   ],
   "source": [
    "aUser = \"yungaisun\"\n",
    "aPW = \"Aiaiai\"\n",
    "inputUser = input(\"please key account：　\")\n",
    "\n",
    "\n",
    "upperaUser=aUser.upper()\n",
    "upperinputUser=inputUser.upper()\n",
    "\n",
    "# print(upperaUser)\n",
    "# print(upperinputUser)\n",
    "\n",
    "if upperaUser == upperinputUser:\n",
    "    \n",
    "    print(\"Acount is correct.\")\n",
    "    inputPW = input(\"please key PW:　\")\n",
    "    if aPW == inputPW:\n",
    "        print(\"Login success.\")\n",
    "    \n",
    "    else:\n",
    "        print(\"PW forgot.\")\n",
    "else:\n",
    "    print(\"Account wrong.\")"
   ]
  },
  {
   "cell_type": "code",
   "execution_count": null,
   "metadata": {},
   "outputs": [],
   "source": []
  }
 ],
 "metadata": {
  "kernelspec": {
   "display_name": "Python 3",
   "language": "python",
   "name": "python3"
  },
  "language_info": {
   "codemirror_mode": {
    "name": "ipython",
    "version": 3
   },
   "file_extension": ".py",
   "mimetype": "text/x-python",
   "name": "python",
   "nbconvert_exporter": "python",
   "pygments_lexer": "ipython3",
   "version": "3.7.3"
  }
 },
 "nbformat": 4,
 "nbformat_minor": 2
}
