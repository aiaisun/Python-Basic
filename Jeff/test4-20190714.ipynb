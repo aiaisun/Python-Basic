{
 "cells": [
  {
   "cell_type": "code",
   "execution_count": 7,
   "metadata": {},
   "outputs": [
    {
     "name": "stdout",
     "output_type": "stream",
     "text": [
      "3 3 4\n"
     ]
    }
   ],
   "source": [
    "listA=[\"a\",\"b\",\"c\",\"c\",\"c\",\"a\",\"d\",\"b\",\"b\",\"a\",\"c\"]\n",
    "aSUM=0\n",
    "bSUM=0\n",
    "cSUM=0\n",
    "for i in listA:\n",
    "    if i==\"a\":\n",
    "        aSUM+=1\n",
    "    if i==\"b\":\n",
    "        bSUM+=1\n",
    "    if i==\"c\":\n",
    "        cSUM+=1\n",
    "print(aSUM,bSUM,cSUM)"
   ]
  },
  {
   "cell_type": "code",
   "execution_count": 36,
   "metadata": {},
   "outputs": [
    {
     "name": "stdout",
     "output_type": "stream",
     "text": [
      "{'a': 3, 'b': 3, 'c': 4, 'd': 1, 'o': 1}\n"
     ]
    }
   ],
   "source": [
    "listA=[\"a\",\"b\",\"c\",\"c\",\"c\",\"a\",\"d\",\"b\",\"b\",\"a\",\"c\",\"o\"]\n",
    "dicA = {}\n",
    "\n",
    "for i in listA:\n",
    "    if i in dicA:\n",
    "        dicA[i]+=1\n",
    "    else:\n",
    "        dicA[i]=1\n",
    "    \n",
    "        \n",
    "print(dicA)"
   ]
  },
  {
   "cell_type": "code",
   "execution_count": null,
   "metadata": {},
   "outputs": [],
   "source": [
    "print(\"key\" in dic) could\n",
    "print(\"value\"in dic) can't\n",
    "\n",
    "dicA[\"a\"]=aSUM\n",
    "dicA[\"b\"]=bSUM\n",
    "dicA[\"c\"]=cSUM"
   ]
  },
  {
   "cell_type": "code",
   "execution_count": 60,
   "metadata": {},
   "outputs": [
    {
     "name": "stdout",
     "output_type": "stream",
     "text": [
      "318\n",
      "https://www.ptt.cc/bbs/CrossStrait/M.1560439315.A.497.html\n",
      "https://www.ptt.cc/bbs/HatePolitics/M.1560441465.A.5A1.html\n",
      "https://www.ptt.cc/bbs/HatePolitics/M.1560441564.A.AE4.html\n"
     ]
    }
   ],
   "source": [
    "data = [\n",
    "{\n",
    "    \"_id\" : (\"5d02744c37bb1912baa05bc0\"),\n",
    "    \"author\" : \"imcil\",\n",
    "    \"category\" : \"home-sale\",\n",
    "    \"resp_cnt\" : 3,\n",
    "    \"url\" : \"https://www.ptt.cc/bbs/home-sale/M.1560439993.A.AE8.html\",\n",
    "    \"title\" : \"[賣/高雄/三民] 優美景觀愛河三房平車\"\n",
    "},\n",
    "{\n",
    "    \"_id\" : (\"5d02744d37bb1912baa05bc1\"),\n",
    "    \"author\" : \"bearalex\",\n",
    "    \"category\" : \"home-sale\",\n",
    "    \"resp_cnt\" : 6,\n",
    "    \"url\" : \"https://www.ptt.cc/bbs/home-sale/M.1560441378.A.190.html\",\n",
    "    \"title\" : \"[賣/新竹/東區] 竹科悅揚稀有朝南三房\"\n",
    "},\n",
    "{\n",
    "    \"_id\" : (\"5d02746437bb1912baa05bc3\"),\n",
    "    \"author\" : \"nanlong\",\n",
    "    \"category\" : \"CrossStrait\",\n",
    "    \"resp_cnt\" : 0,\n",
    "    \"url\" : \"https://www.ptt.cc/bbs/CrossStrait/M.1560439315.A.497.html\",\n",
    "    \"title\" : \"蔡英文勝出》蔡民調大贏賴關鍵：年輕支持有優勢 \"\n",
    "},\n",
    "{\n",
    "    \"_id\" : (\"5d02748d37bb1912baa05bc9\"),\n",
    "    \"author\" : \"goodjeff\",\n",
    "    \"category\" : \"Stock\",\n",
    "    \"resp_cnt\" : 37,\n",
    "    \"url\" : \"https://www.ptt.cc/bbs/Stock/M.1560440235.A.BDC.html\",\n",
    "    \"title\" : \"Re: [請益] 為什麼台灣人都不敢賭新藥?\"\n",
    "},\n",
    "{\n",
    "    \"_id\" : (\"5d02748e37bb1912baa05bca\"),\n",
    "    \"author\" : \"howareyounow\",\n",
    "    \"category\" : \"Stock\",\n",
    "    \"resp_cnt\" : 62,\n",
    "    \"url\" : \"https://www.ptt.cc/bbs/Stock/M.1560441468.A.2F9.html\",\n",
    "    \"title\" : \"Re: [新聞] 國會聽證會：美國能切斷一帶一路資金來源\"\n",
    "},\n",
    "{\n",
    "    \"_id\" : (\"5d02749537bb1912baa05bcb\"),\n",
    "    \"author\" : \"CLV518\",\n",
    "    \"category\" : \"Stock\",\n",
    "    \"resp_cnt\" : 20,\n",
    "    \"url\" : \"https://www.ptt.cc/bbs/Stock/M.1560439952.A.8CC.html\",\n",
    "    \"title\" : \"[新聞] 國會聽證會：美國能切斷一帶一路資金來源\"\n",
    "},\n",
    "{\n",
    "    \"_id\" : (\"5d0274db37bb1912baa05be6\"),\n",
    "    \"author\" : \"butten986\",\n",
    "    \"category\" : \"PublicIssue\",\n",
    "    \"resp_cnt\" : 2,\n",
    "    \"url\" : \"https://www.ptt.cc/bbs/PublicIssue/M.1560440946.A.E87.html\",\n",
    "    \"title\" : \"Re: [問卦] 香港一百萬人上街擋得住送中法案嗎?\"\n",
    "},\n",
    "{\n",
    "    \"_id\" : (\"5d0274e737bb1912baa05beb\"),\n",
    "    \"author\" : \"y21502a\",\n",
    "    \"category\" : \"Tainan\",\n",
    "    \"resp_cnt\" : 0,\n",
    "    \"url\" : \"https://www.ptt.cc/bbs/Tainan/M.1560438880.A.DF7.html\",\n",
    "    \"title\" : \"[交易] 職達外語轉讓\"\n",
    "},\n",
    "{\n",
    "    \"_id\" : (\"5d0274e737bb1912baa05bec\"),\n",
    "    \"author\" : \"CCMC\",\n",
    "    \"category\" : \"Tainan\",\n",
    "    \"resp_cnt\" : 0,\n",
    "    \"url\" : \"https://www.ptt.cc/bbs/Tainan/M.1560439309.A.873.html\",\n",
    "    \"title\" : \"[交易] 賠售日貨GRL紗裙\"\n",
    "},\n",
    "{\n",
    "    \"_id\" : (\"5d0274e837bb1912baa05bed\"),\n",
    "    \"author\" : \"s90penny\",\n",
    "    \"category\" : \"Tainan\",\n",
    "    \"resp_cnt\" : 98,\n",
    "    \"url\" : \"https://www.ptt.cc/bbs/Tainan/M.1560440550.A.F91.html\",\n",
    "    \"title\" : \"[問題] 臺南特斯拉車多嗎？\"\n",
    "},\n",
    "{\n",
    "    \"_id\" : (\"5d0274e937bb1912baa05bee\"),\n",
    "    \"author\" : \"xiaolih\",\n",
    "    \"category\" : \"Tainan\",\n",
    "    \"resp_cnt\" : 5,\n",
    "    \"url\" : \"https://www.ptt.cc/bbs/Tainan/M.1560441534.A.E4E.html\",\n",
    "    \"title\" : \"[問題] 請問有人知道閣樓這家餐廳怎麼了嗎?\"\n",
    "},\n",
    "{\n",
    "    \"_id\" : (\"5d02752d37bb1912baa05c18\"),\n",
    "    \"author\" : \"laptic\",\n",
    "    \"category\" : \"IA\",\n",
    "    \"resp_cnt\" : 0,\n",
    "    \"url\" : \"https://www.ptt.cc/bbs/IA/M.1560438302.A.731.html\",\n",
    "    \"title\" : \"[新聞] 英國政府簽字同意引渡命令 「維基解密」\"\n",
    "},\n",
    "{\n",
    "    \"_id\" : (\"5d02752e37bb1912baa05c19\"),\n",
    "    \"author\" : \"laptic\",\n",
    "    \"category\" : \"IA\",\n",
    "    \"resp_cnt\" : 0,\n",
    "    \"url\" : \"https://www.ptt.cc/bbs/IA/M.1560438889.A.B09.html\",\n",
    "    \"title\" : \"[新聞] 中國、俄羅斯和印度博弈吉爾吉斯和中亞\"\n",
    "},\n",
    "{\n",
    "    \"_id\" : (\"5d02753f37bb1912baa05c1c\"),\n",
    "    \"author\" : \"cz5a5\",\n",
    "    \"category\" : \"Taipei\",\n",
    "    \"resp_cnt\" : 1,\n",
    "    \"url\" : \"https://www.ptt.cc/bbs/Taipei/M.1560441322.A.31F.html\",\n",
    "    \"title\" : \"[玩樂] 吃喝玩樂老鼠會招生摟\"\n",
    "},\n",
    "{\n",
    "    \"_id\" : (\"5d02754137bb1912baa05c1d\"),\n",
    "    \"author\" : \"samuel655200\",\n",
    "    \"category\" : \"HatePolitics\",\n",
    "    \"resp_cnt\" : 9,\n",
    "    \"url\" : \"https://www.ptt.cc/bbs/HatePolitics/M.1560441419.A.545.html\",\n",
    "    \"title\" : \"Re: [討論] 為啥學生這麼好洗腦啊?\"\n",
    "},\n",
    "{\n",
    "    \"_id\" : (\"5d02754237bb1912baa05c1e\"),\n",
    "    \"author\" : \"osalucard\",\n",
    "    \"category\" : \"HatePolitics\",\n",
    "    \"resp_cnt\" : 14,\n",
    "    \"url\" : \"https://www.ptt.cc/bbs/HatePolitics/M.1560441465.A.5A1.html\",\n",
    "    \"title\" : \"Fw: [新聞] 獨派不滿小英出線　醞釀串連組黨搶政黨票\"\n",
    "},\n",
    "{\n",
    "    \"_id\" : (\"5d02754337bb1912baa05c1f\"),\n",
    "    \"author\" : \"sv1423\",\n",
    "    \"category\" : \"HatePolitics\",\n",
    "    \"resp_cnt\" : 15,\n",
    "    \"url\" : \"https://www.ptt.cc/bbs/HatePolitics/M.1560441479.A.D8E.html\",\n",
    "    \"title\" : \"[討論] 蘇貞昌怎麼營造出很會做事的形象的?\"\n",
    "},\n",
    "{\n",
    "    \"_id\" : (\"5d02754337bb1912baa05c20\"),\n",
    "    \"author\" : \"DingLey\",\n",
    "    \"category\" : \"HatePolitics\",\n",
    "    \"resp_cnt\" : 2,\n",
    "    \"url\" : \"https://www.ptt.cc/bbs/HatePolitics/M.1560441493.A.36B.html\",\n",
    "    \"title\" : \"[討論] 功德還是時不我與\"\n",
    "},\n",
    "{\n",
    "    \"_id\" : (\"5d02754437bb1912baa05c21\"),\n",
    "    \"author\" : \"TheoEpstein\",\n",
    "    \"category\" : \"HatePolitics\",\n",
    "    \"resp_cnt\" : 21,\n",
    "    \"url\" : \"https://www.ptt.cc/bbs/HatePolitics/M.1560441564.A.AE4.html\",\n",
    "    \"title\" : \"[討論] 民進黨執政十六年，台灣會如何？\"\n",
    "},\n",
    "{\n",
    "    \"_id\" : (\"5d02754837bb1912baa05c22\"),\n",
    "    \"author\" : \"HK97\",\n",
    "    \"category\" : \"HatePolitics\",\n",
    "    \"resp_cnt\" : 23,\n",
    "    \"url\" : \"https://www.ptt.cc/bbs/HatePolitics/M.1560439980.A.144.html\",\n",
    "    \"title\" : \"[新聞] 郭台銘：美中貿易戰將在G20前後畫下休止\"\n",
    "}]\n",
    "\n",
    "resp_cntsum=0\n",
    "\n",
    "for ele in data:\n",
    "     resp_cntsum=resp_cntsum+ele[\"resp_cnt\"]\n",
    "print(resp_cntsum)\n",
    "\n",
    "\n",
    "for ele in data:\n",
    "    if \"蔡英文\" in ele[\"title\"] or \"小英\" in ele[\"title\"] or\"民進黨\" in ele[\"title\"] :\n",
    "        print(ele[\"url\"])\n",
    "    "
   ]
  },
  {
   "cell_type": "code",
   "execution_count": 9,
   "metadata": {},
   "outputs": [
    {
     "name": "stdout",
     "output_type": "stream",
     "text": [
      "abc DEF\n"
     ]
    }
   ],
   "source": []
  },
  {
   "cell_type": "code",
   "execution_count": null,
   "metadata": {},
   "outputs": [],
   "source": []
  },
  {
   "cell_type": "code",
   "execution_count": 37,
   "metadata": {},
   "outputs": [
    {
     "name": "stdout",
     "output_type": "stream",
     "text": [
      "1x1=1 1x2=2  1x3=3  1x4=4  1x5=5  1x6=6  1x7=7  1x8=8  1x9=9  \n",
      "2x1=2 2x2=4  2x3=6  2x4=8  2x5=10 2x6=12 2x7=14 2x8=16 2x9=18 \n",
      "3x1=3 3x2=6  3x3=9  3x4=12 3x5=15 3x6=18 3x7=21 3x8=24 3x9=27 \n",
      "4x1=4 4x2=8  4x3=12 4x4=16 4x5=20 4x6=24 4x7=28 4x8=32 4x9=36 \n",
      "5x1=5 5x2=10 5x3=15 5x4=20 5x5=25 5x6=30 5x7=35 5x8=40 5x9=45 \n",
      "6x1=6 6x2=12 6x3=18 6x4=24 6x5=30 6x6=36 6x7=42 6x8=48 6x9=54 \n",
      "7x1=7 7x2=14 7x3=21 7x4=28 7x5=35 7x6=42 7x7=49 7x8=56 7x9=63 \n",
      "8x1=8 8x2=16 8x3=24 8x4=32 8x5=40 8x6=48 8x7=56 8x8=64 8x9=72 \n",
      "9x1=9 9x2=18 9x3=27 9x4=36 9x5=45 9x6=54 9x7=63 9x8=72 9x9=81 \n"
     ]
    }
   ],
   "source": []
  },
  {
   "cell_type": "code",
   "execution_count": 40,
   "metadata": {},
   "outputs": [
    {
     "name": "stdout",
     "output_type": "stream",
     "text": [
      "Jack\n"
     ]
    }
   ],
   "source": []
  },
  {
   "cell_type": "code",
   "execution_count": 35,
   "metadata": {},
   "outputs": [
    {
     "name": "stdout",
     "output_type": "stream",
     "text": [
      "1x1=1  1x2=2  1x3=3  1x4=4  1x5=5  1x6=6  1x7=7  1x8=8  1x9=9  \n",
      "2x1=2  2x2=4  2x3=6  2x4=8  2x5=10 2x6=12 2x7=14 2x8=16 2x9=18 \n",
      "3x1=3  3x2=6  3x3=9  3x4=12 3x5=15 3x6=18 3x7=21 3x8=24 3x9=27 \n",
      "4x1=4  4x2=8  4x3=12 4x4=16 4x5=20 4x6=24 4x7=28 4x8=32 4x9=36 \n",
      "5x1=5  5x2=10 5x3=15 5x4=20 5x5=25 5x6=30 5x7=35 5x8=40 5x9=45 \n",
      "6x1=6  6x2=12 6x3=18 6x4=24 6x5=30 6x6=36 6x7=42 6x8=48 6x9=54 \n",
      "7x1=7  7x2=14 7x3=21 7x4=28 7x5=35 7x6=42 7x7=49 7x8=56 7x9=63 \n",
      "8x1=8  8x2=16 8x3=24 8x4=32 8x5=40 8x6=48 8x7=56 8x8=64 8x9=72 \n",
      "9x1=9  9x2=18 9x3=27 9x4=36 9x5=45 9x6=54 9x7=63 9x8=72 9x9=81 \n"
     ]
    }
   ],
   "source": []
  }
 ],
 "metadata": {
  "kernelspec": {
   "display_name": "Python 3",
   "language": "python",
   "name": "python3"
  },
  "language_info": {
   "codemirror_mode": {
    "name": "ipython",
    "version": 3
   },
   "file_extension": ".py",
   "mimetype": "text/x-python",
   "name": "python",
   "nbconvert_exporter": "python",
   "pygments_lexer": "ipython3",
   "version": "3.7.3"
  }
 },
 "nbformat": 4,
 "nbformat_minor": 2
}
