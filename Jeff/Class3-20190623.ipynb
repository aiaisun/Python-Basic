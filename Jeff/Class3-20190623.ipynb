{
 "cells": [
  {
   "cell_type": "code",
   "execution_count": null,
   "metadata": {},
   "outputs": [],
   "source": [
    "student1=[1,2,3,4]\n",
    "\n",
    "_sum1=0\n",
    "\n",
    "for a in student1:\n",
    "    _sum1=_sum1+a\n",
    "    \n",
    "print(\"sum is\",_sum1)"
   ]
  },
  {
   "cell_type": "code",
   "execution_count": null,
   "metadata": {},
   "outputs": [],
   "source": [
    "Q1=[1,2,3,...,n]\n",
    "n=10\n",
    "print(Q1)\n",
    "_sumQ1=0\n",
    "\n",
    "for c in Q1:\n",
    "    _sumQ1=_sumQ1+c\n",
    "print(_sumQ1)  "
   ]
  },
  {
   "cell_type": "code",
   "execution_count": null,
   "metadata": {},
   "outputs": [],
   "source": [
    "print(\"*\"*6)\n",
    "print(\"*\"*5)\n",
    "print(\"*\"*4)\n",
    "print(\"*\"*3)\n",
    "print(\"*\"*2)\n",
    "print(\"*\"*1)"
   ]
  }
 ],
 "metadata": {
  "kernelspec": {
   "display_name": "Python 3",
   "language": "python",
   "name": "python3"
  },
  "language_info": {
   "codemirror_mode": {
    "name": "ipython",
    "version": 3
   },
   "file_extension": ".py",
   "mimetype": "text/x-python",
   "name": "python",
   "nbconvert_exporter": "python",
   "pygments_lexer": "ipython3",
   "version": "3.7.3"
  }
 },
 "nbformat": 4,
 "nbformat_minor": 2
}
