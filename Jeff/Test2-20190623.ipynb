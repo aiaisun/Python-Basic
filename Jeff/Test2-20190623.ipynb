{
 "cells": [
  {
   "cell_type": "code",
   "execution_count": null,
   "metadata": {},
   "outputs": [],
   "source": [
    "a=[123,456,789]\n",
    "b={\n",
    "    \"name\":\"Jeff\",\n",
    "    \"age\":18,\n",
    "    \"gender\":\"M\"\n",
    "}\n",
    "\n"
   ]
  },
  {
   "cell_type": "code",
   "execution_count": 66,
   "metadata": {},
   "outputs": [
    {
     "name": "stdout",
     "output_type": "stream",
     "text": [
      "6\n",
      "5\n",
      "4\n",
      "3\n",
      "2\n",
      "1\n",
      "1\n"
     ]
    }
   ],
   "source": [
    "# name=[1,2,3,4]\n",
    "# print(name[0])\n",
    "# print(name[1])\n",
    "\n",
    "# for n in name:\n",
    "#     print(n)\n",
    "    \n",
    "    \n",
    "# name=[\"******\",\"*****\",\"****\",\"***\",\"**\",\"*\"]\n",
    "# for a in name:\n",
    "#     print(a)\n",
    "    \n",
    "    \n",
    "times=[1,1,1,1,1,1]\n",
    "\n",
    "cnt=7\n",
    "# for b in times:\n",
    "#     cnt=(cnt-b)\n",
    "#     print(cnt*\"*\")\n",
    "    \n",
    "for b in times:\n",
    "    cnt-=b\n",
    "    print(cnt)\n",
    "print(cnt)    "
   ]
  },
  {
   "cell_type": "code",
   "execution_count": 21,
   "metadata": {},
   "outputs": [
    {
     "name": "stdout",
     "output_type": "stream",
     "text": [
      "[0, 1, 2, 3, 4, 5, 6, 7, 8, 9, 10, 11, 12, 13, 14, 15, 16, 17, 18, 19, 20, 21, 22, 23, 24, 25, 26, 27, 28, 29, 30, 31, 32, 33, 34, 35, 36, 37, 38, 39, 40, 41, 42, 43, 44, 45, 46, 47, 48, 49, 50, 51, 52, 53, 54, 55, 56, 57, 58, 59, 60, 61, 62, 63, 64, 65, 66, 67, 68, 69, 70, 71, 72, 73, 74, 75, 76, 77, 78, 79, 80, 81, 82, 83, 84, 85, 86, 87, 88, 89, 90, 91, 92, 93, 94, 95, 96, 97, 98, 99]\n"
     ]
    }
   ],
   "source": [
    "range(0,100,1)\n",
    "range(0,100)\n",
    "print(list(range(0,100)))"
   ]
  },
  {
   "cell_type": "code",
   "execution_count": 22,
   "metadata": {},
   "outputs": [
    {
     "name": "stdout",
     "output_type": "stream",
     "text": [
      "sum : 5050\n"
     ]
    }
   ],
   "source": [
    "n=100\n",
    "range(0,n+1)\n",
    "range(n+1)\n",
    "print(\"sum :\", sum(range(n+1)))"
   ]
  },
  {
   "cell_type": "code",
   "execution_count": 27,
   "metadata": {},
   "outputs": [
    {
     "name": "stdout",
     "output_type": "stream",
     "text": [
      "SUM: 5050\n",
      "SUM: 5050\n"
     ]
    }
   ],
   "source": [
    "n=100\n",
    "range(0,n+1)\n",
    "cnt=0\n",
    "for c in range(n+1):\n",
    "    cnt+=c\n",
    "print(\"SUM:\",cnt)\n",
    "\n",
    "\n",
    "n=100\n",
    "nums=range(0,n+1)\n",
    "cnt=0\n",
    "for c in nums:\n",
    "    cnt+=c\n",
    "print(\"SUM:\",cnt)\n"
   ]
  },
  {
   "cell_type": "code",
   "execution_count": 8,
   "metadata": {},
   "outputs": [
    {
     "name": "stdout",
     "output_type": "stream",
     "text": [
      "ttttt\n",
      "hhhhh\n",
      "iiiii\n",
      "sssss\n",
      "     \n",
      "iiiii\n",
      "sssss\n",
      "     \n",
      "aaaaa\n",
      "     \n",
      "bbbbb\n",
      "ooooo\n",
      "ooooo\n",
      "kkkkk\n",
      ".....\n"
     ]
    }
   ],
   "source": [
    "\"迭代\"\n",
    "\n",
    "words=\"this is a book.\"\n",
    "for w in words:\n",
    "    print(w*5)"
   ]
  },
  {
   "cell_type": "code",
   "execution_count": 30,
   "metadata": {},
   "outputs": [
    {
     "name": "stdout",
     "output_type": "stream",
     "text": [
      "name\n",
      "age\n",
      "gender\n"
     ]
    }
   ],
   "source": [
    "record={\n",
    "    \"name\":\"Jeff\",\n",
    "    \"age\":18,\n",
    "    \"gender\":\"M\"\n",
    "}\n",
    "\n",
    "for key in record:\n",
    "    print(key)"
   ]
  },
  {
   "cell_type": "code",
   "execution_count": 57,
   "metadata": {},
   "outputs": [
    {
     "name": "stdout",
     "output_type": "stream",
     "text": [
      "JJJJJJ\n",
      "aaaa\n",
      "ccc\n",
      "kk\n",
      "!\n"
     ]
    }
   ],
   "source": [
    "word4=\"J\"\n",
    "num5=[]\n",
    "sum5=6\n",
    "for i in num5:\n",
    "    sum5-=i\n",
    "for j in word4:\n",
    "    Z=1\n",
    "print(sum5*j)\n",
    "\n",
    "\n",
    "word3=\"Ja\"\n",
    "num4=[1]\n",
    "sum4=5\n",
    "for i in num4:\n",
    "    sum4-=i\n",
    "for j in word3:\n",
    "    Z=1\n",
    "print(sum4*j)\n",
    "\n",
    "word2=\"Jac\"\n",
    "num3=[1,1]\n",
    "sum3=5\n",
    "for i in num3:\n",
    "    sum3-=i\n",
    "for j in word2:\n",
    "    Z=1\n",
    "print(sum3*j)\n",
    "\n",
    "\n",
    "word1=\"Jack\"\n",
    "num1=[1,1,1]\n",
    "sum1=5\n",
    "for i in num1:\n",
    "    sum1-=i\n",
    "for j in word1:\n",
    "    Z=1\n",
    "print(sum1*j)   \n",
    "        \n",
    "    \n",
    "word=\"Jack!\"\n",
    "num2=[1,1,1,1]\n",
    "sum2=5\n",
    "for h in num2:\n",
    "    sum2-=h\n",
    "for g in word:\n",
    "    Z=1\n",
    "print(sum2*g)\n"
   ]
  },
  {
   "cell_type": "code",
   "execution_count": 70,
   "metadata": {
    "scrolled": true
   },
   "outputs": [
    {
     "name": "stdout",
     "output_type": "stream",
     "text": [
      "5\n",
      "4\n",
      "3\n",
      "2\n",
      "1\n",
      "J\n",
      "a\n",
      "c\n",
      "k\n",
      "!\n"
     ]
    }
   ],
   "source": [
    "word=\"Jack!\"\n",
    "list1=[1,1,1,1,1]\n",
    "sum6=6\n",
    "for x in list1:\n",
    "    sum6-=x\n",
    "    print(sum6)\n",
    "for w in word:\n",
    "   \n",
    "\n",
    "    print(w*sum6)\n",
    "    "
   ]
  }
 ],
 "metadata": {
  "kernelspec": {
   "display_name": "Python 3",
   "language": "python",
   "name": "python3"
  },
  "language_info": {
   "codemirror_mode": {
    "name": "ipython",
    "version": 3
   },
   "file_extension": ".py",
   "mimetype": "text/x-python",
   "name": "python",
   "nbconvert_exporter": "python",
   "pygments_lexer": "ipython3",
   "version": "3.7.3"
  }
 },
 "nbformat": 4,
 "nbformat_minor": 2
}
