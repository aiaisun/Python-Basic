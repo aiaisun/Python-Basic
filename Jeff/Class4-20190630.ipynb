{
 "cells": [
  {
   "cell_type": "code",
   "execution_count": 1,
   "metadata": {},
   "outputs": [
    {
     "name": "stdout",
     "output_type": "stream",
     "text": [
      "a 是否大於 b : True\n",
      "c 是否小於等於 d : True\n",
      "e 是否小於 0 : True\n",
      "f 是 12 嗎 : False\n",
      "--------------------------------------------------------------------------------\n",
      "a is +\n",
      "- !!!\n",
      "--------------------------------------------------------------------------------\n",
      "Pass !!\n",
      "--------------------------------------------------------------------------------\n",
      "True\n",
      "False\n",
      "False\n",
      "True\n",
      "False\n"
     ]
    }
   ],
   "source": [
    "# > \n",
    "# < \n",
    "# ==\n",
    "a = 100\n",
    "b = -80 \n",
    "c = -40 \n",
    "d = 0\n",
    "e = -20\n",
    "f = \"abc\"\n",
    "\n",
    "print(\"a 是否大於 b :\", a>b)\n",
    "print(\"c 是否小於等於 d :\", c<=d )\n",
    "print(\"e 是否小於 0 :\" , e<0 )\n",
    "# print( f < 12)\n",
    "print(\"f 是 12 嗎 :\", f == 12 )\n",
    "\n",
    "print(\"-\"*80)\n",
    "##############################\n",
    "# and , or \n",
    "\n",
    "if a > 0 :\n",
    "    print(\"a is +\")\n",
    "else:\n",
    "    print(\"a is -\")\n",
    "\n",
    "\n",
    "if a>0 and b>0 and c>0:\n",
    "    print(\"a , b , c are +!!!\")\n",
    "else:\n",
    "    print(\"- !!!\")\n",
    "\n",
    "print(\"-\"*80)\n",
    "\n",
    "##############################\n",
    "\n",
    "a = -100\n",
    "b = -80 \n",
    "c = 40 \n",
    "\n",
    "if (a>0 and b>0) or (c>0) or (f == \"abc\"):\n",
    "    print(\"Pass !!\")\n",
    "else:\n",
    "    print(\"Failed !!\")\n",
    "\n",
    "\n",
    "print(\"-\"*80)\n",
    "##############################\n",
    "# in \n",
    "print( \"a\" in \"abc\" )\n",
    "print( \"qq\" in \"abcde\")\n",
    "print( \"a c\" in \"abc\")\n",
    "\n",
    "print( 40 in [1,2,3,4,5,40] )\n",
    "print( -3 in [1,2,3,4])"
   ]
  },
  {
   "cell_type": "code",
   "execution_count": null,
   "metadata": {},
   "outputs": [],
   "source": [
    "for-loop\n",
    "for 變數 in "
   ]
  },
  {
   "cell_type": "code",
   "execution_count": 2,
   "metadata": {},
   "outputs": [
    {
     "name": "stdout",
     "output_type": "stream",
     "text": [
      "[1, 2, 3, 4, 5, 6, 7, 8, 9, 10, 11, 12, 13, 14, 15, 16, 17, 18, 19, 20, 21, 22, 23, 24, 25, 26, 27, 28, 29, 30, 31, 32, 33, 34, 35, 36, 37, 38, 39, 40, 41, 42, 43, 44, 45, 46, 47, 48, 49, 50, 51, 52, 53, 54, 55, 56, 57, 58, 59, 60, 61, 62, 63, 64, 65, 66, 67, 68, 69, 70, 71, 72, 73, 74, 75, 76, 77, 78, 79, 80, 81, 82, 83, 84, 85, 86, 87, 88, 89, 90, 91, 92, 93, 94, 95, 96, 97, 98, 99, 100]\n",
      "[1, 2, 3, 4, 5, 6, 7, 8, 9, 10]\n"
     ]
    }
   ],
   "source": [
    "#第二種迴圈 while-loop\n",
    "\n",
    "data=[]\n",
    "cnt = 0\n",
    "a=0\n",
    "while sum(data)<5050:\n",
    "    a+=1\n",
    "    data.append(0+a)\n",
    "        \n",
    "    cnt +=1\n",
    "    if cnt > 1000:\n",
    "        break \n",
    "        \n",
    "print(data)\n",
    "\n",
    "[1,2,3,4,5,6,7,8,9,10]\n",
    "\n",
    "cnt=0\n",
    "data1=[]\n",
    "\n",
    "while cnt<10:\n",
    "    cnt+=1\n",
    "    data1.append(cnt)\n",
    "    \n",
    "print(data1)"
   ]
  },
  {
   "cell_type": "code",
   "execution_count": null,
   "metadata": {},
   "outputs": [],
   "source": []
  },
  {
   "cell_type": "code",
   "execution_count": null,
   "metadata": {},
   "outputs": [],
   "source": []
  },
  {
   "cell_type": "code",
   "execution_count": null,
   "metadata": {},
   "outputs": [],
   "source": []
  }
 ],
 "metadata": {
  "kernelspec": {
   "display_name": "Python 3",
   "language": "python",
   "name": "python3"
  },
  "language_info": {
   "codemirror_mode": {
    "name": "ipython",
    "version": 3
   },
   "file_extension": ".py",
   "mimetype": "text/x-python",
   "name": "python",
   "nbconvert_exporter": "python",
   "pygments_lexer": "ipython3",
   "version": "3.7.3"
  }
 },
 "nbformat": 4,
 "nbformat_minor": 2
}
