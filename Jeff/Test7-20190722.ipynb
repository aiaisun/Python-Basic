{
 "cells": [
  {
   "cell_type": "code",
   "execution_count": 1,
   "metadata": {},
   "outputs": [
    {
     "name": "stdout",
     "output_type": "stream",
     "text": [
      "1x1=1  1x2=2  1x3=3  1x4=4  1x5=5  1x6=6  1x7=7  1x8=8  1x9=9  \n",
      "2x1=2  2x2=4  2x3=6  2x4=8  2x5=10 2x6=12 2x7=14 2x8=16 2x9=18 \n",
      "3x1=3  3x2=6  3x3=9  3x4=12 3x5=15 3x6=18 3x7=21 3x8=24 3x9=27 \n",
      "4x1=4  4x2=8  4x3=12 4x4=16 4x5=20 4x6=24 4x7=28 4x8=32 4x9=36 \n",
      "5x1=5  5x2=10 5x3=15 5x4=20 5x5=25 5x6=30 5x7=35 5x8=40 5x9=45 \n",
      "6x1=6  6x2=12 6x3=18 6x4=24 6x5=30 6x6=36 6x7=42 6x8=48 6x9=54 \n",
      "7x1=7  7x2=14 7x3=21 7x4=28 7x5=35 7x6=42 7x7=49 7x8=56 7x9=63 \n",
      "8x1=8  8x2=16 8x3=24 8x4=32 8x5=40 8x6=48 8x7=56 8x8=64 8x9=72 \n",
      "9x1=9  9x2=18 9x3=27 9x4=36 9x5=45 9x6=54 9x7=63 9x8=72 9x9=81 \n"
     ]
    }
   ],
   "source": [
    "\n",
    "for i in range(1,10):\n",
    "    msg1=\"\"\n",
    "    for j in range(1,10):\n",
    "        k=i*j\n",
    "        msg1+=str(i)+\"x\"+str(j)+\"=\"+ str(k)\n",
    "        if k<10:\n",
    "            msg1+=\"  \"\n",
    "        else:\n",
    "            msg1+=\" \"\n",
    "    print(msg1)"
   ]
  },
  {
   "cell_type": "code",
   "execution_count": 3,
   "metadata": {},
   "outputs": [],
   "source": [
    "n=\" This \"\n",
    "def reverseWord(n):\n",
    "    for i in n:\n",
    "        print(i)"
   ]
  },
  {
   "cell_type": "code",
   "execution_count": 35,
   "metadata": {},
   "outputs": [
    {
     "name": "stdout",
     "output_type": "stream",
     "text": [
      "koob a si siht\n"
     ]
    }
   ],
   "source": [
    "a=\"this is a book\"\n",
    "b=\"\"\n",
    "c=\"\"\n",
    "for i in a:\n",
    "    c=i+b\n",
    "    b=c\n",
    "print(c)"
   ]
  },
  {
   "cell_type": "code",
   "execution_count": 76,
   "metadata": {
    "scrolled": true
   },
   "outputs": [
    {
     "name": "stdout",
     "output_type": "stream",
     "text": [
      "koob a si sihT\n"
     ]
    }
   ],
   "source": [
    "\n",
    "def reverseLetter(a):\n",
    "    b=\"\"\n",
    "    c=\"\"\n",
    "    for i in a:\n",
    "        c=i+b\n",
    "        b=c\n",
    "    return b\n",
    "sentance=\"This is a book\"\n",
    "print(reverseLetter(sentance))\n",
    "    "
   ]
  },
  {
   "cell_type": "code",
   "execution_count": 96,
   "metadata": {},
   "outputs": [
    {
     "name": "stdout",
     "output_type": "stream",
     "text": [
      "book a is This \n"
     ]
    }
   ],
   "source": [
    "def reverseWord(a):\n",
    "    d=\"\"\n",
    "    e=\"\"\n",
    "    a=a.split(\" \")\n",
    "    for j in a:\n",
    "        d=j+\" \"+e\n",
    "        e=d\n",
    "    return e \n",
    "\n",
    "sentance=\"This is a book\"\n",
    "print(reverseWord(sentance))\n"
   ]
  },
  {
   "cell_type": "code",
   "execution_count": 99,
   "metadata": {},
   "outputs": [
    {
     "name": "stdout",
     "output_type": "stream",
     "text": [
      "book a is This \n"
     ]
    }
   ],
   "source": [
    "a=\"This is a book\".split(\" \")\n",
    "d=\"\"\n",
    "e=\"\"\n",
    "for j in a:\n",
    "    d=j+\" \"+e\n",
    "    e=d\n",
    "    \n",
    "print(e)\n",
    "    \n"
   ]
  },
  {
   "cell_type": "code",
   "execution_count": null,
   "metadata": {},
   "outputs": [],
   "source": [
    "import random\n",
    "random.randint(1,3)"
   ]
  },
  {
   "cell_type": "code",
   "execution_count": 100,
   "metadata": {},
   "outputs": [
    {
     "name": "stdout",
     "output_type": "stream",
     "text": [
      "1\n"
     ]
    }
   ],
   "source": [
    "a=5//3\n",
    "print(a)"
   ]
  }
 ],
 "metadata": {
  "kernelspec": {
   "display_name": "Python 3",
   "language": "python",
   "name": "python3"
  },
  "language_info": {
   "codemirror_mode": {
    "name": "ipython",
    "version": 3
   },
   "file_extension": ".py",
   "mimetype": "text/x-python",
   "name": "python",
   "nbconvert_exporter": "python",
   "pygments_lexer": "ipython3",
   "version": "3.7.3"
  }
 },
 "nbformat": 4,
 "nbformat_minor": 2
}
