{
 "cells": [
  {
   "cell_type": "code",
   "execution_count": 1,
   "metadata": {
    "scrolled": true
   },
   "outputs": [
    {
     "data": {
      "text/plain": [
       "['admin', 'config', 'local']"
      ]
     },
     "execution_count": 1,
     "metadata": {},
     "output_type": "execute_result"
    }
   ],
   "source": [
    "from pymongo import MongoClient\n",
    "\n",
    "client = MongoClient(\"localhost\", 27017)\n",
    "# client = MongoClient(\"localhost\", 27017)\n",
    "client.list_database_names()\n",
    "\n",
    "\n",
    "# localhost 127.0.0.1"
   ]
  },
  {
   "cell_type": "code",
   "execution_count": 2,
   "metadata": {
    "scrolled": true
   },
   "outputs": [],
   "source": [
    "# client = MongoClient(\"10.0.0.227\", 27017)\n",
    "# client.list_database_names()\n",
    "\n",
    "db = client[\"tutorial\"]\n",
    "db.list_collection_names()\n",
    "\n",
    "col = db[\"test-1\"]\n",
    "col.find_one()"
   ]
  },
  {
   "cell_type": "code",
   "execution_count": 3,
   "metadata": {},
   "outputs": [],
   "source": [
    "client = MongoClient(\"localhost\", 27017)\n",
    "col    = client[\"tutorial\"][\"test-1\"]\n",
    "col.find_one()"
   ]
  },
  {
   "cell_type": "code",
   "execution_count": 4,
   "metadata": {
    "scrolled": true
   },
   "outputs": [
    {
     "data": {
      "text/plain": [
       "<pymongo.results.DeleteResult at 0x10adf0c08>"
      ]
     },
     "execution_count": 4,
     "metadata": {},
     "output_type": "execute_result"
    }
   ],
   "source": [
    "##### 1. fine_one\n",
    "# col.find_one({\"_id\": \"006\"})\n",
    "# col.find_one({\"_id\":\"004\"}, {\"age\":1, \"name\":1, \"gender\":1})\n",
    "\n",
    "\n",
    "##### 2.findMany   > cursor 機制\n",
    "cursor = col.find({})\n",
    "# list(cursor)\n",
    "# 1)\n",
    "# list(cursor)\n",
    "\n",
    "# 2) \n",
    "# for ele in cursor:\n",
    "#     print(ele)\n",
    "\n",
    "# cursor 是可迭代物件, list也是\n",
    "# cursor2 = col.find({\"gender\": \"M\"})\n",
    "# for ele in cursor2:\n",
    "#     print(ele)\n",
    "      \n",
    "        \n",
    "# cursor3 = col.find({\"age\": {\"$gt\": 21}})\n",
    "# for ele in cursor3:\n",
    "#     print(ele)\n",
    "    \n",
    "    \n",
    "# 3)\n",
    "###list comprehension\n",
    "# cursor2 = col.find({\"gender\": \"M\"})\n",
    "# # [ele for ele in cursor2]\n",
    "# # [ele[\"name\"] for ele in cursor2]\n",
    "\n",
    "# # 4)\n",
    "# #減少資料量傳輸，不要把整筆資料叫下來\n",
    "# cursor4 = col.find({\"gender\": \"M\"}, {\"age\":1})\n",
    "# [ele for ele in cursor4]\n",
    "\n",
    "# ##### 3. insert one\n",
    "# 1) insert one\n",
    "# data = {\n",
    "# #     \"_id\" : \"103\",\n",
    "#     \"name\": \"AliQQ\",\n",
    "#     \"gender\": \"F\",\n",
    "#     \"math_score\": 95,\n",
    "#     \"eng_score\" :100\n",
    "# }\n",
    "\n",
    "# result = col.insert_one(data)\n",
    "# print(result)\n",
    "# # print(result.acknowledged)\n",
    "# print(result.inserted_id)\n",
    "\n",
    "##### 4.insert_many 同進同出 batch/批次處理/transaction \n",
    "\n",
    "# dataList = [\n",
    "#     {  \"_id\" : \"107\" , \"name\" : \"FuckyouJack\", \"gender\" : \"M\", \"job\" : \"MKT leader\" },\n",
    "#     {  \"_id\" : \"108\" , \"name\" : \"HiJack\", \"gender\" : \"M\", \"job\" : \"MKT leader\"},\n",
    "#     {  \"_id\" : \"109\" , \"name\" : \"Jacky\", \"gender\" : \"M\", \"job\" : \"MKT leader\"}\n",
    "    \n",
    "# ]\n",
    "# col.insert_many(dataList)\n",
    "\n",
    "\n",
    "\n",
    "##### 5.  update_one\n",
    "\n",
    "# col.update_one({\"_id\": \"101\" },{ \"$set\": {\"name\": \"genie\"}})\n",
    "\n",
    "\n",
    "\n",
    "##### 6. update_many\n",
    "# col.update_many({\"gender\" : \"M\"},{\"$set\": {\"celphone\" : \"0911222333\"}})\n",
    "\n",
    "\n",
    "##### 7. delete_one\n",
    "# col.delete_one({\"_id\": \"102\"})\n",
    "\n",
    "##### 8. delete_many\n",
    "\n",
    "# col.delete_many({\"name\": \"AliQQ\"})\n",
    "col.delete_many({\"name\": {\"$regex\" : \".*Jack.*\"}})"
   ]
  },
  {
   "cell_type": "code",
   "execution_count": 53,
   "metadata": {},
   "outputs": [
    {
     "name": "stdout",
     "output_type": "stream",
     "text": [
      "True\n",
      "103\n"
     ]
    }
   ],
   "source": []
  },
  {
   "cell_type": "code",
   "execution_count": null,
   "metadata": {},
   "outputs": [],
   "source": []
  }
 ],
 "metadata": {
  "kernelspec": {
   "display_name": "Python 3",
   "language": "python",
   "name": "python3"
  },
  "language_info": {
   "codemirror_mode": {
    "name": "ipython",
    "version": 3
   },
   "file_extension": ".py",
   "mimetype": "text/x-python",
   "name": "python",
   "nbconvert_exporter": "python",
   "pygments_lexer": "ipython3",
   "version": "3.7.3"
  }
 },
 "nbformat": 4,
 "nbformat_minor": 2
}
